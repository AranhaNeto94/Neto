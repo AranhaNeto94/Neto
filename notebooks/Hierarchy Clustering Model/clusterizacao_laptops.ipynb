{
 "cells": [
  {
   "cell_type": "code",
   "execution_count": 1,
   "id": "a3b83407",
   "metadata": {},
   "outputs": [],
   "source": [
    "# EDA e Visualização de dados\n",
    "import pandas as pd\n",
    "import seaborn as sns\n",
    "from matplotlib import pyplot as plt\n",
    "import plotly.express as px\n",
    "\n",
    "\n",
    "# Machine Learning\n",
    "from sklearn.cluster import AgglomerativeClustering, BisectingKMeans\n",
    "from sklearn.metrics import silhouette_score\n",
    "from sklearn.preprocessing import StandardScaler, OneHotEncoder\n",
    "from sklearn.compose import ColumnTransformer\n",
    "import numpy as np\n",
    "from scipy.cluster.hierarchy import dendrogram, linkage, cut_tree\n",
    "\n",
    "# Otimização\n",
    "import optuna\n",
    "\n"
   ]
  },
  {
   "cell_type": "markdown",
   "id": "7d49168c",
   "metadata": {},
   "source": [
    "### Carregar Dados"
   ]
  },
  {
   "cell_type": "code",
   "execution_count": 2,
   "id": "7bae57c2",
   "metadata": {},
   "outputs": [],
   "source": [
    "# Carregar dataframe\n",
    "df_laptops = pd.read_csv('./dataset/laptops_new.csv')"
   ]
  },
  {
   "cell_type": "code",
   "execution_count": 41,
   "id": "ec7c83cc",
   "metadata": {},
   "outputs": [
    {
     "name": "stdout",
     "output_type": "stream",
     "text": [
      "<class 'pandas.core.frame.DataFrame'>\n",
      "RangeIndex: 991 entries, 0 to 990\n",
      "Data columns (total 21 columns):\n",
      " #   Column                    Non-Null Count  Dtype  \n",
      "---  ------                    --------------  -----  \n",
      " 0   index                     991 non-null    int64  \n",
      " 1   brand                     991 non-null    object \n",
      " 2   model                     991 non-null    object \n",
      " 3   price                     991 non-null    float64\n",
      " 4   rating                    991 non-null    int64  \n",
      " 5   processor_brand           991 non-null    object \n",
      " 6   processor_tier            991 non-null    object \n",
      " 7   num_cores                 991 non-null    int64  \n",
      " 8   num_threads               991 non-null    int64  \n",
      " 9   ram_memory                991 non-null    int64  \n",
      " 10  primary_storage_type      991 non-null    object \n",
      " 11  primary_storage_capacity  991 non-null    int64  \n",
      " 12  gpu_brand                 991 non-null    object \n",
      " 13  gpu_type                  991 non-null    object \n",
      " 14  is_touch_screen           991 non-null    int64  \n",
      " 15  display_size              991 non-null    float64\n",
      " 16  resolution_width          991 non-null    int64  \n",
      " 17  resolution_height         991 non-null    int64  \n",
      " 18  os                        991 non-null    object \n",
      " 19  year_of_warranty          991 non-null    int64  \n",
      " 20  cluster                   991 non-null    int64  \n",
      "dtypes: float64(2), int64(11), object(8)\n",
      "memory usage: 162.7+ KB\n"
     ]
    }
   ],
   "source": [
    "# Analisar estrutura do dataframe\n",
    "df_laptops.info()"
   ]
  },
  {
   "cell_type": "code",
   "execution_count": 42,
   "id": "47a4713b",
   "metadata": {},
   "outputs": [
    {
     "data": {
      "text/html": [
       "<div>\n",
       "<style scoped>\n",
       "    .dataframe tbody tr th:only-of-type {\n",
       "        vertical-align: middle;\n",
       "    }\n",
       "\n",
       "    .dataframe tbody tr th {\n",
       "        vertical-align: top;\n",
       "    }\n",
       "\n",
       "    .dataframe thead th {\n",
       "        text-align: right;\n",
       "    }\n",
       "</style>\n",
       "<table border=\"1\" class=\"dataframe\">\n",
       "  <thead>\n",
       "    <tr style=\"text-align: right;\">\n",
       "      <th></th>\n",
       "      <th>index</th>\n",
       "      <th>brand</th>\n",
       "      <th>model</th>\n",
       "      <th>price</th>\n",
       "      <th>rating</th>\n",
       "      <th>processor_brand</th>\n",
       "      <th>processor_tier</th>\n",
       "      <th>num_cores</th>\n",
       "      <th>num_threads</th>\n",
       "      <th>ram_memory</th>\n",
       "      <th>...</th>\n",
       "      <th>primary_storage_capacity</th>\n",
       "      <th>gpu_brand</th>\n",
       "      <th>gpu_type</th>\n",
       "      <th>is_touch_screen</th>\n",
       "      <th>display_size</th>\n",
       "      <th>resolution_width</th>\n",
       "      <th>resolution_height</th>\n",
       "      <th>os</th>\n",
       "      <th>year_of_warranty</th>\n",
       "      <th>cluster</th>\n",
       "    </tr>\n",
       "  </thead>\n",
       "  <tbody>\n",
       "    <tr>\n",
       "      <th>0</th>\n",
       "      <td>1</td>\n",
       "      <td>tecno</td>\n",
       "      <td>Tecno Megabook T1 Laptop (11th Gen Core i3/ 8G...</td>\n",
       "      <td>287.72</td>\n",
       "      <td>63</td>\n",
       "      <td>intel</td>\n",
       "      <td>core i3</td>\n",
       "      <td>2</td>\n",
       "      <td>4</td>\n",
       "      <td>8</td>\n",
       "      <td>...</td>\n",
       "      <td>512</td>\n",
       "      <td>intel</td>\n",
       "      <td>integrated</td>\n",
       "      <td>0</td>\n",
       "      <td>15.6</td>\n",
       "      <td>1920</td>\n",
       "      <td>1080</td>\n",
       "      <td>windows</td>\n",
       "      <td>1</td>\n",
       "      <td>73</td>\n",
       "    </tr>\n",
       "    <tr>\n",
       "      <th>1</th>\n",
       "      <td>2</td>\n",
       "      <td>tecno</td>\n",
       "      <td>Tecno Megabook T1 Laptop (11th Gen Core i7/ 16...</td>\n",
       "      <td>431.64</td>\n",
       "      <td>67</td>\n",
       "      <td>intel</td>\n",
       "      <td>core i7</td>\n",
       "      <td>4</td>\n",
       "      <td>8</td>\n",
       "      <td>16</td>\n",
       "      <td>...</td>\n",
       "      <td>1024</td>\n",
       "      <td>intel</td>\n",
       "      <td>integrated</td>\n",
       "      <td>0</td>\n",
       "      <td>15.6</td>\n",
       "      <td>1920</td>\n",
       "      <td>1080</td>\n",
       "      <td>windows</td>\n",
       "      <td>1</td>\n",
       "      <td>44</td>\n",
       "    </tr>\n",
       "    <tr>\n",
       "      <th>2</th>\n",
       "      <td>3</td>\n",
       "      <td>hp</td>\n",
       "      <td>HP Victus 15-fb0157AX Gaming Laptop (AMD Ryzen...</td>\n",
       "      <td>612.86</td>\n",
       "      <td>73</td>\n",
       "      <td>amd</td>\n",
       "      <td>ryzen 5</td>\n",
       "      <td>6</td>\n",
       "      <td>12</td>\n",
       "      <td>8</td>\n",
       "      <td>...</td>\n",
       "      <td>512</td>\n",
       "      <td>amd</td>\n",
       "      <td>dedicated</td>\n",
       "      <td>0</td>\n",
       "      <td>15.6</td>\n",
       "      <td>1920</td>\n",
       "      <td>1080</td>\n",
       "      <td>windows</td>\n",
       "      <td>1</td>\n",
       "      <td>28</td>\n",
       "    </tr>\n",
       "    <tr>\n",
       "      <th>3</th>\n",
       "      <td>4</td>\n",
       "      <td>acer</td>\n",
       "      <td>Acer Extensa EX214-53 Laptop (12th Gen Core i5...</td>\n",
       "      <td>479.62</td>\n",
       "      <td>62</td>\n",
       "      <td>intel</td>\n",
       "      <td>core i5</td>\n",
       "      <td>12</td>\n",
       "      <td>16</td>\n",
       "      <td>8</td>\n",
       "      <td>...</td>\n",
       "      <td>512</td>\n",
       "      <td>intel</td>\n",
       "      <td>integrated</td>\n",
       "      <td>0</td>\n",
       "      <td>14.0</td>\n",
       "      <td>1920</td>\n",
       "      <td>1080</td>\n",
       "      <td>windows</td>\n",
       "      <td>1</td>\n",
       "      <td>53</td>\n",
       "    </tr>\n",
       "    <tr>\n",
       "      <th>4</th>\n",
       "      <td>5</td>\n",
       "      <td>lenovo</td>\n",
       "      <td>Lenovo V15 82KDA01BIH Laptop (AMD Ryzen 3 5300...</td>\n",
       "      <td>342.77</td>\n",
       "      <td>62</td>\n",
       "      <td>amd</td>\n",
       "      <td>ryzen 3</td>\n",
       "      <td>4</td>\n",
       "      <td>8</td>\n",
       "      <td>8</td>\n",
       "      <td>...</td>\n",
       "      <td>512</td>\n",
       "      <td>amd</td>\n",
       "      <td>integrated</td>\n",
       "      <td>0</td>\n",
       "      <td>15.6</td>\n",
       "      <td>1920</td>\n",
       "      <td>1080</td>\n",
       "      <td>windows</td>\n",
       "      <td>1</td>\n",
       "      <td>14</td>\n",
       "    </tr>\n",
       "    <tr>\n",
       "      <th>5</th>\n",
       "      <td>6</td>\n",
       "      <td>apple</td>\n",
       "      <td>Apple MacBook Air 2020 MGND3HN Laptop (Apple M...</td>\n",
       "      <td>851.41</td>\n",
       "      <td>45</td>\n",
       "      <td>apple</td>\n",
       "      <td>m1</td>\n",
       "      <td>8</td>\n",
       "      <td>8</td>\n",
       "      <td>8</td>\n",
       "      <td>...</td>\n",
       "      <td>256</td>\n",
       "      <td>apple</td>\n",
       "      <td>apple</td>\n",
       "      <td>0</td>\n",
       "      <td>13.3</td>\n",
       "      <td>2560</td>\n",
       "      <td>1600</td>\n",
       "      <td>mac</td>\n",
       "      <td>1</td>\n",
       "      <td>113</td>\n",
       "    </tr>\n",
       "    <tr>\n",
       "      <th>6</th>\n",
       "      <td>7</td>\n",
       "      <td>infinix</td>\n",
       "      <td>Infinix INBook Y2 Plus Laptop (11th Gen Core i...</td>\n",
       "      <td>419.65</td>\n",
       "      <td>56</td>\n",
       "      <td>intel</td>\n",
       "      <td>core i5</td>\n",
       "      <td>4</td>\n",
       "      <td>8</td>\n",
       "      <td>16</td>\n",
       "      <td>...</td>\n",
       "      <td>512</td>\n",
       "      <td>intel</td>\n",
       "      <td>integrated</td>\n",
       "      <td>0</td>\n",
       "      <td>15.6</td>\n",
       "      <td>1920</td>\n",
       "      <td>1080</td>\n",
       "      <td>windows</td>\n",
       "      <td>1</td>\n",
       "      <td>4</td>\n",
       "    </tr>\n",
       "    <tr>\n",
       "      <th>7</th>\n",
       "      <td>8</td>\n",
       "      <td>asus</td>\n",
       "      <td>Asus TUF Gaming F15 FX506HF-HN024W Gaming Lapt...</td>\n",
       "      <td>599.55</td>\n",
       "      <td>70</td>\n",
       "      <td>intel</td>\n",
       "      <td>core i5</td>\n",
       "      <td>6</td>\n",
       "      <td>12</td>\n",
       "      <td>8</td>\n",
       "      <td>...</td>\n",
       "      <td>512</td>\n",
       "      <td>nvidia</td>\n",
       "      <td>dedicated</td>\n",
       "      <td>0</td>\n",
       "      <td>15.6</td>\n",
       "      <td>1920</td>\n",
       "      <td>1080</td>\n",
       "      <td>windows</td>\n",
       "      <td>1</td>\n",
       "      <td>19</td>\n",
       "    </tr>\n",
       "    <tr>\n",
       "      <th>8</th>\n",
       "      <td>9</td>\n",
       "      <td>hp</td>\n",
       "      <td>HP 15s-fq5007TU Laptop (12th Gen Core i3/ 8GB/...</td>\n",
       "      <td>443.64</td>\n",
       "      <td>60</td>\n",
       "      <td>intel</td>\n",
       "      <td>core i3</td>\n",
       "      <td>6</td>\n",
       "      <td>8</td>\n",
       "      <td>8</td>\n",
       "      <td>...</td>\n",
       "      <td>512</td>\n",
       "      <td>intel</td>\n",
       "      <td>integrated</td>\n",
       "      <td>0</td>\n",
       "      <td>15.6</td>\n",
       "      <td>1920</td>\n",
       "      <td>1080</td>\n",
       "      <td>windows</td>\n",
       "      <td>1</td>\n",
       "      <td>95</td>\n",
       "    </tr>\n",
       "    <tr>\n",
       "      <th>9</th>\n",
       "      <td>10</td>\n",
       "      <td>infinix</td>\n",
       "      <td>Infinix Zerobook 2023 Laptop (13th Gen Core i9...</td>\n",
       "      <td>719.48</td>\n",
       "      <td>71</td>\n",
       "      <td>intel</td>\n",
       "      <td>core i9</td>\n",
       "      <td>14</td>\n",
       "      <td>20</td>\n",
       "      <td>32</td>\n",
       "      <td>...</td>\n",
       "      <td>1024</td>\n",
       "      <td>intel</td>\n",
       "      <td>integrated</td>\n",
       "      <td>0</td>\n",
       "      <td>15.6</td>\n",
       "      <td>1920</td>\n",
       "      <td>1080</td>\n",
       "      <td>windows</td>\n",
       "      <td>1</td>\n",
       "      <td>83</td>\n",
       "    </tr>\n",
       "  </tbody>\n",
       "</table>\n",
       "<p>10 rows × 21 columns</p>\n",
       "</div>"
      ],
      "text/plain": [
       "   index    brand                                              model   price  \\\n",
       "0      1    tecno  Tecno Megabook T1 Laptop (11th Gen Core i3/ 8G...  287.72   \n",
       "1      2    tecno  Tecno Megabook T1 Laptop (11th Gen Core i7/ 16...  431.64   \n",
       "2      3       hp  HP Victus 15-fb0157AX Gaming Laptop (AMD Ryzen...  612.86   \n",
       "3      4     acer  Acer Extensa EX214-53 Laptop (12th Gen Core i5...  479.62   \n",
       "4      5   lenovo  Lenovo V15 82KDA01BIH Laptop (AMD Ryzen 3 5300...  342.77   \n",
       "5      6    apple  Apple MacBook Air 2020 MGND3HN Laptop (Apple M...  851.41   \n",
       "6      7  infinix  Infinix INBook Y2 Plus Laptop (11th Gen Core i...  419.65   \n",
       "7      8     asus  Asus TUF Gaming F15 FX506HF-HN024W Gaming Lapt...  599.55   \n",
       "8      9       hp  HP 15s-fq5007TU Laptop (12th Gen Core i3/ 8GB/...  443.64   \n",
       "9     10  infinix  Infinix Zerobook 2023 Laptop (13th Gen Core i9...  719.48   \n",
       "\n",
       "   rating processor_brand processor_tier  num_cores  num_threads  ram_memory  \\\n",
       "0      63           intel        core i3          2            4           8   \n",
       "1      67           intel        core i7          4            8          16   \n",
       "2      73             amd        ryzen 5          6           12           8   \n",
       "3      62           intel        core i5         12           16           8   \n",
       "4      62             amd        ryzen 3          4            8           8   \n",
       "5      45           apple             m1          8            8           8   \n",
       "6      56           intel        core i5          4            8          16   \n",
       "7      70           intel        core i5          6           12           8   \n",
       "8      60           intel        core i3          6            8           8   \n",
       "9      71           intel        core i9         14           20          32   \n",
       "\n",
       "   ... primary_storage_capacity  gpu_brand    gpu_type is_touch_screen  \\\n",
       "0  ...                      512      intel  integrated               0   \n",
       "1  ...                     1024      intel  integrated               0   \n",
       "2  ...                      512        amd   dedicated               0   \n",
       "3  ...                      512      intel  integrated               0   \n",
       "4  ...                      512        amd  integrated               0   \n",
       "5  ...                      256      apple       apple               0   \n",
       "6  ...                      512      intel  integrated               0   \n",
       "7  ...                      512     nvidia   dedicated               0   \n",
       "8  ...                      512      intel  integrated               0   \n",
       "9  ...                     1024      intel  integrated               0   \n",
       "\n",
       "   display_size  resolution_width  resolution_height       os  \\\n",
       "0          15.6              1920               1080  windows   \n",
       "1          15.6              1920               1080  windows   \n",
       "2          15.6              1920               1080  windows   \n",
       "3          14.0              1920               1080  windows   \n",
       "4          15.6              1920               1080  windows   \n",
       "5          13.3              2560               1600      mac   \n",
       "6          15.6              1920               1080  windows   \n",
       "7          15.6              1920               1080  windows   \n",
       "8          15.6              1920               1080  windows   \n",
       "9          15.6              1920               1080  windows   \n",
       "\n",
       "  year_of_warranty  cluster  \n",
       "0                1       73  \n",
       "1                1       44  \n",
       "2                1       28  \n",
       "3                1       53  \n",
       "4                1       14  \n",
       "5                1      113  \n",
       "6                1        4  \n",
       "7                1       19  \n",
       "8                1       95  \n",
       "9                1       83  \n",
       "\n",
       "[10 rows x 21 columns]"
      ]
     },
     "execution_count": 42,
     "metadata": {},
     "output_type": "execute_result"
    }
   ],
   "source": [
    "# Visualizar dados\n",
    "df_laptops.head(10)"
   ]
  },
  {
   "cell_type": "code",
   "execution_count": 43,
   "id": "0425167c",
   "metadata": {},
   "outputs": [
    {
     "data": {
      "text/html": [
       "<div>\n",
       "<style scoped>\n",
       "    .dataframe tbody tr th:only-of-type {\n",
       "        vertical-align: middle;\n",
       "    }\n",
       "\n",
       "    .dataframe tbody tr th {\n",
       "        vertical-align: top;\n",
       "    }\n",
       "\n",
       "    .dataframe thead th {\n",
       "        text-align: right;\n",
       "    }\n",
       "</style>\n",
       "<table border=\"1\" class=\"dataframe\">\n",
       "  <thead>\n",
       "    <tr style=\"text-align: right;\">\n",
       "      <th></th>\n",
       "      <th>index</th>\n",
       "      <th>brand</th>\n",
       "      <th>model</th>\n",
       "      <th>price</th>\n",
       "      <th>rating</th>\n",
       "      <th>processor_brand</th>\n",
       "      <th>processor_tier</th>\n",
       "      <th>num_cores</th>\n",
       "      <th>num_threads</th>\n",
       "      <th>ram_memory</th>\n",
       "      <th>...</th>\n",
       "      <th>primary_storage_capacity</th>\n",
       "      <th>gpu_brand</th>\n",
       "      <th>gpu_type</th>\n",
       "      <th>is_touch_screen</th>\n",
       "      <th>display_size</th>\n",
       "      <th>resolution_width</th>\n",
       "      <th>resolution_height</th>\n",
       "      <th>os</th>\n",
       "      <th>year_of_warranty</th>\n",
       "      <th>cluster</th>\n",
       "    </tr>\n",
       "  </thead>\n",
       "  <tbody>\n",
       "    <tr>\n",
       "      <th>981</th>\n",
       "      <td>993</td>\n",
       "      <td>msi</td>\n",
       "      <td>MSI Katana 15 B13VFK-296IN Gaming Laptop (13th...</td>\n",
       "      <td>1439.09</td>\n",
       "      <td>76</td>\n",
       "      <td>intel</td>\n",
       "      <td>core i7</td>\n",
       "      <td>10</td>\n",
       "      <td>16</td>\n",
       "      <td>16</td>\n",
       "      <td>...</td>\n",
       "      <td>1024</td>\n",
       "      <td>nvidia</td>\n",
       "      <td>dedicated</td>\n",
       "      <td>0</td>\n",
       "      <td>15.6</td>\n",
       "      <td>1920</td>\n",
       "      <td>1080</td>\n",
       "      <td>windows</td>\n",
       "      <td>2</td>\n",
       "      <td>21</td>\n",
       "    </tr>\n",
       "    <tr>\n",
       "      <th>982</th>\n",
       "      <td>994</td>\n",
       "      <td>asus</td>\n",
       "      <td>Asus Zenbook 14 OLED 2023 UM3402YA-KM551WS Lap...</td>\n",
       "      <td>935.36</td>\n",
       "      <td>68</td>\n",
       "      <td>amd</td>\n",
       "      <td>ryzen 5</td>\n",
       "      <td>6</td>\n",
       "      <td>12</td>\n",
       "      <td>16</td>\n",
       "      <td>...</td>\n",
       "      <td>1024</td>\n",
       "      <td>amd</td>\n",
       "      <td>integrated</td>\n",
       "      <td>0</td>\n",
       "      <td>14.0</td>\n",
       "      <td>2880</td>\n",
       "      <td>1800</td>\n",
       "      <td>windows</td>\n",
       "      <td>1</td>\n",
       "      <td>86</td>\n",
       "    </tr>\n",
       "    <tr>\n",
       "      <th>983</th>\n",
       "      <td>995</td>\n",
       "      <td>asus</td>\n",
       "      <td>Asus Vivobook 16 2023 M1605YA-MB551WS Laptop (...</td>\n",
       "      <td>803.44</td>\n",
       "      <td>65</td>\n",
       "      <td>amd</td>\n",
       "      <td>ryzen 5</td>\n",
       "      <td>6</td>\n",
       "      <td>12</td>\n",
       "      <td>16</td>\n",
       "      <td>...</td>\n",
       "      <td>1024</td>\n",
       "      <td>amd</td>\n",
       "      <td>integrated</td>\n",
       "      <td>0</td>\n",
       "      <td>16.0</td>\n",
       "      <td>1920</td>\n",
       "      <td>1200</td>\n",
       "      <td>windows</td>\n",
       "      <td>1</td>\n",
       "      <td>116</td>\n",
       "    </tr>\n",
       "    <tr>\n",
       "      <th>984</th>\n",
       "      <td>996</td>\n",
       "      <td>asus</td>\n",
       "      <td>Asus Vivobook 16 2023 M1605YA-MB541WS Laptop (...</td>\n",
       "      <td>719.48</td>\n",
       "      <td>64</td>\n",
       "      <td>amd</td>\n",
       "      <td>ryzen 5</td>\n",
       "      <td>6</td>\n",
       "      <td>12</td>\n",
       "      <td>16</td>\n",
       "      <td>...</td>\n",
       "      <td>512</td>\n",
       "      <td>amd</td>\n",
       "      <td>integrated</td>\n",
       "      <td>0</td>\n",
       "      <td>16.0</td>\n",
       "      <td>1920</td>\n",
       "      <td>1200</td>\n",
       "      <td>windows</td>\n",
       "      <td>1</td>\n",
       "      <td>37</td>\n",
       "    </tr>\n",
       "    <tr>\n",
       "      <th>985</th>\n",
       "      <td>997</td>\n",
       "      <td>acer</td>\n",
       "      <td>Acer Nitro 5 AN515-47 NH.QL3SI.003 Gaming Lapt...</td>\n",
       "      <td>905.50</td>\n",
       "      <td>67</td>\n",
       "      <td>amd</td>\n",
       "      <td>ryzen 7</td>\n",
       "      <td>8</td>\n",
       "      <td>16</td>\n",
       "      <td>8</td>\n",
       "      <td>...</td>\n",
       "      <td>512</td>\n",
       "      <td>nvidia</td>\n",
       "      <td>dedicated</td>\n",
       "      <td>0</td>\n",
       "      <td>15.6</td>\n",
       "      <td>1920</td>\n",
       "      <td>1080</td>\n",
       "      <td>windows</td>\n",
       "      <td>1</td>\n",
       "      <td>11</td>\n",
       "    </tr>\n",
       "    <tr>\n",
       "      <th>986</th>\n",
       "      <td>998</td>\n",
       "      <td>asus</td>\n",
       "      <td>Asus Vivobook Pro 15 M6500QC-HN542WS Laptop (R...</td>\n",
       "      <td>791.44</td>\n",
       "      <td>68</td>\n",
       "      <td>amd</td>\n",
       "      <td>ryzen 5</td>\n",
       "      <td>6</td>\n",
       "      <td>12</td>\n",
       "      <td>16</td>\n",
       "      <td>...</td>\n",
       "      <td>512</td>\n",
       "      <td>nvidia</td>\n",
       "      <td>dedicated</td>\n",
       "      <td>0</td>\n",
       "      <td>15.6</td>\n",
       "      <td>1920</td>\n",
       "      <td>1080</td>\n",
       "      <td>windows</td>\n",
       "      <td>1</td>\n",
       "      <td>85</td>\n",
       "    </tr>\n",
       "    <tr>\n",
       "      <th>987</th>\n",
       "      <td>999</td>\n",
       "      <td>msi</td>\n",
       "      <td>MSI Thin GF63 12VE-070IN Gaming Laptop (12th G...</td>\n",
       "      <td>1103.27</td>\n",
       "      <td>73</td>\n",
       "      <td>intel</td>\n",
       "      <td>core i7</td>\n",
       "      <td>10</td>\n",
       "      <td>16</td>\n",
       "      <td>16</td>\n",
       "      <td>...</td>\n",
       "      <td>512</td>\n",
       "      <td>nvidia</td>\n",
       "      <td>dedicated</td>\n",
       "      <td>0</td>\n",
       "      <td>15.6</td>\n",
       "      <td>1920</td>\n",
       "      <td>1080</td>\n",
       "      <td>windows</td>\n",
       "      <td>2</td>\n",
       "      <td>7</td>\n",
       "    </tr>\n",
       "    <tr>\n",
       "      <th>988</th>\n",
       "      <td>1000</td>\n",
       "      <td>asus</td>\n",
       "      <td>Asus Vivobook Go 15 2023 E1504FA-NJ522WS Lapto...</td>\n",
       "      <td>539.58</td>\n",
       "      <td>59</td>\n",
       "      <td>amd</td>\n",
       "      <td>ryzen 5</td>\n",
       "      <td>4</td>\n",
       "      <td>8</td>\n",
       "      <td>8</td>\n",
       "      <td>...</td>\n",
       "      <td>512</td>\n",
       "      <td>amd</td>\n",
       "      <td>integrated</td>\n",
       "      <td>0</td>\n",
       "      <td>15.6</td>\n",
       "      <td>1920</td>\n",
       "      <td>1080</td>\n",
       "      <td>windows</td>\n",
       "      <td>1</td>\n",
       "      <td>64</td>\n",
       "    </tr>\n",
       "    <tr>\n",
       "      <th>989</th>\n",
       "      <td>1001</td>\n",
       "      <td>asus</td>\n",
       "      <td>Asus Zenbook 14 2023 UM3402YA-KP541WS Laptop (...</td>\n",
       "      <td>815.43</td>\n",
       "      <td>68</td>\n",
       "      <td>amd</td>\n",
       "      <td>ryzen 5</td>\n",
       "      <td>6</td>\n",
       "      <td>12</td>\n",
       "      <td>16</td>\n",
       "      <td>...</td>\n",
       "      <td>512</td>\n",
       "      <td>amd</td>\n",
       "      <td>integrated</td>\n",
       "      <td>0</td>\n",
       "      <td>14.0</td>\n",
       "      <td>2560</td>\n",
       "      <td>1600</td>\n",
       "      <td>windows</td>\n",
       "      <td>1</td>\n",
       "      <td>115</td>\n",
       "    </tr>\n",
       "    <tr>\n",
       "      <th>990</th>\n",
       "      <td>1002</td>\n",
       "      <td>hp</td>\n",
       "      <td>HP Chromebook 15a-na0008TU Laptop (Intel Celer...</td>\n",
       "      <td>251.74</td>\n",
       "      <td>37</td>\n",
       "      <td>intel</td>\n",
       "      <td>celeron</td>\n",
       "      <td>2</td>\n",
       "      <td>2</td>\n",
       "      <td>4</td>\n",
       "      <td>...</td>\n",
       "      <td>128</td>\n",
       "      <td>intel</td>\n",
       "      <td>integrated</td>\n",
       "      <td>0</td>\n",
       "      <td>15.6</td>\n",
       "      <td>1366</td>\n",
       "      <td>768</td>\n",
       "      <td>chrome</td>\n",
       "      <td>1</td>\n",
       "      <td>36</td>\n",
       "    </tr>\n",
       "  </tbody>\n",
       "</table>\n",
       "<p>10 rows × 21 columns</p>\n",
       "</div>"
      ],
      "text/plain": [
       "     index brand                                              model    price  \\\n",
       "981    993   msi  MSI Katana 15 B13VFK-296IN Gaming Laptop (13th...  1439.09   \n",
       "982    994  asus  Asus Zenbook 14 OLED 2023 UM3402YA-KM551WS Lap...   935.36   \n",
       "983    995  asus  Asus Vivobook 16 2023 M1605YA-MB551WS Laptop (...   803.44   \n",
       "984    996  asus  Asus Vivobook 16 2023 M1605YA-MB541WS Laptop (...   719.48   \n",
       "985    997  acer  Acer Nitro 5 AN515-47 NH.QL3SI.003 Gaming Lapt...   905.50   \n",
       "986    998  asus  Asus Vivobook Pro 15 M6500QC-HN542WS Laptop (R...   791.44   \n",
       "987    999   msi  MSI Thin GF63 12VE-070IN Gaming Laptop (12th G...  1103.27   \n",
       "988   1000  asus  Asus Vivobook Go 15 2023 E1504FA-NJ522WS Lapto...   539.58   \n",
       "989   1001  asus  Asus Zenbook 14 2023 UM3402YA-KP541WS Laptop (...   815.43   \n",
       "990   1002    hp  HP Chromebook 15a-na0008TU Laptop (Intel Celer...   251.74   \n",
       "\n",
       "     rating processor_brand processor_tier  num_cores  num_threads  \\\n",
       "981      76           intel        core i7         10           16   \n",
       "982      68             amd        ryzen 5          6           12   \n",
       "983      65             amd        ryzen 5          6           12   \n",
       "984      64             amd        ryzen 5          6           12   \n",
       "985      67             amd        ryzen 7          8           16   \n",
       "986      68             amd        ryzen 5          6           12   \n",
       "987      73           intel        core i7         10           16   \n",
       "988      59             amd        ryzen 5          4            8   \n",
       "989      68             amd        ryzen 5          6           12   \n",
       "990      37           intel        celeron          2            2   \n",
       "\n",
       "     ram_memory  ... primary_storage_capacity  gpu_brand    gpu_type  \\\n",
       "981          16  ...                     1024     nvidia   dedicated   \n",
       "982          16  ...                     1024        amd  integrated   \n",
       "983          16  ...                     1024        amd  integrated   \n",
       "984          16  ...                      512        amd  integrated   \n",
       "985           8  ...                      512     nvidia   dedicated   \n",
       "986          16  ...                      512     nvidia   dedicated   \n",
       "987          16  ...                      512     nvidia   dedicated   \n",
       "988           8  ...                      512        amd  integrated   \n",
       "989          16  ...                      512        amd  integrated   \n",
       "990           4  ...                      128      intel  integrated   \n",
       "\n",
       "    is_touch_screen  display_size  resolution_width  resolution_height  \\\n",
       "981               0          15.6              1920               1080   \n",
       "982               0          14.0              2880               1800   \n",
       "983               0          16.0              1920               1200   \n",
       "984               0          16.0              1920               1200   \n",
       "985               0          15.6              1920               1080   \n",
       "986               0          15.6              1920               1080   \n",
       "987               0          15.6              1920               1080   \n",
       "988               0          15.6              1920               1080   \n",
       "989               0          14.0              2560               1600   \n",
       "990               0          15.6              1366                768   \n",
       "\n",
       "          os year_of_warranty  cluster  \n",
       "981  windows                2       21  \n",
       "982  windows                1       86  \n",
       "983  windows                1      116  \n",
       "984  windows                1       37  \n",
       "985  windows                1       11  \n",
       "986  windows                1       85  \n",
       "987  windows                2        7  \n",
       "988  windows                1       64  \n",
       "989  windows                1      115  \n",
       "990   chrome                1       36  \n",
       "\n",
       "[10 rows x 21 columns]"
      ]
     },
     "execution_count": 43,
     "metadata": {},
     "output_type": "execute_result"
    }
   ],
   "source": [
    "df_laptops.tail(10)"
   ]
  },
  {
   "cell_type": "markdown",
   "id": "6279595e",
   "metadata": {},
   "source": [
    "### EDA"
   ]
  },
  {
   "cell_type": "code",
   "execution_count": 6,
   "id": "33c03c50",
   "metadata": {},
   "outputs": [
    {
     "data": {
      "text/html": [
       "<div>\n",
       "<style scoped>\n",
       "    .dataframe tbody tr th:only-of-type {\n",
       "        vertical-align: middle;\n",
       "    }\n",
       "\n",
       "    .dataframe tbody tr th {\n",
       "        vertical-align: top;\n",
       "    }\n",
       "\n",
       "    .dataframe thead th {\n",
       "        text-align: right;\n",
       "    }\n",
       "</style>\n",
       "<table border=\"1\" class=\"dataframe\">\n",
       "  <thead>\n",
       "    <tr style=\"text-align: right;\">\n",
       "      <th></th>\n",
       "      <th>index</th>\n",
       "      <th>price</th>\n",
       "      <th>rating</th>\n",
       "      <th>num_cores</th>\n",
       "      <th>num_threads</th>\n",
       "      <th>ram_memory</th>\n",
       "      <th>primary_storage_capacity</th>\n",
       "      <th>display_size</th>\n",
       "      <th>resolution_width</th>\n",
       "      <th>resolution_height</th>\n",
       "    </tr>\n",
       "  </thead>\n",
       "  <tbody>\n",
       "    <tr>\n",
       "      <th>count</th>\n",
       "      <td>991.000000</td>\n",
       "      <td>991.000000</td>\n",
       "      <td>991.000000</td>\n",
       "      <td>991.000000</td>\n",
       "      <td>991.000000</td>\n",
       "      <td>991.000000</td>\n",
       "      <td>991.000000</td>\n",
       "      <td>991.000000</td>\n",
       "      <td>991.000000</td>\n",
       "      <td>991.000000</td>\n",
       "    </tr>\n",
       "    <tr>\n",
       "      <th>mean</th>\n",
       "      <td>505.860747</td>\n",
       "      <td>926.687487</td>\n",
       "      <td>63.931382</td>\n",
       "      <td>8.128153</td>\n",
       "      <td>12.191726</td>\n",
       "      <td>13.047427</td>\n",
       "      <td>610.938446</td>\n",
       "      <td>15.171241</td>\n",
       "      <td>2003.503532</td>\n",
       "      <td>1181.227043</td>\n",
       "    </tr>\n",
       "    <tr>\n",
       "      <th>std</th>\n",
       "      <td>287.899458</td>\n",
       "      <td>688.239764</td>\n",
       "      <td>10.190575</td>\n",
       "      <td>4.215499</td>\n",
       "      <td>5.585115</td>\n",
       "      <td>5.591188</td>\n",
       "      <td>266.927666</td>\n",
       "      <td>0.938089</td>\n",
       "      <td>361.965292</td>\n",
       "      <td>263.884019</td>\n",
       "    </tr>\n",
       "    <tr>\n",
       "      <th>min</th>\n",
       "      <td>1.000000</td>\n",
       "      <td>117.540000</td>\n",
       "      <td>24.000000</td>\n",
       "      <td>2.000000</td>\n",
       "      <td>0.000000</td>\n",
       "      <td>2.000000</td>\n",
       "      <td>32.000000</td>\n",
       "      <td>10.100000</td>\n",
       "      <td>1080.000000</td>\n",
       "      <td>768.000000</td>\n",
       "    </tr>\n",
       "    <tr>\n",
       "      <th>25%</th>\n",
       "      <td>258.500000</td>\n",
       "      <td>522.850000</td>\n",
       "      <td>58.000000</td>\n",
       "      <td>6.000000</td>\n",
       "      <td>8.000000</td>\n",
       "      <td>8.000000</td>\n",
       "      <td>512.000000</td>\n",
       "      <td>14.000000</td>\n",
       "      <td>1920.000000</td>\n",
       "      <td>1080.000000</td>\n",
       "    </tr>\n",
       "    <tr>\n",
       "      <th>50%</th>\n",
       "      <td>507.000000</td>\n",
       "      <td>742.390000</td>\n",
       "      <td>64.000000</td>\n",
       "      <td>8.000000</td>\n",
       "      <td>12.000000</td>\n",
       "      <td>16.000000</td>\n",
       "      <td>512.000000</td>\n",
       "      <td>15.600000</td>\n",
       "      <td>1920.000000</td>\n",
       "      <td>1080.000000</td>\n",
       "    </tr>\n",
       "    <tr>\n",
       "      <th>75%</th>\n",
       "      <td>754.500000</td>\n",
       "      <td>1070.350000</td>\n",
       "      <td>71.000000</td>\n",
       "      <td>10.000000</td>\n",
       "      <td>16.000000</td>\n",
       "      <td>16.000000</td>\n",
       "      <td>512.000000</td>\n",
       "      <td>15.600000</td>\n",
       "      <td>1920.000000</td>\n",
       "      <td>1200.000000</td>\n",
       "    </tr>\n",
       "    <tr>\n",
       "      <th>max</th>\n",
       "      <td>1002.000000</td>\n",
       "      <td>5450.880000</td>\n",
       "      <td>89.000000</td>\n",
       "      <td>24.000000</td>\n",
       "      <td>32.000000</td>\n",
       "      <td>36.000000</td>\n",
       "      <td>2048.000000</td>\n",
       "      <td>18.000000</td>\n",
       "      <td>3840.000000</td>\n",
       "      <td>2560.000000</td>\n",
       "    </tr>\n",
       "  </tbody>\n",
       "</table>\n",
       "</div>"
      ],
      "text/plain": [
       "             index        price      rating   num_cores  num_threads  \\\n",
       "count   991.000000   991.000000  991.000000  991.000000   991.000000   \n",
       "mean    505.860747   926.687487   63.931382    8.128153    12.191726   \n",
       "std     287.899458   688.239764   10.190575    4.215499     5.585115   \n",
       "min       1.000000   117.540000   24.000000    2.000000     0.000000   \n",
       "25%     258.500000   522.850000   58.000000    6.000000     8.000000   \n",
       "50%     507.000000   742.390000   64.000000    8.000000    12.000000   \n",
       "75%     754.500000  1070.350000   71.000000   10.000000    16.000000   \n",
       "max    1002.000000  5450.880000   89.000000   24.000000    32.000000   \n",
       "\n",
       "       ram_memory  primary_storage_capacity  display_size  resolution_width  \\\n",
       "count  991.000000                991.000000    991.000000        991.000000   \n",
       "mean    13.047427                610.938446     15.171241       2003.503532   \n",
       "std      5.591188                266.927666      0.938089        361.965292   \n",
       "min      2.000000                 32.000000     10.100000       1080.000000   \n",
       "25%      8.000000                512.000000     14.000000       1920.000000   \n",
       "50%     16.000000                512.000000     15.600000       1920.000000   \n",
       "75%     16.000000                512.000000     15.600000       1920.000000   \n",
       "max     36.000000               2048.000000     18.000000       3840.000000   \n",
       "\n",
       "       resolution_height  \n",
       "count         991.000000  \n",
       "mean         1181.227043  \n",
       "std           263.884019  \n",
       "min           768.000000  \n",
       "25%          1080.000000  \n",
       "50%          1080.000000  \n",
       "75%          1200.000000  \n",
       "max          2560.000000  "
      ]
     },
     "execution_count": 6,
     "metadata": {},
     "output_type": "execute_result"
    }
   ],
   "source": [
    "# Estatísticas das variáveis\n",
    "df_laptops.describe()"
   ]
  },
  {
   "cell_type": "code",
   "execution_count": 7,
   "id": "ad7592d7",
   "metadata": {},
   "outputs": [
    {
     "data": {
      "text/plain": [
       "array(['1', '2', 'No information', '3'], dtype=object)"
      ]
     },
     "execution_count": 7,
     "metadata": {},
     "output_type": "execute_result"
    }
   ],
   "source": [
    "# Checar variável year_of_warranty\n",
    "df_laptops['year_of_warranty'].unique()"
   ]
  },
  {
   "cell_type": "code",
   "execution_count": 8,
   "id": "0d9ac471",
   "metadata": {},
   "outputs": [],
   "source": [
    "# Ajustar variável year_of_warranty\n",
    "df_laptops.loc[df_laptops['year_of_warranty'] == 'No information', 'year_of_warranty'] = 1\n",
    "df_laptops['year_of_warranty'] = df_laptops['year_of_warranty'].astype(int)"
   ]
  },
  {
   "cell_type": "code",
   "execution_count": 9,
   "id": "23265322",
   "metadata": {},
   "outputs": [],
   "source": [
    "# Transformar variável booleana em int (is_touch_screen)\n",
    "df_laptops['is_touch_screen'] = df_laptops['is_touch_screen'].astype(int)"
   ]
  },
  {
   "cell_type": "code",
   "execution_count": 10,
   "id": "2467b42c",
   "metadata": {},
   "outputs": [
    {
     "data": {
      "application/vnd.plotly.v1+json": {
       "config": {
        "plotlyServerURL": "https://plot.ly"
       },
       "data": [
        {
         "hovertemplate": "brand=%{x}<br>value=%{y}<extra></extra>",
         "legendgroup": "asus",
         "marker": {
          "color": "#636efa",
          "pattern": {
           "shape": ""
          }
         },
         "name": "asus",
         "orientation": "v",
         "showlegend": true,
         "textposition": "auto",
         "type": "bar",
         "x": [
          "asus"
         ],
         "xaxis": "x",
         "y": {
          "bdata": "pBsLy9IwNUA=",
          "dtype": "f8"
         },
         "yaxis": "y"
        },
        {
         "hovertemplate": "brand=%{x}<br>value=%{y}<extra></extra>",
         "legendgroup": "hp",
         "marker": {
          "color": "#EF553B",
          "pattern": {
           "shape": ""
          }
         },
         "name": "hp",
         "orientation": "v",
         "showlegend": true,
         "textposition": "auto",
         "type": "bar",
         "x": [
          "hp"
         ],
         "xaxis": "x",
         "y": {
          "bdata": "CF7sM6mvNEA=",
          "dtype": "f8"
         },
         "yaxis": "y"
        },
        {
         "hovertemplate": "brand=%{x}<br>value=%{y}<extra></extra>",
         "legendgroup": "lenovo",
         "marker": {
          "color": "#00cc96",
          "pattern": {
           "shape": ""
          }
         },
         "name": "lenovo",
         "orientation": "v",
         "showlegend": true,
         "textposition": "auto",
         "type": "bar",
         "x": [
          "lenovo"
         ],
         "xaxis": "x",
         "y": {
          "bdata": "i/kGu1RINEA=",
          "dtype": "f8"
         },
         "yaxis": "y"
        },
        {
         "hovertemplate": "brand=%{x}<br>value=%{y}<extra></extra>",
         "legendgroup": "dell",
         "marker": {
          "color": "#ab63fa",
          "pattern": {
           "shape": ""
          }
         },
         "name": "dell",
         "orientation": "v",
         "showlegend": true,
         "textposition": "auto",
         "type": "bar",
         "x": [
          "dell"
         ],
         "xaxis": "x",
         "y": {
          "bdata": "4819B31kJUA=",
          "dtype": "f8"
         },
         "yaxis": "y"
        },
        {
         "hovertemplate": "brand=%{x}<br>value=%{y}<extra></extra>",
         "legendgroup": "msi",
         "marker": {
          "color": "#FFA15A",
          "pattern": {
           "shape": ""
          }
         },
         "name": "msi",
         "orientation": "v",
         "showlegend": true,
         "textposition": "auto",
         "type": "bar",
         "x": [
          "msi"
         ],
         "xaxis": "x",
         "y": {
          "bdata": "+qlSQNkpIkA=",
          "dtype": "f8"
         },
         "yaxis": "y"
        },
        {
         "hovertemplate": "brand=%{x}<br>value=%{y}<extra></extra>",
         "legendgroup": "acer",
         "marker": {
          "color": "#19d3f3",
          "pattern": {
           "shape": ""
          }
         },
         "name": "acer",
         "orientation": "v",
         "showlegend": true,
         "textposition": "auto",
         "type": "bar",
         "x": [
          "acer"
         ],
         "xaxis": "x",
         "y": {
          "bdata": "u/ffAy/2IUA=",
          "dtype": "f8"
         },
         "yaxis": "y"
        },
        {
         "hovertemplate": "brand=%{x}<br>value=%{y}<extra></extra>",
         "legendgroup": "apple",
         "marker": {
          "color": "#FF6692",
          "pattern": {
           "shape": ""
          }
         },
         "name": "apple",
         "orientation": "v",
         "showlegend": true,
         "textposition": "auto",
         "type": "bar",
         "x": [
          "apple"
         ],
         "xaxis": "x",
         "y": {
          "bdata": "To3DVcw3+D8=",
          "dtype": "f8"
         },
         "yaxis": "y"
        },
        {
         "hovertemplate": "brand=%{x}<br>value=%{y}<extra></extra>",
         "legendgroup": "infinix",
         "marker": {
          "color": "#B6E880",
          "pattern": {
           "shape": ""
          }
         },
         "name": "infinix",
         "orientation": "v",
         "showlegend": true,
         "textposition": "auto",
         "type": "bar",
         "x": [
          "infinix"
         ],
         "xaxis": "x",
         "y": {
          "bdata": "ZWmYjij99D8=",
          "dtype": "f8"
         },
         "yaxis": "y"
        },
        {
         "hovertemplate": "brand=%{x}<br>value=%{y}<extra></extra>",
         "legendgroup": "samsung",
         "marker": {
          "color": "#FF97FF",
          "pattern": {
           "shape": ""
          }
         },
         "name": "samsung",
         "orientation": "v",
         "showlegend": true,
         "textposition": "auto",
         "type": "bar",
         "x": [
          "samsung"
         ],
         "xaxis": "x",
         "y": {
          "bdata": "Wvstcnqa5j8=",
          "dtype": "f8"
         },
         "yaxis": "y"
        },
        {
         "hovertemplate": "brand=%{x}<br>value=%{y}<extra></extra>",
         "legendgroup": "lg",
         "marker": {
          "color": "#FECB52",
          "pattern": {
           "shape": ""
          }
         },
         "name": "lg",
         "orientation": "v",
         "showlegend": true,
         "textposition": "auto",
         "type": "bar",
         "x": [
          "lg"
         ],
         "xaxis": "x",
         "y": {
          "bdata": "Wvstcnqa5j8=",
          "dtype": "f8"
         },
         "yaxis": "y"
        },
        {
         "hovertemplate": "brand=%{x}<br>value=%{y}<extra></extra>",
         "legendgroup": "zebronics",
         "marker": {
          "color": "#636efa",
          "pattern": {
           "shape": ""
          }
         },
         "name": "zebronics",
         "orientation": "v",
         "showlegend": true,
         "textposition": "auto",
         "type": "bar",
         "x": [
          "zebronics"
         ],
         "xaxis": "x",
         "y": {
          "bdata": "Wvstcnqa5j8=",
          "dtype": "f8"
         },
         "yaxis": "y"
        },
        {
         "hovertemplate": "brand=%{x}<br>value=%{y}<extra></extra>",
         "legendgroup": "ultimus",
         "marker": {
          "color": "#EF553B",
          "pattern": {
           "shape": ""
          }
         },
         "name": "ultimus",
         "orientation": "v",
         "showlegend": true,
         "textposition": "auto",
         "type": "bar",
         "x": [
          "ultimus"
         ],
         "xaxis": "x",
         "y": {
          "bdata": "cdcCq9Zf4z8=",
          "dtype": "f8"
         },
         "yaxis": "y"
        },
        {
         "hovertemplate": "brand=%{x}<br>value=%{y}<extra></extra>",
         "legendgroup": "avita",
         "marker": {
          "color": "#00cc96",
          "pattern": {
           "shape": ""
          }
         },
         "name": "avita",
         "orientation": "v",
         "showlegend": true,
         "textposition": "auto",
         "type": "bar",
         "x": [
          "avita"
         ],
         "xaxis": "x",
         "y": {
          "bdata": "ibPX4zIl4D8=",
          "dtype": "f8"
         },
         "yaxis": "y"
        },
        {
         "hovertemplate": "brand=%{x}<br>value=%{y}<extra></extra>",
         "legendgroup": "fujitsu",
         "marker": {
          "color": "#ab63fa",
          "pattern": {
           "shape": ""
          }
         },
         "name": "fujitsu",
         "orientation": "v",
         "showlegend": true,
         "textposition": "auto",
         "type": "bar",
         "x": [
          "fujitsu"
         ],
         "xaxis": "x",
         "y": {
          "bdata": "ibPX4zIl4D8=",
          "dtype": "f8"
         },
         "yaxis": "y"
        },
        {
         "hovertemplate": "brand=%{x}<br>value=%{y}<extra></extra>",
         "legendgroup": "wings",
         "marker": {
          "color": "#FFA15A",
          "pattern": {
           "shape": ""
          }
         },
         "name": "wings",
         "orientation": "v",
         "showlegend": true,
         "textposition": "auto",
         "type": "bar",
         "x": [
          "wings"
         ],
         "xaxis": "x",
         "y": {
          "bdata": "Qh9ZOR7V2T8=",
          "dtype": "f8"
         },
         "yaxis": "y"
        },
        {
         "hovertemplate": "brand=%{x}<br>value=%{y}<extra></extra>",
         "legendgroup": "chuwi",
         "marker": {
          "color": "#19d3f3",
          "pattern": {
           "shape": ""
          }
         },
         "name": "chuwi",
         "orientation": "v",
         "showlegend": true,
         "textposition": "auto",
         "type": "bar",
         "x": [
          "chuwi"
         ],
         "xaxis": "x",
         "y": {
          "bdata": "Qh9ZOR7V2T8=",
          "dtype": "f8"
         },
         "yaxis": "y"
        },
        {
         "hovertemplate": "brand=%{x}<br>value=%{y}<extra></extra>",
         "legendgroup": "axl",
         "marker": {
          "color": "#FF6692",
          "pattern": {
           "shape": ""
          }
         },
         "name": "axl",
         "orientation": "v",
         "showlegend": true,
         "textposition": "auto",
         "type": "bar",
         "x": [
          "axl"
         ],
         "xaxis": "x",
         "y": {
          "bdata": "Qh9ZOR7VyT8=",
          "dtype": "f8"
         },
         "yaxis": "y"
        },
        {
         "hovertemplate": "brand=%{x}<br>value=%{y}<extra></extra>",
         "legendgroup": "gigabyte",
         "marker": {
          "color": "#B6E880",
          "pattern": {
           "shape": ""
          }
         },
         "name": "gigabyte",
         "orientation": "v",
         "showlegend": true,
         "textposition": "auto",
         "type": "bar",
         "x": [
          "gigabyte"
         ],
         "xaxis": "x",
         "y": {
          "bdata": "Qh9ZOR7VyT8=",
          "dtype": "f8"
         },
         "yaxis": "y"
        },
        {
         "hovertemplate": "brand=%{x}<br>value=%{y}<extra></extra>",
         "legendgroup": "honor",
         "marker": {
          "color": "#FF97FF",
          "pattern": {
           "shape": ""
          }
         },
         "name": "honor",
         "orientation": "v",
         "showlegend": true,
         "textposition": "auto",
         "type": "bar",
         "x": [
          "honor"
         ],
         "xaxis": "x",
         "y": {
          "bdata": "Qh9ZOR7VyT8=",
          "dtype": "f8"
         },
         "yaxis": "y"
        },
        {
         "hovertemplate": "brand=%{x}<br>value=%{y}<extra></extra>",
         "legendgroup": "tecno",
         "marker": {
          "color": "#FECB52",
          "pattern": {
           "shape": ""
          }
         },
         "name": "tecno",
         "orientation": "v",
         "showlegend": true,
         "textposition": "auto",
         "type": "bar",
         "x": [
          "tecno"
         ],
         "xaxis": "x",
         "y": {
          "bdata": "Qh9ZOR7VyT8=",
          "dtype": "f8"
         },
         "yaxis": "y"
        },
        {
         "hovertemplate": "brand=%{x}<br>value=%{y}<extra></extra>",
         "legendgroup": "microsoft",
         "marker": {
          "color": "#636efa",
          "pattern": {
           "shape": ""
          }
         },
         "name": "microsoft",
         "orientation": "v",
         "showlegend": true,
         "textposition": "auto",
         "type": "bar",
         "x": [
          "microsoft"
         ],
         "xaxis": "x",
         "y": {
          "bdata": "Qh9ZOR7VyT8=",
          "dtype": "f8"
         },
         "yaxis": "y"
        },
        {
         "hovertemplate": "brand=%{x}<br>value=%{y}<extra></extra>",
         "legendgroup": "realme",
         "marker": {
          "color": "#EF553B",
          "pattern": {
           "shape": ""
          }
         },
         "name": "realme",
         "orientation": "v",
         "showlegend": true,
         "textposition": "auto",
         "type": "bar",
         "x": [
          "realme"
         ],
         "xaxis": "x",
         "y": {
          "bdata": "Qh9ZOR7VyT8=",
          "dtype": "f8"
         },
         "yaxis": "y"
        },
        {
         "hovertemplate": "brand=%{x}<br>value=%{y}<extra></extra>",
         "legendgroup": "primebook",
         "marker": {
          "color": "#00cc96",
          "pattern": {
           "shape": ""
          }
         },
         "name": "primebook",
         "orientation": "v",
         "showlegend": true,
         "textposition": "auto",
         "type": "bar",
         "x": [
          "primebook"
         ],
         "xaxis": "x",
         "y": {
          "bdata": "Qh9ZOR7VyT8=",
          "dtype": "f8"
         },
         "yaxis": "y"
        },
        {
         "hovertemplate": "brand=%{x}<br>value=%{y}<extra></extra>",
         "legendgroup": "jio",
         "marker": {
          "color": "#ab63fa",
          "pattern": {
           "shape": ""
          }
         },
         "name": "jio",
         "orientation": "v",
         "showlegend": true,
         "textposition": "auto",
         "type": "bar",
         "x": [
          "jio"
         ],
         "xaxis": "x",
         "y": {
          "bdata": "Qh9ZOR7VuT8=",
          "dtype": "f8"
         },
         "yaxis": "y"
        },
        {
         "hovertemplate": "brand=%{x}<br>value=%{y}<extra></extra>",
         "legendgroup": "iball",
         "marker": {
          "color": "#FFA15A",
          "pattern": {
           "shape": ""
          }
         },
         "name": "iball",
         "orientation": "v",
         "showlegend": true,
         "textposition": "auto",
         "type": "bar",
         "x": [
          "iball"
         ],
         "xaxis": "x",
         "y": {
          "bdata": "Qh9ZOR7VuT8=",
          "dtype": "f8"
         },
         "yaxis": "y"
        },
        {
         "hovertemplate": "brand=%{x}<br>value=%{y}<extra></extra>",
         "legendgroup": "walker",
         "marker": {
          "color": "#19d3f3",
          "pattern": {
           "shape": ""
          }
         },
         "name": "walker",
         "orientation": "v",
         "showlegend": true,
         "textposition": "auto",
         "type": "bar",
         "x": [
          "walker"
         ],
         "xaxis": "x",
         "y": {
          "bdata": "Qh9ZOR7VuT8=",
          "dtype": "f8"
         },
         "yaxis": "y"
        }
       ],
       "layout": {
        "barmode": "relative",
        "legend": {
         "title": {
          "text": "brand"
         },
         "tracegroupgap": 0
        },
        "margin": {
         "t": 60
        },
        "template": {
         "data": {
          "bar": [
           {
            "error_x": {
             "color": "#2a3f5f"
            },
            "error_y": {
             "color": "#2a3f5f"
            },
            "marker": {
             "line": {
              "color": "#E5ECF6",
              "width": 0.5
             },
             "pattern": {
              "fillmode": "overlay",
              "size": 10,
              "solidity": 0.2
             }
            },
            "type": "bar"
           }
          ],
          "barpolar": [
           {
            "marker": {
             "line": {
              "color": "#E5ECF6",
              "width": 0.5
             },
             "pattern": {
              "fillmode": "overlay",
              "size": 10,
              "solidity": 0.2
             }
            },
            "type": "barpolar"
           }
          ],
          "carpet": [
           {
            "aaxis": {
             "endlinecolor": "#2a3f5f",
             "gridcolor": "white",
             "linecolor": "white",
             "minorgridcolor": "white",
             "startlinecolor": "#2a3f5f"
            },
            "baxis": {
             "endlinecolor": "#2a3f5f",
             "gridcolor": "white",
             "linecolor": "white",
             "minorgridcolor": "white",
             "startlinecolor": "#2a3f5f"
            },
            "type": "carpet"
           }
          ],
          "choropleth": [
           {
            "colorbar": {
             "outlinewidth": 0,
             "ticks": ""
            },
            "type": "choropleth"
           }
          ],
          "contour": [
           {
            "colorbar": {
             "outlinewidth": 0,
             "ticks": ""
            },
            "colorscale": [
             [
              0,
              "#0d0887"
             ],
             [
              0.1111111111111111,
              "#46039f"
             ],
             [
              0.2222222222222222,
              "#7201a8"
             ],
             [
              0.3333333333333333,
              "#9c179e"
             ],
             [
              0.4444444444444444,
              "#bd3786"
             ],
             [
              0.5555555555555556,
              "#d8576b"
             ],
             [
              0.6666666666666666,
              "#ed7953"
             ],
             [
              0.7777777777777778,
              "#fb9f3a"
             ],
             [
              0.8888888888888888,
              "#fdca26"
             ],
             [
              1,
              "#f0f921"
             ]
            ],
            "type": "contour"
           }
          ],
          "contourcarpet": [
           {
            "colorbar": {
             "outlinewidth": 0,
             "ticks": ""
            },
            "type": "contourcarpet"
           }
          ],
          "heatmap": [
           {
            "colorbar": {
             "outlinewidth": 0,
             "ticks": ""
            },
            "colorscale": [
             [
              0,
              "#0d0887"
             ],
             [
              0.1111111111111111,
              "#46039f"
             ],
             [
              0.2222222222222222,
              "#7201a8"
             ],
             [
              0.3333333333333333,
              "#9c179e"
             ],
             [
              0.4444444444444444,
              "#bd3786"
             ],
             [
              0.5555555555555556,
              "#d8576b"
             ],
             [
              0.6666666666666666,
              "#ed7953"
             ],
             [
              0.7777777777777778,
              "#fb9f3a"
             ],
             [
              0.8888888888888888,
              "#fdca26"
             ],
             [
              1,
              "#f0f921"
             ]
            ],
            "type": "heatmap"
           }
          ],
          "histogram": [
           {
            "marker": {
             "pattern": {
              "fillmode": "overlay",
              "size": 10,
              "solidity": 0.2
             }
            },
            "type": "histogram"
           }
          ],
          "histogram2d": [
           {
            "colorbar": {
             "outlinewidth": 0,
             "ticks": ""
            },
            "colorscale": [
             [
              0,
              "#0d0887"
             ],
             [
              0.1111111111111111,
              "#46039f"
             ],
             [
              0.2222222222222222,
              "#7201a8"
             ],
             [
              0.3333333333333333,
              "#9c179e"
             ],
             [
              0.4444444444444444,
              "#bd3786"
             ],
             [
              0.5555555555555556,
              "#d8576b"
             ],
             [
              0.6666666666666666,
              "#ed7953"
             ],
             [
              0.7777777777777778,
              "#fb9f3a"
             ],
             [
              0.8888888888888888,
              "#fdca26"
             ],
             [
              1,
              "#f0f921"
             ]
            ],
            "type": "histogram2d"
           }
          ],
          "histogram2dcontour": [
           {
            "colorbar": {
             "outlinewidth": 0,
             "ticks": ""
            },
            "colorscale": [
             [
              0,
              "#0d0887"
             ],
             [
              0.1111111111111111,
              "#46039f"
             ],
             [
              0.2222222222222222,
              "#7201a8"
             ],
             [
              0.3333333333333333,
              "#9c179e"
             ],
             [
              0.4444444444444444,
              "#bd3786"
             ],
             [
              0.5555555555555556,
              "#d8576b"
             ],
             [
              0.6666666666666666,
              "#ed7953"
             ],
             [
              0.7777777777777778,
              "#fb9f3a"
             ],
             [
              0.8888888888888888,
              "#fdca26"
             ],
             [
              1,
              "#f0f921"
             ]
            ],
            "type": "histogram2dcontour"
           }
          ],
          "mesh3d": [
           {
            "colorbar": {
             "outlinewidth": 0,
             "ticks": ""
            },
            "type": "mesh3d"
           }
          ],
          "parcoords": [
           {
            "line": {
             "colorbar": {
              "outlinewidth": 0,
              "ticks": ""
             }
            },
            "type": "parcoords"
           }
          ],
          "pie": [
           {
            "automargin": true,
            "type": "pie"
           }
          ],
          "scatter": [
           {
            "fillpattern": {
             "fillmode": "overlay",
             "size": 10,
             "solidity": 0.2
            },
            "type": "scatter"
           }
          ],
          "scatter3d": [
           {
            "line": {
             "colorbar": {
              "outlinewidth": 0,
              "ticks": ""
             }
            },
            "marker": {
             "colorbar": {
              "outlinewidth": 0,
              "ticks": ""
             }
            },
            "type": "scatter3d"
           }
          ],
          "scattercarpet": [
           {
            "marker": {
             "colorbar": {
              "outlinewidth": 0,
              "ticks": ""
             }
            },
            "type": "scattercarpet"
           }
          ],
          "scattergeo": [
           {
            "marker": {
             "colorbar": {
              "outlinewidth": 0,
              "ticks": ""
             }
            },
            "type": "scattergeo"
           }
          ],
          "scattergl": [
           {
            "marker": {
             "colorbar": {
              "outlinewidth": 0,
              "ticks": ""
             }
            },
            "type": "scattergl"
           }
          ],
          "scattermap": [
           {
            "marker": {
             "colorbar": {
              "outlinewidth": 0,
              "ticks": ""
             }
            },
            "type": "scattermap"
           }
          ],
          "scattermapbox": [
           {
            "marker": {
             "colorbar": {
              "outlinewidth": 0,
              "ticks": ""
             }
            },
            "type": "scattermapbox"
           }
          ],
          "scatterpolar": [
           {
            "marker": {
             "colorbar": {
              "outlinewidth": 0,
              "ticks": ""
             }
            },
            "type": "scatterpolar"
           }
          ],
          "scatterpolargl": [
           {
            "marker": {
             "colorbar": {
              "outlinewidth": 0,
              "ticks": ""
             }
            },
            "type": "scatterpolargl"
           }
          ],
          "scatterternary": [
           {
            "marker": {
             "colorbar": {
              "outlinewidth": 0,
              "ticks": ""
             }
            },
            "type": "scatterternary"
           }
          ],
          "surface": [
           {
            "colorbar": {
             "outlinewidth": 0,
             "ticks": ""
            },
            "colorscale": [
             [
              0,
              "#0d0887"
             ],
             [
              0.1111111111111111,
              "#46039f"
             ],
             [
              0.2222222222222222,
              "#7201a8"
             ],
             [
              0.3333333333333333,
              "#9c179e"
             ],
             [
              0.4444444444444444,
              "#bd3786"
             ],
             [
              0.5555555555555556,
              "#d8576b"
             ],
             [
              0.6666666666666666,
              "#ed7953"
             ],
             [
              0.7777777777777778,
              "#fb9f3a"
             ],
             [
              0.8888888888888888,
              "#fdca26"
             ],
             [
              1,
              "#f0f921"
             ]
            ],
            "type": "surface"
           }
          ],
          "table": [
           {
            "cells": {
             "fill": {
              "color": "#EBF0F8"
             },
             "line": {
              "color": "white"
             }
            },
            "header": {
             "fill": {
              "color": "#C8D4E3"
             },
             "line": {
              "color": "white"
             }
            },
            "type": "table"
           }
          ]
         },
         "layout": {
          "annotationdefaults": {
           "arrowcolor": "#2a3f5f",
           "arrowhead": 0,
           "arrowwidth": 1
          },
          "autotypenumbers": "strict",
          "coloraxis": {
           "colorbar": {
            "outlinewidth": 0,
            "ticks": ""
           }
          },
          "colorscale": {
           "diverging": [
            [
             0,
             "#8e0152"
            ],
            [
             0.1,
             "#c51b7d"
            ],
            [
             0.2,
             "#de77ae"
            ],
            [
             0.3,
             "#f1b6da"
            ],
            [
             0.4,
             "#fde0ef"
            ],
            [
             0.5,
             "#f7f7f7"
            ],
            [
             0.6,
             "#e6f5d0"
            ],
            [
             0.7,
             "#b8e186"
            ],
            [
             0.8,
             "#7fbc41"
            ],
            [
             0.9,
             "#4d9221"
            ],
            [
             1,
             "#276419"
            ]
           ],
           "sequential": [
            [
             0,
             "#0d0887"
            ],
            [
             0.1111111111111111,
             "#46039f"
            ],
            [
             0.2222222222222222,
             "#7201a8"
            ],
            [
             0.3333333333333333,
             "#9c179e"
            ],
            [
             0.4444444444444444,
             "#bd3786"
            ],
            [
             0.5555555555555556,
             "#d8576b"
            ],
            [
             0.6666666666666666,
             "#ed7953"
            ],
            [
             0.7777777777777778,
             "#fb9f3a"
            ],
            [
             0.8888888888888888,
             "#fdca26"
            ],
            [
             1,
             "#f0f921"
            ]
           ],
           "sequentialminus": [
            [
             0,
             "#0d0887"
            ],
            [
             0.1111111111111111,
             "#46039f"
            ],
            [
             0.2222222222222222,
             "#7201a8"
            ],
            [
             0.3333333333333333,
             "#9c179e"
            ],
            [
             0.4444444444444444,
             "#bd3786"
            ],
            [
             0.5555555555555556,
             "#d8576b"
            ],
            [
             0.6666666666666666,
             "#ed7953"
            ],
            [
             0.7777777777777778,
             "#fb9f3a"
            ],
            [
             0.8888888888888888,
             "#fdca26"
            ],
            [
             1,
             "#f0f921"
            ]
           ]
          },
          "colorway": [
           "#636efa",
           "#EF553B",
           "#00cc96",
           "#ab63fa",
           "#FFA15A",
           "#19d3f3",
           "#FF6692",
           "#B6E880",
           "#FF97FF",
           "#FECB52"
          ],
          "font": {
           "color": "#2a3f5f"
          },
          "geo": {
           "bgcolor": "white",
           "lakecolor": "white",
           "landcolor": "#E5ECF6",
           "showlakes": true,
           "showland": true,
           "subunitcolor": "white"
          },
          "hoverlabel": {
           "align": "left"
          },
          "hovermode": "closest",
          "mapbox": {
           "style": "light"
          },
          "paper_bgcolor": "white",
          "plot_bgcolor": "#E5ECF6",
          "polar": {
           "angularaxis": {
            "gridcolor": "white",
            "linecolor": "white",
            "ticks": ""
           },
           "bgcolor": "#E5ECF6",
           "radialaxis": {
            "gridcolor": "white",
            "linecolor": "white",
            "ticks": ""
           }
          },
          "scene": {
           "xaxis": {
            "backgroundcolor": "#E5ECF6",
            "gridcolor": "white",
            "gridwidth": 2,
            "linecolor": "white",
            "showbackground": true,
            "ticks": "",
            "zerolinecolor": "white"
           },
           "yaxis": {
            "backgroundcolor": "#E5ECF6",
            "gridcolor": "white",
            "gridwidth": 2,
            "linecolor": "white",
            "showbackground": true,
            "ticks": "",
            "zerolinecolor": "white"
           },
           "zaxis": {
            "backgroundcolor": "#E5ECF6",
            "gridcolor": "white",
            "gridwidth": 2,
            "linecolor": "white",
            "showbackground": true,
            "ticks": "",
            "zerolinecolor": "white"
           }
          },
          "shapedefaults": {
           "line": {
            "color": "#2a3f5f"
           }
          },
          "ternary": {
           "aaxis": {
            "gridcolor": "white",
            "linecolor": "white",
            "ticks": ""
           },
           "baxis": {
            "gridcolor": "white",
            "linecolor": "white",
            "ticks": ""
           },
           "bgcolor": "#E5ECF6",
           "caxis": {
            "gridcolor": "white",
            "linecolor": "white",
            "ticks": ""
           }
          },
          "title": {
           "x": 0.05
          },
          "xaxis": {
           "automargin": true,
           "gridcolor": "white",
           "linecolor": "white",
           "ticks": "",
           "title": {
            "standoff": 15
           },
           "zerolinecolor": "white",
           "zerolinewidth": 2
          },
          "yaxis": {
           "automargin": true,
           "gridcolor": "white",
           "linecolor": "white",
           "ticks": "",
           "title": {
            "standoff": 15
           },
           "zerolinecolor": "white",
           "zerolinewidth": 2
          }
         }
        },
        "xaxis": {
         "anchor": "y",
         "categoryarray": [
          "asus",
          "hp",
          "lenovo",
          "dell",
          "msi",
          "acer",
          "apple",
          "infinix",
          "samsung",
          "lg",
          "zebronics",
          "ultimus",
          "avita",
          "fujitsu",
          "wings",
          "chuwi",
          "axl",
          "gigabyte",
          "honor",
          "tecno",
          "microsoft",
          "realme",
          "primebook",
          "jio",
          "iball",
          "walker"
         ],
         "categoryorder": "array",
         "domain": [
          0,
          1
         ],
         "title": {
          "text": "brand"
         }
        },
        "yaxis": {
         "anchor": "x",
         "domain": [
          0,
          1
         ],
         "title": {
          "text": "value"
         }
        }
       }
      }
     },
     "metadata": {},
     "output_type": "display_data"
    }
   ],
   "source": [
    "# Distribuição da variável brand\n",
    "percentual_brand = df_laptops.value_counts('brand') / len(df_laptops) * 100\n",
    "px.bar(percentual_brand, color=percentual_brand.index)"
   ]
  },
  {
   "cell_type": "code",
   "execution_count": 11,
   "id": "0ee1eb01",
   "metadata": {},
   "outputs": [
    {
     "data": {
      "application/vnd.plotly.v1+json": {
       "config": {
        "plotlyServerURL": "https://plot.ly"
       },
       "data": [
        {
         "hovertemplate": "processor_brand=%{x}<br>value=%{y}<extra></extra>",
         "legendgroup": "intel",
         "marker": {
          "color": "#636efa",
          "pattern": {
           "shape": ""
          }
         },
         "name": "intel",
         "orientation": "v",
         "showlegend": true,
         "textposition": "auto",
         "type": "bar",
         "x": [
          "intel"
         ],
         "xaxis": "x",
         "y": {
          "bdata": "xZv7DvrIUUA=",
          "dtype": "f8"
         },
         "yaxis": "y"
        },
        {
         "hovertemplate": "processor_brand=%{x}<br>value=%{y}<extra></extra>",
         "legendgroup": "amd",
         "marker": {
          "color": "#EF553B",
          "pattern": {
           "shape": ""
          }
         },
         "name": "amd",
         "orientation": "v",
         "showlegend": true,
         "textposition": "auto",
         "type": "bar",
         "x": [
          "amd"
         ],
         "xaxis": "x",
         "y": {
          "bdata": "mvPPhUbxOkA=",
          "dtype": "f8"
         },
         "yaxis": "y"
        },
        {
         "hovertemplate": "processor_brand=%{x}<br>value=%{y}<extra></extra>",
         "legendgroup": "apple",
         "marker": {
          "color": "#00cc96",
          "pattern": {
           "shape": ""
          }
         },
         "name": "apple",
         "orientation": "v",
         "showlegend": true,
         "textposition": "auto",
         "type": "bar",
         "x": [
          "apple"
         ],
         "xaxis": "x",
         "y": {
          "bdata": "To3DVcw3+D8=",
          "dtype": "f8"
         },
         "yaxis": "y"
        },
        {
         "hovertemplate": "processor_brand=%{x}<br>value=%{y}<extra></extra>",
         "legendgroup": "other",
         "marker": {
          "color": "#ab63fa",
          "pattern": {
           "shape": ""
          }
         },
         "name": "other",
         "orientation": "v",
         "showlegend": true,
         "textposition": "auto",
         "type": "bar",
         "x": [
          "other"
         ],
         "xaxis": "x",
         "y": {
          "bdata": "Qh9ZOR7V2T8=",
          "dtype": "f8"
         },
         "yaxis": "y"
        }
       ],
       "layout": {
        "barmode": "relative",
        "legend": {
         "title": {
          "text": "processor_brand"
         },
         "tracegroupgap": 0
        },
        "margin": {
         "t": 60
        },
        "template": {
         "data": {
          "bar": [
           {
            "error_x": {
             "color": "#2a3f5f"
            },
            "error_y": {
             "color": "#2a3f5f"
            },
            "marker": {
             "line": {
              "color": "#E5ECF6",
              "width": 0.5
             },
             "pattern": {
              "fillmode": "overlay",
              "size": 10,
              "solidity": 0.2
             }
            },
            "type": "bar"
           }
          ],
          "barpolar": [
           {
            "marker": {
             "line": {
              "color": "#E5ECF6",
              "width": 0.5
             },
             "pattern": {
              "fillmode": "overlay",
              "size": 10,
              "solidity": 0.2
             }
            },
            "type": "barpolar"
           }
          ],
          "carpet": [
           {
            "aaxis": {
             "endlinecolor": "#2a3f5f",
             "gridcolor": "white",
             "linecolor": "white",
             "minorgridcolor": "white",
             "startlinecolor": "#2a3f5f"
            },
            "baxis": {
             "endlinecolor": "#2a3f5f",
             "gridcolor": "white",
             "linecolor": "white",
             "minorgridcolor": "white",
             "startlinecolor": "#2a3f5f"
            },
            "type": "carpet"
           }
          ],
          "choropleth": [
           {
            "colorbar": {
             "outlinewidth": 0,
             "ticks": ""
            },
            "type": "choropleth"
           }
          ],
          "contour": [
           {
            "colorbar": {
             "outlinewidth": 0,
             "ticks": ""
            },
            "colorscale": [
             [
              0,
              "#0d0887"
             ],
             [
              0.1111111111111111,
              "#46039f"
             ],
             [
              0.2222222222222222,
              "#7201a8"
             ],
             [
              0.3333333333333333,
              "#9c179e"
             ],
             [
              0.4444444444444444,
              "#bd3786"
             ],
             [
              0.5555555555555556,
              "#d8576b"
             ],
             [
              0.6666666666666666,
              "#ed7953"
             ],
             [
              0.7777777777777778,
              "#fb9f3a"
             ],
             [
              0.8888888888888888,
              "#fdca26"
             ],
             [
              1,
              "#f0f921"
             ]
            ],
            "type": "contour"
           }
          ],
          "contourcarpet": [
           {
            "colorbar": {
             "outlinewidth": 0,
             "ticks": ""
            },
            "type": "contourcarpet"
           }
          ],
          "heatmap": [
           {
            "colorbar": {
             "outlinewidth": 0,
             "ticks": ""
            },
            "colorscale": [
             [
              0,
              "#0d0887"
             ],
             [
              0.1111111111111111,
              "#46039f"
             ],
             [
              0.2222222222222222,
              "#7201a8"
             ],
             [
              0.3333333333333333,
              "#9c179e"
             ],
             [
              0.4444444444444444,
              "#bd3786"
             ],
             [
              0.5555555555555556,
              "#d8576b"
             ],
             [
              0.6666666666666666,
              "#ed7953"
             ],
             [
              0.7777777777777778,
              "#fb9f3a"
             ],
             [
              0.8888888888888888,
              "#fdca26"
             ],
             [
              1,
              "#f0f921"
             ]
            ],
            "type": "heatmap"
           }
          ],
          "histogram": [
           {
            "marker": {
             "pattern": {
              "fillmode": "overlay",
              "size": 10,
              "solidity": 0.2
             }
            },
            "type": "histogram"
           }
          ],
          "histogram2d": [
           {
            "colorbar": {
             "outlinewidth": 0,
             "ticks": ""
            },
            "colorscale": [
             [
              0,
              "#0d0887"
             ],
             [
              0.1111111111111111,
              "#46039f"
             ],
             [
              0.2222222222222222,
              "#7201a8"
             ],
             [
              0.3333333333333333,
              "#9c179e"
             ],
             [
              0.4444444444444444,
              "#bd3786"
             ],
             [
              0.5555555555555556,
              "#d8576b"
             ],
             [
              0.6666666666666666,
              "#ed7953"
             ],
             [
              0.7777777777777778,
              "#fb9f3a"
             ],
             [
              0.8888888888888888,
              "#fdca26"
             ],
             [
              1,
              "#f0f921"
             ]
            ],
            "type": "histogram2d"
           }
          ],
          "histogram2dcontour": [
           {
            "colorbar": {
             "outlinewidth": 0,
             "ticks": ""
            },
            "colorscale": [
             [
              0,
              "#0d0887"
             ],
             [
              0.1111111111111111,
              "#46039f"
             ],
             [
              0.2222222222222222,
              "#7201a8"
             ],
             [
              0.3333333333333333,
              "#9c179e"
             ],
             [
              0.4444444444444444,
              "#bd3786"
             ],
             [
              0.5555555555555556,
              "#d8576b"
             ],
             [
              0.6666666666666666,
              "#ed7953"
             ],
             [
              0.7777777777777778,
              "#fb9f3a"
             ],
             [
              0.8888888888888888,
              "#fdca26"
             ],
             [
              1,
              "#f0f921"
             ]
            ],
            "type": "histogram2dcontour"
           }
          ],
          "mesh3d": [
           {
            "colorbar": {
             "outlinewidth": 0,
             "ticks": ""
            },
            "type": "mesh3d"
           }
          ],
          "parcoords": [
           {
            "line": {
             "colorbar": {
              "outlinewidth": 0,
              "ticks": ""
             }
            },
            "type": "parcoords"
           }
          ],
          "pie": [
           {
            "automargin": true,
            "type": "pie"
           }
          ],
          "scatter": [
           {
            "fillpattern": {
             "fillmode": "overlay",
             "size": 10,
             "solidity": 0.2
            },
            "type": "scatter"
           }
          ],
          "scatter3d": [
           {
            "line": {
             "colorbar": {
              "outlinewidth": 0,
              "ticks": ""
             }
            },
            "marker": {
             "colorbar": {
              "outlinewidth": 0,
              "ticks": ""
             }
            },
            "type": "scatter3d"
           }
          ],
          "scattercarpet": [
           {
            "marker": {
             "colorbar": {
              "outlinewidth": 0,
              "ticks": ""
             }
            },
            "type": "scattercarpet"
           }
          ],
          "scattergeo": [
           {
            "marker": {
             "colorbar": {
              "outlinewidth": 0,
              "ticks": ""
             }
            },
            "type": "scattergeo"
           }
          ],
          "scattergl": [
           {
            "marker": {
             "colorbar": {
              "outlinewidth": 0,
              "ticks": ""
             }
            },
            "type": "scattergl"
           }
          ],
          "scattermap": [
           {
            "marker": {
             "colorbar": {
              "outlinewidth": 0,
              "ticks": ""
             }
            },
            "type": "scattermap"
           }
          ],
          "scattermapbox": [
           {
            "marker": {
             "colorbar": {
              "outlinewidth": 0,
              "ticks": ""
             }
            },
            "type": "scattermapbox"
           }
          ],
          "scatterpolar": [
           {
            "marker": {
             "colorbar": {
              "outlinewidth": 0,
              "ticks": ""
             }
            },
            "type": "scatterpolar"
           }
          ],
          "scatterpolargl": [
           {
            "marker": {
             "colorbar": {
              "outlinewidth": 0,
              "ticks": ""
             }
            },
            "type": "scatterpolargl"
           }
          ],
          "scatterternary": [
           {
            "marker": {
             "colorbar": {
              "outlinewidth": 0,
              "ticks": ""
             }
            },
            "type": "scatterternary"
           }
          ],
          "surface": [
           {
            "colorbar": {
             "outlinewidth": 0,
             "ticks": ""
            },
            "colorscale": [
             [
              0,
              "#0d0887"
             ],
             [
              0.1111111111111111,
              "#46039f"
             ],
             [
              0.2222222222222222,
              "#7201a8"
             ],
             [
              0.3333333333333333,
              "#9c179e"
             ],
             [
              0.4444444444444444,
              "#bd3786"
             ],
             [
              0.5555555555555556,
              "#d8576b"
             ],
             [
              0.6666666666666666,
              "#ed7953"
             ],
             [
              0.7777777777777778,
              "#fb9f3a"
             ],
             [
              0.8888888888888888,
              "#fdca26"
             ],
             [
              1,
              "#f0f921"
             ]
            ],
            "type": "surface"
           }
          ],
          "table": [
           {
            "cells": {
             "fill": {
              "color": "#EBF0F8"
             },
             "line": {
              "color": "white"
             }
            },
            "header": {
             "fill": {
              "color": "#C8D4E3"
             },
             "line": {
              "color": "white"
             }
            },
            "type": "table"
           }
          ]
         },
         "layout": {
          "annotationdefaults": {
           "arrowcolor": "#2a3f5f",
           "arrowhead": 0,
           "arrowwidth": 1
          },
          "autotypenumbers": "strict",
          "coloraxis": {
           "colorbar": {
            "outlinewidth": 0,
            "ticks": ""
           }
          },
          "colorscale": {
           "diverging": [
            [
             0,
             "#8e0152"
            ],
            [
             0.1,
             "#c51b7d"
            ],
            [
             0.2,
             "#de77ae"
            ],
            [
             0.3,
             "#f1b6da"
            ],
            [
             0.4,
             "#fde0ef"
            ],
            [
             0.5,
             "#f7f7f7"
            ],
            [
             0.6,
             "#e6f5d0"
            ],
            [
             0.7,
             "#b8e186"
            ],
            [
             0.8,
             "#7fbc41"
            ],
            [
             0.9,
             "#4d9221"
            ],
            [
             1,
             "#276419"
            ]
           ],
           "sequential": [
            [
             0,
             "#0d0887"
            ],
            [
             0.1111111111111111,
             "#46039f"
            ],
            [
             0.2222222222222222,
             "#7201a8"
            ],
            [
             0.3333333333333333,
             "#9c179e"
            ],
            [
             0.4444444444444444,
             "#bd3786"
            ],
            [
             0.5555555555555556,
             "#d8576b"
            ],
            [
             0.6666666666666666,
             "#ed7953"
            ],
            [
             0.7777777777777778,
             "#fb9f3a"
            ],
            [
             0.8888888888888888,
             "#fdca26"
            ],
            [
             1,
             "#f0f921"
            ]
           ],
           "sequentialminus": [
            [
             0,
             "#0d0887"
            ],
            [
             0.1111111111111111,
             "#46039f"
            ],
            [
             0.2222222222222222,
             "#7201a8"
            ],
            [
             0.3333333333333333,
             "#9c179e"
            ],
            [
             0.4444444444444444,
             "#bd3786"
            ],
            [
             0.5555555555555556,
             "#d8576b"
            ],
            [
             0.6666666666666666,
             "#ed7953"
            ],
            [
             0.7777777777777778,
             "#fb9f3a"
            ],
            [
             0.8888888888888888,
             "#fdca26"
            ],
            [
             1,
             "#f0f921"
            ]
           ]
          },
          "colorway": [
           "#636efa",
           "#EF553B",
           "#00cc96",
           "#ab63fa",
           "#FFA15A",
           "#19d3f3",
           "#FF6692",
           "#B6E880",
           "#FF97FF",
           "#FECB52"
          ],
          "font": {
           "color": "#2a3f5f"
          },
          "geo": {
           "bgcolor": "white",
           "lakecolor": "white",
           "landcolor": "#E5ECF6",
           "showlakes": true,
           "showland": true,
           "subunitcolor": "white"
          },
          "hoverlabel": {
           "align": "left"
          },
          "hovermode": "closest",
          "mapbox": {
           "style": "light"
          },
          "paper_bgcolor": "white",
          "plot_bgcolor": "#E5ECF6",
          "polar": {
           "angularaxis": {
            "gridcolor": "white",
            "linecolor": "white",
            "ticks": ""
           },
           "bgcolor": "#E5ECF6",
           "radialaxis": {
            "gridcolor": "white",
            "linecolor": "white",
            "ticks": ""
           }
          },
          "scene": {
           "xaxis": {
            "backgroundcolor": "#E5ECF6",
            "gridcolor": "white",
            "gridwidth": 2,
            "linecolor": "white",
            "showbackground": true,
            "ticks": "",
            "zerolinecolor": "white"
           },
           "yaxis": {
            "backgroundcolor": "#E5ECF6",
            "gridcolor": "white",
            "gridwidth": 2,
            "linecolor": "white",
            "showbackground": true,
            "ticks": "",
            "zerolinecolor": "white"
           },
           "zaxis": {
            "backgroundcolor": "#E5ECF6",
            "gridcolor": "white",
            "gridwidth": 2,
            "linecolor": "white",
            "showbackground": true,
            "ticks": "",
            "zerolinecolor": "white"
           }
          },
          "shapedefaults": {
           "line": {
            "color": "#2a3f5f"
           }
          },
          "ternary": {
           "aaxis": {
            "gridcolor": "white",
            "linecolor": "white",
            "ticks": ""
           },
           "baxis": {
            "gridcolor": "white",
            "linecolor": "white",
            "ticks": ""
           },
           "bgcolor": "#E5ECF6",
           "caxis": {
            "gridcolor": "white",
            "linecolor": "white",
            "ticks": ""
           }
          },
          "title": {
           "x": 0.05
          },
          "xaxis": {
           "automargin": true,
           "gridcolor": "white",
           "linecolor": "white",
           "ticks": "",
           "title": {
            "standoff": 15
           },
           "zerolinecolor": "white",
           "zerolinewidth": 2
          },
          "yaxis": {
           "automargin": true,
           "gridcolor": "white",
           "linecolor": "white",
           "ticks": "",
           "title": {
            "standoff": 15
           },
           "zerolinecolor": "white",
           "zerolinewidth": 2
          }
         }
        },
        "xaxis": {
         "anchor": "y",
         "categoryarray": [
          "intel",
          "amd",
          "apple",
          "other"
         ],
         "categoryorder": "array",
         "domain": [
          0,
          1
         ],
         "title": {
          "text": "processor_brand"
         }
        },
        "yaxis": {
         "anchor": "x",
         "domain": [
          0,
          1
         ],
         "title": {
          "text": "value"
         }
        }
       }
      }
     },
     "metadata": {},
     "output_type": "display_data"
    }
   ],
   "source": [
    "# Distribuição da variável processor_brand\n",
    "percentual_processor_brand = df_laptops.value_counts('processor_brand') / len(df_laptops) * 100\n",
    "px.bar(percentual_processor_brand, color=percentual_processor_brand.index)"
   ]
  },
  {
   "cell_type": "code",
   "execution_count": 12,
   "id": "642eb230",
   "metadata": {},
   "outputs": [
    {
     "data": {
      "text/plain": [
       "<Axes: xlabel='price', ylabel='Count'>"
      ]
     },
     "execution_count": 12,
     "metadata": {},
     "output_type": "execute_result"
    },
    {
     "data": {
      "image/png": "[encoded data removed]",
      "text/plain": [
       "<Figure size 640x480 with 1 Axes>"
      ]
     },
     "metadata": {},
     "output_type": "display_data"
    }
   ],
   "source": [
    "# Distribuição da variável price\n",
    "sns.histplot(df_laptops['price'], kde=True, color='lightblue')"
   ]
  },
  {
   "cell_type": "code",
   "execution_count": 13,
   "id": "14f3398f",
   "metadata": {},
   "outputs": [
    {
     "data": {
      "text/plain": [
       "<Axes: xlabel='rating', ylabel='Count'>"
      ]
     },
     "execution_count": 13,
     "metadata": {},
     "output_type": "execute_result"
    },
    {
     "data": {
      "image/png": "[encoded data removed]",
      "text/plain": [
       "<Figure size 640x480 with 1 Axes>"
      ]
     },
     "metadata": {},
     "output_type": "display_data"
    }
   ],
   "source": [
    "# Distribuição da variável rating\n",
    "sns.histplot(df_laptops['rating'], kde=True, color='red')"
   ]
  },
  {
   "cell_type": "code",
   "execution_count": 14,
   "id": "2344f0b8",
   "metadata": {},
   "outputs": [
    {
     "data": {
      "application/vnd.plotly.v1+json": {
       "config": {
        "plotlyServerURL": "https://plot.ly"
       },
       "data": [
        {
         "alignmentgroup": "True",
         "hovertemplate": "brand=%{y}<br>price=%{x}<extra></extra>",
         "legendgroup": "tecno",
         "marker": {
          "color": "#636efa"
         },
         "name": "tecno",
         "notched": false,
         "offsetgroup": "tecno",
         "orientation": "h",
         "showlegend": true,
         "type": "box",
         "x": {
          "bdata": "7FG4HoX7cUAK16NwPfp6QA==",
          "dtype": "f8"
         },
         "x0": " ",
         "xaxis": "x",
         "y": [
          "tecno",
          "tecno"
         ],
         "y0": " ",
         "yaxis": "y"
        },
        {
         "alignmentgroup": "True",
         "hovertemplate": "brand=%{y}<br>price=%{x}<extra></extra>",
         "legendgroup": "hp",
         "marker": {
          "color": "#EF553B"
         },
         "name": "hp",
         "notched": false,
         "offsetgroup": "hp",
         "orientation": "h",
         "showlegend": true,
         "type": "box",
         "x": {
          "bdata": "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",
          "dtype": "f8"
         },
         "x0": " ",
         "xaxis": "x",
         "y": [
          "hp",
          "hp",
          "hp",
          "hp",
          "hp",
          "hp",
          "hp",
          "hp",
          "hp",
          "hp",
          "hp",
          "hp",
          "hp",
          "hp",
          "hp",
          "hp",
          "hp",
          "hp",
          "hp",
          "hp",
          "hp",
          "hp",
          "hp",
          "hp",
          "hp",
          "hp",
          "hp",
          "hp",
          "hp",
          "hp",
          "hp",
          "hp",
          "hp",
          "hp",
          "hp",
          "hp",
          "hp",
          "hp",
          "hp",
          "hp",
          "hp",
          "hp",
          "hp",
          "hp",
          "hp",
          "hp",
          "hp",
          "hp",
          "hp",
          "hp",
          "hp",
          "hp",
          "hp",
          "hp",
          "hp",
          "hp",
          "hp",
          "hp",
          "hp",
          "hp",
          "hp",
          "hp",
          "hp",
          "hp",
          "hp",
          "hp",
          "hp",
          "hp",
          "hp",
          "hp",
          "hp",
          "hp",
          "hp",
          "hp",
          "hp",
          "hp",
          "hp",
          "hp",
          "hp",
          "hp",
          "hp",
          "hp",
          "hp",
          "hp",
          "hp",
          "hp",
          "hp",
          "hp",
          "hp",
          "hp",
          "hp",
          "hp",
          "hp",
          "hp",
          "hp",
          "hp",
          "hp",
          "hp",
          "hp",
          "hp",
          "hp",
          "hp",
          "hp",
          "hp",
          "hp",
          "hp",
          "hp",
          "hp",
          "hp",
          "hp",
          "hp",
          "hp",
          "hp",
          "hp",
          "hp",
          "hp",
          "hp",
          "hp",
          "hp",
          "hp",
          "hp",
          "hp",
          "hp",
          "hp",
          "hp",
          "hp",
          "hp",
          "hp",
          "hp",
          "hp",
          "hp",
          "hp",
          "hp",
          "hp",
          "hp",
          "hp",
          "hp",
          "hp",
          "hp",
          "hp",
          "hp",
          "hp",
          "hp",
          "hp",
          "hp",
          "hp",
          "hp",
          "hp",
          "hp",
          "hp",
          "hp",
          "hp",
          "hp",
          "hp",
          "hp",
          "hp",
          "hp",
          "hp",
          "hp",
          "hp",
          "hp",
          "hp",
          "hp",
          "hp",
          "hp",
          "hp",
          "hp",
          "hp",
          "hp",
          "hp",
          "hp",
          "hp",
          "hp",
          "hp",
          "hp",
          "hp",
          "hp",
          "hp",
          "hp",
          "hp",
          "hp",
          "hp",
          "hp",
          "hp",
          "hp",
          "hp",
          "hp",
          "hp",
          "hp",
          "hp",
          "hp",
          "hp",
          "hp",
          "hp",
          "hp",
          "hp",
          "hp",
          "hp",
          "hp",
          "hp",
          "hp",
          "hp",
          "hp",
          "hp",
          "hp"
         ],
         "y0": " ",
         "yaxis": "y"
        },
        {
         "alignmentgroup": "True",
         "hovertemplate": "brand=%{y}<br>price=%{x}<extra></extra>",
         "legendgroup": "acer",
         "marker": {
          "color": "#00cc96"
         },
         "name": "acer",
         "notched": false,
         "offsetgroup": "acer",
         "orientation": "h",
         "showlegend": true,
         "type": "box",
         "x": {
          "bdata": "Urgehev5fUB7FK5H4TqNQMP1KFyPnIFAZmZmZmY6ekDD9Shcj7p4QAAAAAAAXIVArkfhehR6fEBI4XoUrpt9QAAAAAAAzZFAFK5H4Xr8gUCPwvUoXHyWQPYoXI/CrJNAexSuR+E6d0BSuB6F6zl9QMP1KFyPunhAMzMzMzNbi0B7FK5HYd2gQB+F61G4+ndAexSuR+F6dkCkcD0K19uGQAAAAAAAXIVAj8L1KFx8lkAzMzMzM/t0QMP1KFyPnIFAexSuR+F6dkDsUbgehW2BQGZmZmZmvIJA7FG4HoXdgECamZmZmR2AQMP1KFyPnIFAw/UoXI9sgUAAAAAAAFyFQD0K16Nw1X1A7FG4HoX7cUDD9Shcj/yHQOxRuB6Fu4hAZmZmZma8gkBSuB6F6x+HQI/C9ShcG3NAUrgehev5fUBmZmZmZjp6QM3MzMzMHIBAAAAAAABchUAK16NwPdyDQArXo3A9untAmpmZmZl5f0D2KFyPwhl/QOF6FK5H+51AuB6F61FMiUAK16NwPfp6QK5H4XoUXJhAUrgehetLjECamZmZmXl/QDMzMzMz+4pAFK5H4XoUd0ApXI/C9Xh2QNejcD0KG3ZAzczMzMwcgED2KFyPwrl+QFyPwvUonIRAj8L1KFyneEDNzMzMzLx1QFK4HoXr+X1AZmZmZma8gkAfhetRuNaFQK5H4XoULIVAPQrXo3DzhEBmZmZmZt+aQFK4HoXrG4ZAXI/C9SjMmkBSuB6F6/l9QPYoXI/ClXtAXI/C9Sitk0AUrkfheoyVQNejcD0K3YBAXI/C9SitkECPwvUoXNuJQOxRuB6Fv6JAj8L1KFwxjUBxPQrXozyBQMP1KFyPunhAUrgehesNeEDXo3A9ilWhQClcj8J1bKdAMzMzMzP7dECkcD0K16uMQHsUrkfhenZACtejcD3ciUAAAAAAAEyMQA==",
          "dtype": "f8"
         },
         "x0": " ",
         "xaxis": "x",
         "y": [
          "acer",
          "acer",
          "acer",
          "acer",
          "acer",
          "acer",
          "acer",
          "acer",
          "acer",
          "acer",
          "acer",
          "acer",
          "acer",
          "acer",
          "acer",
          "acer",
          "acer",
          "acer",
          "acer",
          "acer",
          "acer",
          "acer",
          "acer",
          "acer",
          "acer",
          "acer",
          "acer",
          "acer",
          "acer",
          "acer",
          "acer",
          "acer",
          "acer",
          "acer",
          "acer",
          "acer",
          "acer",
          "acer",
          "acer",
          "acer",
          "acer",
          "acer",
          "acer",
          "acer",
          "acer",
          "acer",
          "acer",
          "acer",
          "acer",
          "acer",
          "acer",
          "acer",
          "acer",
          "acer",
          "acer",
          "acer",
          "acer",
          "acer",
          "acer",
          "acer",
          "acer",
          "acer",
          "acer",
          "acer",
          "acer",
          "acer",
          "acer",
          "acer",
          "acer",
          "acer",
          "acer",
          "acer",
          "acer",
          "acer",
          "acer",
          "acer",
          "acer",
          "acer",
          "acer",
          "acer",
          "acer",
          "acer",
          "acer",
          "acer",
          "acer",
          "acer",
          "acer",
          "acer",
          "acer"
         ],
         "y0": " ",
         "yaxis": "y"
        },
        {
         "alignmentgroup": "True",
         "hovertemplate": "brand=%{y}<br>price=%{x}<extra></extra>",
         "legendgroup": "lenovo",
         "marker": {
          "color": "#ab63fa"
         },
         "name": "lenovo",
         "notched": false,
         "offsetgroup": "lenovo",
         "orientation": "h",
         "showlegend": true,
         "type": "box",
         "x": {
          "bdata": "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",
          "dtype": "f8"
         },
         "x0": " ",
         "xaxis": "x",
         "y": [
          "lenovo",
          "lenovo",
          "lenovo",
          "lenovo",
          "lenovo",
          "lenovo",
          "lenovo",
          "lenovo",
          "lenovo",
          "lenovo",
          "lenovo",
          "lenovo",
          "lenovo",
          "lenovo",
          "lenovo",
          "lenovo",
          "lenovo",
          "lenovo",
          "lenovo",
          "lenovo",
          "lenovo",
          "lenovo",
          "lenovo",
          "lenovo",
          "lenovo",
          "lenovo",
          "lenovo",
          "lenovo",
          "lenovo",
          "lenovo",
          "lenovo",
          "lenovo",
          "lenovo",
          "lenovo",
          "lenovo",
          "lenovo",
          "lenovo",
          "lenovo",
          "lenovo",
          "lenovo",
          "lenovo",
          "lenovo",
          "lenovo",
          "lenovo",
          "lenovo",
          "lenovo",
          "lenovo",
          "lenovo",
          "lenovo",
          "lenovo",
          "lenovo",
          "lenovo",
          "lenovo",
          "lenovo",
          "lenovo",
          "lenovo",
          "lenovo",
          "lenovo",
          "lenovo",
          "lenovo",
          "lenovo",
          "lenovo",
          "lenovo",
          "lenovo",
          "lenovo",
          "lenovo",
          "lenovo",
          "lenovo",
          "lenovo",
          "lenovo",
          "lenovo",
          "lenovo",
          "lenovo",
          "lenovo",
          "lenovo",
          "lenovo",
          "lenovo",
          "lenovo",
          "lenovo",
          "lenovo",
          "lenovo",
          "lenovo",
          "lenovo",
          "lenovo",
          "lenovo",
          "lenovo",
          "lenovo",
          "lenovo",
          "lenovo",
          "lenovo",
          "lenovo",
          "lenovo",
          "lenovo",
          "lenovo",
          "lenovo",
          "lenovo",
          "lenovo",
          "lenovo",
          "lenovo",
          "lenovo",
          "lenovo",
          "lenovo",
          "lenovo",
          "lenovo",
          "lenovo",
          "lenovo",
          "lenovo",
          "lenovo",
          "lenovo",
          "lenovo",
          "lenovo",
          "lenovo",
          "lenovo",
          "lenovo",
          "lenovo",
          "lenovo",
          "lenovo",
          "lenovo",
          "lenovo",
          "lenovo",
          "lenovo",
          "lenovo",
          "lenovo",
          "lenovo",
          "lenovo",
          "lenovo",
          "lenovo",
          "lenovo",
          "lenovo",
          "lenovo",
          "lenovo",
          "lenovo",
          "lenovo",
          "lenovo",
          "lenovo",
          "lenovo",
          "lenovo",
          "lenovo",
          "lenovo",
          "lenovo",
          "lenovo",
          "lenovo",
          "lenovo",
          "lenovo",
          "lenovo",
          "lenovo",
          "lenovo",
          "lenovo",
          "lenovo",
          "lenovo",
          "lenovo",
          "lenovo",
          "lenovo",
          "lenovo",
          "lenovo",
          "lenovo",
          "lenovo",
          "lenovo",
          "lenovo",
          "lenovo",
          "lenovo",
          "lenovo",
          "lenovo",
          "lenovo",
          "lenovo",
          "lenovo",
          "lenovo",
          "lenovo",
          "lenovo",
          "lenovo",
          "lenovo",
          "lenovo",
          "lenovo",
          "lenovo",
          "lenovo",
          "lenovo",
          "lenovo",
          "lenovo",
          "lenovo",
          "lenovo",
          "lenovo",
          "lenovo",
          "lenovo",
          "lenovo",
          "lenovo",
          "lenovo",
          "lenovo",
          "lenovo",
          "lenovo",
          "lenovo",
          "lenovo",
          "lenovo",
          "lenovo",
          "lenovo",
          "lenovo",
          "lenovo",
          "lenovo",
          "lenovo",
          "lenovo",
          "lenovo",
          "lenovo"
         ],
         "y0": " ",
         "yaxis": "y"
        },
        {
         "alignmentgroup": "True",
         "hovertemplate": "brand=%{y}<br>price=%{x}<extra></extra>",
         "legendgroup": "apple",
         "marker": {
          "color": "#FFA15A"
         },
         "name": "apple",
         "notched": false,
         "offsetgroup": "apple",
         "orientation": "h",
         "showlegend": true,
         "type": "box",
         "x": {
          "bdata": "4XoUrkebikBcj8L1KLyyQM3MzMzMTJNAj8L1KFx8lkCamZmZmZyUQPYoXI/CKatACtejcH1ksEDNzMzMTGqnQClcj8L1uqJASOF6FK4rm0AAAAAAAOyYQHsUrkfhq5lArkfhehTLoUBSuB6Fa3qmQB+F61G41p9A",
          "dtype": "f8"
         },
         "x0": " ",
         "xaxis": "x",
         "y": [
          "apple",
          "apple",
          "apple",
          "apple",
          "apple",
          "apple",
          "apple",
          "apple",
          "apple",
          "apple",
          "apple",
          "apple",
          "apple",
          "apple",
          "apple"
         ],
         "y0": " ",
         "yaxis": "y"
        },
        {
         "alignmentgroup": "True",
         "hovertemplate": "brand=%{y}<br>price=%{x}<extra></extra>",
         "legendgroup": "infinix",
         "marker": {
          "color": "#19d3f3"
         },
         "name": "infinix",
         "notched": false,
         "offsetgroup": "infinix",
         "orientation": "h",
         "showlegend": true,
         "type": "box",
         "x": {
          "bdata": "ZmZmZmY6ekCkcD0K13uGQHsUrkfhenZAMzMzMzP7dEAzMzMzMzt0QArXo3A9+npAAAAAAAC8hUBSuB6F6zl9QBSuR+F6XIJAj8L1KFx7c0CPwvUoXLtyQHE9Ctej3IBAUrgehes5fUA=",
          "dtype": "f8"
         },
         "x0": " ",
         "xaxis": "x",
         "y": [
          "infinix",
          "infinix",
          "infinix",
          "infinix",
          "infinix",
          "infinix",
          "infinix",
          "infinix",
          "infinix",
          "infinix",
          "infinix",
          "infinix",
          "infinix"
         ],
         "y0": " ",
         "yaxis": "y"
        },
        {
         "alignmentgroup": "True",
         "hovertemplate": "brand=%{y}<br>price=%{x}<extra></extra>",
         "legendgroup": "asus",
         "marker": {
          "color": "#FF6692"
         },
         "name": "asus",
         "notched": false,
         "offsetgroup": "asus",
         "orientation": "h",
         "showlegend": true,
         "type": "box",
         "x": {
          "bdata": "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",
          "dtype": "f8"
         },
         "x0": " ",
         "xaxis": "x",
         "y": [
          "asus",
          "asus",
          "asus",
          "asus",
          "asus",
          "asus",
          "asus",
          "asus",
          "asus",
          "asus",
          "asus",
          "asus",
          "asus",
          "asus",
          "asus",
          "asus",
          "asus",
          "asus",
          "asus",
          "asus",
          "asus",
          "asus",
          "asus",
          "asus",
          "asus",
          "asus",
          "asus",
          "asus",
          "asus",
          "asus",
          "asus",
          "asus",
          "asus",
          "asus",
          "asus",
          "asus",
          "asus",
          "asus",
          "asus",
          "asus",
          "asus",
          "asus",
          "asus",
          "asus",
          "asus",
          "asus",
          "asus",
          "asus",
          "asus",
          "asus",
          "asus",
          "asus",
          "asus",
          "asus",
          "asus",
          "asus",
          "asus",
          "asus",
          "asus",
          "asus",
          "asus",
          "asus",
          "asus",
          "asus",
          "asus",
          "asus",
          "asus",
          "asus",
          "asus",
          "asus",
          "asus",
          "asus",
          "asus",
          "asus",
          "asus",
          "asus",
          "asus",
          "asus",
          "asus",
          "asus",
          "asus",
          "asus",
          "asus",
          "asus",
          "asus",
          "asus",
          "asus",
          "asus",
          "asus",
          "asus",
          "asus",
          "asus",
          "asus",
          "asus",
          "asus",
          "asus",
          "asus",
          "asus",
          "asus",
          "asus",
          "asus",
          "asus",
          "asus",
          "asus",
          "asus",
          "asus",
          "asus",
          "asus",
          "asus",
          "asus",
          "asus",
          "asus",
          "asus",
          "asus",
          "asus",
          "asus",
          "asus",
          "asus",
          "asus",
          "asus",
          "asus",
          "asus",
          "asus",
          "asus",
          "asus",
          "asus",
          "asus",
          "asus",
          "asus",
          "asus",
          "asus",
          "asus",
          "asus",
          "asus",
          "asus",
          "asus",
          "asus",
          "asus",
          "asus",
          "asus",
          "asus",
          "asus",
          "asus",
          "asus",
          "asus",
          "asus",
          "asus",
          "asus",
          "asus",
          "asus",
          "asus",
          "asus",
          "asus",
          "asus",
          "asus",
          "asus",
          "asus",
          "asus",
          "asus",
          "asus",
          "asus",
          "asus",
          "asus",
          "asus",
          "asus",
          "asus",
          "asus",
          "asus",
          "asus",
          "asus",
          "asus",
          "asus",
          "asus",
          "asus",
          "asus",
          "asus",
          "asus",
          "asus",
          "asus",
          "asus",
          "asus",
          "asus",
          "asus",
          "asus",
          "asus",
          "asus",
          "asus",
          "asus",
          "asus",
          "asus",
          "asus",
          "asus",
          "asus",
          "asus",
          "asus",
          "asus",
          "asus",
          "asus",
          "asus",
          "asus",
          "asus",
          "asus",
          "asus",
          "asus",
          "asus",
          "asus",
          "asus",
          "asus",
          "asus",
          "asus"
         ],
         "y0": " ",
         "yaxis": "y"
        },
        {
         "alignmentgroup": "True",
         "hovertemplate": "brand=%{y}<br>price=%{x}<extra></extra>",
         "legendgroup": "dell",
         "marker": {
          "color": "#B6E880"
         },
         "name": "dell",
         "notched": false,
         "offsetgroup": "dell",
         "orientation": "h",
         "showlegend": true,
         "type": "box",
         "x": {
          "bdata": "ZmZmZmY6ekCPwvUoXJOJQOxRuB6Fd45AFK5H4Xq4fUAK16NwPTWQQDMzMzMzK4tAj8L1KFy9gkDD9Shcj3qPQI/C9Shc24lAmpmZmZnTm0CuR+F6FHp8QOxRuB6Fu4hAKVyPwvUKjUBSuB6F62l9QPYoXI/CeYVAuB6F61Ecg0AK16NwPTyKQLgehetRkINAMzMzMzN9kEAAAAAAAImjQBSuR+F6iHtACtejcD1yhkBmZmZmZjp6QAAAAAAAfJxAXI/C9SitkEAfhetRuMSTQAAAAAAATINAAAAAAABchUD2KFyPwjuHQIXrUbgef4lASOF6FK4dhUA9CtejcFGFQAAAAAAAXIVAuB6F61Ecg0BSuB6F6zl9QOxRuB6Fu4hAZmZmZmakkkCkcD0K13uGQK5H4XoUGnxACtejcD0dkEBxPQrXo+ukQIXrUbgeMYFAexSuR+G+fEBSuB6F64ySQMP1KFyPunhAMzMzMzNlkEAUrkfhevyBQClcj8L1Co1AH4XrUbgOf0CamZmZmVuQQKRwPQrXq4ZArkfhehTye0DD9Shcj6qPQI/C9ShcIKhAAAAAAAD9kUAzMzMzM9OGQHsUrkfhSrVApHA9CtdxiUAUrkfheluuQPYoXI9CtaFAZmZmZuYgtUDNzMzMzBusQMP1KFyPjIhAhetRuB67i0DsUbgehXN9QKRwPQrXe4ZAH4XrUbhWf0AzMzMzM32QQIXrUbge9ZBA9ihcj8K5fkBSuB6F61+AQK5H4XoU/IRAFK5H4Xr8gUAAAAAAAN6NQMP1KFwPMKpAmpmZmRntokDD9Shcj6Z+QNejcD0KQaNASOF6FK7IkUD2KFyPwjuHQI/C9Shcm51AhetRuB4zn0B7FK5H4aSSQEjhehSu/Y1AzczMzMwcgEBI4XoUrqyQQDMzMzMz+4pAhetRuB67i0D2KFyPwjuHQClcj8L1+ZtA9ihcj8IdgEDhehSuR52hQJqZmZmZnJRArkfhehRcmEC4HoXrUYKOQOF6FK7HIKVApHA9Cte0pEDD9ShcTzOyQD0K16NwQ7FAFK5H4Xr8gUC4HoXrUXyDQK5H4XoU2nxAcT0K16PcgEA9CtejcPOEQHE9CtejaZZAMzMzMzN9kEA=",
          "dtype": "f8"
         },
         "x0": " ",
         "xaxis": "x",
         "y": [
          "dell",
          "dell",
          "dell",
          "dell",
          "dell",
          "dell",
          "dell",
          "dell",
          "dell",
          "dell",
          "dell",
          "dell",
          "dell",
          "dell",
          "dell",
          "dell",
          "dell",
          "dell",
          "dell",
          "dell",
          "dell",
          "dell",
          "dell",
          "dell",
          "dell",
          "dell",
          "dell",
          "dell",
          "dell",
          "dell",
          "dell",
          "dell",
          "dell",
          "dell",
          "dell",
          "dell",
          "dell",
          "dell",
          "dell",
          "dell",
          "dell",
          "dell",
          "dell",
          "dell",
          "dell",
          "dell",
          "dell",
          "dell",
          "dell",
          "dell",
          "dell",
          "dell",
          "dell",
          "dell",
          "dell",
          "dell",
          "dell",
          "dell",
          "dell",
          "dell",
          "dell",
          "dell",
          "dell",
          "dell",
          "dell",
          "dell",
          "dell",
          "dell",
          "dell",
          "dell",
          "dell",
          "dell",
          "dell",
          "dell",
          "dell",
          "dell",
          "dell",
          "dell",
          "dell",
          "dell",
          "dell",
          "dell",
          "dell",
          "dell",
          "dell",
          "dell",
          "dell",
          "dell",
          "dell",
          "dell",
          "dell",
          "dell",
          "dell",
          "dell",
          "dell",
          "dell",
          "dell",
          "dell",
          "dell",
          "dell",
          "dell",
          "dell",
          "dell",
          "dell",
          "dell",
          "dell"
         ],
         "y0": " ",
         "yaxis": "y"
        },
        {
         "alignmentgroup": "True",
         "hovertemplate": "brand=%{y}<br>price=%{x}<extra></extra>",
         "legendgroup": "samsung",
         "marker": {
          "color": "#FF97FF"
         },
         "name": "samsung",
         "notched": false,
         "offsetgroup": "samsung",
         "orientation": "h",
         "showlegend": true,
         "type": "box",
         "x": {
          "bdata": "mpmZmZlbiEBxPQrXo9yAQBSuR+F6/IFAj8L1KFw7ikDXo3A9CnuMQFyPwvUonIRAPQrXo3DslUA=",
          "dtype": "f8"
         },
         "x0": " ",
         "xaxis": "x",
         "y": [
          "samsung",
          "samsung",
          "samsung",
          "samsung",
          "samsung",
          "samsung",
          "samsung"
         ],
         "y0": " ",
         "yaxis": "y"
        },
        {
         "alignmentgroup": "True",
         "hovertemplate": "brand=%{y}<br>price=%{x}<extra></extra>",
         "legendgroup": "msi",
         "marker": {
          "color": "#FECB52"
         },
         "name": "msi",
         "notched": false,
         "offsetgroup": "msi",
         "orientation": "h",
         "showlegend": true,
         "type": "box",
         "x": {
          "bdata": "CtejcD3cg0CPwvUoXAeJQMP1KFyP8npAj8L1KFw7ikBcj8L1KJyEQNejcD0KG4xAZmZmZma8gkCamZmZmXl/QFyPwvUonIRA9ihcj8I7h0AK16NwPdyDQEjhehSum4dAUrgehev5fUBcj8L1KDyEQAAAAAAAXIVACtejcD26e0A9CtejcHuJQJqZmZmZi4hAH4XrUbh8gEAfhetRuNyTQMP1KFyPeo9ArkfhehTeiECF61G4Hr2iQFyPwvXoFLVAzczMzMz6jUC4HoXrUWuiQEjhehSum4dAAAAAAADNkUApXI/C9SySQPYoXI/CrJNAw/UoXI8bnEDD9ShcjxucQBSuR+F6jJVArkfhehT8hEBSuB6F6xuGQK5H4XoU/IRAhetRuB69okCPwvUoXHyWQM3MzMzMG6xAH4XrUbi6jkAK16NwPbp7QOF6FK5H4J1AXI/C9SjdkECF61G4HruLQBSuR+F6/IFAw/UoXI/8lEAAAAAAALyFQFyPwvUonIRA9ihcj8Ksk0DXo3A9ChuMQAAAAAAAzZFAuB6F61Ecg0AAAAAAAM2RQMP1KFyP2o9ApHA9CtfbhkC4HoXrUXyDQArXo3A93INArkfhehQ9kUAzMzMzM32QQMP1KFwPPKpAKVyPwvXajEAzMzMzM1uLQArXo3A9TZBAKVyPwnVsp0BI4XoUrvuHQClcj8L1LJJAH4XrUbi6jkCPwvUoXDuKQLgehetRdKhAzczMzMxuiEAzMzMzM1uLQI/C9SjcnKRAZmZmZuY8pEAUrkfheh2gQI/C9ShcO4pA9ihcj8I7h0AfhetRuHyAQBSuR+F6XIJAmpmZmZl5f0CuR+F6FHp8QMP1KFyPzIFArkfhehRtkUBxPQrXoxqPQD0K16NwYJBArkfhehT2gkCkcD0K19uGQFyPwvUoPIRA9ihcj8K5fkCPwvUoXHyWQK5H4XoUPZFA",
          "dtype": "f8"
         },
         "x0": " ",
         "xaxis": "x",
         "y": [
          "msi",
          "msi",
          "msi",
          "msi",
          "msi",
          "msi",
          "msi",
          "msi",
          "msi",
          "msi",
          "msi",
          "msi",
          "msi",
          "msi",
          "msi",
          "msi",
          "msi",
          "msi",
          "msi",
          "msi",
          "msi",
          "msi",
          "msi",
          "msi",
          "msi",
          "msi",
          "msi",
          "msi",
          "msi",
          "msi",
          "msi",
          "msi",
          "msi",
          "msi",
          "msi",
          "msi",
          "msi",
          "msi",
          "msi",
          "msi",
          "msi",
          "msi",
          "msi",
          "msi",
          "msi",
          "msi",
          "msi",
          "msi",
          "msi",
          "msi",
          "msi",
          "msi",
          "msi",
          "msi",
          "msi",
          "msi",
          "msi",
          "msi",
          "msi",
          "msi",
          "msi",
          "msi",
          "msi",
          "msi",
          "msi",
          "msi",
          "msi",
          "msi",
          "msi",
          "msi",
          "msi",
          "msi",
          "msi",
          "msi",
          "msi",
          "msi",
          "msi",
          "msi",
          "msi",
          "msi",
          "msi",
          "msi",
          "msi",
          "msi",
          "msi",
          "msi",
          "msi",
          "msi",
          "msi",
          "msi"
         ],
         "y0": " ",
         "yaxis": "y"
        },
        {
         "alignmentgroup": "True",
         "hovertemplate": "brand=%{y}<br>price=%{x}<extra></extra>",
         "legendgroup": "wings",
         "marker": {
          "color": "#636efa"
         },
         "name": "wings",
         "notched": false,
         "offsetgroup": "wings",
         "orientation": "h",
         "showlegend": true,
         "type": "box",
         "x": {
          "bdata": "MzMzMzP7dEBSuB6F6/l9QI/C9Shcu3JAMzMzMzM7dEA=",
          "dtype": "f8"
         },
         "x0": " ",
         "xaxis": "x",
         "y": [
          "wings",
          "wings",
          "wings",
          "wings"
         ],
         "y0": " ",
         "yaxis": "y"
        },
        {
         "alignmentgroup": "True",
         "hovertemplate": "brand=%{y}<br>price=%{x}<extra></extra>",
         "legendgroup": "ultimus",
         "marker": {
          "color": "#EF553B"
         },
         "name": "ultimus",
         "notched": false,
         "offsetgroup": "ultimus",
         "orientation": "h",
         "showlegend": true,
         "type": "box",
         "x": {
          "bdata": "AAAAAAD4bUBxPQrXo/hnQJqZmZmZ+WFAKVyPwvV4ZkBxPQrXo7hoQM3MzMzMLHFA",
          "dtype": "f8"
         },
         "x0": " ",
         "xaxis": "x",
         "y": [
          "ultimus",
          "ultimus",
          "ultimus",
          "ultimus",
          "ultimus",
          "ultimus"
         ],
         "y0": " ",
         "yaxis": "y"
        },
        {
         "alignmentgroup": "True",
         "hovertemplate": "brand=%{y}<br>price=%{x}<extra></extra>",
         "legendgroup": "primebook",
         "marker": {
          "color": "#00cc96"
         },
         "name": "primebook",
         "notched": false,
         "offsetgroup": "primebook",
         "orientation": "h",
         "showlegend": true,
         "type": "box",
         "x": {
          "bdata": "KVyPwvV4ZkDhehSuR3ljQA==",
          "dtype": "f8"
         },
         "x0": " ",
         "xaxis": "x",
         "y": [
          "primebook",
          "primebook"
         ],
         "y0": " ",
         "yaxis": "y"
        },
        {
         "alignmentgroup": "True",
         "hovertemplate": "brand=%{y}<br>price=%{x}<extra></extra>",
         "legendgroup": "iball",
         "marker": {
          "color": "#ab63fa"
         },
         "name": "iball",
         "notched": false,
         "offsetgroup": "iball",
         "orientation": "h",
         "showlegend": true,
         "type": "box",
         "x": {
          "bdata": "w/UoXI9iXUA=",
          "dtype": "f8"
         },
         "x0": " ",
         "xaxis": "x",
         "y": [
          "iball"
         ],
         "y0": " ",
         "yaxis": "y"
        },
        {
         "alignmentgroup": "True",
         "hovertemplate": "brand=%{y}<br>price=%{x}<extra></extra>",
         "legendgroup": "zebronics",
         "marker": {
          "color": "#FFA15A"
         },
         "name": "zebronics",
         "notched": false,
         "offsetgroup": "zebronics",
         "orientation": "h",
         "showlegend": true,
         "type": "box",
         "x": {
          "bdata": "w/UoXI96eUDD9Shcj7p4QArXo3A93INAexSuR+F6dkBSuB6F6/l9QMP1KFyPunhAuB6F61Ecg0A=",
          "dtype": "f8"
         },
         "x0": " ",
         "xaxis": "x",
         "y": [
          "zebronics",
          "zebronics",
          "zebronics",
          "zebronics",
          "zebronics",
          "zebronics",
          "zebronics"
         ],
         "y0": " ",
         "yaxis": "y"
        },
        {
         "alignmentgroup": "True",
         "hovertemplate": "brand=%{y}<br>price=%{x}<extra></extra>",
         "legendgroup": "chuwi",
         "marker": {
          "color": "#19d3f3"
         },
         "name": "chuwi",
         "notched": false,
         "offsetgroup": "chuwi",
         "orientation": "h",
         "showlegend": true,
         "type": "box",
         "x": {
          "bdata": "w/UoXI+6eECPwvUoXLtyQEjhehSue3BAZmZmZmY6ekA=",
          "dtype": "f8"
         },
         "x0": " ",
         "xaxis": "x",
         "y": [
          "chuwi",
          "chuwi",
          "chuwi",
          "chuwi"
         ],
         "y0": " ",
         "yaxis": "y"
        },
        {
         "alignmentgroup": "True",
         "hovertemplate": "brand=%{y}<br>price=%{x}<extra></extra>",
         "legendgroup": "gigabyte",
         "marker": {
          "color": "#FF6692"
         },
         "name": "gigabyte",
         "notched": false,
         "offsetgroup": "gigabyte",
         "orientation": "h",
         "showlegend": true,
         "type": "box",
         "x": {
          "bdata": "MzMzMzP7ikBcj8L1KN2QQA==",
          "dtype": "f8"
         },
         "x0": " ",
         "xaxis": "x",
         "y": [
          "gigabyte",
          "gigabyte"
         ],
         "y0": " ",
         "yaxis": "y"
        },
        {
         "alignmentgroup": "True",
         "hovertemplate": "brand=%{y}<br>price=%{x}<extra></extra>",
         "legendgroup": "jio",
         "marker": {
          "color": "#B6E880"
         },
         "name": "jio",
         "notched": false,
         "offsetgroup": "jio",
         "orientation": "h",
         "showlegend": true,
         "type": "box",
         "x": {
          "bdata": "UrgehesJZkA=",
          "dtype": "f8"
         },
         "x0": " ",
         "xaxis": "x",
         "y": [
          "jio"
         ],
         "y0": " ",
         "yaxis": "y"
        },
        {
         "alignmentgroup": "True",
         "hovertemplate": "brand=%{y}<br>price=%{x}<extra></extra>",
         "legendgroup": "honor",
         "marker": {
          "color": "#FF97FF"
         },
         "name": "honor",
         "notched": false,
         "offsetgroup": "honor",
         "orientation": "h",
         "showlegend": true,
         "type": "box",
         "x": {
          "bdata": "XI/C9SichEAfhetRuHyAQA==",
          "dtype": "f8"
         },
         "x0": " ",
         "xaxis": "x",
         "y": [
          "honor",
          "honor"
         ],
         "y0": " ",
         "yaxis": "y"
        },
        {
         "alignmentgroup": "True",
         "hovertemplate": "brand=%{y}<br>price=%{x}<extra></extra>",
         "legendgroup": "realme",
         "marker": {
          "color": "#FECB52"
         },
         "name": "realme",
         "notched": false,
         "offsetgroup": "realme",
         "orientation": "h",
         "showlegend": true,
         "type": "box",
         "x": {
          "bdata": "CtejcD26e0DNzMzMzByAQA==",
          "dtype": "f8"
         },
         "x0": " ",
         "xaxis": "x",
         "y": [
          "realme",
          "realme"
         ],
         "y0": " ",
         "yaxis": "y"
        },
        {
         "alignmentgroup": "True",
         "hovertemplate": "brand=%{y}<br>price=%{x}<extra></extra>",
         "legendgroup": "avita",
         "marker": {
          "color": "#636efa"
         },
         "name": "avita",
         "notched": false,
         "offsetgroup": "avita",
         "orientation": "h",
         "showlegend": true,
         "type": "box",
         "x": {
          "bdata": "cT0K16MIcEAfhetRuLJ4QK5H4XoUZnhAPQrXo3AdbUAzMzMzM3tvQA==",
          "dtype": "f8"
         },
         "x0": " ",
         "xaxis": "x",
         "y": [
          "avita",
          "avita",
          "avita",
          "avita",
          "avita"
         ],
         "y0": " ",
         "yaxis": "y"
        },
        {
         "alignmentgroup": "True",
         "hovertemplate": "brand=%{y}<br>price=%{x}<extra></extra>",
         "legendgroup": "microsoft",
         "marker": {
          "color": "#EF553B"
         },
         "name": "microsoft",
         "notched": false,
         "offsetgroup": "microsoft",
         "orientation": "h",
         "showlegend": true,
         "type": "box",
         "x": {
          "bdata": "zczMzMz6jUApXI/C9USSQA==",
          "dtype": "f8"
         },
         "x0": " ",
         "xaxis": "x",
         "y": [
          "microsoft",
          "microsoft"
         ],
         "y0": " ",
         "yaxis": "y"
        },
        {
         "alignmentgroup": "True",
         "hovertemplate": "brand=%{y}<br>price=%{x}<extra></extra>",
         "legendgroup": "fujitsu",
         "marker": {
          "color": "#00cc96"
         },
         "name": "fujitsu",
         "notched": false,
         "offsetgroup": "fujitsu",
         "orientation": "h",
         "showlegend": true,
         "type": "box",
         "x": {
          "bdata": "hetRuB67i0CF61G4HruLQJqZmZmZnJRAexSuR+G8kkBmZmZmZiyFQA==",
          "dtype": "f8"
         },
         "x0": " ",
         "xaxis": "x",
         "y": [
          "fujitsu",
          "fujitsu",
          "fujitsu",
          "fujitsu",
          "fujitsu"
         ],
         "y0": " ",
         "yaxis": "y"
        },
        {
         "alignmentgroup": "True",
         "hovertemplate": "brand=%{y}<br>price=%{x}<extra></extra>",
         "legendgroup": "lg",
         "marker": {
          "color": "#ab63fa"
         },
         "name": "lg",
         "notched": false,
         "offsetgroup": "lg",
         "orientation": "h",
         "showlegend": true,
         "type": "box",
         "x": {
          "bdata": "uB6F61GNkkDD9Shcj1iNQFK4HoXrk5xA16NwPQoYlkApXI/C9dOQQClcj8L1S5xAzczMzMw0lkA=",
          "dtype": "f8"
         },
         "x0": " ",
         "xaxis": "x",
         "y": [
          "lg",
          "lg",
          "lg",
          "lg",
          "lg",
          "lg",
          "lg"
         ],
         "y0": " ",
         "yaxis": "y"
        },
        {
         "alignmentgroup": "True",
         "hovertemplate": "brand=%{y}<br>price=%{x}<extra></extra>",
         "legendgroup": "walker",
         "marker": {
          "color": "#FFA15A"
         },
         "name": "walker",
         "notched": false,
         "offsetgroup": "walker",
         "orientation": "h",
         "showlegend": true,
         "type": "box",
         "x": {
          "bdata": "cT0K16P4Z0A=",
          "dtype": "f8"
         },
         "x0": " ",
         "xaxis": "x",
         "y": [
          "walker"
         ],
         "y0": " ",
         "yaxis": "y"
        },
        {
         "alignmentgroup": "True",
         "hovertemplate": "brand=%{y}<br>price=%{x}<extra></extra>",
         "legendgroup": "axl",
         "marker": {
          "color": "#19d3f3"
         },
         "name": "axl",
         "notched": false,
         "offsetgroup": "axl",
         "orientation": "h",
         "showlegend": true,
         "type": "box",
         "x": {
          "bdata": "uB6F61H4akApXI/C9XhmQA==",
          "dtype": "f8"
         },
         "x0": " ",
         "xaxis": "x",
         "y": [
          "axl",
          "axl"
         ],
         "y0": " ",
         "yaxis": "y"
        }
       ],
       "layout": {
        "boxmode": "overlay",
        "legend": {
         "title": {
          "text": "brand"
         },
         "tracegroupgap": 0
        },
        "margin": {
         "t": 60
        },
        "template": {
         "data": {
          "bar": [
           {
            "error_x": {
             "color": "#2a3f5f"
            },
            "error_y": {
             "color": "#2a3f5f"
            },
            "marker": {
             "line": {
              "color": "#E5ECF6",
              "width": 0.5
             },
             "pattern": {
              "fillmode": "overlay",
              "size": 10,
              "solidity": 0.2
             }
            },
            "type": "bar"
           }
          ],
          "barpolar": [
           {
            "marker": {
             "line": {
              "color": "#E5ECF6",
              "width": 0.5
             },
             "pattern": {
              "fillmode": "overlay",
              "size": 10,
              "solidity": 0.2
             }
            },
            "type": "barpolar"
           }
          ],
          "carpet": [
           {
            "aaxis": {
             "endlinecolor": "#2a3f5f",
             "gridcolor": "white",
             "linecolor": "white",
             "minorgridcolor": "white",
             "startlinecolor": "#2a3f5f"
            },
            "baxis": {
             "endlinecolor": "#2a3f5f",
             "gridcolor": "white",
             "linecolor": "white",
             "minorgridcolor": "white",
             "startlinecolor": "#2a3f5f"
            },
            "type": "carpet"
           }
          ],
          "choropleth": [
           {
            "colorbar": {
             "outlinewidth": 0,
             "ticks": ""
            },
            "type": "choropleth"
           }
          ],
          "contour": [
           {
            "colorbar": {
             "outlinewidth": 0,
             "ticks": ""
            },
            "colorscale": [
             [
              0,
              "#0d0887"
             ],
             [
              0.1111111111111111,
              "#46039f"
             ],
             [
              0.2222222222222222,
              "#7201a8"
             ],
             [
              0.3333333333333333,
              "#9c179e"
             ],
             [
              0.4444444444444444,
              "#bd3786"
             ],
             [
              0.5555555555555556,
              "#d8576b"
             ],
             [
              0.6666666666666666,
              "#ed7953"
             ],
             [
              0.7777777777777778,
              "#fb9f3a"
             ],
             [
              0.8888888888888888,
              "#fdca26"
             ],
             [
              1,
              "#f0f921"
             ]
            ],
            "type": "contour"
           }
          ],
          "contourcarpet": [
           {
            "colorbar": {
             "outlinewidth": 0,
             "ticks": ""
            },
            "type": "contourcarpet"
           }
          ],
          "heatmap": [
           {
            "colorbar": {
             "outlinewidth": 0,
             "ticks": ""
            },
            "colorscale": [
             [
              0,
              "#0d0887"
             ],
             [
              0.1111111111111111,
              "#46039f"
             ],
             [
              0.2222222222222222,
              "#7201a8"
             ],
             [
              0.3333333333333333,
              "#9c179e"
             ],
             [
              0.4444444444444444,
              "#bd3786"
             ],
             [
              0.5555555555555556,
              "#d8576b"
             ],
             [
              0.6666666666666666,
              "#ed7953"
             ],
             [
              0.7777777777777778,
              "#fb9f3a"
             ],
             [
              0.8888888888888888,
              "#fdca26"
             ],
             [
              1,
              "#f0f921"
             ]
            ],
            "type": "heatmap"
           }
          ],
          "histogram": [
           {
            "marker": {
             "pattern": {
              "fillmode": "overlay",
              "size": 10,
              "solidity": 0.2
             }
            },
            "type": "histogram"
           }
          ],
          "histogram2d": [
           {
            "colorbar": {
             "outlinewidth": 0,
             "ticks": ""
            },
            "colorscale": [
             [
              0,
              "#0d0887"
             ],
             [
              0.1111111111111111,
              "#46039f"
             ],
             [
              0.2222222222222222,
              "#7201a8"
             ],
             [
              0.3333333333333333,
              "#9c179e"
             ],
             [
              0.4444444444444444,
              "#bd3786"
             ],
             [
              0.5555555555555556,
              "#d8576b"
             ],
             [
              0.6666666666666666,
              "#ed7953"
             ],
             [
              0.7777777777777778,
              "#fb9f3a"
             ],
             [
              0.8888888888888888,
              "#fdca26"
             ],
             [
              1,
              "#f0f921"
             ]
            ],
            "type": "histogram2d"
           }
          ],
          "histogram2dcontour": [
           {
            "colorbar": {
             "outlinewidth": 0,
             "ticks": ""
            },
            "colorscale": [
             [
              0,
              "#0d0887"
             ],
             [
              0.1111111111111111,
              "#46039f"
             ],
             [
              0.2222222222222222,
              "#7201a8"
             ],
             [
              0.3333333333333333,
              "#9c179e"
             ],
             [
              0.4444444444444444,
              "#bd3786"
             ],
             [
              0.5555555555555556,
              "#d8576b"
             ],
             [
              0.6666666666666666,
              "#ed7953"
             ],
             [
              0.7777777777777778,
              "#fb9f3a"
             ],
             [
              0.8888888888888888,
              "#fdca26"
             ],
             [
              1,
              "#f0f921"
             ]
            ],
            "type": "histogram2dcontour"
           }
          ],
          "mesh3d": [
           {
            "colorbar": {
             "outlinewidth": 0,
             "ticks": ""
            },
            "type": "mesh3d"
           }
          ],
          "parcoords": [
           {
            "line": {
             "colorbar": {
              "outlinewidth": 0,
              "ticks": ""
             }
            },
            "type": "parcoords"
           }
          ],
          "pie": [
           {
            "automargin": true,
            "type": "pie"
           }
          ],
          "scatter": [
           {
            "fillpattern": {
             "fillmode": "overlay",
             "size": 10,
             "solidity": 0.2
            },
            "type": "scatter"
           }
          ],
          "scatter3d": [
           {
            "line": {
             "colorbar": {
              "outlinewidth": 0,
              "ticks": ""
             }
            },
            "marker": {
             "colorbar": {
              "outlinewidth": 0,
              "ticks": ""
             }
            },
            "type": "scatter3d"
           }
          ],
          "scattercarpet": [
           {
            "marker": {
             "colorbar": {
              "outlinewidth": 0,
              "ticks": ""
             }
            },
            "type": "scattercarpet"
           }
          ],
          "scattergeo": [
           {
            "marker": {
             "colorbar": {
              "outlinewidth": 0,
              "ticks": ""
             }
            },
            "type": "scattergeo"
           }
          ],
          "scattergl": [
           {
            "marker": {
             "colorbar": {
              "outlinewidth": 0,
              "ticks": ""
             }
            },
            "type": "scattergl"
           }
          ],
          "scattermap": [
           {
            "marker": {
             "colorbar": {
              "outlinewidth": 0,
              "ticks": ""
             }
            },
            "type": "scattermap"
           }
          ],
          "scattermapbox": [
           {
            "marker": {
             "colorbar": {
              "outlinewidth": 0,
              "ticks": ""
             }
            },
            "type": "scattermapbox"
           }
          ],
          "scatterpolar": [
           {
            "marker": {
             "colorbar": {
              "outlinewidth": 0,
              "ticks": ""
             }
            },
            "type": "scatterpolar"
           }
          ],
          "scatterpolargl": [
           {
            "marker": {
             "colorbar": {
              "outlinewidth": 0,
              "ticks": ""
             }
            },
            "type": "scatterpolargl"
           }
          ],
          "scatterternary": [
           {
            "marker": {
             "colorbar": {
              "outlinewidth": 0,
              "ticks": ""
             }
            },
            "type": "scatterternary"
           }
          ],
          "surface": [
           {
            "colorbar": {
             "outlinewidth": 0,
             "ticks": ""
            },
            "colorscale": [
             [
              0,
              "#0d0887"
             ],
             [
              0.1111111111111111,
              "#46039f"
             ],
             [
              0.2222222222222222,
              "#7201a8"
             ],
             [
              0.3333333333333333,
              "#9c179e"
             ],
             [
              0.4444444444444444,
              "#bd3786"
             ],
             [
              0.5555555555555556,
              "#d8576b"
             ],
             [
              0.6666666666666666,
              "#ed7953"
             ],
             [
              0.7777777777777778,
              "#fb9f3a"
             ],
             [
              0.8888888888888888,
              "#fdca26"
             ],
             [
              1,
              "#f0f921"
             ]
            ],
            "type": "surface"
           }
          ],
          "table": [
           {
            "cells": {
             "fill": {
              "color": "#EBF0F8"
             },
             "line": {
              "color": "white"
             }
            },
            "header": {
             "fill": {
              "color": "#C8D4E3"
             },
             "line": {
              "color": "white"
             }
            },
            "type": "table"
           }
          ]
         },
         "layout": {
          "annotationdefaults": {
           "arrowcolor": "#2a3f5f",
           "arrowhead": 0,
           "arrowwidth": 1
          },
          "autotypenumbers": "strict",
          "coloraxis": {
           "colorbar": {
            "outlinewidth": 0,
            "ticks": ""
           }
          },
          "colorscale": {
           "diverging": [
            [
             0,
             "#8e0152"
            ],
            [
             0.1,
             "#c51b7d"
            ],
            [
             0.2,
             "#de77ae"
            ],
            [
             0.3,
             "#f1b6da"
            ],
            [
             0.4,
             "#fde0ef"
            ],
            [
             0.5,
             "#f7f7f7"
            ],
            [
             0.6,
             "#e6f5d0"
            ],
            [
             0.7,
             "#b8e186"
            ],
            [
             0.8,
             "#7fbc41"
            ],
            [
             0.9,
             "#4d9221"
            ],
            [
             1,
             "#276419"
            ]
           ],
           "sequential": [
            [
             0,
             "#0d0887"
            ],
            [
             0.1111111111111111,
             "#46039f"
            ],
            [
             0.2222222222222222,
             "#7201a8"
            ],
            [
             0.3333333333333333,
             "#9c179e"
            ],
            [
             0.4444444444444444,
             "#bd3786"
            ],
            [
             0.5555555555555556,
             "#d8576b"
            ],
            [
             0.6666666666666666,
             "#ed7953"
            ],
            [
             0.7777777777777778,
             "#fb9f3a"
            ],
            [
             0.8888888888888888,
             "#fdca26"
            ],
            [
             1,
             "#f0f921"
            ]
           ],
           "sequentialminus": [
            [
             0,
             "#0d0887"
            ],
            [
             0.1111111111111111,
             "#46039f"
            ],
            [
             0.2222222222222222,
             "#7201a8"
            ],
            [
             0.3333333333333333,
             "#9c179e"
            ],
            [
             0.4444444444444444,
             "#bd3786"
            ],
            [
             0.5555555555555556,
             "#d8576b"
            ],
            [
             0.6666666666666666,
             "#ed7953"
            ],
            [
             0.7777777777777778,
             "#fb9f3a"
            ],
            [
             0.8888888888888888,
             "#fdca26"
            ],
            [
             1,
             "#f0f921"
            ]
           ]
          },
          "colorway": [
           "#636efa",
           "#EF553B",
           "#00cc96",
           "#ab63fa",
           "#FFA15A",
           "#19d3f3",
           "#FF6692",
           "#B6E880",
           "#FF97FF",
           "#FECB52"
          ],
          "font": {
           "color": "#2a3f5f"
          },
          "geo": {
           "bgcolor": "white",
           "lakecolor": "white",
           "landcolor": "#E5ECF6",
           "showlakes": true,
           "showland": true,
           "subunitcolor": "white"
          },
          "hoverlabel": {
           "align": "left"
          },
          "hovermode": "closest",
          "mapbox": {
           "style": "light"
          },
          "paper_bgcolor": "white",
          "plot_bgcolor": "#E5ECF6",
          "polar": {
           "angularaxis": {
            "gridcolor": "white",
            "linecolor": "white",
            "ticks": ""
           },
           "bgcolor": "#E5ECF6",
           "radialaxis": {
            "gridcolor": "white",
            "linecolor": "white",
            "ticks": ""
           }
          },
          "scene": {
           "xaxis": {
            "backgroundcolor": "#E5ECF6",
            "gridcolor": "white",
            "gridwidth": 2,
            "linecolor": "white",
            "showbackground": true,
            "ticks": "",
            "zerolinecolor": "white"
           },
           "yaxis": {
            "backgroundcolor": "#E5ECF6",
            "gridcolor": "white",
            "gridwidth": 2,
            "linecolor": "white",
            "showbackground": true,
            "ticks": "",
            "zerolinecolor": "white"
           },
           "zaxis": {
            "backgroundcolor": "#E5ECF6",
            "gridcolor": "white",
            "gridwidth": 2,
            "linecolor": "white",
            "showbackground": true,
            "ticks": "",
            "zerolinecolor": "white"
           }
          },
          "shapedefaults": {
           "line": {
            "color": "#2a3f5f"
           }
          },
          "ternary": {
           "aaxis": {
            "gridcolor": "white",
            "linecolor": "white",
            "ticks": ""
           },
           "baxis": {
            "gridcolor": "white",
            "linecolor": "white",
            "ticks": ""
           },
           "bgcolor": "#E5ECF6",
           "caxis": {
            "gridcolor": "white",
            "linecolor": "white",
            "ticks": ""
           }
          },
          "title": {
           "x": 0.05
          },
          "xaxis": {
           "automargin": true,
           "gridcolor": "white",
           "linecolor": "white",
           "ticks": "",
           "title": {
            "standoff": 15
           },
           "zerolinecolor": "white",
           "zerolinewidth": 2
          },
          "yaxis": {
           "automargin": true,
           "gridcolor": "white",
           "linecolor": "white",
           "ticks": "",
           "title": {
            "standoff": 15
           },
           "zerolinecolor": "white",
           "zerolinewidth": 2
          }
         }
        },
        "xaxis": {
         "anchor": "y",
         "domain": [
          0,
          1
         ],
         "title": {
          "text": "price"
         }
        },
        "yaxis": {
         "anchor": "x",
         "categoryarray": [
          "axl",
          "walker",
          "lg",
          "fujitsu",
          "microsoft",
          "avita",
          "realme",
          "honor",
          "jio",
          "gigabyte",
          "chuwi",
          "zebronics",
          "iball",
          "primebook",
          "ultimus",
          "wings",
          "msi",
          "samsung",
          "dell",
          "asus",
          "infinix",
          "apple",
          "lenovo",
          "acer",
          "hp",
          "tecno"
         ],
         "categoryorder": "array",
         "domain": [
          0,
          1
         ],
         "title": {
          "text": "brand"
         }
        }
       }
      }
     },
     "metadata": {},
     "output_type": "display_data"
    }
   ],
   "source": [
    "# Plot de distribuição por Brand e Price\n",
    "px.box(df_laptops, x='price', y='brand', color='brand', orientation='h')"
   ]
  },
  {
   "cell_type": "code",
   "execution_count": 15,
   "id": "db705b1e",
   "metadata": {},
   "outputs": [
    {
     "data": {
      "application/vnd.plotly.v1+json": {
       "config": {
        "plotlyServerURL": "https://plot.ly"
       },
       "data": [
        {
         "alignmentgroup": "True",
         "hovertemplate": "brand=%{y}<br>rating=%{x}<extra></extra>",
         "legendgroup": "tecno",
         "marker": {
          "color": "#636efa"
         },
         "name": "tecno",
         "notched": false,
         "offsetgroup": "tecno",
         "orientation": "h",
         "showlegend": true,
         "type": "box",
         "x": {
          "bdata": "P0M=",
          "dtype": "i1"
         },
         "x0": " ",
         "xaxis": "x",
         "y": [
          "tecno",
          "tecno"
         ],
         "y0": " ",
         "yaxis": "y"
        },
        {
         "alignmentgroup": "True",
         "hovertemplate": "brand=%{y}<br>rating=%{x}<extra></extra>",
         "legendgroup": "hp",
         "marker": {
          "color": "#EF553B"
         },
         "name": "hp",
         "notched": false,
         "offsetgroup": "hp",
         "orientation": "h",
         "showlegend": true,
         "type": "box",
         "x": {
          "bdata": "STxVRzFNQj5HR1BHTEY/UEhBRkZGNkhGQzk+Pjo2NDw8UkxAOkw7Q0IxOEw/TD9LVUY/QkFBOzlFNkNERUNJPkdAJ0c2Oj40QDhAMzo+NEZORTlNTEg8WD5GVVhPTjkvRkBLQ0Y5OzM6Pk4/M0ZHSEdWS0NDSEZDPE1JTSw4OSxFRS5DUCY0SUJCQkZCSDk8R0VHRTo1PEY6Pj9IQkcxMkM/QUMvQjJAQkdBOTs6OUtCOTY2MzM2QzhDRzxLQzhNS0BPSDo7NCslOy9JJQ==",
          "dtype": "i1"
         },
         "x0": " ",
         "xaxis": "x",
         "y": [
          "hp",
          "hp",
          "hp",
          "hp",
          "hp",
          "hp",
          "hp",
          "hp",
          "hp",
          "hp",
          "hp",
          "hp",
          "hp",
          "hp",
          "hp",
          "hp",
          "hp",
          "hp",
          "hp",
          "hp",
          "hp",
          "hp",
          "hp",
          "hp",
          "hp",
          "hp",
          "hp",
          "hp",
          "hp",
          "hp",
          "hp",
          "hp",
          "hp",
          "hp",
          "hp",
          "hp",
          "hp",
          "hp",
          "hp",
          "hp",
          "hp",
          "hp",
          "hp",
          "hp",
          "hp",
          "hp",
          "hp",
          "hp",
          "hp",
          "hp",
          "hp",
          "hp",
          "hp",
          "hp",
          "hp",
          "hp",
          "hp",
          "hp",
          "hp",
          "hp",
          "hp",
          "hp",
          "hp",
          "hp",
          "hp",
          "hp",
          "hp",
          "hp",
          "hp",
          "hp",
          "hp",
          "hp",
          "hp",
          "hp",
          "hp",
          "hp",
          "hp",
          "hp",
          "hp",
          "hp",
          "hp",
          "hp",
          "hp",
          "hp",
          "hp",
          "hp",
          "hp",
          "hp",
          "hp",
          "hp",
          "hp",
          "hp",
          "hp",
          "hp",
          "hp",
          "hp",
          "hp",
          "hp",
          "hp",
          "hp",
          "hp",
          "hp",
          "hp",
          "hp",
          "hp",
          "hp",
          "hp",
          "hp",
          "hp",
          "hp",
          "hp",
          "hp",
          "hp",
          "hp",
          "hp",
          "hp",
          "hp",
          "hp",
          "hp",
          "hp",
          "hp",
          "hp",
          "hp",
          "hp",
          "hp",
          "hp",
          "hp",
          "hp",
          "hp",
          "hp",
          "hp",
          "hp",
          "hp",
          "hp",
          "hp",
          "hp",
          "hp",
          "hp",
          "hp",
          "hp",
          "hp",
          "hp",
          "hp",
          "hp",
          "hp",
          "hp",
          "hp",
          "hp",
          "hp",
          "hp",
          "hp",
          "hp",
          "hp",
          "hp",
          "hp",
          "hp",
          "hp",
          "hp",
          "hp",
          "hp",
          "hp",
          "hp",
          "hp",
          "hp",
          "hp",
          "hp",
          "hp",
          "hp",
          "hp",
          "hp",
          "hp",
          "hp",
          "hp",
          "hp",
          "hp",
          "hp",
          "hp",
          "hp",
          "hp",
          "hp",
          "hp",
          "hp",
          "hp",
          "hp",
          "hp",
          "hp",
          "hp",
          "hp",
          "hp",
          "hp",
          "hp",
          "hp",
          "hp",
          "hp",
          "hp",
          "hp",
          "hp",
          "hp",
          "hp",
          "hp",
          "hp",
          "hp",
          "hp",
          "hp",
          "hp"
         ],
         "y0": " ",
         "yaxis": "y"
        },
        {
         "alignmentgroup": "True",
         "hovertemplate": "brand=%{y}<br>rating=%{x}<extra></extra>",
         "legendgroup": "acer",
         "marker": {
          "color": "#00cc96"
         },
         "name": "acer",
         "notched": false,
         "offsetgroup": "acer",
         "orientation": "h",
         "showlegend": true,
         "type": "box",
         "x": {
          "bdata": "Pj9APDpHPD5IQ0tGMUA2QE45O0ZDSzFDL0BAQD4/Pzg+JkE+Q0EmOj4ySEY/PC1PQTpQO0BGOzI5MjxFODUzMjs0MkY+TjovQUJAQUlKSDsyLEdNNEc2R0M=",
          "dtype": "i1"
         },
         "x0": " ",
         "xaxis": "x",
         "y": [
          "acer",
          "acer",
          "acer",
          "acer",
          "acer",
          "acer",
          "acer",
          "acer",
          "acer",
          "acer",
          "acer",
          "acer",
          "acer",
          "acer",
          "acer",
          "acer",
          "acer",
          "acer",
          "acer",
          "acer",
          "acer",
          "acer",
          "acer",
          "acer",
          "acer",
          "acer",
          "acer",
          "acer",
          "acer",
          "acer",
          "acer",
          "acer",
          "acer",
          "acer",
          "acer",
          "acer",
          "acer",
          "acer",
          "acer",
          "acer",
          "acer",
          "acer",
          "acer",
          "acer",
          "acer",
          "acer",
          "acer",
          "acer",
          "acer",
          "acer",
          "acer",
          "acer",
          "acer",
          "acer",
          "acer",
          "acer",
          "acer",
          "acer",
          "acer",
          "acer",
          "acer",
          "acer",
          "acer",
          "acer",
          "acer",
          "acer",
          "acer",
          "acer",
          "acer",
          "acer",
          "acer",
          "acer",
          "acer",
          "acer",
          "acer",
          "acer",
          "acer",
          "acer",
          "acer",
          "acer",
          "acer",
          "acer",
          "acer",
          "acer",
          "acer",
          "acer",
          "acer",
          "acer",
          "acer"
         ],
         "y0": " ",
         "yaxis": "y"
        },
        {
         "alignmentgroup": "True",
         "hovertemplate": "brand=%{y}<br>rating=%{x}<extra></extra>",
         "legendgroup": "lenovo",
         "marker": {
          "color": "#ab63fa"
         },
         "name": "lenovo",
         "notched": false,
         "offsetgroup": "lenovo",
         "orientation": "h",
         "showlegend": true,
         "type": "box",
         "x": {
          "bdata": "PkI7O0dFM0IvRj87UEZCQEM8QE1TPDJAPkU/QzU1NU5KMUA5Oj4yOj5COTw/M0BDQktBOVZGRTY1OThFQ0s/Ojk/QUVAODpUVU46TTlBOTlDOjw+My4zP0ArRTo7QUc/WVNPQ0I4QVNFNDo8Pjo6NT86O0U6PDhBQDw8PD5BQD48O0A6PEhHSUlLST9FSDlFJj5BOzJGPjpFQENCQ0BDO0Y5Pj45P0s+OTk7NkA1Njg7OUJAMkM6Q0dOLystOjg4PEI3NEs2MjBA",
          "dtype": "i1"
         },
         "x0": " ",
         "xaxis": "x",
         "y": [
          "lenovo",
          "lenovo",
          "lenovo",
          "lenovo",
          "lenovo",
          "lenovo",
          "lenovo",
          "lenovo",
          "lenovo",
          "lenovo",
          "lenovo",
          "lenovo",
          "lenovo",
          "lenovo",
          "lenovo",
          "lenovo",
          "lenovo",
          "lenovo",
          "lenovo",
          "lenovo",
          "lenovo",
          "lenovo",
          "lenovo",
          "lenovo",
          "lenovo",
          "lenovo",
          "lenovo",
          "lenovo",
          "lenovo",
          "lenovo",
          "lenovo",
          "lenovo",
          "lenovo",
          "lenovo",
          "lenovo",
          "lenovo",
          "lenovo",
          "lenovo",
          "lenovo",
          "lenovo",
          "lenovo",
          "lenovo",
          "lenovo",
          "lenovo",
          "lenovo",
          "lenovo",
          "lenovo",
          "lenovo",
          "lenovo",
          "lenovo",
          "lenovo",
          "lenovo",
          "lenovo",
          "lenovo",
          "lenovo",
          "lenovo",
          "lenovo",
          "lenovo",
          "lenovo",
          "lenovo",
          "lenovo",
          "lenovo",
          "lenovo",
          "lenovo",
          "lenovo",
          "lenovo",
          "lenovo",
          "lenovo",
          "lenovo",
          "lenovo",
          "lenovo",
          "lenovo",
          "lenovo",
          "lenovo",
          "lenovo",
          "lenovo",
          "lenovo",
          "lenovo",
          "lenovo",
          "lenovo",
          "lenovo",
          "lenovo",
          "lenovo",
          "lenovo",
          "lenovo",
          "lenovo",
          "lenovo",
          "lenovo",
          "lenovo",
          "lenovo",
          "lenovo",
          "lenovo",
          "lenovo",
          "lenovo",
          "lenovo",
          "lenovo",
          "lenovo",
          "lenovo",
          "lenovo",
          "lenovo",
          "lenovo",
          "lenovo",
          "lenovo",
          "lenovo",
          "lenovo",
          "lenovo",
          "lenovo",
          "lenovo",
          "lenovo",
          "lenovo",
          "lenovo",
          "lenovo",
          "lenovo",
          "lenovo",
          "lenovo",
          "lenovo",
          "lenovo",
          "lenovo",
          "lenovo",
          "lenovo",
          "lenovo",
          "lenovo",
          "lenovo",
          "lenovo",
          "lenovo",
          "lenovo",
          "lenovo",
          "lenovo",
          "lenovo",
          "lenovo",
          "lenovo",
          "lenovo",
          "lenovo",
          "lenovo",
          "lenovo",
          "lenovo",
          "lenovo",
          "lenovo",
          "lenovo",
          "lenovo",
          "lenovo",
          "lenovo",
          "lenovo",
          "lenovo",
          "lenovo",
          "lenovo",
          "lenovo",
          "lenovo",
          "lenovo",
          "lenovo",
          "lenovo",
          "lenovo",
          "lenovo",
          "lenovo",
          "lenovo",
          "lenovo",
          "lenovo",
          "lenovo",
          "lenovo",
          "lenovo",
          "lenovo",
          "lenovo",
          "lenovo",
          "lenovo",
          "lenovo",
          "lenovo",
          "lenovo",
          "lenovo",
          "lenovo",
          "lenovo",
          "lenovo",
          "lenovo",
          "lenovo",
          "lenovo",
          "lenovo",
          "lenovo",
          "lenovo",
          "lenovo",
          "lenovo",
          "lenovo",
          "lenovo",
          "lenovo",
          "lenovo",
          "lenovo",
          "lenovo",
          "lenovo",
          "lenovo",
          "lenovo",
          "lenovo",
          "lenovo",
          "lenovo",
          "lenovo",
          "lenovo",
          "lenovo",
          "lenovo",
          "lenovo",
          "lenovo",
          "lenovo",
          "lenovo",
          "lenovo",
          "lenovo"
         ],
         "y0": " ",
         "yaxis": "y"
        },
        {
         "alignmentgroup": "True",
         "hovertemplate": "brand=%{y}<br>rating=%{x}<extra></extra>",
         "legendgroup": "apple",
         "marker": {
          "color": "#FFA15A"
         },
         "name": "apple",
         "notched": false,
         "offsetgroup": "apple",
         "orientation": "h",
         "showlegend": true,
         "type": "box",
         "x": {
          "bdata": "LUEwNSs/QDo4OC0tNToz",
          "dtype": "i1"
         },
         "x0": " ",
         "xaxis": "x",
         "y": [
          "apple",
          "apple",
          "apple",
          "apple",
          "apple",
          "apple",
          "apple",
          "apple",
          "apple",
          "apple",
          "apple",
          "apple",
          "apple",
          "apple",
          "apple"
         ],
         "y0": " ",
         "yaxis": "y"
        },
        {
         "alignmentgroup": "True",
         "hovertemplate": "brand=%{y}<br>rating=%{x}<extra></extra>",
         "legendgroup": "infinix",
         "marker": {
          "color": "#19d3f3"
         },
         "name": "infinix",
         "notched": false,
         "offsetgroup": "infinix",
         "orientation": "h",
         "showlegend": true,
         "type": "box",
         "x": {
          "bdata": "OEc2MjU8Pzg5OTQ5Og==",
          "dtype": "i1"
         },
         "x0": " ",
         "xaxis": "x",
         "y": [
          "infinix",
          "infinix",
          "infinix",
          "infinix",
          "infinix",
          "infinix",
          "infinix",
          "infinix",
          "infinix",
          "infinix",
          "infinix",
          "infinix",
          "infinix"
         ],
         "y0": " ",
         "yaxis": "y"
        },
        {
         "alignmentgroup": "True",
         "hovertemplate": "brand=%{y}<br>rating=%{x}<extra></extra>",
         "legendgroup": "asus",
         "marker": {
          "color": "#FF6692"
         },
         "name": "asus",
         "notched": false,
         "offsetgroup": "asus",
         "orientation": "h",
         "showlegend": true,
         "type": "box",
         "x": {
          "bdata": "RkdMOTlBSE1TS0NATkg+QDk/R0ZGQktISEBYTzxBOEY+R0UjR0FMTUxGQjw7QDpQTU9OQENARkFHO0E8QTJJVSUsQzpBRS0/RiZCMyZJOj5GRytDOzxAP0lASCUpJTklSEFCRjk+OEU/TDs5SEJINkAtOUhLRlJIR0E8S0A8SFNHO0VAQjUtOj9ANkdJWVRLU0lNWUxQQ0lSQkhLQkxCRlRHOC04Tjw7SUlGSztANDA7Pzg+PDk4R0BARj48NTozSj5DO0NZOjs1SFNEREFARDtE",
          "dtype": "i1"
         },
         "x0": " ",
         "xaxis": "x",
         "y": [
          "asus",
          "asus",
          "asus",
          "asus",
          "asus",
          "asus",
          "asus",
          "asus",
          "asus",
          "asus",
          "asus",
          "asus",
          "asus",
          "asus",
          "asus",
          "asus",
          "asus",
          "asus",
          "asus",
          "asus",
          "asus",
          "asus",
          "asus",
          "asus",
          "asus",
          "asus",
          "asus",
          "asus",
          "asus",
          "asus",
          "asus",
          "asus",
          "asus",
          "asus",
          "asus",
          "asus",
          "asus",
          "asus",
          "asus",
          "asus",
          "asus",
          "asus",
          "asus",
          "asus",
          "asus",
          "asus",
          "asus",
          "asus",
          "asus",
          "asus",
          "asus",
          "asus",
          "asus",
          "asus",
          "asus",
          "asus",
          "asus",
          "asus",
          "asus",
          "asus",
          "asus",
          "asus",
          "asus",
          "asus",
          "asus",
          "asus",
          "asus",
          "asus",
          "asus",
          "asus",
          "asus",
          "asus",
          "asus",
          "asus",
          "asus",
          "asus",
          "asus",
          "asus",
          "asus",
          "asus",
          "asus",
          "asus",
          "asus",
          "asus",
          "asus",
          "asus",
          "asus",
          "asus",
          "asus",
          "asus",
          "asus",
          "asus",
          "asus",
          "asus",
          "asus",
          "asus",
          "asus",
          "asus",
          "asus",
          "asus",
          "asus",
          "asus",
          "asus",
          "asus",
          "asus",
          "asus",
          "asus",
          "asus",
          "asus",
          "asus",
          "asus",
          "asus",
          "asus",
          "asus",
          "asus",
          "asus",
          "asus",
          "asus",
          "asus",
          "asus",
          "asus",
          "asus",
          "asus",
          "asus",
          "asus",
          "asus",
          "asus",
          "asus",
          "asus",
          "asus",
          "asus",
          "asus",
          "asus",
          "asus",
          "asus",
          "asus",
          "asus",
          "asus",
          "asus",
          "asus",
          "asus",
          "asus",
          "asus",
          "asus",
          "asus",
          "asus",
          "asus",
          "asus",
          "asus",
          "asus",
          "asus",
          "asus",
          "asus",
          "asus",
          "asus",
          "asus",
          "asus",
          "asus",
          "asus",
          "asus",
          "asus",
          "asus",
          "asus",
          "asus",
          "asus",
          "asus",
          "asus",
          "asus",
          "asus",
          "asus",
          "asus",
          "asus",
          "asus",
          "asus",
          "asus",
          "asus",
          "asus",
          "asus",
          "asus",
          "asus",
          "asus",
          "asus",
          "asus",
          "asus",
          "asus",
          "asus",
          "asus",
          "asus",
          "asus",
          "asus",
          "asus",
          "asus",
          "asus",
          "asus",
          "asus",
          "asus",
          "asus",
          "asus",
          "asus",
          "asus",
          "asus",
          "asus",
          "asus",
          "asus",
          "asus",
          "asus",
          "asus",
          "asus",
          "asus",
          "asus"
         ],
         "y0": " ",
         "yaxis": "y"
        },
        {
         "alignmentgroup": "True",
         "hovertemplate": "brand=%{y}<br>rating=%{x}<extra></extra>",
         "legendgroup": "dell",
         "marker": {
          "color": "#B6E880"
         },
         "name": "dell",
         "notched": false,
         "offsetgroup": "dell",
         "orientation": "h",
         "showlegend": true,
         "type": "box",
         "x": {
          "bdata": "PEJHQkJGPEhKTjs1ST8+RD44Q1A1OjE7QEs6OTU1OTk4OTg5PjU6OU44Oj86PjY7OTw/OjxVP0FTQVVQU1k8Pzw4NThDOjQ8PEZYUjZIRzhOUjs6OTg0OThMNE9JS0VOU1JTPz87PjtESA==",
          "dtype": "i1"
         },
         "x0": " ",
         "xaxis": "x",
         "y": [
          "dell",
          "dell",
          "dell",
          "dell",
          "dell",
          "dell",
          "dell",
          "dell",
          "dell",
          "dell",
          "dell",
          "dell",
          "dell",
          "dell",
          "dell",
          "dell",
          "dell",
          "dell",
          "dell",
          "dell",
          "dell",
          "dell",
          "dell",
          "dell",
          "dell",
          "dell",
          "dell",
          "dell",
          "dell",
          "dell",
          "dell",
          "dell",
          "dell",
          "dell",
          "dell",
          "dell",
          "dell",
          "dell",
          "dell",
          "dell",
          "dell",
          "dell",
          "dell",
          "dell",
          "dell",
          "dell",
          "dell",
          "dell",
          "dell",
          "dell",
          "dell",
          "dell",
          "dell",
          "dell",
          "dell",
          "dell",
          "dell",
          "dell",
          "dell",
          "dell",
          "dell",
          "dell",
          "dell",
          "dell",
          "dell",
          "dell",
          "dell",
          "dell",
          "dell",
          "dell",
          "dell",
          "dell",
          "dell",
          "dell",
          "dell",
          "dell",
          "dell",
          "dell",
          "dell",
          "dell",
          "dell",
          "dell",
          "dell",
          "dell",
          "dell",
          "dell",
          "dell",
          "dell",
          "dell",
          "dell",
          "dell",
          "dell",
          "dell",
          "dell",
          "dell",
          "dell",
          "dell",
          "dell",
          "dell",
          "dell",
          "dell",
          "dell",
          "dell",
          "dell",
          "dell",
          "dell"
         ],
         "y0": " ",
         "yaxis": "y"
        },
        {
         "alignmentgroup": "True",
         "hovertemplate": "brand=%{y}<br>rating=%{x}<extra></extra>",
         "legendgroup": "samsung",
         "marker": {
          "color": "#FF97FF"
         },
         "name": "samsung",
         "notched": false,
         "offsetgroup": "samsung",
         "orientation": "h",
         "showlegend": true,
         "type": "box",
         "x": {
          "bdata": "RDs+ODw7RA==",
          "dtype": "i1"
         },
         "x0": " ",
         "xaxis": "x",
         "y": [
          "samsung",
          "samsung",
          "samsung",
          "samsung",
          "samsung",
          "samsung",
          "samsung"
         ],
         "y0": " ",
         "yaxis": "y"
        },
        {
         "alignmentgroup": "True",
         "hovertemplate": "brand=%{y}<br>rating=%{x}<extra></extra>",
         "legendgroup": "msi",
         "marker": {
          "color": "#FECB52"
         },
         "name": "msi",
         "notched": false,
         "offsetgroup": "msi",
         "orientation": "h",
         "showlegend": true,
         "type": "box",
         "x": {
          "bdata": "R0w6RkFLQT88SUFJPkFIPklFPk9ORVBZRlNHTExNT0xNRUdGU0lZPzpNR0FDTkNBTkVNQk1LP0ZBS0tVRUdJVkdNQUZZQUdUV1BGSDU2PDo7SEpDOz06OExJ",
          "dtype": "i1"
         },
         "x0": " ",
         "xaxis": "x",
         "y": [
          "msi",
          "msi",
          "msi",
          "msi",
          "msi",
          "msi",
          "msi",
          "msi",
          "msi",
          "msi",
          "msi",
          "msi",
          "msi",
          "msi",
          "msi",
          "msi",
          "msi",
          "msi",
          "msi",
          "msi",
          "msi",
          "msi",
          "msi",
          "msi",
          "msi",
          "msi",
          "msi",
          "msi",
          "msi",
          "msi",
          "msi",
          "msi",
          "msi",
          "msi",
          "msi",
          "msi",
          "msi",
          "msi",
          "msi",
          "msi",
          "msi",
          "msi",
          "msi",
          "msi",
          "msi",
          "msi",
          "msi",
          "msi",
          "msi",
          "msi",
          "msi",
          "msi",
          "msi",
          "msi",
          "msi",
          "msi",
          "msi",
          "msi",
          "msi",
          "msi",
          "msi",
          "msi",
          "msi",
          "msi",
          "msi",
          "msi",
          "msi",
          "msi",
          "msi",
          "msi",
          "msi",
          "msi",
          "msi",
          "msi",
          "msi",
          "msi",
          "msi",
          "msi",
          "msi",
          "msi",
          "msi",
          "msi",
          "msi",
          "msi",
          "msi",
          "msi",
          "msi",
          "msi",
          "msi",
          "msi"
         ],
         "y0": " ",
         "yaxis": "y"
        },
        {
         "alignmentgroup": "True",
         "hovertemplate": "brand=%{y}<br>rating=%{x}<extra></extra>",
         "legendgroup": "wings",
         "marker": {
          "color": "#636efa"
         },
         "name": "wings",
         "notched": false,
         "offsetgroup": "wings",
         "orientation": "h",
         "showlegend": true,
         "type": "box",
         "x": {
          "bdata": "ODoxMw==",
          "dtype": "i1"
         },
         "x0": " ",
         "xaxis": "x",
         "y": [
          "wings",
          "wings",
          "wings",
          "wings"
         ],
         "y0": " ",
         "yaxis": "y"
        },
        {
         "alignmentgroup": "True",
         "hovertemplate": "brand=%{y}<br>rating=%{x}<extra></extra>",
         "legendgroup": "ultimus",
         "marker": {
          "color": "#EF553B"
         },
         "name": "ultimus",
         "notched": false,
         "offsetgroup": "ultimus",
         "orientation": "h",
         "showlegend": true,
         "type": "box",
         "x": {
          "bdata": "Ni4pLS80",
          "dtype": "i1"
         },
         "x0": " ",
         "xaxis": "x",
         "y": [
          "ultimus",
          "ultimus",
          "ultimus",
          "ultimus",
          "ultimus",
          "ultimus"
         ],
         "y0": " ",
         "yaxis": "y"
        },
        {
         "alignmentgroup": "True",
         "hovertemplate": "brand=%{y}<br>rating=%{x}<extra></extra>",
         "legendgroup": "primebook",
         "marker": {
          "color": "#00cc96"
         },
         "name": "primebook",
         "notched": false,
         "offsetgroup": "primebook",
         "orientation": "h",
         "showlegend": true,
         "type": "box",
         "x": {
          "bdata": "Gh8=",
          "dtype": "i1"
         },
         "x0": " ",
         "xaxis": "x",
         "y": [
          "primebook",
          "primebook"
         ],
         "y0": " ",
         "yaxis": "y"
        },
        {
         "alignmentgroup": "True",
         "hovertemplate": "brand=%{y}<br>rating=%{x}<extra></extra>",
         "legendgroup": "iball",
         "marker": {
          "color": "#ab63fa"
         },
         "name": "iball",
         "notched": false,
         "offsetgroup": "iball",
         "orientation": "h",
         "showlegend": true,
         "type": "box",
         "x": {
          "bdata": "KQ==",
          "dtype": "i1"
         },
         "x0": " ",
         "xaxis": "x",
         "y": [
          "iball"
         ],
         "y0": " ",
         "yaxis": "y"
        },
        {
         "alignmentgroup": "True",
         "hovertemplate": "brand=%{y}<br>rating=%{x}<extra></extra>",
         "legendgroup": "zebronics",
         "marker": {
          "color": "#FFA15A"
         },
         "name": "zebronics",
         "notched": false,
         "offsetgroup": "zebronics",
         "orientation": "h",
         "showlegend": true,
         "type": "box",
         "x": {
          "bdata": "QT9IOEI8SA==",
          "dtype": "i1"
         },
         "x0": " ",
         "xaxis": "x",
         "y": [
          "zebronics",
          "zebronics",
          "zebronics",
          "zebronics",
          "zebronics",
          "zebronics",
          "zebronics"
         ],
         "y0": " ",
         "yaxis": "y"
        },
        {
         "alignmentgroup": "True",
         "hovertemplate": "brand=%{y}<br>rating=%{x}<extra></extra>",
         "legendgroup": "chuwi",
         "marker": {
          "color": "#19d3f3"
         },
         "name": "chuwi",
         "notched": false,
         "offsetgroup": "chuwi",
         "orientation": "h",
         "showlegend": true,
         "type": "box",
         "x": {
          "bdata": "MjIyNg==",
          "dtype": "i1"
         },
         "x0": " ",
         "xaxis": "x",
         "y": [
          "chuwi",
          "chuwi",
          "chuwi",
          "chuwi"
         ],
         "y0": " ",
         "yaxis": "y"
        },
        {
         "alignmentgroup": "True",
         "hovertemplate": "brand=%{y}<br>rating=%{x}<extra></extra>",
         "legendgroup": "gigabyte",
         "marker": {
          "color": "#FF6692"
         },
         "name": "gigabyte",
         "notched": false,
         "offsetgroup": "gigabyte",
         "orientation": "h",
         "showlegend": true,
         "type": "box",
         "x": {
          "bdata": "Q0k=",
          "dtype": "i1"
         },
         "x0": " ",
         "xaxis": "x",
         "y": [
          "gigabyte",
          "gigabyte"
         ],
         "y0": " ",
         "yaxis": "y"
        },
        {
         "alignmentgroup": "True",
         "hovertemplate": "brand=%{y}<br>rating=%{x}<extra></extra>",
         "legendgroup": "jio",
         "marker": {
          "color": "#B6E880"
         },
         "name": "jio",
         "notched": false,
         "offsetgroup": "jio",
         "orientation": "h",
         "showlegend": true,
         "type": "box",
         "x": {
          "bdata": "GA==",
          "dtype": "i1"
         },
         "x0": " ",
         "xaxis": "x",
         "y": [
          "jio"
         ],
         "y0": " ",
         "yaxis": "y"
        },
        {
         "alignmentgroup": "True",
         "hovertemplate": "brand=%{y}<br>rating=%{x}<extra></extra>",
         "legendgroup": "honor",
         "marker": {
          "color": "#FF97FF"
         },
         "name": "honor",
         "notched": false,
         "offsetgroup": "honor",
         "orientation": "h",
         "showlegend": true,
         "type": "box",
         "x": {
          "bdata": "Qjs=",
          "dtype": "i1"
         },
         "x0": " ",
         "xaxis": "x",
         "y": [
          "honor",
          "honor"
         ],
         "y0": " ",
         "yaxis": "y"
        },
        {
         "alignmentgroup": "True",
         "hovertemplate": "brand=%{y}<br>rating=%{x}<extra></extra>",
         "legendgroup": "realme",
         "marker": {
          "color": "#FECB52"
         },
         "name": "realme",
         "notched": false,
         "offsetgroup": "realme",
         "orientation": "h",
         "showlegend": true,
         "type": "box",
         "x": {
          "bdata": "ND4=",
          "dtype": "i1"
         },
         "x0": " ",
         "xaxis": "x",
         "y": [
          "realme",
          "realme"
         ],
         "y0": " ",
         "yaxis": "y"
        },
        {
         "alignmentgroup": "True",
         "hovertemplate": "brand=%{y}<br>rating=%{x}<extra></extra>",
         "legendgroup": "avita",
         "marker": {
          "color": "#636efa"
         },
         "name": "avita",
         "notched": false,
         "offsetgroup": "avita",
         "orientation": "h",
         "showlegend": true,
         "type": "box",
         "x": {
          "bdata": "ODIzKSs=",
          "dtype": "i1"
         },
         "x0": " ",
         "xaxis": "x",
         "y": [
          "avita",
          "avita",
          "avita",
          "avita",
          "avita"
         ],
         "y0": " ",
         "yaxis": "y"
        },
        {
         "alignmentgroup": "True",
         "hovertemplate": "brand=%{y}<br>rating=%{x}<extra></extra>",
         "legendgroup": "microsoft",
         "marker": {
          "color": "#EF553B"
         },
         "name": "microsoft",
         "notched": false,
         "offsetgroup": "microsoft",
         "orientation": "h",
         "showlegend": true,
         "type": "box",
         "x": {
          "bdata": "Ojw=",
          "dtype": "i1"
         },
         "x0": " ",
         "xaxis": "x",
         "y": [
          "microsoft",
          "microsoft"
         ],
         "y0": " ",
         "yaxis": "y"
        },
        {
         "alignmentgroup": "True",
         "hovertemplate": "brand=%{y}<br>rating=%{x}<extra></extra>",
         "legendgroup": "fujitsu",
         "marker": {
          "color": "#00cc96"
         },
         "name": "fujitsu",
         "notched": false,
         "offsetgroup": "fujitsu",
         "orientation": "h",
         "showlegend": true,
         "type": "box",
         "x": {
          "bdata": "Q0FMSUY=",
          "dtype": "i1"
         },
         "x0": " ",
         "xaxis": "x",
         "y": [
          "fujitsu",
          "fujitsu",
          "fujitsu",
          "fujitsu",
          "fujitsu"
         ],
         "y0": " ",
         "yaxis": "y"
        },
        {
         "alignmentgroup": "True",
         "hovertemplate": "brand=%{y}<br>rating=%{x}<extra></extra>",
         "legendgroup": "lg",
         "marker": {
          "color": "#ab63fa"
         },
         "name": "lg",
         "notched": false,
         "offsetgroup": "lg",
         "orientation": "h",
         "showlegend": true,
         "type": "box",
         "x": {
          "bdata": "Q0hORUtISA==",
          "dtype": "i1"
         },
         "x0": " ",
         "xaxis": "x",
         "y": [
          "lg",
          "lg",
          "lg",
          "lg",
          "lg",
          "lg",
          "lg"
         ],
         "y0": " ",
         "yaxis": "y"
        },
        {
         "alignmentgroup": "True",
         "hovertemplate": "brand=%{y}<br>rating=%{x}<extra></extra>",
         "legendgroup": "walker",
         "marker": {
          "color": "#FFA15A"
         },
         "name": "walker",
         "notched": false,
         "offsetgroup": "walker",
         "orientation": "h",
         "showlegend": true,
         "type": "box",
         "x": {
          "bdata": "JQ==",
          "dtype": "i1"
         },
         "x0": " ",
         "xaxis": "x",
         "y": [
          "walker"
         ],
         "y0": " ",
         "yaxis": "y"
        },
        {
         "alignmentgroup": "True",
         "hovertemplate": "brand=%{y}<br>rating=%{x}<extra></extra>",
         "legendgroup": "axl",
         "marker": {
          "color": "#19d3f3"
         },
         "name": "axl",
         "notched": false,
         "offsetgroup": "axl",
         "orientation": "h",
         "showlegend": true,
         "type": "box",
         "x": {
          "bdata": "JiU=",
          "dtype": "i1"
         },
         "x0": " ",
         "xaxis": "x",
         "y": [
          "axl",
          "axl"
         ],
         "y0": " ",
         "yaxis": "y"
        }
       ],
       "layout": {
        "boxmode": "overlay",
        "legend": {
         "title": {
          "text": "brand"
         },
         "tracegroupgap": 0
        },
        "margin": {
         "t": 60
        },
        "template": {
         "data": {
          "bar": [
           {
            "error_x": {
             "color": "#2a3f5f"
            },
            "error_y": {
             "color": "#2a3f5f"
            },
            "marker": {
             "line": {
              "color": "#E5ECF6",
              "width": 0.5
             },
             "pattern": {
              "fillmode": "overlay",
              "size": 10,
              "solidity": 0.2
             }
            },
            "type": "bar"
           }
          ],
          "barpolar": [
           {
            "marker": {
             "line": {
              "color": "#E5ECF6",
              "width": 0.5
             },
             "pattern": {
              "fillmode": "overlay",
              "size": 10,
              "solidity": 0.2
             }
            },
            "type": "barpolar"
           }
          ],
          "carpet": [
           {
            "aaxis": {
             "endlinecolor": "#2a3f5f",
             "gridcolor": "white",
             "linecolor": "white",
             "minorgridcolor": "white",
             "startlinecolor": "#2a3f5f"
            },
            "baxis": {
             "endlinecolor": "#2a3f5f",
             "gridcolor": "white",
             "linecolor": "white",
             "minorgridcolor": "white",
             "startlinecolor": "#2a3f5f"
            },
            "type": "carpet"
           }
          ],
          "choropleth": [
           {
            "colorbar": {
             "outlinewidth": 0,
             "ticks": ""
            },
            "type": "choropleth"
           }
          ],
          "contour": [
           {
            "colorbar": {
             "outlinewidth": 0,
             "ticks": ""
            },
            "colorscale": [
             [
              0,
              "#0d0887"
             ],
             [
              0.1111111111111111,
              "#46039f"
             ],
             [
              0.2222222222222222,
              "#7201a8"
             ],
             [
              0.3333333333333333,
              "#9c179e"
             ],
             [
              0.4444444444444444,
              "#bd3786"
             ],
             [
              0.5555555555555556,
              "#d8576b"
             ],
             [
              0.6666666666666666,
              "#ed7953"
             ],
             [
              0.7777777777777778,
              "#fb9f3a"
             ],
             [
              0.8888888888888888,
              "#fdca26"
             ],
             [
              1,
              "#f0f921"
             ]
            ],
            "type": "contour"
           }
          ],
          "contourcarpet": [
           {
            "colorbar": {
             "outlinewidth": 0,
             "ticks": ""
            },
            "type": "contourcarpet"
           }
          ],
          "heatmap": [
           {
            "colorbar": {
             "outlinewidth": 0,
             "ticks": ""
            },
            "colorscale": [
             [
              0,
              "#0d0887"
             ],
             [
              0.1111111111111111,
              "#46039f"
             ],
             [
              0.2222222222222222,
              "#7201a8"
             ],
             [
              0.3333333333333333,
              "#9c179e"
             ],
             [
              0.4444444444444444,
              "#bd3786"
             ],
             [
              0.5555555555555556,
              "#d8576b"
             ],
             [
              0.6666666666666666,
              "#ed7953"
             ],
             [
              0.7777777777777778,
              "#fb9f3a"
             ],
             [
              0.8888888888888888,
              "#fdca26"
             ],
             [
              1,
              "#f0f921"
             ]
            ],
            "type": "heatmap"
           }
          ],
          "histogram": [
           {
            "marker": {
             "pattern": {
              "fillmode": "overlay",
              "size": 10,
              "solidity": 0.2
             }
            },
            "type": "histogram"
           }
          ],
          "histogram2d": [
           {
            "colorbar": {
             "outlinewidth": 0,
             "ticks": ""
            },
            "colorscale": [
             [
              0,
              "#0d0887"
             ],
             [
              0.1111111111111111,
              "#46039f"
             ],
             [
              0.2222222222222222,
              "#7201a8"
             ],
             [
              0.3333333333333333,
              "#9c179e"
             ],
             [
              0.4444444444444444,
              "#bd3786"
             ],
             [
              0.5555555555555556,
              "#d8576b"
             ],
             [
              0.6666666666666666,
              "#ed7953"
             ],
             [
              0.7777777777777778,
              "#fb9f3a"
             ],
             [
              0.8888888888888888,
              "#fdca26"
             ],
             [
              1,
              "#f0f921"
             ]
            ],
            "type": "histogram2d"
           }
          ],
          "histogram2dcontour": [
           {
            "colorbar": {
             "outlinewidth": 0,
             "ticks": ""
            },
            "colorscale": [
             [
              0,
              "#0d0887"
             ],
             [
              0.1111111111111111,
              "#46039f"
             ],
             [
              0.2222222222222222,
              "#7201a8"
             ],
             [
              0.3333333333333333,
              "#9c179e"
             ],
             [
              0.4444444444444444,
              "#bd3786"
             ],
             [
              0.5555555555555556,
              "#d8576b"
             ],
             [
              0.6666666666666666,
              "#ed7953"
             ],
             [
              0.7777777777777778,
              "#fb9f3a"
             ],
             [
              0.8888888888888888,
              "#fdca26"
             ],
             [
              1,
              "#f0f921"
             ]
            ],
            "type": "histogram2dcontour"
           }
          ],
          "mesh3d": [
           {
            "colorbar": {
             "outlinewidth": 0,
             "ticks": ""
            },
            "type": "mesh3d"
           }
          ],
          "parcoords": [
           {
            "line": {
             "colorbar": {
              "outlinewidth": 0,
              "ticks": ""
             }
            },
            "type": "parcoords"
           }
          ],
          "pie": [
           {
            "automargin": true,
            "type": "pie"
           }
          ],
          "scatter": [
           {
            "fillpattern": {
             "fillmode": "overlay",
             "size": 10,
             "solidity": 0.2
            },
            "type": "scatter"
           }
          ],
          "scatter3d": [
           {
            "line": {
             "colorbar": {
              "outlinewidth": 0,
              "ticks": ""
             }
            },
            "marker": {
             "colorbar": {
              "outlinewidth": 0,
              "ticks": ""
             }
            },
            "type": "scatter3d"
           }
          ],
          "scattercarpet": [
           {
            "marker": {
             "colorbar": {
              "outlinewidth": 0,
              "ticks": ""
             }
            },
            "type": "scattercarpet"
           }
          ],
          "scattergeo": [
           {
            "marker": {
             "colorbar": {
              "outlinewidth": 0,
              "ticks": ""
             }
            },
            "type": "scattergeo"
           }
          ],
          "scattergl": [
           {
            "marker": {
             "colorbar": {
              "outlinewidth": 0,
              "ticks": ""
             }
            },
            "type": "scattergl"
           }
          ],
          "scattermap": [
           {
            "marker": {
             "colorbar": {
              "outlinewidth": 0,
              "ticks": ""
             }
            },
            "type": "scattermap"
           }
          ],
          "scattermapbox": [
           {
            "marker": {
             "colorbar": {
              "outlinewidth": 0,
              "ticks": ""
             }
            },
            "type": "scattermapbox"
           }
          ],
          "scatterpolar": [
           {
            "marker": {
             "colorbar": {
              "outlinewidth": 0,
              "ticks": ""
             }
            },
            "type": "scatterpolar"
           }
          ],
          "scatterpolargl": [
           {
            "marker": {
             "colorbar": {
              "outlinewidth": 0,
              "ticks": ""
             }
            },
            "type": "scatterpolargl"
           }
          ],
          "scatterternary": [
           {
            "marker": {
             "colorbar": {
              "outlinewidth": 0,
              "ticks": ""
             }
            },
            "type": "scatterternary"
           }
          ],
          "surface": [
           {
            "colorbar": {
             "outlinewidth": 0,
             "ticks": ""
            },
            "colorscale": [
             [
              0,
              "#0d0887"
             ],
             [
              0.1111111111111111,
              "#46039f"
             ],
             [
              0.2222222222222222,
              "#7201a8"
             ],
             [
              0.3333333333333333,
              "#9c179e"
             ],
             [
              0.4444444444444444,
              "#bd3786"
             ],
             [
              0.5555555555555556,
              "#d8576b"
             ],
             [
              0.6666666666666666,
              "#ed7953"
             ],
             [
              0.7777777777777778,
              "#fb9f3a"
             ],
             [
              0.8888888888888888,
              "#fdca26"
             ],
             [
              1,
              "#f0f921"
             ]
            ],
            "type": "surface"
           }
          ],
          "table": [
           {
            "cells": {
             "fill": {
              "color": "#EBF0F8"
             },
             "line": {
              "color": "white"
             }
            },
            "header": {
             "fill": {
              "color": "#C8D4E3"
             },
             "line": {
              "color": "white"
             }
            },
            "type": "table"
           }
          ]
         },
         "layout": {
          "annotationdefaults": {
           "arrowcolor": "#2a3f5f",
           "arrowhead": 0,
           "arrowwidth": 1
          },
          "autotypenumbers": "strict",
          "coloraxis": {
           "colorbar": {
            "outlinewidth": 0,
            "ticks": ""
           }
          },
          "colorscale": {
           "diverging": [
            [
             0,
             "#8e0152"
            ],
            [
             0.1,
             "#c51b7d"
            ],
            [
             0.2,
             "#de77ae"
            ],
            [
             0.3,
             "#f1b6da"
            ],
            [
             0.4,
             "#fde0ef"
            ],
            [
             0.5,
             "#f7f7f7"
            ],
            [
             0.6,
             "#e6f5d0"
            ],
            [
             0.7,
             "#b8e186"
            ],
            [
             0.8,
             "#7fbc41"
            ],
            [
             0.9,
             "#4d9221"
            ],
            [
             1,
             "#276419"
            ]
           ],
           "sequential": [
            [
             0,
             "#0d0887"
            ],
            [
             0.1111111111111111,
             "#46039f"
            ],
            [
             0.2222222222222222,
             "#7201a8"
            ],
            [
             0.3333333333333333,
             "#9c179e"
            ],
            [
             0.4444444444444444,
             "#bd3786"
            ],
            [
             0.5555555555555556,
             "#d8576b"
            ],
            [
             0.6666666666666666,
             "#ed7953"
            ],
            [
             0.7777777777777778,
             "#fb9f3a"
            ],
            [
             0.8888888888888888,
             "#fdca26"
            ],
            [
             1,
             "#f0f921"
            ]
           ],
           "sequentialminus": [
            [
             0,
             "#0d0887"
            ],
            [
             0.1111111111111111,
             "#46039f"
            ],
            [
             0.2222222222222222,
             "#7201a8"
            ],
            [
             0.3333333333333333,
             "#9c179e"
            ],
            [
             0.4444444444444444,
             "#bd3786"
            ],
            [
             0.5555555555555556,
             "#d8576b"
            ],
            [
             0.6666666666666666,
             "#ed7953"
            ],
            [
             0.7777777777777778,
             "#fb9f3a"
            ],
            [
             0.8888888888888888,
             "#fdca26"
            ],
            [
             1,
             "#f0f921"
            ]
           ]
          },
          "colorway": [
           "#636efa",
           "#EF553B",
           "#00cc96",
           "#ab63fa",
           "#FFA15A",
           "#19d3f3",
           "#FF6692",
           "#B6E880",
           "#FF97FF",
           "#FECB52"
          ],
          "font": {
           "color": "#2a3f5f"
          },
          "geo": {
           "bgcolor": "white",
           "lakecolor": "white",
           "landcolor": "#E5ECF6",
           "showlakes": true,
           "showland": true,
           "subunitcolor": "white"
          },
          "hoverlabel": {
           "align": "left"
          },
          "hovermode": "closest",
          "mapbox": {
           "style": "light"
          },
          "paper_bgcolor": "white",
          "plot_bgcolor": "#E5ECF6",
          "polar": {
           "angularaxis": {
            "gridcolor": "white",
            "linecolor": "white",
            "ticks": ""
           },
           "bgcolor": "#E5ECF6",
           "radialaxis": {
            "gridcolor": "white",
            "linecolor": "white",
            "ticks": ""
           }
          },
          "scene": {
           "xaxis": {
            "backgroundcolor": "#E5ECF6",
            "gridcolor": "white",
            "gridwidth": 2,
            "linecolor": "white",
            "showbackground": true,
            "ticks": "",
            "zerolinecolor": "white"
           },
           "yaxis": {
            "backgroundcolor": "#E5ECF6",
            "gridcolor": "white",
            "gridwidth": 2,
            "linecolor": "white",
            "showbackground": true,
            "ticks": "",
            "zerolinecolor": "white"
           },
           "zaxis": {
            "backgroundcolor": "#E5ECF6",
            "gridcolor": "white",
            "gridwidth": 2,
            "linecolor": "white",
            "showbackground": true,
            "ticks": "",
            "zerolinecolor": "white"
           }
          },
          "shapedefaults": {
           "line": {
            "color": "#2a3f5f"
           }
          },
          "ternary": {
           "aaxis": {
            "gridcolor": "white",
            "linecolor": "white",
            "ticks": ""
           },
           "baxis": {
            "gridcolor": "white",
            "linecolor": "white",
            "ticks": ""
           },
           "bgcolor": "#E5ECF6",
           "caxis": {
            "gridcolor": "white",
            "linecolor": "white",
            "ticks": ""
           }
          },
          "title": {
           "x": 0.05
          },
          "xaxis": {
           "automargin": true,
           "gridcolor": "white",
           "linecolor": "white",
           "ticks": "",
           "title": {
            "standoff": 15
           },
           "zerolinecolor": "white",
           "zerolinewidth": 2
          },
          "yaxis": {
           "automargin": true,
           "gridcolor": "white",
           "linecolor": "white",
           "ticks": "",
           "title": {
            "standoff": 15
           },
           "zerolinecolor": "white",
           "zerolinewidth": 2
          }
         }
        },
        "xaxis": {
         "anchor": "y",
         "domain": [
          0,
          1
         ],
         "title": {
          "text": "rating"
         }
        },
        "yaxis": {
         "anchor": "x",
         "categoryarray": [
          "axl",
          "walker",
          "lg",
          "fujitsu",
          "microsoft",
          "avita",
          "realme",
          "honor",
          "jio",
          "gigabyte",
          "chuwi",
          "zebronics",
          "iball",
          "primebook",
          "ultimus",
          "wings",
          "msi",
          "samsung",
          "dell",
          "asus",
          "infinix",
          "apple",
          "lenovo",
          "acer",
          "hp",
          "tecno"
         ],
         "categoryorder": "array",
         "domain": [
          0,
          1
         ],
         "title": {
          "text": "brand"
         }
        }
       }
      }
     },
     "metadata": {},
     "output_type": "display_data"
    }
   ],
   "source": [
    "# Plot de distribuição por Brand e Rating\n",
    "px.box(df_laptops, x='rating', y='brand', color='brand', orientation='h')"
   ]
  },
  {
   "cell_type": "code",
   "execution_count": 16,
   "id": "ed70a992",
   "metadata": {},
   "outputs": [
    {
     "data": {
      "application/vnd.plotly.v1+json": {
       "config": {
        "plotlyServerURL": "https://plot.ly"
       },
       "data": [
        {
         "hovertemplate": "brand=tecno<br>price=%{x}<br>rating=%{y}<extra></extra>",
         "legendgroup": "tecno",
         "marker": {
          "color": "#636efa",
          "symbol": "circle"
         },
         "mode": "markers",
         "name": "tecno",
         "orientation": "v",
         "showlegend": true,
         "type": "scatter",
         "x": {
          "bdata": "7FG4HoX7cUAK16NwPfp6QA==",
          "dtype": "f8"
         },
         "xaxis": "x",
         "y": {
          "bdata": "P0M=",
          "dtype": "i1"
         },
         "yaxis": "y"
        },
        {
         "hovertemplate": "brand=hp<br>price=%{x}<br>rating=%{y}<extra></extra>",
         "legendgroup": "hp",
         "marker": {
          "color": "#EF553B",
          "symbol": "circle"
         },
         "mode": "markers",
         "name": "hp",
         "orientation": "v",
         "showlegend": true,
         "type": "scatter",
         "x": {
          "bdata": "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",
          "dtype": "f8"
         },
         "xaxis": "x",
         "y": {
          "bdata": "STxVRzFNQj5HR1BHTEY/UEhBRkZGNkhGQzk+Pjo2NDw8UkxAOkw7Q0IxOEw/TD9LVUY/QkFBOzlFNkNERUNJPkdAJ0c2Oj40QDhAMzo+NEZORTlNTEg8WD5GVVhPTjkvRkBLQ0Y5OzM6Pk4/M0ZHSEdWS0NDSEZDPE1JTSw4OSxFRS5DUCY0SUJCQkZCSDk8R0VHRTo1PEY6Pj9IQkcxMkM/QUMvQjJAQkdBOTs6OUtCOTY2MzM2QzhDRzxLQzhNS0BPSDo7NCslOy9JJQ==",
          "dtype": "i1"
         },
         "yaxis": "y"
        },
        {
         "hovertemplate": "brand=acer<br>price=%{x}<br>rating=%{y}<extra></extra>",
         "legendgroup": "acer",
         "marker": {
          "color": "#00cc96",
          "symbol": "circle"
         },
         "mode": "markers",
         "name": "acer",
         "orientation": "v",
         "showlegend": true,
         "type": "scatter",
         "x": {
          "bdata": "Urgehev5fUB7FK5H4TqNQMP1KFyPnIFAZmZmZmY6ekDD9Shcj7p4QAAAAAAAXIVArkfhehR6fEBI4XoUrpt9QAAAAAAAzZFAFK5H4Xr8gUCPwvUoXHyWQPYoXI/CrJNAexSuR+E6d0BSuB6F6zl9QMP1KFyPunhAMzMzMzNbi0B7FK5HYd2gQB+F61G4+ndAexSuR+F6dkCkcD0K19uGQAAAAAAAXIVAj8L1KFx8lkAzMzMzM/t0QMP1KFyPnIFAexSuR+F6dkDsUbgehW2BQGZmZmZmvIJA7FG4HoXdgECamZmZmR2AQMP1KFyPnIFAw/UoXI9sgUAAAAAAAFyFQD0K16Nw1X1A7FG4HoX7cUDD9Shcj/yHQOxRuB6Fu4hAZmZmZma8gkBSuB6F6x+HQI/C9ShcG3NAUrgehev5fUBmZmZmZjp6QM3MzMzMHIBAAAAAAABchUAK16NwPdyDQArXo3A9untAmpmZmZl5f0D2KFyPwhl/QOF6FK5H+51AuB6F61FMiUAK16NwPfp6QK5H4XoUXJhAUrgehetLjECamZmZmXl/QDMzMzMz+4pAFK5H4XoUd0ApXI/C9Xh2QNejcD0KG3ZAzczMzMwcgED2KFyPwrl+QFyPwvUonIRAj8L1KFyneEDNzMzMzLx1QFK4HoXr+X1AZmZmZma8gkAfhetRuNaFQK5H4XoULIVAPQrXo3DzhEBmZmZmZt+aQFK4HoXrG4ZAXI/C9SjMmkBSuB6F6/l9QPYoXI/ClXtAXI/C9Sitk0AUrkfheoyVQNejcD0K3YBAXI/C9SitkECPwvUoXNuJQOxRuB6Fv6JAj8L1KFwxjUBxPQrXozyBQMP1KFyPunhAUrgehesNeEDXo3A9ilWhQClcj8J1bKdAMzMzMzP7dECkcD0K16uMQHsUrkfhenZACtejcD3ciUAAAAAAAEyMQA==",
          "dtype": "f8"
         },
         "xaxis": "x",
         "y": {
          "bdata": "Pj9APDpHPD5IQ0tGMUA2QE45O0ZDSzFDL0BAQD4/Pzg+JkE+Q0EmOj4ySEY/PC1PQTpQO0BGOzI5MjxFODUzMjs0MkY+TjovQUJAQUlKSDsyLEdNNEc2R0M=",
          "dtype": "i1"
         },
         "yaxis": "y"
        },
        {
         "hovertemplate": "brand=lenovo<br>price=%{x}<br>rating=%{y}<extra></extra>",
         "legendgroup": "lenovo",
         "marker": {
          "color": "#ab63fa",
          "symbol": "circle"
         },
         "mode": "markers",
         "name": "lenovo",
         "orientation": "v",
         "showlegend": true,
         "type": "scatter",
         "x": {
          "bdata": "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",
          "dtype": "f8"
         },
         "xaxis": "x",
         "y": {
          "bdata": "PkI7O0dFM0IvRj87UEZCQEM8QE1TPDJAPkU/QzU1NU5KMUA5Oj4yOj5COTw/M0BDQktBOVZGRTY1OThFQ0s/Ojk/QUVAODpUVU46TTlBOTlDOjw+My4zP0ArRTo7QUc/WVNPQ0I4QVNFNDo8Pjo6NT86O0U6PDhBQDw8PD5BQD48O0A6PEhHSUlLST9FSDlFJj5BOzJGPjpFQENCQ0BDO0Y5Pj45P0s+OTk7NkA1Njg7OUJAMkM6Q0dOLystOjg4PEI3NEs2MjBA",
          "dtype": "i1"
         },
         "yaxis": "y"
        },
        {
         "hovertemplate": "brand=apple<br>price=%{x}<br>rating=%{y}<extra></extra>",
         "legendgroup": "apple",
         "marker": {
          "color": "#FFA15A",
          "symbol": "circle"
         },
         "mode": "markers",
         "name": "apple",
         "orientation": "v",
         "showlegend": true,
         "type": "scatter",
         "x": {
          "bdata": "4XoUrkebikBcj8L1KLyyQM3MzMzMTJNAj8L1KFx8lkCamZmZmZyUQPYoXI/CKatACtejcH1ksEDNzMzMTGqnQClcj8L1uqJASOF6FK4rm0AAAAAAAOyYQHsUrkfhq5lArkfhehTLoUBSuB6Fa3qmQB+F61G41p9A",
          "dtype": "f8"
         },
         "xaxis": "x",
         "y": {
          "bdata": "LUEwNSs/QDo4OC0tNToz",
          "dtype": "i1"
         },
         "yaxis": "y"
        },
        {
         "hovertemplate": "brand=infinix<br>price=%{x}<br>rating=%{y}<extra></extra>",
         "legendgroup": "infinix",
         "marker": {
          "color": "#19d3f3",
          "symbol": "circle"
         },
         "mode": "markers",
         "name": "infinix",
         "orientation": "v",
         "showlegend": true,
         "type": "scatter",
         "x": {
          "bdata": "ZmZmZmY6ekCkcD0K13uGQHsUrkfhenZAMzMzMzP7dEAzMzMzMzt0QArXo3A9+npAAAAAAAC8hUBSuB6F6zl9QBSuR+F6XIJAj8L1KFx7c0CPwvUoXLtyQHE9Ctej3IBAUrgehes5fUA=",
          "dtype": "f8"
         },
         "xaxis": "x",
         "y": {
          "bdata": "OEc2MjU8Pzg5OTQ5Og==",
          "dtype": "i1"
         },
         "yaxis": "y"
        },
        {
         "hovertemplate": "brand=asus<br>price=%{x}<br>rating=%{y}<extra></extra>",
         "legendgroup": "asus",
         "marker": {
          "color": "#FF6692",
          "symbol": "circle"
         },
         "mode": "markers",
         "name": "asus",
         "orientation": "v",
         "showlegend": true,
         "type": "scatter",
         "x": {
          "bdata": "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",
          "dtype": "f8"
         },
         "xaxis": "x",
         "y": {
          "bdata": "RkdMOTlBSE1TS0NATkg+QDk/R0ZGQktISEBYTzxBOEY+R0UjR0FMTUxGQjw7QDpQTU9OQENARkFHO0E8QTJJVSUsQzpBRS0/RiZCMyZJOj5GRytDOzxAP0lASCUpJTklSEFCRjk+OEU/TDs5SEJINkAtOUhLRlJIR0E8S0A8SFNHO0VAQjUtOj9ANkdJWVRLU0lNWUxQQ0lSQkhLQkxCRlRHOC04Tjw7SUlGSztANDA7Pzg+PDk4R0BARj48NTozSj5DO0NZOjs1SFNEREFARDtE",
          "dtype": "i1"
         },
         "yaxis": "y"
        },
        {
         "hovertemplate": "brand=dell<br>price=%{x}<br>rating=%{y}<extra></extra>",
         "legendgroup": "dell",
         "marker": {
          "color": "#B6E880",
          "symbol": "circle"
         },
         "mode": "markers",
         "name": "dell",
         "orientation": "v",
         "showlegend": true,
         "type": "scatter",
         "x": {
          "bdata": "ZmZmZmY6ekCPwvUoXJOJQOxRuB6Fd45AFK5H4Xq4fUAK16NwPTWQQDMzMzMzK4tAj8L1KFy9gkDD9Shcj3qPQI/C9Shc24lAmpmZmZnTm0CuR+F6FHp8QOxRuB6Fu4hAKVyPwvUKjUBSuB6F62l9QPYoXI/CeYVAuB6F61Ecg0AK16NwPTyKQLgehetRkINAMzMzMzN9kEAAAAAAAImjQBSuR+F6iHtACtejcD1yhkBmZmZmZjp6QAAAAAAAfJxAXI/C9SitkEAfhetRuMSTQAAAAAAATINAAAAAAABchUD2KFyPwjuHQIXrUbgef4lASOF6FK4dhUA9CtejcFGFQAAAAAAAXIVAuB6F61Ecg0BSuB6F6zl9QOxRuB6Fu4hAZmZmZmakkkCkcD0K13uGQK5H4XoUGnxACtejcD0dkEBxPQrXo+ukQIXrUbgeMYFAexSuR+G+fEBSuB6F64ySQMP1KFyPunhAMzMzMzNlkEAUrkfhevyBQClcj8L1Co1AH4XrUbgOf0CamZmZmVuQQKRwPQrXq4ZArkfhehTye0DD9Shcj6qPQI/C9ShcIKhAAAAAAAD9kUAzMzMzM9OGQHsUrkfhSrVApHA9CtdxiUAUrkfheluuQPYoXI9CtaFAZmZmZuYgtUDNzMzMzBusQMP1KFyPjIhAhetRuB67i0DsUbgehXN9QKRwPQrXe4ZAH4XrUbhWf0AzMzMzM32QQIXrUbge9ZBA9ihcj8K5fkBSuB6F61+AQK5H4XoU/IRAFK5H4Xr8gUAAAAAAAN6NQMP1KFwPMKpAmpmZmRntokDD9Shcj6Z+QNejcD0KQaNASOF6FK7IkUD2KFyPwjuHQI/C9Shcm51AhetRuB4zn0B7FK5H4aSSQEjhehSu/Y1AzczMzMwcgEBI4XoUrqyQQDMzMzMz+4pAhetRuB67i0D2KFyPwjuHQClcj8L1+ZtA9ihcj8IdgEDhehSuR52hQJqZmZmZnJRArkfhehRcmEC4HoXrUYKOQOF6FK7HIKVApHA9Cte0pEDD9ShcTzOyQD0K16NwQ7FAFK5H4Xr8gUC4HoXrUXyDQK5H4XoU2nxAcT0K16PcgEA9CtejcPOEQHE9CtejaZZAMzMzMzN9kEA=",
          "dtype": "f8"
         },
         "xaxis": "x",
         "y": {
          "bdata": "PEJHQkJGPEhKTjs1ST8+RD44Q1A1OjE7QEs6OTU1OTk4OTg5PjU6OU44Oj86PjY7OTw/OjxVP0FTQVVQU1k8Pzw4NThDOjQ8PEZYUjZIRzhOUjs6OTg0OThMNE9JS0VOU1JTPz87PjtESA==",
          "dtype": "i1"
         },
         "yaxis": "y"
        },
        {
         "hovertemplate": "brand=samsung<br>price=%{x}<br>rating=%{y}<extra></extra>",
         "legendgroup": "samsung",
         "marker": {
          "color": "#FF97FF",
          "symbol": "circle"
         },
         "mode": "markers",
         "name": "samsung",
         "orientation": "v",
         "showlegend": true,
         "type": "scatter",
         "x": {
          "bdata": "mpmZmZlbiEBxPQrXo9yAQBSuR+F6/IFAj8L1KFw7ikDXo3A9CnuMQFyPwvUonIRAPQrXo3DslUA=",
          "dtype": "f8"
         },
         "xaxis": "x",
         "y": {
          "bdata": "RDs+ODw7RA==",
          "dtype": "i1"
         },
         "yaxis": "y"
        },
        {
         "hovertemplate": "brand=msi<br>price=%{x}<br>rating=%{y}<extra></extra>",
         "legendgroup": "msi",
         "marker": {
          "color": "#FECB52",
          "symbol": "circle"
         },
         "mode": "markers",
         "name": "msi",
         "orientation": "v",
         "showlegend": true,
         "type": "scatter",
         "x": {
          "bdata": "CtejcD3cg0CPwvUoXAeJQMP1KFyP8npAj8L1KFw7ikBcj8L1KJyEQNejcD0KG4xAZmZmZma8gkCamZmZmXl/QFyPwvUonIRA9ihcj8I7h0AK16NwPdyDQEjhehSum4dAUrgehev5fUBcj8L1KDyEQAAAAAAAXIVACtejcD26e0A9CtejcHuJQJqZmZmZi4hAH4XrUbh8gEAfhetRuNyTQMP1KFyPeo9ArkfhehTeiECF61G4Hr2iQFyPwvXoFLVAzczMzMz6jUC4HoXrUWuiQEjhehSum4dAAAAAAADNkUApXI/C9SySQPYoXI/CrJNAw/UoXI8bnEDD9ShcjxucQBSuR+F6jJVArkfhehT8hEBSuB6F6xuGQK5H4XoU/IRAhetRuB69okCPwvUoXHyWQM3MzMzMG6xAH4XrUbi6jkAK16NwPbp7QOF6FK5H4J1AXI/C9SjdkECF61G4HruLQBSuR+F6/IFAw/UoXI/8lEAAAAAAALyFQFyPwvUonIRA9ihcj8Ksk0DXo3A9ChuMQAAAAAAAzZFAuB6F61Ecg0AAAAAAAM2RQMP1KFyP2o9ApHA9CtfbhkC4HoXrUXyDQArXo3A93INArkfhehQ9kUAzMzMzM32QQMP1KFwPPKpAKVyPwvXajEAzMzMzM1uLQArXo3A9TZBAKVyPwnVsp0BI4XoUrvuHQClcj8L1LJJAH4XrUbi6jkCPwvUoXDuKQLgehetRdKhAzczMzMxuiEAzMzMzM1uLQI/C9SjcnKRAZmZmZuY8pEAUrkfheh2gQI/C9ShcO4pA9ihcj8I7h0AfhetRuHyAQBSuR+F6XIJAmpmZmZl5f0CuR+F6FHp8QMP1KFyPzIFArkfhehRtkUBxPQrXoxqPQD0K16NwYJBArkfhehT2gkCkcD0K19uGQFyPwvUoPIRA9ihcj8K5fkCPwvUoXHyWQK5H4XoUPZFA",
          "dtype": "f8"
         },
         "xaxis": "x",
         "y": {
          "bdata": "R0w6RkFLQT88SUFJPkFIPklFPk9ORVBZRlNHTExNT0xNRUdGU0lZPzpNR0FDTkNBTkVNQk1LP0ZBS0tVRUdJVkdNQUZZQUdUV1BGSDU2PDo7SEpDOz06OExJ",
          "dtype": "i1"
         },
         "yaxis": "y"
        },
        {
         "hovertemplate": "brand=wings<br>price=%{x}<br>rating=%{y}<extra></extra>",
         "legendgroup": "wings",
         "marker": {
          "color": "#636efa",
          "symbol": "circle"
         },
         "mode": "markers",
         "name": "wings",
         "orientation": "v",
         "showlegend": true,
         "type": "scatter",
         "x": {
          "bdata": "MzMzMzP7dEBSuB6F6/l9QI/C9Shcu3JAMzMzMzM7dEA=",
          "dtype": "f8"
         },
         "xaxis": "x",
         "y": {
          "bdata": "ODoxMw==",
          "dtype": "i1"
         },
         "yaxis": "y"
        },
        {
         "hovertemplate": "brand=ultimus<br>price=%{x}<br>rating=%{y}<extra></extra>",
         "legendgroup": "ultimus",
         "marker": {
          "color": "#EF553B",
          "symbol": "circle"
         },
         "mode": "markers",
         "name": "ultimus",
         "orientation": "v",
         "showlegend": true,
         "type": "scatter",
         "x": {
          "bdata": "AAAAAAD4bUBxPQrXo/hnQJqZmZmZ+WFAKVyPwvV4ZkBxPQrXo7hoQM3MzMzMLHFA",
          "dtype": "f8"
         },
         "xaxis": "x",
         "y": {
          "bdata": "Ni4pLS80",
          "dtype": "i1"
         },
         "yaxis": "y"
        },
        {
         "hovertemplate": "brand=primebook<br>price=%{x}<br>rating=%{y}<extra></extra>",
         "legendgroup": "primebook",
         "marker": {
          "color": "#00cc96",
          "symbol": "circle"
         },
         "mode": "markers",
         "name": "primebook",
         "orientation": "v",
         "showlegend": true,
         "type": "scatter",
         "x": {
          "bdata": "KVyPwvV4ZkDhehSuR3ljQA==",
          "dtype": "f8"
         },
         "xaxis": "x",
         "y": {
          "bdata": "Gh8=",
          "dtype": "i1"
         },
         "yaxis": "y"
        },
        {
         "hovertemplate": "brand=iball<br>price=%{x}<br>rating=%{y}<extra></extra>",
         "legendgroup": "iball",
         "marker": {
          "color": "#ab63fa",
          "symbol": "circle"
         },
         "mode": "markers",
         "name": "iball",
         "orientation": "v",
         "showlegend": true,
         "type": "scatter",
         "x": {
          "bdata": "w/UoXI9iXUA=",
          "dtype": "f8"
         },
         "xaxis": "x",
         "y": {
          "bdata": "KQ==",
          "dtype": "i1"
         },
         "yaxis": "y"
        },
        {
         "hovertemplate": "brand=zebronics<br>price=%{x}<br>rating=%{y}<extra></extra>",
         "legendgroup": "zebronics",
         "marker": {
          "color": "#FFA15A",
          "symbol": "circle"
         },
         "mode": "markers",
         "name": "zebronics",
         "orientation": "v",
         "showlegend": true,
         "type": "scatter",
         "x": {
          "bdata": "w/UoXI96eUDD9Shcj7p4QArXo3A93INAexSuR+F6dkBSuB6F6/l9QMP1KFyPunhAuB6F61Ecg0A=",
          "dtype": "f8"
         },
         "xaxis": "x",
         "y": {
          "bdata": "QT9IOEI8SA==",
          "dtype": "i1"
         },
         "yaxis": "y"
        },
        {
         "hovertemplate": "brand=chuwi<br>price=%{x}<br>rating=%{y}<extra></extra>",
         "legendgroup": "chuwi",
         "marker": {
          "color": "#19d3f3",
          "symbol": "circle"
         },
         "mode": "markers",
         "name": "chuwi",
         "orientation": "v",
         "showlegend": true,
         "type": "scatter",
         "x": {
          "bdata": "w/UoXI+6eECPwvUoXLtyQEjhehSue3BAZmZmZmY6ekA=",
          "dtype": "f8"
         },
         "xaxis": "x",
         "y": {
          "bdata": "MjIyNg==",
          "dtype": "i1"
         },
         "yaxis": "y"
        },
        {
         "hovertemplate": "brand=gigabyte<br>price=%{x}<br>rating=%{y}<extra></extra>",
         "legendgroup": "gigabyte",
         "marker": {
          "color": "#FF6692",
          "symbol": "circle"
         },
         "mode": "markers",
         "name": "gigabyte",
         "orientation": "v",
         "showlegend": true,
         "type": "scatter",
         "x": {
          "bdata": "MzMzMzP7ikBcj8L1KN2QQA==",
          "dtype": "f8"
         },
         "xaxis": "x",
         "y": {
          "bdata": "Q0k=",
          "dtype": "i1"
         },
         "yaxis": "y"
        },
        {
         "hovertemplate": "brand=jio<br>price=%{x}<br>rating=%{y}<extra></extra>",
         "legendgroup": "jio",
         "marker": {
          "color": "#B6E880",
          "symbol": "circle"
         },
         "mode": "markers",
         "name": "jio",
         "orientation": "v",
         "showlegend": true,
         "type": "scatter",
         "x": {
          "bdata": "UrgehesJZkA=",
          "dtype": "f8"
         },
         "xaxis": "x",
         "y": {
          "bdata": "GA==",
          "dtype": "i1"
         },
         "yaxis": "y"
        },
        {
         "hovertemplate": "brand=honor<br>price=%{x}<br>rating=%{y}<extra></extra>",
         "legendgroup": "honor",
         "marker": {
          "color": "#FF97FF",
          "symbol": "circle"
         },
         "mode": "markers",
         "name": "honor",
         "orientation": "v",
         "showlegend": true,
         "type": "scatter",
         "x": {
          "bdata": "XI/C9SichEAfhetRuHyAQA==",
          "dtype": "f8"
         },
         "xaxis": "x",
         "y": {
          "bdata": "Qjs=",
          "dtype": "i1"
         },
         "yaxis": "y"
        },
        {
         "hovertemplate": "brand=realme<br>price=%{x}<br>rating=%{y}<extra></extra>",
         "legendgroup": "realme",
         "marker": {
          "color": "#FECB52",
          "symbol": "circle"
         },
         "mode": "markers",
         "name": "realme",
         "orientation": "v",
         "showlegend": true,
         "type": "scatter",
         "x": {
          "bdata": "CtejcD26e0DNzMzMzByAQA==",
          "dtype": "f8"
         },
         "xaxis": "x",
         "y": {
          "bdata": "ND4=",
          "dtype": "i1"
         },
         "yaxis": "y"
        },
        {
         "hovertemplate": "brand=avita<br>price=%{x}<br>rating=%{y}<extra></extra>",
         "legendgroup": "avita",
         "marker": {
          "color": "#636efa",
          "symbol": "circle"
         },
         "mode": "markers",
         "name": "avita",
         "orientation": "v",
         "showlegend": true,
         "type": "scatter",
         "x": {
          "bdata": "cT0K16MIcEAfhetRuLJ4QK5H4XoUZnhAPQrXo3AdbUAzMzMzM3tvQA==",
          "dtype": "f8"
         },
         "xaxis": "x",
         "y": {
          "bdata": "ODIzKSs=",
          "dtype": "i1"
         },
         "yaxis": "y"
        },
        {
         "hovertemplate": "brand=microsoft<br>price=%{x}<br>rating=%{y}<extra></extra>",
         "legendgroup": "microsoft",
         "marker": {
          "color": "#EF553B",
          "symbol": "circle"
         },
         "mode": "markers",
         "name": "microsoft",
         "orientation": "v",
         "showlegend": true,
         "type": "scatter",
         "x": {
          "bdata": "zczMzMz6jUApXI/C9USSQA==",
          "dtype": "f8"
         },
         "xaxis": "x",
         "y": {
          "bdata": "Ojw=",
          "dtype": "i1"
         },
         "yaxis": "y"
        },
        {
         "hovertemplate": "brand=fujitsu<br>price=%{x}<br>rating=%{y}<extra></extra>",
         "legendgroup": "fujitsu",
         "marker": {
          "color": "#00cc96",
          "symbol": "circle"
         },
         "mode": "markers",
         "name": "fujitsu",
         "orientation": "v",
         "showlegend": true,
         "type": "scatter",
         "x": {
          "bdata": "hetRuB67i0CF61G4HruLQJqZmZmZnJRAexSuR+G8kkBmZmZmZiyFQA==",
          "dtype": "f8"
         },
         "xaxis": "x",
         "y": {
          "bdata": "Q0FMSUY=",
          "dtype": "i1"
         },
         "yaxis": "y"
        },
        {
         "hovertemplate": "brand=lg<br>price=%{x}<br>rating=%{y}<extra></extra>",
         "legendgroup": "lg",
         "marker": {
          "color": "#ab63fa",
          "symbol": "circle"
         },
         "mode": "markers",
         "name": "lg",
         "orientation": "v",
         "showlegend": true,
         "type": "scatter",
         "x": {
          "bdata": "uB6F61GNkkDD9Shcj1iNQFK4HoXrk5xA16NwPQoYlkApXI/C9dOQQClcj8L1S5xAzczMzMw0lkA=",
          "dtype": "f8"
         },
         "xaxis": "x",
         "y": {
          "bdata": "Q0hORUtISA==",
          "dtype": "i1"
         },
         "yaxis": "y"
        },
        {
         "hovertemplate": "brand=walker<br>price=%{x}<br>rating=%{y}<extra></extra>",
         "legendgroup": "walker",
         "marker": {
          "color": "#FFA15A",
          "symbol": "circle"
         },
         "mode": "markers",
         "name": "walker",
         "orientation": "v",
         "showlegend": true,
         "type": "scatter",
         "x": {
          "bdata": "cT0K16P4Z0A=",
          "dtype": "f8"
         },
         "xaxis": "x",
         "y": {
          "bdata": "JQ==",
          "dtype": "i1"
         },
         "yaxis": "y"
        },
        {
         "hovertemplate": "brand=axl<br>price=%{x}<br>rating=%{y}<extra></extra>",
         "legendgroup": "axl",
         "marker": {
          "color": "#19d3f3",
          "symbol": "circle"
         },
         "mode": "markers",
         "name": "axl",
         "orientation": "v",
         "showlegend": true,
         "type": "scatter",
         "x": {
          "bdata": "uB6F61H4akApXI/C9XhmQA==",
          "dtype": "f8"
         },
         "xaxis": "x",
         "y": {
          "bdata": "JiU=",
          "dtype": "i1"
         },
         "yaxis": "y"
        }
       ],
       "layout": {
        "legend": {
         "title": {
          "text": "brand"
         },
         "tracegroupgap": 0
        },
        "margin": {
         "t": 60
        },
        "template": {
         "data": {
          "bar": [
           {
            "error_x": {
             "color": "#2a3f5f"
            },
            "error_y": {
             "color": "#2a3f5f"
            },
            "marker": {
             "line": {
              "color": "#E5ECF6",
              "width": 0.5
             },
             "pattern": {
              "fillmode": "overlay",
              "size": 10,
              "solidity": 0.2
             }
            },
            "type": "bar"
           }
          ],
          "barpolar": [
           {
            "marker": {
             "line": {
              "color": "#E5ECF6",
              "width": 0.5
             },
             "pattern": {
              "fillmode": "overlay",
              "size": 10,
              "solidity": 0.2
             }
            },
            "type": "barpolar"
           }
          ],
          "carpet": [
           {
            "aaxis": {
             "endlinecolor": "#2a3f5f",
             "gridcolor": "white",
             "linecolor": "white",
             "minorgridcolor": "white",
             "startlinecolor": "#2a3f5f"
            },
            "baxis": {
             "endlinecolor": "#2a3f5f",
             "gridcolor": "white",
             "linecolor": "white",
             "minorgridcolor": "white",
             "startlinecolor": "#2a3f5f"
            },
            "type": "carpet"
           }
          ],
          "choropleth": [
           {
            "colorbar": {
             "outlinewidth": 0,
             "ticks": ""
            },
            "type": "choropleth"
           }
          ],
          "contour": [
           {
            "colorbar": {
             "outlinewidth": 0,
             "ticks": ""
            },
            "colorscale": [
             [
              0,
              "#0d0887"
             ],
             [
              0.1111111111111111,
              "#46039f"
             ],
             [
              0.2222222222222222,
              "#7201a8"
             ],
             [
              0.3333333333333333,
              "#9c179e"
             ],
             [
              0.4444444444444444,
              "#bd3786"
             ],
             [
              0.5555555555555556,
              "#d8576b"
             ],
             [
              0.6666666666666666,
              "#ed7953"
             ],
             [
              0.7777777777777778,
              "#fb9f3a"
             ],
             [
              0.8888888888888888,
              "#fdca26"
             ],
             [
              1,
              "#f0f921"
             ]
            ],
            "type": "contour"
           }
          ],
          "contourcarpet": [
           {
            "colorbar": {
             "outlinewidth": 0,
             "ticks": ""
            },
            "type": "contourcarpet"
           }
          ],
          "heatmap": [
           {
            "colorbar": {
             "outlinewidth": 0,
             "ticks": ""
            },
            "colorscale": [
             [
              0,
              "#0d0887"
             ],
             [
              0.1111111111111111,
              "#46039f"
             ],
             [
              0.2222222222222222,
              "#7201a8"
             ],
             [
              0.3333333333333333,
              "#9c179e"
             ],
             [
              0.4444444444444444,
              "#bd3786"
             ],
             [
              0.5555555555555556,
              "#d8576b"
             ],
             [
              0.6666666666666666,
              "#ed7953"
             ],
             [
              0.7777777777777778,
              "#fb9f3a"
             ],
             [
              0.8888888888888888,
              "#fdca26"
             ],
             [
              1,
              "#f0f921"
             ]
            ],
            "type": "heatmap"
           }
          ],
          "histogram": [
           {
            "marker": {
             "pattern": {
              "fillmode": "overlay",
              "size": 10,
              "solidity": 0.2
             }
            },
            "type": "histogram"
           }
          ],
          "histogram2d": [
           {
            "colorbar": {
             "outlinewidth": 0,
             "ticks": ""
            },
            "colorscale": [
             [
              0,
              "#0d0887"
             ],
             [
              0.1111111111111111,
              "#46039f"
             ],
             [
              0.2222222222222222,
              "#7201a8"
             ],
             [
              0.3333333333333333,
              "#9c179e"
             ],
             [
              0.4444444444444444,
              "#bd3786"
             ],
             [
              0.5555555555555556,
              "#d8576b"
             ],
             [
              0.6666666666666666,
              "#ed7953"
             ],
             [
              0.7777777777777778,
              "#fb9f3a"
             ],
             [
              0.8888888888888888,
              "#fdca26"
             ],
             [
              1,
              "#f0f921"
             ]
            ],
            "type": "histogram2d"
           }
          ],
          "histogram2dcontour": [
           {
            "colorbar": {
             "outlinewidth": 0,
             "ticks": ""
            },
            "colorscale": [
             [
              0,
              "#0d0887"
             ],
             [
              0.1111111111111111,
              "#46039f"
             ],
             [
              0.2222222222222222,
              "#7201a8"
             ],
             [
              0.3333333333333333,
              "#9c179e"
             ],
             [
              0.4444444444444444,
              "#bd3786"
             ],
             [
              0.5555555555555556,
              "#d8576b"
             ],
             [
              0.6666666666666666,
              "#ed7953"
             ],
             [
              0.7777777777777778,
              "#fb9f3a"
             ],
             [
              0.8888888888888888,
              "#fdca26"
             ],
             [
              1,
              "#f0f921"
             ]
            ],
            "type": "histogram2dcontour"
           }
          ],
          "mesh3d": [
           {
            "colorbar": {
             "outlinewidth": 0,
             "ticks": ""
            },
            "type": "mesh3d"
           }
          ],
          "parcoords": [
           {
            "line": {
             "colorbar": {
              "outlinewidth": 0,
              "ticks": ""
             }
            },
            "type": "parcoords"
           }
          ],
          "pie": [
           {
            "automargin": true,
            "type": "pie"
           }
          ],
          "scatter": [
           {
            "fillpattern": {
             "fillmode": "overlay",
             "size": 10,
             "solidity": 0.2
            },
            "type": "scatter"
           }
          ],
          "scatter3d": [
           {
            "line": {
             "colorbar": {
              "outlinewidth": 0,
              "ticks": ""
             }
            },
            "marker": {
             "colorbar": {
              "outlinewidth": 0,
              "ticks": ""
             }
            },
            "type": "scatter3d"
           }
          ],
          "scattercarpet": [
           {
            "marker": {
             "colorbar": {
              "outlinewidth": 0,
              "ticks": ""
             }
            },
            "type": "scattercarpet"
           }
          ],
          "scattergeo": [
           {
            "marker": {
             "colorbar": {
              "outlinewidth": 0,
              "ticks": ""
             }
            },
            "type": "scattergeo"
           }
          ],
          "scattergl": [
           {
            "marker": {
             "colorbar": {
              "outlinewidth": 0,
              "ticks": ""
             }
            },
            "type": "scattergl"
           }
          ],
          "scattermap": [
           {
            "marker": {
             "colorbar": {
              "outlinewidth": 0,
              "ticks": ""
             }
            },
            "type": "scattermap"
           }
          ],
          "scattermapbox": [
           {
            "marker": {
             "colorbar": {
              "outlinewidth": 0,
              "ticks": ""
             }
            },
            "type": "scattermapbox"
           }
          ],
          "scatterpolar": [
           {
            "marker": {
             "colorbar": {
              "outlinewidth": 0,
              "ticks": ""
             }
            },
            "type": "scatterpolar"
           }
          ],
          "scatterpolargl": [
           {
            "marker": {
             "colorbar": {
              "outlinewidth": 0,
              "ticks": ""
             }
            },
            "type": "scatterpolargl"
           }
          ],
          "scatterternary": [
           {
            "marker": {
             "colorbar": {
              "outlinewidth": 0,
              "ticks": ""
             }
            },
            "type": "scatterternary"
           }
          ],
          "surface": [
           {
            "colorbar": {
             "outlinewidth": 0,
             "ticks": ""
            },
            "colorscale": [
             [
              0,
              "#0d0887"
             ],
             [
              0.1111111111111111,
              "#46039f"
             ],
             [
              0.2222222222222222,
              "#7201a8"
             ],
             [
              0.3333333333333333,
              "#9c179e"
             ],
             [
              0.4444444444444444,
              "#bd3786"
             ],
             [
              0.5555555555555556,
              "#d8576b"
             ],
             [
              0.6666666666666666,
              "#ed7953"
             ],
             [
              0.7777777777777778,
              "#fb9f3a"
             ],
             [
              0.8888888888888888,
              "#fdca26"
             ],
             [
              1,
              "#f0f921"
             ]
            ],
            "type": "surface"
           }
          ],
          "table": [
           {
            "cells": {
             "fill": {
              "color": "#EBF0F8"
             },
             "line": {
              "color": "white"
             }
            },
            "header": {
             "fill": {
              "color": "#C8D4E3"
             },
             "line": {
              "color": "white"
             }
            },
            "type": "table"
           }
          ]
         },
         "layout": {
          "annotationdefaults": {
           "arrowcolor": "#2a3f5f",
           "arrowhead": 0,
           "arrowwidth": 1
          },
          "autotypenumbers": "strict",
          "coloraxis": {
           "colorbar": {
            "outlinewidth": 0,
            "ticks": ""
           }
          },
          "colorscale": {
           "diverging": [
            [
             0,
             "#8e0152"
            ],
            [
             0.1,
             "#c51b7d"
            ],
            [
             0.2,
             "#de77ae"
            ],
            [
             0.3,
             "#f1b6da"
            ],
            [
             0.4,
             "#fde0ef"
            ],
            [
             0.5,
             "#f7f7f7"
            ],
            [
             0.6,
             "#e6f5d0"
            ],
            [
             0.7,
             "#b8e186"
            ],
            [
             0.8,
             "#7fbc41"
            ],
            [
             0.9,
             "#4d9221"
            ],
            [
             1,
             "#276419"
            ]
           ],
           "sequential": [
            [
             0,
             "#0d0887"
            ],
            [
             0.1111111111111111,
             "#46039f"
            ],
            [
             0.2222222222222222,
             "#7201a8"
            ],
            [
             0.3333333333333333,
             "#9c179e"
            ],
            [
             0.4444444444444444,
             "#bd3786"
            ],
            [
             0.5555555555555556,
             "#d8576b"
            ],
            [
             0.6666666666666666,
             "#ed7953"
            ],
            [
             0.7777777777777778,
             "#fb9f3a"
            ],
            [
             0.8888888888888888,
             "#fdca26"
            ],
            [
             1,
             "#f0f921"
            ]
           ],
           "sequentialminus": [
            [
             0,
             "#0d0887"
            ],
            [
             0.1111111111111111,
             "#46039f"
            ],
            [
             0.2222222222222222,
             "#7201a8"
            ],
            [
             0.3333333333333333,
             "#9c179e"
            ],
            [
             0.4444444444444444,
             "#bd3786"
            ],
            [
             0.5555555555555556,
             "#d8576b"
            ],
            [
             0.6666666666666666,
             "#ed7953"
            ],
            [
             0.7777777777777778,
             "#fb9f3a"
            ],
            [
             0.8888888888888888,
             "#fdca26"
            ],
            [
             1,
             "#f0f921"
            ]
           ]
          },
          "colorway": [
           "#636efa",
           "#EF553B",
           "#00cc96",
           "#ab63fa",
           "#FFA15A",
           "#19d3f3",
           "#FF6692",
           "#B6E880",
           "#FF97FF",
           "#FECB52"
          ],
          "font": {
           "color": "#2a3f5f"
          },
          "geo": {
           "bgcolor": "white",
           "lakecolor": "white",
           "landcolor": "#E5ECF6",
           "showlakes": true,
           "showland": true,
           "subunitcolor": "white"
          },
          "hoverlabel": {
           "align": "left"
          },
          "hovermode": "closest",
          "mapbox": {
           "style": "light"
          },
          "paper_bgcolor": "white",
          "plot_bgcolor": "#E5ECF6",
          "polar": {
           "angularaxis": {
            "gridcolor": "white",
            "linecolor": "white",
            "ticks": ""
           },
           "bgcolor": "#E5ECF6",
           "radialaxis": {
            "gridcolor": "white",
            "linecolor": "white",
            "ticks": ""
           }
          },
          "scene": {
           "xaxis": {
            "backgroundcolor": "#E5ECF6",
            "gridcolor": "white",
            "gridwidth": 2,
            "linecolor": "white",
            "showbackground": true,
            "ticks": "",
            "zerolinecolor": "white"
           },
           "yaxis": {
            "backgroundcolor": "#E5ECF6",
            "gridcolor": "white",
            "gridwidth": 2,
            "linecolor": "white",
            "showbackground": true,
            "ticks": "",
            "zerolinecolor": "white"
           },
           "zaxis": {
            "backgroundcolor": "#E5ECF6",
            "gridcolor": "white",
            "gridwidth": 2,
            "linecolor": "white",
            "showbackground": true,
            "ticks": "",
            "zerolinecolor": "white"
           }
          },
          "shapedefaults": {
           "line": {
            "color": "#2a3f5f"
           }
          },
          "ternary": {
           "aaxis": {
            "gridcolor": "white",
            "linecolor": "white",
            "ticks": ""
           },
           "baxis": {
            "gridcolor": "white",
            "linecolor": "white",
            "ticks": ""
           },
           "bgcolor": "#E5ECF6",
           "caxis": {
            "gridcolor": "white",
            "linecolor": "white",
            "ticks": ""
           }
          },
          "title": {
           "x": 0.05
          },
          "xaxis": {
           "automargin": true,
           "gridcolor": "white",
           "linecolor": "white",
           "ticks": "",
           "title": {
            "standoff": 15
           },
           "zerolinecolor": "white",
           "zerolinewidth": 2
          },
          "yaxis": {
           "automargin": true,
           "gridcolor": "white",
           "linecolor": "white",
           "ticks": "",
           "title": {
            "standoff": 15
           },
           "zerolinecolor": "white",
           "zerolinewidth": 2
          }
         }
        },
        "xaxis": {
         "anchor": "y",
         "domain": [
          0,
          1
         ],
         "title": {
          "text": "price"
         }
        },
        "yaxis": {
         "anchor": "x",
         "domain": [
          0,
          1
         ],
         "title": {
          "text": "rating"
         }
        }
       }
      }
     },
     "metadata": {},
     "output_type": "display_data"
    }
   ],
   "source": [
    "# Scatterplot de Price e Rating\n",
    "px.scatter(df_laptops, x='price', y='rating', color='brand')"
   ]
  },
  {
   "cell_type": "markdown",
   "id": "25df26ef",
   "metadata": {},
   "source": [
    "### Treinar modelos de clustering hierarquico"
   ]
  },
  {
   "cell_type": "code",
   "execution_count": 17,
   "id": "ae2db45b",
   "metadata": {},
   "outputs": [],
   "source": [
    "# Selecionar colunas para clusterização\n",
    "X = df_laptops.copy()\n",
    "\n",
    "# Remover colunas desnecessárias\n",
    "X.drop(columns=['index', 'model'], axis=1, inplace=True)"
   ]
  },
  {
   "cell_type": "code",
   "execution_count": 18,
   "id": "ef32109f",
   "metadata": {},
   "outputs": [
    {
     "data": {
      "text/html": [
       "<div>\n",
       "<style scoped>\n",
       "    .dataframe tbody tr th:only-of-type {\n",
       "        vertical-align: middle;\n",
       "    }\n",
       "\n",
       "    .dataframe tbody tr th {\n",
       "        vertical-align: top;\n",
       "    }\n",
       "\n",
       "    .dataframe thead th {\n",
       "        text-align: right;\n",
       "    }\n",
       "</style>\n",
       "<table border=\"1\" class=\"dataframe\">\n",
       "  <thead>\n",
       "    <tr style=\"text-align: right;\">\n",
       "      <th></th>\n",
       "      <th>brand</th>\n",
       "      <th>price</th>\n",
       "      <th>rating</th>\n",
       "      <th>processor_brand</th>\n",
       "      <th>processor_tier</th>\n",
       "      <th>num_cores</th>\n",
       "      <th>num_threads</th>\n",
       "      <th>ram_memory</th>\n",
       "      <th>primary_storage_type</th>\n",
       "      <th>primary_storage_capacity</th>\n",
       "      <th>gpu_brand</th>\n",
       "      <th>gpu_type</th>\n",
       "      <th>is_touch_screen</th>\n",
       "      <th>display_size</th>\n",
       "      <th>resolution_width</th>\n",
       "      <th>resolution_height</th>\n",
       "      <th>os</th>\n",
       "      <th>year_of_warranty</th>\n",
       "    </tr>\n",
       "  </thead>\n",
       "  <tbody>\n",
       "    <tr>\n",
       "      <th>0</th>\n",
       "      <td>tecno</td>\n",
       "      <td>287.72</td>\n",
       "      <td>63</td>\n",
       "      <td>intel</td>\n",
       "      <td>core i3</td>\n",
       "      <td>2</td>\n",
       "      <td>4</td>\n",
       "      <td>8</td>\n",
       "      <td>SSD</td>\n",
       "      <td>512</td>\n",
       "      <td>intel</td>\n",
       "      <td>integrated</td>\n",
       "      <td>0</td>\n",
       "      <td>15.6</td>\n",
       "      <td>1920</td>\n",
       "      <td>1080</td>\n",
       "      <td>windows</td>\n",
       "      <td>1</td>\n",
       "    </tr>\n",
       "    <tr>\n",
       "      <th>1</th>\n",
       "      <td>tecno</td>\n",
       "      <td>431.64</td>\n",
       "      <td>67</td>\n",
       "      <td>intel</td>\n",
       "      <td>core i7</td>\n",
       "      <td>4</td>\n",
       "      <td>8</td>\n",
       "      <td>16</td>\n",
       "      <td>SSD</td>\n",
       "      <td>1024</td>\n",
       "      <td>intel</td>\n",
       "      <td>integrated</td>\n",
       "      <td>0</td>\n",
       "      <td>15.6</td>\n",
       "      <td>1920</td>\n",
       "      <td>1080</td>\n",
       "      <td>windows</td>\n",
       "      <td>1</td>\n",
       "    </tr>\n",
       "    <tr>\n",
       "      <th>2</th>\n",
       "      <td>hp</td>\n",
       "      <td>612.86</td>\n",
       "      <td>73</td>\n",
       "      <td>amd</td>\n",
       "      <td>ryzen 5</td>\n",
       "      <td>6</td>\n",
       "      <td>12</td>\n",
       "      <td>8</td>\n",
       "      <td>SSD</td>\n",
       "      <td>512</td>\n",
       "      <td>amd</td>\n",
       "      <td>dedicated</td>\n",
       "      <td>0</td>\n",
       "      <td>15.6</td>\n",
       "      <td>1920</td>\n",
       "      <td>1080</td>\n",
       "      <td>windows</td>\n",
       "      <td>1</td>\n",
       "    </tr>\n",
       "    <tr>\n",
       "      <th>3</th>\n",
       "      <td>acer</td>\n",
       "      <td>479.62</td>\n",
       "      <td>62</td>\n",
       "      <td>intel</td>\n",
       "      <td>core i5</td>\n",
       "      <td>12</td>\n",
       "      <td>16</td>\n",
       "      <td>8</td>\n",
       "      <td>SSD</td>\n",
       "      <td>512</td>\n",
       "      <td>intel</td>\n",
       "      <td>integrated</td>\n",
       "      <td>0</td>\n",
       "      <td>14.0</td>\n",
       "      <td>1920</td>\n",
       "      <td>1080</td>\n",
       "      <td>windows</td>\n",
       "      <td>1</td>\n",
       "    </tr>\n",
       "    <tr>\n",
       "      <th>4</th>\n",
       "      <td>lenovo</td>\n",
       "      <td>342.77</td>\n",
       "      <td>62</td>\n",
       "      <td>amd</td>\n",
       "      <td>ryzen 3</td>\n",
       "      <td>4</td>\n",
       "      <td>8</td>\n",
       "      <td>8</td>\n",
       "      <td>SSD</td>\n",
       "      <td>512</td>\n",
       "      <td>amd</td>\n",
       "      <td>integrated</td>\n",
       "      <td>0</td>\n",
       "      <td>15.6</td>\n",
       "      <td>1920</td>\n",
       "      <td>1080</td>\n",
       "      <td>windows</td>\n",
       "      <td>1</td>\n",
       "    </tr>\n",
       "    <tr>\n",
       "      <th>...</th>\n",
       "      <td>...</td>\n",
       "      <td>...</td>\n",
       "      <td>...</td>\n",
       "      <td>...</td>\n",
       "      <td>...</td>\n",
       "      <td>...</td>\n",
       "      <td>...</td>\n",
       "      <td>...</td>\n",
       "      <td>...</td>\n",
       "      <td>...</td>\n",
       "      <td>...</td>\n",
       "      <td>...</td>\n",
       "      <td>...</td>\n",
       "      <td>...</td>\n",
       "      <td>...</td>\n",
       "      <td>...</td>\n",
       "      <td>...</td>\n",
       "      <td>...</td>\n",
       "    </tr>\n",
       "    <tr>\n",
       "      <th>986</th>\n",
       "      <td>asus</td>\n",
       "      <td>791.44</td>\n",
       "      <td>68</td>\n",
       "      <td>amd</td>\n",
       "      <td>ryzen 5</td>\n",
       "      <td>6</td>\n",
       "      <td>12</td>\n",
       "      <td>16</td>\n",
       "      <td>SSD</td>\n",
       "      <td>512</td>\n",
       "      <td>nvidia</td>\n",
       "      <td>dedicated</td>\n",
       "      <td>0</td>\n",
       "      <td>15.6</td>\n",
       "      <td>1920</td>\n",
       "      <td>1080</td>\n",
       "      <td>windows</td>\n",
       "      <td>1</td>\n",
       "    </tr>\n",
       "    <tr>\n",
       "      <th>987</th>\n",
       "      <td>msi</td>\n",
       "      <td>1103.27</td>\n",
       "      <td>73</td>\n",
       "      <td>intel</td>\n",
       "      <td>core i7</td>\n",
       "      <td>10</td>\n",
       "      <td>16</td>\n",
       "      <td>16</td>\n",
       "      <td>SSD</td>\n",
       "      <td>512</td>\n",
       "      <td>nvidia</td>\n",
       "      <td>dedicated</td>\n",
       "      <td>0</td>\n",
       "      <td>15.6</td>\n",
       "      <td>1920</td>\n",
       "      <td>1080</td>\n",
       "      <td>windows</td>\n",
       "      <td>2</td>\n",
       "    </tr>\n",
       "    <tr>\n",
       "      <th>988</th>\n",
       "      <td>asus</td>\n",
       "      <td>539.58</td>\n",
       "      <td>59</td>\n",
       "      <td>amd</td>\n",
       "      <td>ryzen 5</td>\n",
       "      <td>4</td>\n",
       "      <td>8</td>\n",
       "      <td>8</td>\n",
       "      <td>SSD</td>\n",
       "      <td>512</td>\n",
       "      <td>amd</td>\n",
       "      <td>integrated</td>\n",
       "      <td>0</td>\n",
       "      <td>15.6</td>\n",
       "      <td>1920</td>\n",
       "      <td>1080</td>\n",
       "      <td>windows</td>\n",
       "      <td>1</td>\n",
       "    </tr>\n",
       "    <tr>\n",
       "      <th>989</th>\n",
       "      <td>asus</td>\n",
       "      <td>815.43</td>\n",
       "      <td>68</td>\n",
       "      <td>amd</td>\n",
       "      <td>ryzen 5</td>\n",
       "      <td>6</td>\n",
       "      <td>12</td>\n",
       "      <td>16</td>\n",
       "      <td>SSD</td>\n",
       "      <td>512</td>\n",
       "      <td>amd</td>\n",
       "      <td>integrated</td>\n",
       "      <td>0</td>\n",
       "      <td>14.0</td>\n",
       "      <td>2560</td>\n",
       "      <td>1600</td>\n",
       "      <td>windows</td>\n",
       "      <td>1</td>\n",
       "    </tr>\n",
       "    <tr>\n",
       "      <th>990</th>\n",
       "      <td>hp</td>\n",
       "      <td>251.74</td>\n",
       "      <td>37</td>\n",
       "      <td>intel</td>\n",
       "      <td>celeron</td>\n",
       "      <td>2</td>\n",
       "      <td>2</td>\n",
       "      <td>4</td>\n",
       "      <td>HDD</td>\n",
       "      <td>128</td>\n",
       "      <td>intel</td>\n",
       "      <td>integrated</td>\n",
       "      <td>0</td>\n",
       "      <td>15.6</td>\n",
       "      <td>1366</td>\n",
       "      <td>768</td>\n",
       "      <td>chrome</td>\n",
       "      <td>1</td>\n",
       "    </tr>\n",
       "  </tbody>\n",
       "</table>\n",
       "<p>991 rows × 18 columns</p>\n",
       "</div>"
      ],
      "text/plain": [
       "      brand    price  rating processor_brand processor_tier  num_cores  \\\n",
       "0     tecno   287.72      63           intel        core i3          2   \n",
       "1     tecno   431.64      67           intel        core i7          4   \n",
       "2        hp   612.86      73             amd        ryzen 5          6   \n",
       "3      acer   479.62      62           intel        core i5         12   \n",
       "4    lenovo   342.77      62             amd        ryzen 3          4   \n",
       "..      ...      ...     ...             ...            ...        ...   \n",
       "986    asus   791.44      68             amd        ryzen 5          6   \n",
       "987     msi  1103.27      73           intel        core i7         10   \n",
       "988    asus   539.58      59             amd        ryzen 5          4   \n",
       "989    asus   815.43      68             amd        ryzen 5          6   \n",
       "990      hp   251.74      37           intel        celeron          2   \n",
       "\n",
       "     num_threads  ram_memory primary_storage_type  primary_storage_capacity  \\\n",
       "0              4           8                  SSD                       512   \n",
       "1              8          16                  SSD                      1024   \n",
       "2             12           8                  SSD                       512   \n",
       "3             16           8                  SSD                       512   \n",
       "4              8           8                  SSD                       512   \n",
       "..           ...         ...                  ...                       ...   \n",
       "986           12          16                  SSD                       512   \n",
       "987           16          16                  SSD                       512   \n",
       "988            8           8                  SSD                       512   \n",
       "989           12          16                  SSD                       512   \n",
       "990            2           4                  HDD                       128   \n",
       "\n",
       "    gpu_brand    gpu_type  is_touch_screen  display_size  resolution_width  \\\n",
       "0       intel  integrated                0          15.6              1920   \n",
       "1       intel  integrated                0          15.6              1920   \n",
       "2         amd   dedicated                0          15.6              1920   \n",
       "3       intel  integrated                0          14.0              1920   \n",
       "4         amd  integrated                0          15.6              1920   \n",
       "..        ...         ...              ...           ...               ...   \n",
       "986    nvidia   dedicated                0          15.6              1920   \n",
       "987    nvidia   dedicated                0          15.6              1920   \n",
       "988       amd  integrated                0          15.6              1920   \n",
       "989       amd  integrated                0          14.0              2560   \n",
       "990     intel  integrated                0          15.6              1366   \n",
       "\n",
       "     resolution_height       os  year_of_warranty  \n",
       "0                 1080  windows                 1  \n",
       "1                 1080  windows                 1  \n",
       "2                 1080  windows                 1  \n",
       "3                 1080  windows                 1  \n",
       "4                 1080  windows                 1  \n",
       "..                 ...      ...               ...  \n",
       "986               1080  windows                 1  \n",
       "987               1080  windows                 2  \n",
       "988               1080  windows                 1  \n",
       "989               1600  windows                 1  \n",
       "990                768   chrome                 1  \n",
       "\n",
       "[991 rows x 18 columns]"
      ]
     },
     "execution_count": 18,
     "metadata": {},
     "output_type": "execute_result"
    }
   ],
   "source": [
    "X"
   ]
  },
  {
   "cell_type": "code",
   "execution_count": null,
   "id": "1e5ab10f",
   "metadata": {},
   "outputs": [],
   "source": [
    "# Separar variáveis numéricas e categóricas\n",
    "numeric_features = ['price', 'rating', 'num_cores', 'num_threads', 'ram_memory', 'primary_storage_capacity',\n",
    "                    'display_size', 'resolution_width', 'resolution_height']\n",
    "categorical_features = ['brand', 'processor_brand', 'gpu_brand', 'gpu_type', 'os']                        "
   ]
  },
  {
   "cell_type": "code",
   "execution_count": 20,
   "id": "01483715",
   "metadata": {},
   "outputs": [],
   "source": [
    "# Aplicar transformação de dados\n",
    "numeric_transformer = StandardScaler()\n",
    "categorical_transformer = OneHotEncoder()"
   ]
  },
  {
   "cell_type": "code",
   "execution_count": 21,
   "id": "6fc5cdb2",
   "metadata": {},
   "outputs": [],
   "source": [
    "# Criar pré-processador de transformação\n",
    "preprocessor= ColumnTransformer(\n",
    "    transformers=[\n",
    "        ('num', numeric_transformer, numeric_features),\n",
    "        ('cat', categorical_transformer, categorical_features)\n",
    "    ]\n",
    "    \n",
    ")"
   ]
  },
  {
   "cell_type": "code",
   "execution_count": 22,
   "id": "58d6bbc6",
   "metadata": {},
   "outputs": [],
   "source": [
    "# Transformar os dados\n",
    "X_transformed = preprocessor.fit_transform(X)"
   ]
  },
  {
   "cell_type": "code",
   "execution_count": null,
   "id": "b5416ad8",
   "metadata": {},
   "outputs": [
    {
     "data": {
      "text/plain": [
       "<Compressed Sparse Row sparse matrix of dtype 'float64'\n",
       "\twith 13874 stored elements and shape (991, 54)>"
      ]
     },
     "execution_count": 25,
     "metadata": {},
     "output_type": "execute_result"
    }
   ],
   "source": [
    "# Visualizar X_transformed\n",
    "X_transformed"
   ]
  },
  {
   "cell_type": "code",
   "execution_count": null,
   "id": "26784a5b",
   "metadata": {},
   "outputs": [],
   "source": [
    "def hierarchical_aglomerative_objective(trial):\n",
    "    # Definindo os hiperparâmetros a serem otimizados\n",
    "    n_clusters = trial.suggest_int('n_clusters', 10, 150)\n",
    "    # Linkage = Critério de distância entre dois conjuntos para formar um cluster\n",
    "    # Ward = Variância\n",
    "    # Average = Distância média\n",
    "    # Complete = Distância máxima\n",
    "    # Single = Distância mínima\n",
    "    linkage = trial.suggest_categorical('linkage', ['ward', 'average', 'complete', 'single'])\n",
    "    \n",
    "    # Instanciar o modelo\n",
    "    hierarchical_model = AgglomerativeClustering(linkage=linkage, n_clusters=n_clusters)\n",
    "    \n",
    "    # Treinar o modelo e executar a clusterização\n",
    "    y = hierarchical_model.fit_predict(X_transformed.toarray())\n",
    "    \n",
    "    # Calcular a pontuação de silhueta (silhouette score)\n",
    "    sillhouette_avg = silhouette_score(X_transformed, y)\n",
    "    \n",
    "    return sillhouette_avg"
   ]
  },
  {
   "cell_type": "code",
   "execution_count": 27,
   "id": "8d33b9a6",
   "metadata": {},
   "outputs": [
    {
     "name": "stderr",
     "output_type": "stream",
     "text": [
      "[I 2025-05-24 18:16:40,630] A new study created in memory with name: no-name-5c1222de-74fc-4b5d-a49e-483b591a3e50\n"
     ]
    }
   ],
   "source": [
    "# Criar estudo no Optuna\n",
    "search_space_ag = {'n_clusters': range(10, 151), 'linkage': ['ward', 'average', 'complete', 'single']}\n",
    "sampler_ag = optuna.samplers.GridSampler(search_space=search_space_ag)\n",
    "estudo_ag = optuna.create_study(direction='maximize', sampler=sampler_ag)"
   ]
  },
  {
   "cell_type": "code",
   "execution_count": null,
   "id": "f51aed9e",
   "metadata": {},
   "outputs": [
    {
     "name": "stderr",
     "output_type": "stream",
     "text": [
      "[I 2025-05-24 18:17:35,597] Trial 0 finished with value: 0.2234907963314824 and parameters: {'n_clusters': 108, 'linkage': 'average'}. Best is trial 0 with value: 0.2234907963314824.\n",
      "[I 2025-05-24 18:17:35,669] Trial 1 finished with value: 0.17524794730527618 and parameters: {'n_clusters': 44, 'linkage': 'complete'}. Best is trial 0 with value: 0.2234907963314824.\n",
      "[I 2025-05-24 18:17:35,745] Trial 2 finished with value: 0.18192511775951023 and parameters: {'n_clusters': 57, 'linkage': 'average'}. Best is trial 0 with value: 0.2234907963314824.\n",
      "[I 2025-05-24 18:17:35,817] Trial 3 finished with value: 0.17426651499876017 and parameters: {'n_clusters': 46, 'linkage': 'complete'}. Best is trial 0 with value: 0.2234907963314824.\n",
      "[I 2025-05-24 18:17:35,888] Trial 4 finished with value: 0.22831449937222206 and parameters: {'n_clusters': 140, 'linkage': 'complete'}. Best is trial 4 with value: 0.22831449937222206.\n",
      "[I 2025-05-24 18:17:35,969] Trial 5 finished with value: 0.2354443546476447 and parameters: {'n_clusters': 150, 'linkage': 'average'}. Best is trial 5 with value: 0.2354443546476447.\n",
      "[I 2025-05-24 18:17:36,041] Trial 6 finished with value: 0.2318880104031542 and parameters: {'n_clusters': 145, 'linkage': 'complete'}. Best is trial 5 with value: 0.2354443546476447.\n",
      "[I 2025-05-24 18:17:36,118] Trial 7 finished with value: 0.21637852586425793 and parameters: {'n_clusters': 112, 'linkage': 'complete'}. Best is trial 5 with value: 0.2354443546476447.\n",
      "[I 2025-05-24 18:17:36,193] Trial 8 finished with value: -0.012385366737670744 and parameters: {'n_clusters': 103, 'linkage': 'single'}. Best is trial 5 with value: 0.2354443546476447.\n",
      "[I 2025-05-24 18:17:36,274] Trial 9 finished with value: 0.22484977768132305 and parameters: {'n_clusters': 111, 'linkage': 'average'}. Best is trial 5 with value: 0.2354443546476447.\n",
      "[I 2025-05-24 18:17:36,352] Trial 10 finished with value: 0.20088251312402894 and parameters: {'n_clusters': 75, 'linkage': 'complete'}. Best is trial 5 with value: 0.2354443546476447.\n",
      "[I 2025-05-24 18:17:36,445] Trial 11 finished with value: 0.22380660507267972 and parameters: {'n_clusters': 114, 'linkage': 'average'}. Best is trial 5 with value: 0.2354443546476447.\n",
      "[I 2025-05-24 18:17:36,533] Trial 12 finished with value: -0.006948212977119697 and parameters: {'n_clusters': 98, 'linkage': 'single'}. Best is trial 5 with value: 0.2354443546476447.\n",
      "[I 2025-05-24 18:17:36,605] Trial 13 finished with value: 0.2185755902202045 and parameters: {'n_clusters': 119, 'linkage': 'average'}. Best is trial 5 with value: 0.2354443546476447.\n",
      "[I 2025-05-24 18:17:36,678] Trial 14 finished with value: 0.20476442037998793 and parameters: {'n_clusters': 73, 'linkage': 'complete'}. Best is trial 5 with value: 0.2354443546476447.\n",
      "[I 2025-05-24 18:17:36,755] Trial 15 finished with value: 0.20209964266736868 and parameters: {'n_clusters': 76, 'linkage': 'complete'}. Best is trial 5 with value: 0.2354443546476447.\n",
      "[I 2025-05-24 18:17:36,832] Trial 16 finished with value: 0.2216944255575408 and parameters: {'n_clusters': 138, 'linkage': 'complete'}. Best is trial 5 with value: 0.2354443546476447.\n",
      "[I 2025-05-24 18:17:36,906] Trial 17 finished with value: 0.21575502601728042 and parameters: {'n_clusters': 120, 'linkage': 'complete'}. Best is trial 5 with value: 0.2354443546476447.\n",
      "[I 2025-05-24 18:17:36,983] Trial 18 finished with value: 0.21982110245597525 and parameters: {'n_clusters': 100, 'linkage': 'average'}. Best is trial 5 with value: 0.2354443546476447.\n",
      "[I 2025-05-24 18:17:37,062] Trial 19 finished with value: 0.15047744246806405 and parameters: {'n_clusters': 24, 'linkage': 'average'}. Best is trial 5 with value: 0.2354443546476447.\n",
      "[I 2025-05-24 18:17:37,152] Trial 20 finished with value: -0.020967760020367987 and parameters: {'n_clusters': 43, 'linkage': 'single'}. Best is trial 5 with value: 0.2354443546476447.\n",
      "[I 2025-05-24 18:17:37,234] Trial 21 finished with value: 0.21856440845928937 and parameters: {'n_clusters': 41, 'linkage': 'ward'}. Best is trial 5 with value: 0.2354443546476447.\n",
      "[I 2025-05-24 18:17:37,312] Trial 22 finished with value: 0.2466785062862802 and parameters: {'n_clusters': 85, 'linkage': 'ward'}. Best is trial 22 with value: 0.2466785062862802.\n",
      "[I 2025-05-24 18:17:37,389] Trial 23 finished with value: 0.29008750095185715 and parameters: {'n_clusters': 117, 'linkage': 'ward'}. Best is trial 23 with value: 0.29008750095185715.\n",
      "[I 2025-05-24 18:17:37,465] Trial 24 finished with value: 0.21574459736792392 and parameters: {'n_clusters': 88, 'linkage': 'average'}. Best is trial 23 with value: 0.29008750095185715.\n",
      "[I 2025-05-24 18:17:37,544] Trial 25 finished with value: 0.22590420165997852 and parameters: {'n_clusters': 47, 'linkage': 'ward'}. Best is trial 23 with value: 0.29008750095185715.\n",
      "[I 2025-05-24 18:17:37,624] Trial 26 finished with value: 0.2917053297000771 and parameters: {'n_clusters': 12, 'linkage': 'single'}. Best is trial 26 with value: 0.2917053297000771.\n",
      "[I 2025-05-24 18:17:37,704] Trial 27 finished with value: -0.011608217066892664 and parameters: {'n_clusters': 99, 'linkage': 'single'}. Best is trial 26 with value: 0.2917053297000771.\n",
      "[I 2025-05-24 18:17:37,788] Trial 28 finished with value: 0.16949061368130935 and parameters: {'n_clusters': 40, 'linkage': 'complete'}. Best is trial 26 with value: 0.2917053297000771.\n",
      "[I 2025-05-24 18:17:37,871] Trial 29 finished with value: 0.24805437685908638 and parameters: {'n_clusters': 88, 'linkage': 'ward'}. Best is trial 26 with value: 0.2917053297000771.\n",
      "[I 2025-05-24 18:17:37,954] Trial 30 finished with value: 0.20182401762192184 and parameters: {'n_clusters': 65, 'linkage': 'average'}. Best is trial 26 with value: 0.2917053297000771.\n",
      "[I 2025-05-24 18:17:38,033] Trial 31 finished with value: 0.20313139238453612 and parameters: {'n_clusters': 78, 'linkage': 'complete'}. Best is trial 26 with value: 0.2917053297000771.\n",
      "[I 2025-05-24 18:17:38,113] Trial 32 finished with value: 0.18291403053577054 and parameters: {'n_clusters': 20, 'linkage': 'ward'}. Best is trial 26 with value: 0.2917053297000771.\n",
      "[I 2025-05-24 18:17:38,197] Trial 33 finished with value: 0.08417562018430953 and parameters: {'n_clusters': 129, 'linkage': 'single'}. Best is trial 26 with value: 0.2917053297000771.\n",
      "[I 2025-05-24 18:17:38,281] Trial 34 finished with value: 0.2307623209852819 and parameters: {'n_clusters': 144, 'linkage': 'complete'}. Best is trial 26 with value: 0.2917053297000771.\n",
      "[I 2025-05-24 18:17:38,365] Trial 35 finished with value: 0.28125304508033033 and parameters: {'n_clusters': 112, 'linkage': 'ward'}. Best is trial 26 with value: 0.2917053297000771.\n",
      "[I 2025-05-24 18:17:38,457] Trial 36 finished with value: 0.28249440216065275 and parameters: {'n_clusters': 113, 'linkage': 'ward'}. Best is trial 26 with value: 0.2917053297000771.\n",
      "[I 2025-05-24 18:17:38,539] Trial 37 finished with value: 0.21707723787640335 and parameters: {'n_clusters': 131, 'linkage': 'complete'}. Best is trial 26 with value: 0.2917053297000771.\n",
      "[I 2025-05-24 18:17:38,621] Trial 38 finished with value: 0.21934455555096624 and parameters: {'n_clusters': 137, 'linkage': 'complete'}. Best is trial 26 with value: 0.2917053297000771.\n",
      "[I 2025-05-24 18:17:38,707] Trial 39 finished with value: -0.018912069436392277 and parameters: {'n_clusters': 40, 'linkage': 'single'}. Best is trial 26 with value: 0.2917053297000771.\n",
      "[I 2025-05-24 18:17:38,792] Trial 40 finished with value: 0.2641823440567754 and parameters: {'n_clusters': 99, 'linkage': 'ward'}. Best is trial 26 with value: 0.2917053297000771.\n",
      "[I 2025-05-24 18:17:38,879] Trial 41 finished with value: 0.21857661382519195 and parameters: {'n_clusters': 136, 'linkage': 'complete'}. Best is trial 26 with value: 0.2917053297000771.\n",
      "[I 2025-05-24 18:17:38,967] Trial 42 finished with value: -0.04585227746082969 and parameters: {'n_clusters': 80, 'linkage': 'single'}. Best is trial 26 with value: 0.2917053297000771.\n",
      "[I 2025-05-24 18:17:39,053] Trial 43 finished with value: 0.1751502223367616 and parameters: {'n_clusters': 43, 'linkage': 'complete'}. Best is trial 26 with value: 0.2917053297000771.\n",
      "[I 2025-05-24 18:17:39,139] Trial 44 finished with value: 0.2079170511581469 and parameters: {'n_clusters': 75, 'linkage': 'average'}. Best is trial 26 with value: 0.2917053297000771.\n",
      "[I 2025-05-24 18:17:39,227] Trial 45 finished with value: -0.0294564689590111 and parameters: {'n_clusters': 51, 'linkage': 'single'}. Best is trial 26 with value: 0.2917053297000771.\n",
      "[I 2025-05-24 18:17:39,318] Trial 46 finished with value: 0.14347402459378997 and parameters: {'n_clusters': 28, 'linkage': 'average'}. Best is trial 26 with value: 0.2917053297000771.\n",
      "[I 2025-05-24 18:17:39,404] Trial 47 finished with value: 0.17941347658410037 and parameters: {'n_clusters': 59, 'linkage': 'average'}. Best is trial 26 with value: 0.2917053297000771.\n",
      "[I 2025-05-24 18:17:39,493] Trial 48 finished with value: 0.20808350822768346 and parameters: {'n_clusters': 92, 'linkage': 'complete'}. Best is trial 26 with value: 0.2917053297000771.\n",
      "[I 2025-05-24 18:17:39,580] Trial 49 finished with value: 0.16825399221343482 and parameters: {'n_clusters': 31, 'linkage': 'average'}. Best is trial 26 with value: 0.2917053297000771.\n",
      "[I 2025-05-24 18:17:39,671] Trial 50 finished with value: 0.030679830280590577 and parameters: {'n_clusters': 123, 'linkage': 'single'}. Best is trial 26 with value: 0.2917053297000771.\n",
      "[I 2025-05-24 18:17:39,763] Trial 51 finished with value: -0.026775748007803264 and parameters: {'n_clusters': 49, 'linkage': 'single'}. Best is trial 26 with value: 0.2917053297000771.\n",
      "[I 2025-05-24 18:17:39,852] Trial 52 finished with value: 0.2900833667519171 and parameters: {'n_clusters': 118, 'linkage': 'ward'}. Best is trial 26 with value: 0.2917053297000771.\n",
      "[I 2025-05-24 18:17:39,944] Trial 53 finished with value: 0.19512325137619457 and parameters: {'n_clusters': 25, 'linkage': 'ward'}. Best is trial 26 with value: 0.2917053297000771.\n",
      "[I 2025-05-24 18:17:40,040] Trial 54 finished with value: 0.22566063117452445 and parameters: {'n_clusters': 115, 'linkage': 'average'}. Best is trial 26 with value: 0.2917053297000771.\n",
      "[I 2025-05-24 18:17:40,132] Trial 55 finished with value: 0.13407197799483717 and parameters: {'n_clusters': 29, 'linkage': 'complete'}. Best is trial 26 with value: 0.2917053297000771.\n",
      "[I 2025-05-24 18:17:40,224] Trial 56 finished with value: 0.1479242001156871 and parameters: {'n_clusters': 21, 'linkage': 'complete'}. Best is trial 26 with value: 0.2917053297000771.\n",
      "[I 2025-05-24 18:17:40,320] Trial 57 finished with value: 0.32729777740951294 and parameters: {'n_clusters': 150, 'linkage': 'ward'}. Best is trial 57 with value: 0.32729777740951294.\n",
      "[I 2025-05-24 18:17:40,417] Trial 58 finished with value: 0.19411235017994075 and parameters: {'n_clusters': 27, 'linkage': 'ward'}. Best is trial 57 with value: 0.32729777740951294.\n",
      "[I 2025-05-24 18:17:40,509] Trial 59 finished with value: 0.21803623538816608 and parameters: {'n_clusters': 135, 'linkage': 'complete'}. Best is trial 57 with value: 0.32729777740951294.\n",
      "[I 2025-05-24 18:17:40,606] Trial 60 finished with value: 0.20978890262923017 and parameters: {'n_clusters': 86, 'linkage': 'complete'}. Best is trial 57 with value: 0.32729777740951294.\n",
      "[I 2025-05-24 18:17:40,699] Trial 61 finished with value: 0.23985293218676346 and parameters: {'n_clusters': 76, 'linkage': 'ward'}. Best is trial 57 with value: 0.32729777740951294.\n",
      "[I 2025-05-24 18:17:40,789] Trial 62 finished with value: 0.2250607404717766 and parameters: {'n_clusters': 112, 'linkage': 'average'}. Best is trial 57 with value: 0.32729777740951294.\n",
      "[I 2025-05-24 18:17:40,884] Trial 63 finished with value: 0.21675325979778237 and parameters: {'n_clusters': 117, 'linkage': 'complete'}. Best is trial 57 with value: 0.32729777740951294.\n",
      "[I 2025-05-24 18:17:40,977] Trial 64 finished with value: 0.2321388764783042 and parameters: {'n_clusters': 55, 'linkage': 'ward'}. Best is trial 57 with value: 0.32729777740951294.\n",
      "[I 2025-05-24 18:17:41,073] Trial 65 finished with value: -0.015784956227349198 and parameters: {'n_clusters': 36, 'linkage': 'single'}. Best is trial 57 with value: 0.32729777740951294.\n",
      "[I 2025-05-24 18:17:41,167] Trial 66 finished with value: -0.010897187582202247 and parameters: {'n_clusters': 109, 'linkage': 'single'}. Best is trial 57 with value: 0.32729777740951294.\n",
      "[I 2025-05-24 18:17:41,265] Trial 67 finished with value: 0.23863587248186907 and parameters: {'n_clusters': 132, 'linkage': 'average'}. Best is trial 57 with value: 0.32729777740951294.\n",
      "[I 2025-05-24 18:17:41,361] Trial 68 finished with value: 0.22522817587557464 and parameters: {'n_clusters': 116, 'linkage': 'average'}. Best is trial 57 with value: 0.32729777740951294.\n",
      "[I 2025-05-24 18:17:41,456] Trial 69 finished with value: 0.06738110016804925 and parameters: {'n_clusters': 134, 'linkage': 'single'}. Best is trial 57 with value: 0.32729777740951294.\n",
      "[I 2025-05-24 18:17:41,553] Trial 70 finished with value: 0.142549778957606 and parameters: {'n_clusters': 10, 'linkage': 'complete'}. Best is trial 57 with value: 0.32729777740951294.\n",
      "[I 2025-05-24 18:17:41,654] Trial 71 finished with value: 0.17559516911786277 and parameters: {'n_clusters': 48, 'linkage': 'average'}. Best is trial 57 with value: 0.32729777740951294.\n",
      "[I 2025-05-24 18:17:41,751] Trial 72 finished with value: -0.03894495250452619 and parameters: {'n_clusters': 76, 'linkage': 'single'}. Best is trial 57 with value: 0.32729777740951294.\n",
      "[I 2025-05-24 18:17:41,849] Trial 73 finished with value: -0.01769488740174539 and parameters: {'n_clusters': 41, 'linkage': 'single'}. Best is trial 57 with value: 0.32729777740951294.\n",
      "[I 2025-05-24 18:17:41,947] Trial 74 finished with value: 0.23215144302942087 and parameters: {'n_clusters': 56, 'linkage': 'ward'}. Best is trial 57 with value: 0.32729777740951294.\n",
      "[I 2025-05-24 18:17:42,047] Trial 75 finished with value: 0.2964811611514021 and parameters: {'n_clusters': 128, 'linkage': 'ward'}. Best is trial 57 with value: 0.32729777740951294.\n",
      "[I 2025-05-24 18:17:42,147] Trial 76 finished with value: 0.14735821059107657 and parameters: {'n_clusters': 41, 'linkage': 'average'}. Best is trial 57 with value: 0.32729777740951294.\n",
      "[I 2025-05-24 18:17:42,253] Trial 77 finished with value: 0.19340598769463999 and parameters: {'n_clusters': 31, 'linkage': 'ward'}. Best is trial 57 with value: 0.32729777740951294.\n",
      "[I 2025-05-24 18:17:42,359] Trial 78 finished with value: 0.21793808860346364 and parameters: {'n_clusters': 114, 'linkage': 'complete'}. Best is trial 57 with value: 0.32729777740951294.\n",
      "[I 2025-05-24 18:17:42,457] Trial 79 finished with value: 0.04258202307108817 and parameters: {'n_clusters': 149, 'linkage': 'single'}. Best is trial 57 with value: 0.32729777740951294.\n",
      "[I 2025-05-24 18:17:42,557] Trial 80 finished with value: -0.025911536548773543 and parameters: {'n_clusters': 111, 'linkage': 'single'}. Best is trial 57 with value: 0.32729777740951294.\n",
      "[I 2025-05-24 18:17:42,654] Trial 81 finished with value: 0.22227577387921685 and parameters: {'n_clusters': 94, 'linkage': 'average'}. Best is trial 57 with value: 0.32729777740951294.\n",
      "[I 2025-05-24 18:17:42,757] Trial 82 finished with value: 0.31952336136695375 and parameters: {'n_clusters': 144, 'linkage': 'ward'}. Best is trial 57 with value: 0.32729777740951294.\n",
      "[I 2025-05-24 18:17:42,861] Trial 83 finished with value: 0.24361876308154698 and parameters: {'n_clusters': 81, 'linkage': 'ward'}. Best is trial 57 with value: 0.32729777740951294.\n",
      "[I 2025-05-24 18:17:42,959] Trial 84 finished with value: 0.21609792581497622 and parameters: {'n_clusters': 121, 'linkage': 'complete'}. Best is trial 57 with value: 0.32729777740951294.\n",
      "[I 2025-05-24 18:17:43,064] Trial 85 finished with value: 0.259008820188013 and parameters: {'n_clusters': 95, 'linkage': 'ward'}. Best is trial 57 with value: 0.32729777740951294.\n",
      "[I 2025-05-24 18:17:43,165] Trial 86 finished with value: 0.1973127735574832 and parameters: {'n_clusters': 61, 'linkage': 'complete'}. Best is trial 57 with value: 0.32729777740951294.\n",
      "[I 2025-05-24 18:17:43,269] Trial 87 finished with value: 0.26361667359163016 and parameters: {'n_clusters': 100, 'linkage': 'ward'}. Best is trial 57 with value: 0.32729777740951294.\n",
      "[I 2025-05-24 18:17:43,372] Trial 88 finished with value: -0.01221085869683866 and parameters: {'n_clusters': 102, 'linkage': 'single'}. Best is trial 57 with value: 0.32729777740951294.\n",
      "[I 2025-05-24 18:17:43,473] Trial 89 finished with value: 0.05468754282834488 and parameters: {'n_clusters': 142, 'linkage': 'single'}. Best is trial 57 with value: 0.32729777740951294.\n",
      "[I 2025-05-24 18:17:43,576] Trial 90 finished with value: -0.030690762504648906 and parameters: {'n_clusters': 115, 'linkage': 'single'}. Best is trial 57 with value: 0.32729777740951294.\n",
      "[I 2025-05-24 18:17:43,679] Trial 91 finished with value: 0.21099706125190115 and parameters: {'n_clusters': 104, 'linkage': 'complete'}. Best is trial 57 with value: 0.32729777740951294.\n",
      "[I 2025-05-24 18:17:43,784] Trial 92 finished with value: 0.21661623689564757 and parameters: {'n_clusters': 118, 'linkage': 'complete'}. Best is trial 57 with value: 0.32729777740951294.\n",
      "[I 2025-05-24 18:17:43,887] Trial 93 finished with value: 0.1582975350840369 and parameters: {'n_clusters': 34, 'linkage': 'complete'}. Best is trial 57 with value: 0.32729777740951294.\n",
      "[I 2025-05-24 18:17:43,995] Trial 94 finished with value: 0.19552405814399773 and parameters: {'n_clusters': 58, 'linkage': 'complete'}. Best is trial 57 with value: 0.32729777740951294.\n",
      "[I 2025-05-24 18:17:44,105] Trial 95 finished with value: 0.2071459872852789 and parameters: {'n_clusters': 74, 'linkage': 'average'}. Best is trial 57 with value: 0.32729777740951294.\n",
      "[I 2025-05-24 18:17:44,217] Trial 96 finished with value: 0.2743065021683862 and parameters: {'n_clusters': 106, 'linkage': 'ward'}. Best is trial 57 with value: 0.32729777740951294.\n",
      "[I 2025-05-24 18:17:44,326] Trial 97 finished with value: 0.21694284352360366 and parameters: {'n_clusters': 109, 'linkage': 'complete'}. Best is trial 57 with value: 0.32729777740951294.\n",
      "[I 2025-05-24 18:17:44,432] Trial 98 finished with value: 0.14936102331486922 and parameters: {'n_clusters': 44, 'linkage': 'average'}. Best is trial 57 with value: 0.32729777740951294.\n",
      "[I 2025-05-24 18:17:44,529] Trial 99 finished with value: 0.21655041719908974 and parameters: {'n_clusters': 130, 'linkage': 'complete'}. Best is trial 57 with value: 0.32729777740951294.\n",
      "[I 2025-05-24 18:17:44,633] Trial 100 finished with value: 0.21814530040547253 and parameters: {'n_clusters': 134, 'linkage': 'complete'}. Best is trial 57 with value: 0.32729777740951294.\n",
      "[I 2025-05-24 18:17:44,735] Trial 101 finished with value: 0.22325685723376285 and parameters: {'n_clusters': 109, 'linkage': 'average'}. Best is trial 57 with value: 0.32729777740951294.\n",
      "[I 2025-05-24 18:17:44,836] Trial 102 finished with value: 0.2085074141371235 and parameters: {'n_clusters': 100, 'linkage': 'complete'}. Best is trial 57 with value: 0.32729777740951294.\n",
      "[I 2025-05-24 18:17:44,941] Trial 103 finished with value: -0.049381453674799805 and parameters: {'n_clusters': 90, 'linkage': 'single'}. Best is trial 57 with value: 0.32729777740951294.\n",
      "[I 2025-05-24 18:17:45,046] Trial 104 finished with value: 0.2946698679679079 and parameters: {'n_clusters': 11, 'linkage': 'average'}. Best is trial 57 with value: 0.32729777740951294.\n",
      "[I 2025-05-24 18:17:45,154] Trial 105 finished with value: -0.030786914785083004 and parameters: {'n_clusters': 86, 'linkage': 'single'}. Best is trial 57 with value: 0.32729777740951294.\n",
      "[I 2025-05-24 18:17:45,261] Trial 106 finished with value: 0.08492238352974084 and parameters: {'n_clusters': 128, 'linkage': 'single'}. Best is trial 57 with value: 0.32729777740951294.\n",
      "[I 2025-05-24 18:17:45,369] Trial 107 finished with value: 0.08715589325953373 and parameters: {'n_clusters': 132, 'linkage': 'single'}. Best is trial 57 with value: 0.32729777740951294.\n",
      "[I 2025-05-24 18:17:45,481] Trial 108 finished with value: 0.1910297870259329 and parameters: {'n_clusters': 54, 'linkage': 'average'}. Best is trial 57 with value: 0.32729777740951294.\n",
      "[I 2025-05-24 18:17:45,588] Trial 109 finished with value: -0.03810384204063109 and parameters: {'n_clusters': 70, 'linkage': 'single'}. Best is trial 57 with value: 0.32729777740951294.\n",
      "[I 2025-05-24 18:17:45,697] Trial 110 finished with value: 0.17839405284953613 and parameters: {'n_clusters': 34, 'linkage': 'average'}. Best is trial 57 with value: 0.32729777740951294.\n",
      "[I 2025-05-24 18:17:45,807] Trial 111 finished with value: 0.16758133639394757 and parameters: {'n_clusters': 11, 'linkage': 'complete'}. Best is trial 57 with value: 0.32729777740951294.\n",
      "[I 2025-05-24 18:17:45,921] Trial 112 finished with value: 0.21177416239142763 and parameters: {'n_clusters': 93, 'linkage': 'average'}. Best is trial 57 with value: 0.32729777740951294.\n",
      "[I 2025-05-24 18:17:46,033] Trial 113 finished with value: 0.1783225739202815 and parameters: {'n_clusters': 11, 'linkage': 'ward'}. Best is trial 57 with value: 0.32729777740951294.\n",
      "[I 2025-05-24 18:17:46,145] Trial 114 finished with value: 0.19065488150261267 and parameters: {'n_clusters': 55, 'linkage': 'average'}. Best is trial 57 with value: 0.32729777740951294.\n",
      "[I 2025-05-24 18:17:46,258] Trial 115 finished with value: -0.028936379279647064 and parameters: {'n_clusters': 50, 'linkage': 'single'}. Best is trial 57 with value: 0.32729777740951294.\n",
      "[I 2025-05-24 18:17:46,372] Trial 116 finished with value: 0.19366691591765245 and parameters: {'n_clusters': 22, 'linkage': 'ward'}. Best is trial 57 with value: 0.32729777740951294.\n",
      "[I 2025-05-24 18:17:46,491] Trial 117 finished with value: -0.050084114836550724 and parameters: {'n_clusters': 68, 'linkage': 'single'}. Best is trial 57 with value: 0.32729777740951294.\n",
      "[I 2025-05-24 18:17:46,607] Trial 118 finished with value: -0.006074726212901375 and parameters: {'n_clusters': 96, 'linkage': 'single'}. Best is trial 57 with value: 0.32729777740951294.\n",
      "[I 2025-05-24 18:17:46,717] Trial 119 finished with value: 0.20412988721406675 and parameters: {'n_clusters': 72, 'linkage': 'complete'}. Best is trial 57 with value: 0.32729777740951294.\n",
      "[I 2025-05-24 18:17:46,832] Trial 120 finished with value: -0.0058448696331559104 and parameters: {'n_clusters': 95, 'linkage': 'single'}. Best is trial 57 with value: 0.32729777740951294.\n",
      "[I 2025-05-24 18:17:46,941] Trial 121 finished with value: 0.21522242809937703 and parameters: {'n_clusters': 82, 'linkage': 'average'}. Best is trial 57 with value: 0.32729777740951294.\n",
      "[I 2025-05-24 18:17:47,062] Trial 122 finished with value: 0.2937783766463805 and parameters: {'n_clusters': 123, 'linkage': 'ward'}. Best is trial 57 with value: 0.32729777740951294.\n",
      "[I 2025-05-24 18:17:47,176] Trial 123 finished with value: 0.19630927012822172 and parameters: {'n_clusters': 66, 'linkage': 'complete'}. Best is trial 57 with value: 0.32729777740951294.\n",
      "[I 2025-05-24 18:17:47,287] Trial 124 finished with value: 0.24772433335480548 and parameters: {'n_clusters': 86, 'linkage': 'ward'}. Best is trial 57 with value: 0.32729777740951294.\n",
      "[I 2025-05-24 18:17:47,399] Trial 125 finished with value: -0.04665126023634104 and parameters: {'n_clusters': 78, 'linkage': 'single'}. Best is trial 57 with value: 0.32729777740951294.\n",
      "[I 2025-05-24 18:17:47,512] Trial 126 finished with value: 0.19607730872407883 and parameters: {'n_clusters': 60, 'linkage': 'complete'}. Best is trial 57 with value: 0.32729777740951294.\n",
      "[I 2025-05-24 18:17:47,624] Trial 127 finished with value: 0.17197885718042494 and parameters: {'n_clusters': 13, 'linkage': 'complete'}. Best is trial 57 with value: 0.32729777740951294.\n",
      "[I 2025-05-24 18:17:47,739] Trial 128 finished with value: 0.3187099175280095 and parameters: {'n_clusters': 142, 'linkage': 'ward'}. Best is trial 57 with value: 0.32729777740951294.\n",
      "[I 2025-05-24 18:17:47,856] Trial 129 finished with value: 0.05705526277686684 and parameters: {'n_clusters': 147, 'linkage': 'single'}. Best is trial 57 with value: 0.32729777740951294.\n",
      "[I 2025-05-24 18:17:47,978] Trial 130 finished with value: -0.027474646795153136 and parameters: {'n_clusters': 60, 'linkage': 'single'}. Best is trial 57 with value: 0.32729777740951294.\n",
      "[I 2025-05-24 18:17:48,094] Trial 131 finished with value: 0.2377044534491781 and parameters: {'n_clusters': 147, 'linkage': 'average'}. Best is trial 57 with value: 0.32729777740951294.\n",
      "[I 2025-05-24 18:17:48,212] Trial 132 finished with value: 0.1706689810230835 and parameters: {'n_clusters': 12, 'linkage': 'complete'}. Best is trial 57 with value: 0.32729777740951294.\n",
      "[I 2025-05-24 18:17:48,327] Trial 133 finished with value: 0.20848797637787528 and parameters: {'n_clusters': 95, 'linkage': 'complete'}. Best is trial 57 with value: 0.32729777740951294.\n",
      "[I 2025-05-24 18:17:48,445] Trial 134 finished with value: 0.2924979182842741 and parameters: {'n_clusters': 122, 'linkage': 'ward'}. Best is trial 57 with value: 0.32729777740951294.\n",
      "[I 2025-05-24 18:17:48,563] Trial 135 finished with value: 0.05384456515506289 and parameters: {'n_clusters': 148, 'linkage': 'single'}. Best is trial 57 with value: 0.32729777740951294.\n",
      "[I 2025-05-24 18:17:48,679] Trial 136 finished with value: 0.17207909205329164 and parameters: {'n_clusters': 41, 'linkage': 'complete'}. Best is trial 57 with value: 0.32729777740951294.\n",
      "[I 2025-05-24 18:17:48,796] Trial 137 finished with value: 0.1523833634375463 and parameters: {'n_clusters': 26, 'linkage': 'average'}. Best is trial 57 with value: 0.32729777740951294.\n",
      "[I 2025-05-24 18:17:48,914] Trial 138 finished with value: 0.23995021578588382 and parameters: {'n_clusters': 75, 'linkage': 'ward'}. Best is trial 57 with value: 0.32729777740951294.\n",
      "[I 2025-05-24 18:17:49,034] Trial 139 finished with value: 0.21929060617600846 and parameters: {'n_clusters': 15, 'linkage': 'single'}. Best is trial 57 with value: 0.32729777740951294.\n",
      "[I 2025-05-24 18:17:49,156] Trial 140 finished with value: 0.31060760634148205 and parameters: {'n_clusters': 136, 'linkage': 'ward'}. Best is trial 57 with value: 0.32729777740951294.\n",
      "[I 2025-05-24 18:17:49,275] Trial 141 finished with value: 0.23057486969816468 and parameters: {'n_clusters': 148, 'linkage': 'complete'}. Best is trial 57 with value: 0.32729777740951294.\n",
      "[I 2025-05-24 18:17:49,395] Trial 142 finished with value: 0.16645591861907544 and parameters: {'n_clusters': 39, 'linkage': 'complete'}. Best is trial 57 with value: 0.32729777740951294.\n",
      "[I 2025-05-24 18:17:49,515] Trial 143 finished with value: 0.2188450843073677 and parameters: {'n_clusters': 118, 'linkage': 'average'}. Best is trial 57 with value: 0.32729777740951294.\n",
      "[I 2025-05-24 18:17:49,632] Trial 144 finished with value: 0.2197277071269907 and parameters: {'n_clusters': 99, 'linkage': 'average'}. Best is trial 57 with value: 0.32729777740951294.\n",
      "[I 2025-05-24 18:17:49,754] Trial 145 finished with value: 0.13809124747252385 and parameters: {'n_clusters': 19, 'linkage': 'single'}. Best is trial 57 with value: 0.32729777740951294.\n",
      "[I 2025-05-24 18:17:49,875] Trial 146 finished with value: 0.3224483612527445 and parameters: {'n_clusters': 147, 'linkage': 'ward'}. Best is trial 57 with value: 0.32729777740951294.\n",
      "[I 2025-05-24 18:17:49,991] Trial 147 finished with value: 0.2428461618165716 and parameters: {'n_clusters': 141, 'linkage': 'average'}. Best is trial 57 with value: 0.32729777740951294.\n",
      "[I 2025-05-24 18:17:50,114] Trial 148 finished with value: 0.17190663432093317 and parameters: {'n_clusters': 17, 'linkage': 'ward'}. Best is trial 57 with value: 0.32729777740951294.\n",
      "[I 2025-05-24 18:17:50,248] Trial 149 finished with value: 0.21753784060941067 and parameters: {'n_clusters': 128, 'linkage': 'complete'}. Best is trial 57 with value: 0.32729777740951294.\n",
      "[I 2025-05-24 18:17:50,372] Trial 150 finished with value: -0.010255366309576543 and parameters: {'n_clusters': 107, 'linkage': 'single'}. Best is trial 57 with value: 0.32729777740951294.\n",
      "[I 2025-05-24 18:17:50,495] Trial 151 finished with value: 0.20334097905045553 and parameters: {'n_clusters': 63, 'linkage': 'average'}. Best is trial 57 with value: 0.32729777740951294.\n",
      "[I 2025-05-24 18:17:50,619] Trial 152 finished with value: 0.0665196394921217 and parameters: {'n_clusters': 135, 'linkage': 'single'}. Best is trial 57 with value: 0.32729777740951294.\n",
      "[I 2025-05-24 18:17:50,743] Trial 153 finished with value: -0.027814167353891407 and parameters: {'n_clusters': 84, 'linkage': 'single'}. Best is trial 57 with value: 0.32729777740951294.\n",
      "[I 2025-05-24 18:17:50,872] Trial 154 finished with value: -0.04168772477017869 and parameters: {'n_clusters': 71, 'linkage': 'single'}. Best is trial 57 with value: 0.32729777740951294.\n",
      "[I 2025-05-24 18:17:50,996] Trial 155 finished with value: 0.2780371003873098 and parameters: {'n_clusters': 111, 'linkage': 'ward'}. Best is trial 57 with value: 0.32729777740951294.\n",
      "[I 2025-05-24 18:17:51,121] Trial 156 finished with value: 0.275107290298072 and parameters: {'n_clusters': 107, 'linkage': 'ward'}. Best is trial 57 with value: 0.32729777740951294.\n",
      "[I 2025-05-24 18:17:51,239] Trial 157 finished with value: 0.2205740945846991 and parameters: {'n_clusters': 105, 'linkage': 'average'}. Best is trial 57 with value: 0.32729777740951294.\n",
      "[I 2025-05-24 18:17:51,364] Trial 158 finished with value: 0.14967658445863533 and parameters: {'n_clusters': 22, 'linkage': 'average'}. Best is trial 57 with value: 0.32729777740951294.\n",
      "[I 2025-05-24 18:17:51,500] Trial 159 finished with value: 0.232067711035336 and parameters: {'n_clusters': 64, 'linkage': 'ward'}. Best is trial 57 with value: 0.32729777740951294.\n",
      "[I 2025-05-24 18:17:51,624] Trial 160 finished with value: 0.21696980940624 and parameters: {'n_clusters': 40, 'linkage': 'ward'}. Best is trial 57 with value: 0.32729777740951294.\n",
      "[I 2025-05-24 18:17:51,747] Trial 161 finished with value: 0.16620039233422498 and parameters: {'n_clusters': 38, 'linkage': 'complete'}. Best is trial 57 with value: 0.32729777740951294.\n",
      "[I 2025-05-24 18:17:51,874] Trial 162 finished with value: 0.23342747758705054 and parameters: {'n_clusters': 59, 'linkage': 'ward'}. Best is trial 57 with value: 0.32729777740951294.\n",
      "[I 2025-05-24 18:17:52,004] Trial 163 finished with value: 0.2771162338290132 and parameters: {'n_clusters': 110, 'linkage': 'ward'}. Best is trial 57 with value: 0.32729777740951294.\n",
      "[I 2025-05-24 18:17:52,133] Trial 164 finished with value: 0.21087738945323636 and parameters: {'n_clusters': 106, 'linkage': 'complete'}. Best is trial 57 with value: 0.32729777740951294.\n",
      "[I 2025-05-24 18:17:52,262] Trial 165 finished with value: -0.008060025912672256 and parameters: {'n_clusters': 100, 'linkage': 'single'}. Best is trial 57 with value: 0.32729777740951294.\n",
      "[I 2025-05-24 18:17:52,392] Trial 166 finished with value: 0.19707899251221453 and parameters: {'n_clusters': 67, 'linkage': 'complete'}. Best is trial 57 with value: 0.32729777740951294.\n",
      "[I 2025-05-24 18:17:52,524] Trial 167 finished with value: 0.19512227500396093 and parameters: {'n_clusters': 57, 'linkage': 'complete'}. Best is trial 57 with value: 0.32729777740951294.\n",
      "[I 2025-05-24 18:17:52,659] Trial 168 finished with value: 0.23606603254922776 and parameters: {'n_clusters': 66, 'linkage': 'ward'}. Best is trial 57 with value: 0.32729777740951294.\n",
      "[I 2025-05-24 18:17:52,797] Trial 169 finished with value: 0.28143962903438463 and parameters: {'n_clusters': 13, 'linkage': 'average'}. Best is trial 57 with value: 0.32729777740951294.\n",
      "[I 2025-05-24 18:17:52,929] Trial 170 finished with value: 0.237422908102927 and parameters: {'n_clusters': 70, 'linkage': 'ward'}. Best is trial 57 with value: 0.32729777740951294.\n",
      "[I 2025-05-24 18:17:53,059] Trial 171 finished with value: 0.17548060771779475 and parameters: {'n_clusters': 16, 'linkage': 'ward'}. Best is trial 57 with value: 0.32729777740951294.\n",
      "[I 2025-05-24 18:17:53,192] Trial 172 finished with value: 0.17461123005140128 and parameters: {'n_clusters': 18, 'linkage': 'ward'}. Best is trial 57 with value: 0.32729777740951294.\n",
      "[I 2025-05-24 18:17:53,319] Trial 173 finished with value: 0.2110599949670471 and parameters: {'n_clusters': 103, 'linkage': 'complete'}. Best is trial 57 with value: 0.32729777740951294.\n",
      "[I 2025-05-24 18:17:53,449] Trial 174 finished with value: 0.21857403123522168 and parameters: {'n_clusters': 102, 'linkage': 'average'}. Best is trial 57 with value: 0.32729777740951294.\n",
      "[I 2025-05-24 18:17:53,616] Trial 175 finished with value: 0.22164695368688064 and parameters: {'n_clusters': 98, 'linkage': 'average'}. Best is trial 57 with value: 0.32729777740951294.\n",
      "[I 2025-05-24 18:17:53,751] Trial 176 finished with value: 0.2011810684247101 and parameters: {'n_clusters': 74, 'linkage': 'complete'}. Best is trial 57 with value: 0.32729777740951294.\n",
      "[I 2025-05-24 18:17:53,886] Trial 177 finished with value: 0.2079962768526376 and parameters: {'n_clusters': 93, 'linkage': 'complete'}. Best is trial 57 with value: 0.32729777740951294.\n",
      "[I 2025-05-24 18:17:54,015] Trial 178 finished with value: 0.19534136261412813 and parameters: {'n_clusters': 68, 'linkage': 'complete'}. Best is trial 57 with value: 0.32729777740951294.\n",
      "[I 2025-05-24 18:17:54,146] Trial 179 finished with value: 0.22532081418842428 and parameters: {'n_clusters': 48, 'linkage': 'ward'}. Best is trial 57 with value: 0.32729777740951294.\n",
      "[I 2025-05-24 18:17:54,279] Trial 180 finished with value: 0.23828051215019258 and parameters: {'n_clusters': 131, 'linkage': 'average'}. Best is trial 57 with value: 0.32729777740951294.\n",
      "[I 2025-05-24 18:17:54,413] Trial 181 finished with value: 0.21973193981664024 and parameters: {'n_clusters': 110, 'linkage': 'complete'}. Best is trial 57 with value: 0.32729777740951294.\n",
      "[I 2025-05-24 18:17:54,542] Trial 182 finished with value: 0.22276180456553146 and parameters: {'n_clusters': 121, 'linkage': 'average'}. Best is trial 57 with value: 0.32729777740951294.\n",
      "[I 2025-05-24 18:17:54,677] Trial 183 finished with value: 0.18227341524631058 and parameters: {'n_clusters': 53, 'linkage': 'complete'}. Best is trial 57 with value: 0.32729777740951294.\n",
      "[I 2025-05-24 18:17:54,812] Trial 184 finished with value: 0.23801067555877786 and parameters: {'n_clusters': 137, 'linkage': 'average'}. Best is trial 57 with value: 0.32729777740951294.\n",
      "[I 2025-05-24 18:17:54,951] Trial 185 finished with value: 0.21872172065777487 and parameters: {'n_clusters': 80, 'linkage': 'average'}. Best is trial 57 with value: 0.32729777740951294.\n",
      "[I 2025-05-24 18:17:55,094] Trial 186 finished with value: 0.1981129477494152 and parameters: {'n_clusters': 71, 'linkage': 'average'}. Best is trial 57 with value: 0.32729777740951294.\n",
      "[I 2025-05-24 18:17:55,235] Trial 187 finished with value: -0.04034503810837412 and parameters: {'n_clusters': 77, 'linkage': 'single'}. Best is trial 57 with value: 0.32729777740951294.\n",
      "[I 2025-05-24 18:17:55,374] Trial 188 finished with value: 0.3063543786848593 and parameters: {'n_clusters': 134, 'linkage': 'ward'}. Best is trial 57 with value: 0.32729777740951294.\n",
      "[I 2025-05-24 18:17:55,514] Trial 189 finished with value: 0.1512347618495628 and parameters: {'n_clusters': 23, 'linkage': 'average'}. Best is trial 57 with value: 0.32729777740951294.\n",
      "[I 2025-05-24 18:17:55,653] Trial 190 finished with value: 0.15837508669646316 and parameters: {'n_clusters': 36, 'linkage': 'complete'}. Best is trial 57 with value: 0.32729777740951294.\n",
      "[I 2025-05-24 18:17:55,807] Trial 191 finished with value: 0.2364079449466678 and parameters: {'n_clusters': 69, 'linkage': 'ward'}. Best is trial 57 with value: 0.32729777740951294.\n",
      "[I 2025-05-24 18:17:55,948] Trial 192 finished with value: -0.02808309037036316 and parameters: {'n_clusters': 53, 'linkage': 'single'}. Best is trial 57 with value: 0.32729777740951294.\n",
      "[I 2025-05-24 18:17:56,091] Trial 193 finished with value: -0.044769524799501186 and parameters: {'n_clusters': 81, 'linkage': 'single'}. Best is trial 57 with value: 0.32729777740951294.\n",
      "[I 2025-05-24 18:17:56,238] Trial 194 finished with value: -0.03295456997308392 and parameters: {'n_clusters': 118, 'linkage': 'single'}. Best is trial 57 with value: 0.32729777740951294.\n",
      "[I 2025-05-24 18:17:56,389] Trial 195 finished with value: 0.05877099144512262 and parameters: {'n_clusters': 145, 'linkage': 'single'}. Best is trial 57 with value: 0.32729777740951294.\n",
      "[I 2025-05-24 18:17:56,539] Trial 196 finished with value: 0.10122400803621198 and parameters: {'n_clusters': 31, 'linkage': 'single'}. Best is trial 57 with value: 0.32729777740951294.\n",
      "[I 2025-05-24 18:17:56,706] Trial 197 finished with value: 0.23043322818745202 and parameters: {'n_clusters': 142, 'linkage': 'complete'}. Best is trial 57 with value: 0.32729777740951294.\n",
      "[I 2025-05-24 18:17:56,856] Trial 198 finished with value: 0.2094359654236086 and parameters: {'n_clusters': 81, 'linkage': 'complete'}. Best is trial 57 with value: 0.32729777740951294.\n",
      "[I 2025-05-24 18:17:57,011] Trial 199 finished with value: 0.20797041195681465 and parameters: {'n_clusters': 77, 'linkage': 'average'}. Best is trial 57 with value: 0.32729777740951294.\n",
      "[I 2025-05-24 18:17:57,166] Trial 200 finished with value: 0.23355261425585144 and parameters: {'n_clusters': 65, 'linkage': 'ward'}. Best is trial 57 with value: 0.32729777740951294.\n",
      "[I 2025-05-24 18:17:57,326] Trial 201 finished with value: 0.1466384109543751 and parameters: {'n_clusters': 40, 'linkage': 'average'}. Best is trial 57 with value: 0.32729777740951294.\n",
      "[I 2025-05-24 18:17:57,479] Trial 202 finished with value: -0.026424248793092815 and parameters: {'n_clusters': 52, 'linkage': 'single'}. Best is trial 57 with value: 0.32729777740951294.\n",
      "[I 2025-05-24 18:17:57,623] Trial 203 finished with value: 0.050172707544777866 and parameters: {'n_clusters': 126, 'linkage': 'single'}. Best is trial 57 with value: 0.32729777740951294.\n",
      "[I 2025-05-24 18:17:57,775] Trial 204 finished with value: 0.14380182349257942 and parameters: {'n_clusters': 27, 'linkage': 'average'}. Best is trial 57 with value: 0.32729777740951294.\n",
      "[I 2025-05-24 18:17:57,919] Trial 205 finished with value: 0.218438378476893 and parameters: {'n_clusters': 104, 'linkage': 'average'}. Best is trial 57 with value: 0.32729777740951294.\n",
      "[I 2025-05-24 18:17:58,065] Trial 206 finished with value: 0.22629517301916616 and parameters: {'n_clusters': 44, 'linkage': 'ward'}. Best is trial 57 with value: 0.32729777740951294.\n",
      "[I 2025-05-24 18:17:58,215] Trial 207 finished with value: -0.026931829799925307 and parameters: {'n_clusters': 114, 'linkage': 'single'}. Best is trial 57 with value: 0.32729777740951294.\n",
      "[I 2025-05-24 18:17:58,361] Trial 208 finished with value: 0.19365889500071226 and parameters: {'n_clusters': 28, 'linkage': 'ward'}. Best is trial 57 with value: 0.32729777740951294.\n",
      "[I 2025-05-24 18:17:58,513] Trial 209 finished with value: 0.23862257607943446 and parameters: {'n_clusters': 140, 'linkage': 'average'}. Best is trial 57 with value: 0.32729777740951294.\n",
      "[I 2025-05-24 18:17:58,656] Trial 210 finished with value: 0.23490918815355466 and parameters: {'n_clusters': 61, 'linkage': 'ward'}. Best is trial 57 with value: 0.32729777740951294.\n",
      "[I 2025-05-24 18:17:58,800] Trial 211 finished with value: 0.084955176975362 and parameters: {'n_clusters': 131, 'linkage': 'single'}. Best is trial 57 with value: 0.32729777740951294.\n",
      "[I 2025-05-24 18:17:58,946] Trial 212 finished with value: 0.2364066408074086 and parameters: {'n_clusters': 62, 'linkage': 'ward'}. Best is trial 57 with value: 0.32729777740951294.\n",
      "[I 2025-05-24 18:17:59,089] Trial 213 finished with value: 0.24353809578904564 and parameters: {'n_clusters': 84, 'linkage': 'ward'}. Best is trial 57 with value: 0.32729777740951294.\n",
      "[I 2025-05-24 18:17:59,233] Trial 214 finished with value: 0.20728220223778873 and parameters: {'n_clusters': 36, 'linkage': 'ward'}. Best is trial 57 with value: 0.32729777740951294.\n",
      "[I 2025-05-24 18:17:59,383] Trial 215 finished with value: 0.14670480341016384 and parameters: {'n_clusters': 42, 'linkage': 'average'}. Best is trial 57 with value: 0.32729777740951294.\n",
      "[I 2025-05-24 18:17:59,529] Trial 216 finished with value: 0.2667444430375785 and parameters: {'n_clusters': 102, 'linkage': 'ward'}. Best is trial 57 with value: 0.32729777740951294.\n",
      "[I 2025-05-24 18:17:59,675] Trial 217 finished with value: 0.17569156757450227 and parameters: {'n_clusters': 36, 'linkage': 'average'}. Best is trial 57 with value: 0.32729777740951294.\n",
      "[I 2025-05-24 18:17:59,826] Trial 218 finished with value: 0.18107402893566493 and parameters: {'n_clusters': 14, 'linkage': 'ward'}. Best is trial 57 with value: 0.32729777740951294.\n",
      "[I 2025-05-24 18:17:59,981] Trial 219 finished with value: 0.21704101468750023 and parameters: {'n_clusters': 129, 'linkage': 'complete'}. Best is trial 57 with value: 0.32729777740951294.\n",
      "[I 2025-05-24 18:18:00,133] Trial 220 finished with value: 0.19126593087822008 and parameters: {'n_clusters': 50, 'linkage': 'average'}. Best is trial 57 with value: 0.32729777740951294.\n",
      "[I 2025-05-24 18:18:00,284] Trial 221 finished with value: -0.021987146288277425 and parameters: {'n_clusters': 44, 'linkage': 'single'}. Best is trial 57 with value: 0.32729777740951294.\n",
      "[I 2025-05-24 18:18:00,439] Trial 222 finished with value: 0.22254867296699526 and parameters: {'n_clusters': 14, 'linkage': 'single'}. Best is trial 57 with value: 0.32729777740951294.\n",
      "[I 2025-05-24 18:18:00,596] Trial 223 finished with value: 0.2396814593198889 and parameters: {'n_clusters': 130, 'linkage': 'average'}. Best is trial 57 with value: 0.32729777740951294.\n",
      "[I 2025-05-24 18:18:00,753] Trial 224 finished with value: -0.07753448991406098 and parameters: {'n_clusters': 57, 'linkage': 'single'}. Best is trial 57 with value: 0.32729777740951294.\n",
      "[I 2025-05-24 18:18:00,913] Trial 225 finished with value: 0.18546643939299237 and parameters: {'n_clusters': 15, 'linkage': 'ward'}. Best is trial 57 with value: 0.32729777740951294.\n",
      "[I 2025-05-24 18:18:01,071] Trial 226 finished with value: 0.29770322107144354 and parameters: {'n_clusters': 10, 'linkage': 'average'}. Best is trial 57 with value: 0.32729777740951294.\n",
      "[I 2025-05-24 18:18:01,226] Trial 227 finished with value: -0.012572321264651489 and parameters: {'n_clusters': 110, 'linkage': 'single'}. Best is trial 57 with value: 0.32729777740951294.\n",
      "[I 2025-05-24 18:18:01,380] Trial 228 finished with value: 0.19986047010366845 and parameters: {'n_clusters': 69, 'linkage': 'average'}. Best is trial 57 with value: 0.32729777740951294.\n",
      "[I 2025-05-24 18:18:01,538] Trial 229 finished with value: 0.31929554358940726 and parameters: {'n_clusters': 145, 'linkage': 'ward'}. Best is trial 57 with value: 0.32729777740951294.\n",
      "[I 2025-05-24 18:18:01,690] Trial 230 finished with value: 0.040970981688963806 and parameters: {'n_clusters': 150, 'linkage': 'single'}. Best is trial 57 with value: 0.32729777740951294.\n",
      "[I 2025-05-24 18:18:01,849] Trial 231 finished with value: 0.3027020527964483 and parameters: {'n_clusters': 132, 'linkage': 'ward'}. Best is trial 57 with value: 0.32729777740951294.\n",
      "[I 2025-05-24 18:18:02,011] Trial 232 finished with value: -0.01863791720728406 and parameters: {'n_clusters': 39, 'linkage': 'single'}. Best is trial 57 with value: 0.32729777740951294.\n",
      "[I 2025-05-24 18:18:02,167] Trial 233 finished with value: 0.19299700592044122 and parameters: {'n_clusters': 32, 'linkage': 'ward'}. Best is trial 57 with value: 0.32729777740951294.\n",
      "[I 2025-05-24 18:18:02,329] Trial 234 finished with value: 0.2422542903620175 and parameters: {'n_clusters': 78, 'linkage': 'ward'}. Best is trial 57 with value: 0.32729777740951294.\n",
      "[I 2025-05-24 18:18:02,484] Trial 235 finished with value: 0.20747010581787484 and parameters: {'n_clusters': 79, 'linkage': 'average'}. Best is trial 57 with value: 0.32729777740951294.\n",
      "[I 2025-05-24 18:18:02,642] Trial 236 finished with value: 0.19747723662392355 and parameters: {'n_clusters': 30, 'linkage': 'ward'}. Best is trial 57 with value: 0.32729777740951294.\n",
      "[I 2025-05-24 18:18:02,801] Trial 237 finished with value: 0.12746853108008654 and parameters: {'n_clusters': 26, 'linkage': 'complete'}. Best is trial 57 with value: 0.32729777740951294.\n",
      "[I 2025-05-24 18:18:02,964] Trial 238 finished with value: -0.0468805711401071 and parameters: {'n_clusters': 94, 'linkage': 'single'}. Best is trial 57 with value: 0.32729777740951294.\n",
      "[I 2025-05-24 18:18:03,121] Trial 239 finished with value: 0.19441956623313553 and parameters: {'n_clusters': 24, 'linkage': 'ward'}. Best is trial 57 with value: 0.32729777740951294.\n",
      "[I 2025-05-24 18:18:03,285] Trial 240 finished with value: 0.16404085729227844 and parameters: {'n_clusters': 39, 'linkage': 'average'}. Best is trial 57 with value: 0.32729777740951294.\n",
      "[I 2025-05-24 18:18:03,444] Trial 241 finished with value: 0.20440126686475438 and parameters: {'n_clusters': 79, 'linkage': 'complete'}. Best is trial 57 with value: 0.32729777740951294.\n",
      "[I 2025-05-24 18:18:03,604] Trial 242 finished with value: 0.13406234041820514 and parameters: {'n_clusters': 27, 'linkage': 'complete'}. Best is trial 57 with value: 0.32729777740951294.\n",
      "[I 2025-05-24 18:18:03,767] Trial 243 finished with value: -0.07701134141319302 and parameters: {'n_clusters': 55, 'linkage': 'single'}. Best is trial 57 with value: 0.32729777740951294.\n",
      "[I 2025-05-24 18:18:03,929] Trial 244 finished with value: 0.21657261440320918 and parameters: {'n_clusters': 89, 'linkage': 'average'}. Best is trial 57 with value: 0.32729777740951294.\n",
      "[I 2025-05-24 18:18:04,091] Trial 245 finished with value: -0.011994014626722558 and parameters: {'n_clusters': 101, 'linkage': 'single'}. Best is trial 57 with value: 0.32729777740951294.\n",
      "[I 2025-05-24 18:18:04,256] Trial 246 finished with value: 0.23896763872392793 and parameters: {'n_clusters': 74, 'linkage': 'ward'}. Best is trial 57 with value: 0.32729777740951294.\n",
      "[I 2025-05-24 18:18:04,419] Trial 247 finished with value: -0.035435497766806 and parameters: {'n_clusters': 122, 'linkage': 'single'}. Best is trial 57 with value: 0.32729777740951294.\n",
      "[I 2025-05-24 18:18:04,586] Trial 248 finished with value: 0.23928187369321935 and parameters: {'n_clusters': 133, 'linkage': 'average'}. Best is trial 57 with value: 0.32729777740951294.\n",
      "[I 2025-05-24 18:18:04,748] Trial 249 finished with value: 0.2992267527701573 and parameters: {'n_clusters': 130, 'linkage': 'ward'}. Best is trial 57 with value: 0.32729777740951294.\n",
      "[I 2025-05-24 18:18:04,917] Trial 250 finished with value: 0.25379924928737624 and parameters: {'n_clusters': 91, 'linkage': 'ward'}. Best is trial 57 with value: 0.32729777740951294.\n",
      "[I 2025-05-24 18:18:05,081] Trial 251 finished with value: 0.06211022065895335 and parameters: {'n_clusters': 32, 'linkage': 'single'}. Best is trial 57 with value: 0.32729777740951294.\n",
      "[I 2025-05-24 18:18:05,249] Trial 252 finished with value: 0.20763286128479477 and parameters: {'n_clusters': 107, 'linkage': 'complete'}. Best is trial 57 with value: 0.32729777740951294.\n",
      "[I 2025-05-24 18:18:05,416] Trial 253 finished with value: 0.19625549740769382 and parameters: {'n_clusters': 70, 'linkage': 'complete'}. Best is trial 57 with value: 0.32729777740951294.\n",
      "[I 2025-05-24 18:18:05,580] Trial 254 finished with value: 0.17899463078516822 and parameters: {'n_clusters': 50, 'linkage': 'complete'}. Best is trial 57 with value: 0.32729777740951294.\n",
      "[I 2025-05-24 18:18:05,741] Trial 255 finished with value: 0.0667161546711643 and parameters: {'n_clusters': 136, 'linkage': 'single'}. Best is trial 57 with value: 0.32729777740951294.\n",
      "[I 2025-05-24 18:18:05,906] Trial 256 finished with value: 0.0848492119532411 and parameters: {'n_clusters': 130, 'linkage': 'single'}. Best is trial 57 with value: 0.32729777740951294.\n",
      "[I 2025-05-24 18:18:06,072] Trial 257 finished with value: 0.13771321527911337 and parameters: {'n_clusters': 29, 'linkage': 'average'}. Best is trial 57 with value: 0.32729777740951294.\n",
      "[I 2025-05-24 18:18:06,239] Trial 258 finished with value: 0.055762663031431674 and parameters: {'n_clusters': 139, 'linkage': 'single'}. Best is trial 57 with value: 0.32729777740951294.\n",
      "[I 2025-05-24 18:18:06,404] Trial 259 finished with value: 0.22434354853874838 and parameters: {'n_clusters': 107, 'linkage': 'average'}. Best is trial 57 with value: 0.32729777740951294.\n",
      "[I 2025-05-24 18:18:06,574] Trial 260 finished with value: 0.2405995960771114 and parameters: {'n_clusters': 145, 'linkage': 'average'}. Best is trial 57 with value: 0.32729777740951294.\n",
      "[I 2025-05-24 18:18:06,744] Trial 261 finished with value: 0.19656170308254153 and parameters: {'n_clusters': 65, 'linkage': 'complete'}. Best is trial 57 with value: 0.32729777740951294.\n",
      "[I 2025-05-24 18:18:06,914] Trial 262 finished with value: 0.2006565712312287 and parameters: {'n_clusters': 64, 'linkage': 'average'}. Best is trial 57 with value: 0.32729777740951294.\n",
      "[I 2025-05-24 18:18:07,084] Trial 263 finished with value: 0.2036349425890777 and parameters: {'n_clusters': 60, 'linkage': 'average'}. Best is trial 57 with value: 0.32729777740951294.\n",
      "[I 2025-05-24 18:18:07,250] Trial 264 finished with value: 0.29563867594644433 and parameters: {'n_clusters': 126, 'linkage': 'ward'}. Best is trial 57 with value: 0.32729777740951294.\n",
      "[I 2025-05-24 18:18:07,419] Trial 265 finished with value: 0.2097154072231901 and parameters: {'n_clusters': 90, 'linkage': 'complete'}. Best is trial 57 with value: 0.32729777740951294.\n",
      "[I 2025-05-24 18:18:07,588] Trial 266 finished with value: -0.02566085267241982 and parameters: {'n_clusters': 45, 'linkage': 'single'}. Best is trial 57 with value: 0.32729777740951294.\n",
      "[I 2025-05-24 18:18:07,791] Trial 267 finished with value: 0.17770823214498485 and parameters: {'n_clusters': 33, 'linkage': 'average'}. Best is trial 57 with value: 0.32729777740951294.\n",
      "[I 2025-05-24 18:18:07,965] Trial 268 finished with value: 0.2886854383454542 and parameters: {'n_clusters': 116, 'linkage': 'ward'}. Best is trial 57 with value: 0.32729777740951294.\n",
      "[I 2025-05-24 18:18:08,138] Trial 269 finished with value: 0.21464282161237228 and parameters: {'n_clusters': 123, 'linkage': 'complete'}. Best is trial 57 with value: 0.32729777740951294.\n",
      "[I 2025-05-24 18:18:08,314] Trial 270 finished with value: 0.23812647915950066 and parameters: {'n_clusters': 73, 'linkage': 'ward'}. Best is trial 57 with value: 0.32729777740951294.\n",
      "[I 2025-05-24 18:18:08,486] Trial 271 finished with value: 0.28771093850711843 and parameters: {'n_clusters': 115, 'linkage': 'ward'}. Best is trial 57 with value: 0.32729777740951294.\n",
      "[I 2025-05-24 18:18:08,660] Trial 272 finished with value: -0.0515757293326145 and parameters: {'n_clusters': 67, 'linkage': 'single'}. Best is trial 57 with value: 0.32729777740951294.\n",
      "[I 2025-05-24 18:18:08,834] Trial 273 finished with value: -0.032994422108979835 and parameters: {'n_clusters': 121, 'linkage': 'single'}. Best is trial 57 with value: 0.32729777740951294.\n",
      "[I 2025-05-24 18:18:09,004] Trial 274 finished with value: 0.057930653157175965 and parameters: {'n_clusters': 144, 'linkage': 'single'}. Best is trial 57 with value: 0.32729777740951294.\n",
      "[I 2025-05-24 18:18:09,176] Trial 275 finished with value: 0.20050043297346282 and parameters: {'n_clusters': 64, 'linkage': 'complete'}. Best is trial 57 with value: 0.32729777740951294.\n",
      "[I 2025-05-24 18:18:09,350] Trial 276 finished with value: 0.26987093777448085 and parameters: {'n_clusters': 103, 'linkage': 'ward'}. Best is trial 57 with value: 0.32729777740951294.\n",
      "[I 2025-05-24 18:18:09,525] Trial 277 finished with value: -0.05556656269236453 and parameters: {'n_clusters': 65, 'linkage': 'single'}. Best is trial 57 with value: 0.32729777740951294.\n",
      "[I 2025-05-24 18:18:09,714] Trial 278 finished with value: 0.22067051401784102 and parameters: {'n_clusters': 132, 'linkage': 'complete'}. Best is trial 57 with value: 0.32729777740951294.\n",
      "[I 2025-05-24 18:18:09,894] Trial 279 finished with value: -0.03942822953607895 and parameters: {'n_clusters': 83, 'linkage': 'single'}. Best is trial 57 with value: 0.32729777740951294.\n",
      "[I 2025-05-24 18:18:10,076] Trial 280 finished with value: 0.19974693370091323 and parameters: {'n_clusters': 67, 'linkage': 'average'}. Best is trial 57 with value: 0.32729777740951294.\n",
      "[I 2025-05-24 18:18:10,251] Trial 281 finished with value: 0.2784438926733835 and parameters: {'n_clusters': 14, 'linkage': 'average'}. Best is trial 57 with value: 0.32729777740951294.\n",
      "[I 2025-05-24 18:18:10,429] Trial 282 finished with value: 0.1925607593171684 and parameters: {'n_clusters': 19, 'linkage': 'average'}. Best is trial 57 with value: 0.32729777740951294.\n",
      "[I 2025-05-24 18:18:10,607] Trial 283 finished with value: 0.2273522361563746 and parameters: {'n_clusters': 49, 'linkage': 'ward'}. Best is trial 57 with value: 0.32729777740951294.\n",
      "[I 2025-05-24 18:18:10,783] Trial 284 finished with value: -0.010997424377944652 and parameters: {'n_clusters': 104, 'linkage': 'single'}. Best is trial 57 with value: 0.32729777740951294.\n",
      "[I 2025-05-24 18:18:10,962] Trial 285 finished with value: 0.19889951184034566 and parameters: {'n_clusters': 71, 'linkage': 'complete'}. Best is trial 57 with value: 0.32729777740951294.\n",
      "[I 2025-05-24 18:18:11,138] Trial 286 finished with value: 0.224811438268322 and parameters: {'n_clusters': 122, 'linkage': 'average'}. Best is trial 57 with value: 0.32729777740951294.\n",
      "[I 2025-05-24 18:18:11,312] Trial 287 finished with value: 0.17556818511761565 and parameters: {'n_clusters': 48, 'linkage': 'complete'}. Best is trial 57 with value: 0.32729777740951294.\n",
      "[I 2025-05-24 18:18:11,489] Trial 288 finished with value: -0.04661846843884509 and parameters: {'n_clusters': 79, 'linkage': 'single'}. Best is trial 57 with value: 0.32729777740951294.\n",
      "[I 2025-05-24 18:18:11,664] Trial 289 finished with value: 0.18287417537978612 and parameters: {'n_clusters': 12, 'linkage': 'ward'}. Best is trial 57 with value: 0.32729777740951294.\n",
      "[I 2025-05-24 18:18:11,842] Trial 290 finished with value: 0.21398164022541366 and parameters: {'n_clusters': 90, 'linkage': 'average'}. Best is trial 57 with value: 0.32729777740951294.\n",
      "[I 2025-05-24 18:18:12,021] Trial 291 finished with value: -0.03350219766005386 and parameters: {'n_clusters': 116, 'linkage': 'single'}. Best is trial 57 with value: 0.32729777740951294.\n",
      "[I 2025-05-24 18:18:12,214] Trial 292 finished with value: 0.27789886320676294 and parameters: {'n_clusters': 15, 'linkage': 'average'}. Best is trial 57 with value: 0.32729777740951294.\n",
      "[I 2025-05-24 18:18:12,398] Trial 293 finished with value: 0.17602041417909112 and parameters: {'n_clusters': 17, 'linkage': 'complete'}. Best is trial 57 with value: 0.32729777740951294.\n",
      "[I 2025-05-24 18:18:12,582] Trial 294 finished with value: 0.22310120709854364 and parameters: {'n_clusters': 110, 'linkage': 'average'}. Best is trial 57 with value: 0.32729777740951294.\n",
      "[I 2025-05-24 18:18:12,765] Trial 295 finished with value: -0.061041615175430775 and parameters: {'n_clusters': 91, 'linkage': 'single'}. Best is trial 57 with value: 0.32729777740951294.\n",
      "[I 2025-05-24 18:18:12,950] Trial 296 finished with value: 0.2968413542701591 and parameters: {'n_clusters': 11, 'linkage': 'single'}. Best is trial 57 with value: 0.32729777740951294.\n",
      "[I 2025-05-24 18:18:13,128] Trial 297 finished with value: 0.29426485670852903 and parameters: {'n_clusters': 124, 'linkage': 'ward'}. Best is trial 57 with value: 0.32729777740951294.\n",
      "[I 2025-05-24 18:18:13,325] Trial 298 finished with value: 0.15942775655922228 and parameters: {'n_clusters': 31, 'linkage': 'complete'}. Best is trial 57 with value: 0.32729777740951294.\n",
      "[I 2025-05-24 18:18:13,507] Trial 299 finished with value: 0.21735236668219218 and parameters: {'n_clusters': 119, 'linkage': 'complete'}. Best is trial 57 with value: 0.32729777740951294.\n",
      "[I 2025-05-24 18:18:13,693] Trial 300 finished with value: 0.1470761979006531 and parameters: {'n_clusters': 45, 'linkage': 'average'}. Best is trial 57 with value: 0.32729777740951294.\n",
      "[I 2025-05-24 18:18:13,876] Trial 301 finished with value: -0.037525222396808895 and parameters: {'n_clusters': 69, 'linkage': 'single'}. Best is trial 57 with value: 0.32729777740951294.\n",
      "[I 2025-05-24 18:18:14,058] Trial 302 finished with value: 0.1695687166982716 and parameters: {'n_clusters': 37, 'linkage': 'average'}. Best is trial 57 with value: 0.32729777740951294.\n",
      "[I 2025-05-24 18:18:14,237] Trial 303 finished with value: 0.20980959295277052 and parameters: {'n_clusters': 85, 'linkage': 'complete'}. Best is trial 57 with value: 0.32729777740951294.\n",
      "[I 2025-05-24 18:18:14,423] Trial 304 finished with value: -0.017860900502353786 and parameters: {'n_clusters': 37, 'linkage': 'single'}. Best is trial 57 with value: 0.32729777740951294.\n",
      "[I 2025-05-24 18:18:14,604] Trial 305 finished with value: 0.20772633614940483 and parameters: {'n_clusters': 94, 'linkage': 'complete'}. Best is trial 57 with value: 0.32729777740951294.\n",
      "[I 2025-05-24 18:18:14,787] Trial 306 finished with value: 0.20978572346447005 and parameters: {'n_clusters': 83, 'linkage': 'complete'}. Best is trial 57 with value: 0.32729777740951294.\n",
      "[I 2025-05-24 18:18:14,973] Trial 307 finished with value: 0.32043327823014345 and parameters: {'n_clusters': 146, 'linkage': 'ward'}. Best is trial 57 with value: 0.32729777740951294.\n",
      "[I 2025-05-24 18:18:15,161] Trial 308 finished with value: 0.15835929015129013 and parameters: {'n_clusters': 22, 'linkage': 'single'}. Best is trial 57 with value: 0.32729777740951294.\n",
      "[I 2025-05-24 18:18:15,346] Trial 309 finished with value: 0.2313302071387184 and parameters: {'n_clusters': 123, 'linkage': 'average'}. Best is trial 57 with value: 0.32729777740951294.\n",
      "[I 2025-05-24 18:18:15,538] Trial 310 finished with value: 0.21050138323315704 and parameters: {'n_clusters': 82, 'linkage': 'complete'}. Best is trial 57 with value: 0.32729777740951294.\n",
      "[I 2025-05-24 18:18:15,735] Trial 311 finished with value: 0.17466049688869262 and parameters: {'n_clusters': 47, 'linkage': 'complete'}. Best is trial 57 with value: 0.32729777740951294.\n",
      "[I 2025-05-24 18:18:15,933] Trial 312 finished with value: -0.039532919279455514 and parameters: {'n_clusters': 72, 'linkage': 'single'}. Best is trial 57 with value: 0.32729777740951294.\n",
      "[I 2025-05-24 18:18:16,126] Trial 313 finished with value: 0.09841825566449644 and parameters: {'n_clusters': 30, 'linkage': 'single'}. Best is trial 57 with value: 0.32729777740951294.\n",
      "[I 2025-05-24 18:18:16,314] Trial 314 finished with value: 0.2315208890931619 and parameters: {'n_clusters': 124, 'linkage': 'average'}. Best is trial 57 with value: 0.32729777740951294.\n",
      "[I 2025-05-24 18:18:16,503] Trial 315 finished with value: 0.21763138450620376 and parameters: {'n_clusters': 101, 'linkage': 'average'}. Best is trial 57 with value: 0.32729777740951294.\n",
      "[I 2025-05-24 18:18:16,693] Trial 316 finished with value: 0.3185445128986242 and parameters: {'n_clusters': 143, 'linkage': 'ward'}. Best is trial 57 with value: 0.32729777740951294.\n",
      "[I 2025-05-24 18:18:16,880] Trial 317 finished with value: 0.22327361792243564 and parameters: {'n_clusters': 43, 'linkage': 'ward'}. Best is trial 57 with value: 0.32729777740951294.\n",
      "[I 2025-05-24 18:18:17,073] Trial 318 finished with value: 0.26190027728624615 and parameters: {'n_clusters': 98, 'linkage': 'ward'}. Best is trial 57 with value: 0.32729777740951294.\n",
      "[I 2025-05-24 18:18:17,266] Trial 319 finished with value: 0.17709862503461418 and parameters: {'n_clusters': 18, 'linkage': 'complete'}. Best is trial 57 with value: 0.32729777740951294.\n",
      "[I 2025-05-24 18:18:17,453] Trial 320 finished with value: 0.2300115897189158 and parameters: {'n_clusters': 54, 'linkage': 'ward'}. Best is trial 57 with value: 0.32729777740951294.\n",
      "[I 2025-05-24 18:18:17,640] Trial 321 finished with value: 0.23777033103131473 and parameters: {'n_clusters': 71, 'linkage': 'ward'}. Best is trial 57 with value: 0.32729777740951294.\n",
      "[I 2025-05-24 18:18:17,832] Trial 322 finished with value: 0.19965022171261804 and parameters: {'n_clusters': 68, 'linkage': 'average'}. Best is trial 57 with value: 0.32729777740951294.\n",
      "[I 2025-05-24 18:18:18,028] Trial 323 finished with value: -0.043039199841860214 and parameters: {'n_clusters': 82, 'linkage': 'single'}. Best is trial 57 with value: 0.32729777740951294.\n",
      "[I 2025-05-24 18:18:18,217] Trial 324 finished with value: 0.0811475233552725 and parameters: {'n_clusters': 127, 'linkage': 'single'}. Best is trial 57 with value: 0.32729777740951294.\n",
      "[I 2025-05-24 18:18:18,406] Trial 325 finished with value: 0.21701634759264843 and parameters: {'n_clusters': 108, 'linkage': 'complete'}. Best is trial 57 with value: 0.32729777740951294.\n",
      "[I 2025-05-24 18:18:18,610] Trial 326 finished with value: 0.21811303345371058 and parameters: {'n_clusters': 113, 'linkage': 'complete'}. Best is trial 57 with value: 0.32729777740951294.\n",
      "[I 2025-05-24 18:18:18,802] Trial 327 finished with value: 0.21742433299416358 and parameters: {'n_clusters': 87, 'linkage': 'average'}. Best is trial 57 with value: 0.32729777740951294.\n",
      "[I 2025-05-24 18:18:18,990] Trial 328 finished with value: 0.1598661682801904 and parameters: {'n_clusters': 30, 'linkage': 'complete'}. Best is trial 57 with value: 0.32729777740951294.\n",
      "[I 2025-05-24 18:18:19,179] Trial 329 finished with value: 0.1275663264838102 and parameters: {'n_clusters': 25, 'linkage': 'complete'}. Best is trial 57 with value: 0.32729777740951294.\n",
      "[I 2025-05-24 18:18:19,373] Trial 330 finished with value: 0.24209625997965917 and parameters: {'n_clusters': 83, 'linkage': 'ward'}. Best is trial 57 with value: 0.32729777740951294.\n",
      "[I 2025-05-24 18:18:19,562] Trial 331 finished with value: 0.13826163193289398 and parameters: {'n_clusters': 23, 'linkage': 'complete'}. Best is trial 57 with value: 0.32729777740951294.\n",
      "[I 2025-05-24 18:18:19,759] Trial 332 finished with value: 0.22921777942654054 and parameters: {'n_clusters': 45, 'linkage': 'ward'}. Best is trial 57 with value: 0.32729777740951294.\n",
      "[I 2025-05-24 18:18:19,974] Trial 333 finished with value: 0.20899510686338463 and parameters: {'n_clusters': 89, 'linkage': 'complete'}. Best is trial 57 with value: 0.32729777740951294.\n",
      "[I 2025-05-24 18:18:20,170] Trial 334 finished with value: 0.21334115506165935 and parameters: {'n_clusters': 39, 'linkage': 'ward'}. Best is trial 57 with value: 0.32729777740951294.\n",
      "[I 2025-05-24 18:18:20,366] Trial 335 finished with value: -0.0241670363509758 and parameters: {'n_clusters': 42, 'linkage': 'single'}. Best is trial 57 with value: 0.32729777740951294.\n",
      "[I 2025-05-24 18:18:20,564] Trial 336 finished with value: 0.17683213552998414 and parameters: {'n_clusters': 16, 'linkage': 'single'}. Best is trial 57 with value: 0.32729777740951294.\n",
      "[I 2025-05-24 18:18:20,762] Trial 337 finished with value: 0.15830804059525252 and parameters: {'n_clusters': 23, 'linkage': 'single'}. Best is trial 57 with value: 0.32729777740951294.\n",
      "[I 2025-05-24 18:18:20,958] Trial 338 finished with value: 0.16950777389951255 and parameters: {'n_clusters': 37, 'linkage': 'complete'}. Best is trial 57 with value: 0.32729777740951294.\n",
      "[I 2025-05-24 18:18:21,150] Trial 339 finished with value: 0.05612018500406778 and parameters: {'n_clusters': 125, 'linkage': 'single'}. Best is trial 57 with value: 0.32729777740951294.\n",
      "[I 2025-05-24 18:18:21,358] Trial 340 finished with value: 0.21761579399372447 and parameters: {'n_clusters': 86, 'linkage': 'average'}. Best is trial 57 with value: 0.32729777740951294.\n",
      "[I 2025-05-24 18:18:21,553] Trial 341 finished with value: 0.2089756362131686 and parameters: {'n_clusters': 37, 'linkage': 'ward'}. Best is trial 57 with value: 0.32729777740951294.\n",
      "[I 2025-05-24 18:18:21,751] Trial 342 finished with value: 0.23025112960570635 and parameters: {'n_clusters': 149, 'linkage': 'complete'}. Best is trial 57 with value: 0.32729777740951294.\n",
      "[I 2025-05-24 18:18:21,952] Trial 343 finished with value: 0.23039723803054932 and parameters: {'n_clusters': 143, 'linkage': 'complete'}. Best is trial 57 with value: 0.32729777740951294.\n",
      "[I 2025-05-24 18:18:22,149] Trial 344 finished with value: 0.15065460744693257 and parameters: {'n_clusters': 25, 'linkage': 'average'}. Best is trial 57 with value: 0.32729777740951294.\n",
      "[I 2025-05-24 18:18:22,356] Trial 345 finished with value: 0.23233867421306736 and parameters: {'n_clusters': 150, 'linkage': 'complete'}. Best is trial 57 with value: 0.32729777740951294.\n",
      "[I 2025-05-24 18:18:22,567] Trial 346 finished with value: 0.1367988848991185 and parameters: {'n_clusters': 20, 'linkage': 'single'}. Best is trial 57 with value: 0.32729777740951294.\n",
      "[I 2025-05-24 18:18:22,776] Trial 347 finished with value: 0.32487339992902015 and parameters: {'n_clusters': 148, 'linkage': 'ward'}. Best is trial 57 with value: 0.32729777740951294.\n",
      "[I 2025-05-24 18:18:22,976] Trial 348 finished with value: 0.21821868643207368 and parameters: {'n_clusters': 81, 'linkage': 'average'}. Best is trial 57 with value: 0.32729777740951294.\n",
      "[I 2025-05-24 18:18:23,178] Trial 349 finished with value: 0.2857669264096271 and parameters: {'n_clusters': 114, 'linkage': 'ward'}. Best is trial 57 with value: 0.32729777740951294.\n",
      "[I 2025-05-24 18:18:23,390] Trial 350 finished with value: 0.12710406656875103 and parameters: {'n_clusters': 25, 'linkage': 'single'}. Best is trial 57 with value: 0.32729777740951294.\n",
      "[I 2025-05-24 18:18:23,599] Trial 351 finished with value: 0.16011282752800948 and parameters: {'n_clusters': 21, 'linkage': 'single'}. Best is trial 57 with value: 0.32729777740951294.\n",
      "[I 2025-05-24 18:18:23,811] Trial 352 finished with value: 0.11004670176078468 and parameters: {'n_clusters': 27, 'linkage': 'single'}. Best is trial 57 with value: 0.32729777740951294.\n",
      "[I 2025-05-24 18:18:24,013] Trial 353 finished with value: 0.2104267644104242 and parameters: {'n_clusters': 84, 'linkage': 'average'}. Best is trial 57 with value: 0.32729777740951294.\n",
      "[I 2025-05-24 18:18:24,217] Trial 354 finished with value: -0.03867495615215134 and parameters: {'n_clusters': 74, 'linkage': 'single'}. Best is trial 57 with value: 0.32729777740951294.\n",
      "[I 2025-05-24 18:18:24,427] Trial 355 finished with value: 0.18123086299169006 and parameters: {'n_clusters': 58, 'linkage': 'average'}. Best is trial 57 with value: 0.32729777740951294.\n",
      "[I 2025-05-24 18:18:24,626] Trial 356 finished with value: 0.21095133165102783 and parameters: {'n_clusters': 83, 'linkage': 'average'}. Best is trial 57 with value: 0.32729777740951294.\n",
      "[I 2025-05-24 18:18:24,827] Trial 357 finished with value: -0.010835928868282507 and parameters: {'n_clusters': 108, 'linkage': 'single'}. Best is trial 57 with value: 0.32729777740951294.\n",
      "[I 2025-05-24 18:18:25,028] Trial 358 finished with value: 0.19890053387823364 and parameters: {'n_clusters': 73, 'linkage': 'average'}. Best is trial 57 with value: 0.32729777740951294.\n",
      "[I 2025-05-24 18:18:25,231] Trial 359 finished with value: 0.21968558402008237 and parameters: {'n_clusters': 103, 'linkage': 'average'}. Best is trial 57 with value: 0.32729777740951294.\n",
      "[I 2025-05-24 18:18:25,440] Trial 360 finished with value: 0.23545274163784505 and parameters: {'n_clusters': 128, 'linkage': 'average'}. Best is trial 57 with value: 0.32729777740951294.\n",
      "[I 2025-05-24 18:18:25,643] Trial 361 finished with value: 0.2405955833588235 and parameters: {'n_clusters': 77, 'linkage': 'ward'}. Best is trial 57 with value: 0.32729777740951294.\n",
      "[I 2025-05-24 18:18:25,848] Trial 362 finished with value: 0.1993309596014807 and parameters: {'n_clusters': 34, 'linkage': 'ward'}. Best is trial 57 with value: 0.32729777740951294.\n",
      "[I 2025-05-24 18:18:26,055] Trial 363 finished with value: 0.21095040426466707 and parameters: {'n_clusters': 85, 'linkage': 'average'}. Best is trial 57 with value: 0.32729777740951294.\n",
      "[I 2025-05-24 18:18:26,263] Trial 364 finished with value: 0.1341021376087075 and parameters: {'n_clusters': 28, 'linkage': 'complete'}. Best is trial 57 with value: 0.32729777740951294.\n",
      "[I 2025-05-24 18:18:26,469] Trial 365 finished with value: 0.21220177114584043 and parameters: {'n_clusters': 92, 'linkage': 'average'}. Best is trial 57 with value: 0.32729777740951294.\n",
      "[I 2025-05-24 18:18:26,680] Trial 366 finished with value: 0.315594714097842 and parameters: {'n_clusters': 139, 'linkage': 'ward'}. Best is trial 57 with value: 0.32729777740951294.\n",
      "[I 2025-05-24 18:18:26,882] Trial 367 finished with value: -0.04852295644330355 and parameters: {'n_clusters': 66, 'linkage': 'single'}. Best is trial 57 with value: 0.32729777740951294.\n",
      "[I 2025-05-24 18:18:27,090] Trial 368 finished with value: 0.2919699728486305 and parameters: {'n_clusters': 121, 'linkage': 'ward'}. Best is trial 57 with value: 0.32729777740951294.\n",
      "[I 2025-05-24 18:18:27,303] Trial 369 finished with value: 0.17673537708817277 and parameters: {'n_clusters': 35, 'linkage': 'average'}. Best is trial 57 with value: 0.32729777740951294.\n",
      "[I 2025-05-24 18:18:27,512] Trial 370 finished with value: 0.23853076523814187 and parameters: {'n_clusters': 136, 'linkage': 'average'}. Best is trial 57 with value: 0.32729777740951294.\n",
      "[I 2025-05-24 18:18:27,718] Trial 371 finished with value: -0.027445195588072496 and parameters: {'n_clusters': 85, 'linkage': 'single'}. Best is trial 57 with value: 0.32729777740951294.\n",
      "[I 2025-05-24 18:18:27,930] Trial 372 finished with value: 0.22843230086935587 and parameters: {'n_clusters': 50, 'linkage': 'ward'}. Best is trial 57 with value: 0.32729777740951294.\n",
      "[I 2025-05-24 18:18:28,147] Trial 373 finished with value: 0.2419591310996437 and parameters: {'n_clusters': 143, 'linkage': 'average'}. Best is trial 57 with value: 0.32729777740951294.\n",
      "[I 2025-05-24 18:18:28,358] Trial 374 finished with value: 0.04538065334524472 and parameters: {'n_clusters': 33, 'linkage': 'single'}. Best is trial 57 with value: 0.32729777740951294.\n",
      "[I 2025-05-24 18:18:28,571] Trial 375 finished with value: 0.2503636469950694 and parameters: {'n_clusters': 89, 'linkage': 'ward'}. Best is trial 57 with value: 0.32729777740951294.\n",
      "[I 2025-05-24 18:18:28,776] Trial 376 finished with value: -0.07744379671214284 and parameters: {'n_clusters': 56, 'linkage': 'single'}. Best is trial 57 with value: 0.32729777740951294.\n",
      "[I 2025-05-24 18:18:28,991] Trial 377 finished with value: 0.049074551079755516 and parameters: {'n_clusters': 143, 'linkage': 'single'}. Best is trial 57 with value: 0.32729777740951294.\n",
      "[I 2025-05-24 18:18:29,199] Trial 378 finished with value: 0.18309893746741152 and parameters: {'n_clusters': 55, 'linkage': 'complete'}. Best is trial 57 with value: 0.32729777740951294.\n",
      "[I 2025-05-24 18:18:29,413] Trial 379 finished with value: 0.1954580408099718 and parameters: {'n_clusters': 23, 'linkage': 'ward'}. Best is trial 57 with value: 0.32729777740951294.\n",
      "[I 2025-05-24 18:18:29,625] Trial 380 finished with value: 0.1744905384837568 and parameters: {'n_clusters': 15, 'linkage': 'complete'}. Best is trial 57 with value: 0.32729777740951294.\n",
      "[I 2025-05-24 18:18:29,832] Trial 381 finished with value: 0.18004032453377464 and parameters: {'n_clusters': 54, 'linkage': 'complete'}. Best is trial 57 with value: 0.32729777740951294.\n",
      "[I 2025-05-24 18:18:30,050] Trial 382 finished with value: 0.30172233572304596 and parameters: {'n_clusters': 131, 'linkage': 'ward'}. Best is trial 57 with value: 0.32729777740951294.\n",
      "[I 2025-05-24 18:18:30,265] Trial 383 finished with value: 0.2231187433709101 and parameters: {'n_clusters': 120, 'linkage': 'average'}. Best is trial 57 with value: 0.32729777740951294.\n",
      "[I 2025-05-24 18:18:30,480] Trial 384 finished with value: 0.2206249869557132 and parameters: {'n_clusters': 97, 'linkage': 'average'}. Best is trial 57 with value: 0.32729777740951294.\n",
      "[I 2025-05-24 18:18:30,694] Trial 385 finished with value: 0.12668977290326564 and parameters: {'n_clusters': 26, 'linkage': 'single'}. Best is trial 57 with value: 0.32729777740951294.\n",
      "[I 2025-05-24 18:18:30,911] Trial 386 finished with value: 0.13245953277476302 and parameters: {'n_clusters': 30, 'linkage': 'average'}. Best is trial 57 with value: 0.32729777740951294.\n",
      "[I 2025-05-24 18:18:31,128] Trial 387 finished with value: 0.2576836085863808 and parameters: {'n_clusters': 93, 'linkage': 'ward'}. Best is trial 57 with value: 0.32729777740951294.\n",
      "[I 2025-05-24 18:18:31,343] Trial 388 finished with value: 0.2957516719663861 and parameters: {'n_clusters': 127, 'linkage': 'ward'}. Best is trial 57 with value: 0.32729777740951294.\n",
      "[I 2025-05-24 18:18:31,561] Trial 389 finished with value: 0.2100402481387842 and parameters: {'n_clusters': 102, 'linkage': 'complete'}. Best is trial 57 with value: 0.32729777740951294.\n",
      "[I 2025-05-24 18:18:31,777] Trial 390 finished with value: 0.21732771311478008 and parameters: {'n_clusters': 127, 'linkage': 'complete'}. Best is trial 57 with value: 0.32729777740951294.\n",
      "[I 2025-05-24 18:18:31,997] Trial 391 finished with value: 0.20228157903755048 and parameters: {'n_clusters': 35, 'linkage': 'ward'}. Best is trial 57 with value: 0.32729777740951294.\n",
      "[I 2025-05-24 18:18:32,216] Trial 392 finished with value: 0.2923911720018562 and parameters: {'n_clusters': 120, 'linkage': 'ward'}. Best is trial 57 with value: 0.32729777740951294.\n",
      "[I 2025-05-24 18:18:32,436] Trial 393 finished with value: 0.21123125207408924 and parameters: {'n_clusters': 18, 'linkage': 'average'}. Best is trial 57 with value: 0.32729777740951294.\n",
      "[I 2025-05-24 18:18:32,660] Trial 394 finished with value: 0.15019463148388285 and parameters: {'n_clusters': 21, 'linkage': 'average'}. Best is trial 57 with value: 0.32729777740951294.\n",
      "[I 2025-05-24 18:18:32,898] Trial 395 finished with value: 0.19640231259677227 and parameters: {'n_clusters': 26, 'linkage': 'ward'}. Best is trial 57 with value: 0.32729777740951294.\n",
      "[I 2025-05-24 18:18:33,125] Trial 396 finished with value: 0.2923372647462709 and parameters: {'n_clusters': 13, 'linkage': 'single'}. Best is trial 57 with value: 0.32729777740951294.\n",
      "[I 2025-05-24 18:18:33,347] Trial 397 finished with value: 0.19781389307263358 and parameters: {'n_clusters': 59, 'linkage': 'complete'}. Best is trial 57 with value: 0.32729777740951294.\n",
      "[I 2025-05-24 18:18:33,568] Trial 398 finished with value: 0.29217657249856227 and parameters: {'n_clusters': 119, 'linkage': 'ward'}. Best is trial 57 with value: 0.32729777740951294.\n",
      "[I 2025-05-24 18:18:33,793] Trial 399 finished with value: -0.04855905789796936 and parameters: {'n_clusters': 62, 'linkage': 'single'}. Best is trial 57 with value: 0.32729777740951294.\n",
      "[I 2025-05-24 18:18:34,029] Trial 400 finished with value: 0.09729502744855044 and parameters: {'n_clusters': 28, 'linkage': 'single'}. Best is trial 57 with value: 0.32729777740951294.\n",
      "[I 2025-05-24 18:18:34,253] Trial 401 finished with value: 0.32745480721431686 and parameters: {'n_clusters': 149, 'linkage': 'ward'}. Best is trial 401 with value: 0.32745480721431686.\n",
      "[I 2025-05-24 18:18:34,478] Trial 402 finished with value: 0.21658887884601227 and parameters: {'n_clusters': 106, 'linkage': 'average'}. Best is trial 401 with value: 0.32745480721431686.\n",
      "[I 2025-05-24 18:18:34,698] Trial 403 finished with value: 0.24025057171969064 and parameters: {'n_clusters': 129, 'linkage': 'average'}. Best is trial 401 with value: 0.32745480721431686.\n",
      "[I 2025-05-24 18:18:34,911] Trial 404 finished with value: 0.20569809787015683 and parameters: {'n_clusters': 80, 'linkage': 'complete'}. Best is trial 401 with value: 0.32745480721431686.\n",
      "[I 2025-05-24 18:18:35,133] Trial 405 finished with value: -0.003628250499849949 and parameters: {'n_clusters': 34, 'linkage': 'single'}. Best is trial 401 with value: 0.32745480721431686.\n",
      "[I 2025-05-24 18:18:35,354] Trial 406 finished with value: 0.17527818052814975 and parameters: {'n_clusters': 45, 'linkage': 'complete'}. Best is trial 401 with value: 0.32745480721431686.\n",
      "[I 2025-05-24 18:18:35,576] Trial 407 finished with value: 0.17960211035422183 and parameters: {'n_clusters': 51, 'linkage': 'complete'}. Best is trial 401 with value: 0.32745480721431686.\n",
      "[I 2025-05-24 18:18:35,794] Trial 408 finished with value: -0.05966834145631194 and parameters: {'n_clusters': 93, 'linkage': 'single'}. Best is trial 401 with value: 0.32745480721431686.\n",
      "[I 2025-05-24 18:18:36,018] Trial 409 finished with value: 0.22333931204345855 and parameters: {'n_clusters': 117, 'linkage': 'average'}. Best is trial 401 with value: 0.32745480721431686.\n",
      "[I 2025-05-24 18:18:36,236] Trial 410 finished with value: 0.22844218551884143 and parameters: {'n_clusters': 141, 'linkage': 'complete'}. Best is trial 401 with value: 0.32745480721431686.\n",
      "[I 2025-05-24 18:18:36,460] Trial 411 finished with value: -0.05960595120726148 and parameters: {'n_clusters': 92, 'linkage': 'single'}. Best is trial 401 with value: 0.32745480721431686.\n",
      "[I 2025-05-24 18:18:36,688] Trial 412 finished with value: 0.19540436364531646 and parameters: {'n_clusters': 29, 'linkage': 'ward'}. Best is trial 401 with value: 0.32745480721431686.\n",
      "[I 2025-05-24 18:18:36,914] Trial 413 finished with value: 0.19240884762415547 and parameters: {'n_clusters': 56, 'linkage': 'complete'}. Best is trial 401 with value: 0.32745480721431686.\n",
      "[I 2025-05-24 18:18:37,142] Trial 414 finished with value: 0.13729388289389444 and parameters: {'n_clusters': 24, 'linkage': 'complete'}. Best is trial 401 with value: 0.32745480721431686.\n",
      "[I 2025-05-24 18:18:37,374] Trial 415 finished with value: -0.02763246981327393 and parameters: {'n_clusters': 61, 'linkage': 'single'}. Best is trial 401 with value: 0.32745480721431686.\n",
      "[I 2025-05-24 18:18:37,600] Trial 416 finished with value: 0.23763470760149702 and parameters: {'n_clusters': 138, 'linkage': 'average'}. Best is trial 401 with value: 0.32745480721431686.\n",
      "[I 2025-05-24 18:18:37,823] Trial 417 finished with value: 0.2102942008068066 and parameters: {'n_clusters': 91, 'linkage': 'complete'}. Best is trial 401 with value: 0.32745480721431686.\n",
      "[I 2025-05-24 18:18:38,052] Trial 418 finished with value: 0.2217789479573064 and parameters: {'n_clusters': 95, 'linkage': 'average'}. Best is trial 401 with value: 0.32745480721431686.\n",
      "[I 2025-05-24 18:18:38,280] Trial 419 finished with value: 0.053492426697512786 and parameters: {'n_clusters': 141, 'linkage': 'single'}. Best is trial 401 with value: 0.32745480721431686.\n",
      "[I 2025-05-24 18:18:38,518] Trial 420 finished with value: 0.17321889728896364 and parameters: {'n_clusters': 13, 'linkage': 'ward'}. Best is trial 401 with value: 0.32745480721431686.\n",
      "[I 2025-05-24 18:18:38,744] Trial 421 finished with value: 0.15710043691356465 and parameters: {'n_clusters': 24, 'linkage': 'single'}. Best is trial 401 with value: 0.32745480721431686.\n",
      "[I 2025-05-24 18:18:38,980] Trial 422 finished with value: 0.30733651320656874 and parameters: {'n_clusters': 135, 'linkage': 'ward'}. Best is trial 401 with value: 0.32745480721431686.\n",
      "[I 2025-05-24 18:18:39,213] Trial 423 finished with value: 0.23590347853781163 and parameters: {'n_clusters': 149, 'linkage': 'average'}. Best is trial 401 with value: 0.32745480721431686.\n",
      "[I 2025-05-24 18:18:39,443] Trial 424 finished with value: 0.1735660966429939 and parameters: {'n_clusters': 14, 'linkage': 'complete'}. Best is trial 401 with value: 0.32745480721431686.\n",
      "[I 2025-05-24 18:18:39,675] Trial 425 finished with value: 0.24700514261089737 and parameters: {'n_clusters': 87, 'linkage': 'ward'}. Best is trial 401 with value: 0.32745480721431686.\n",
      "[I 2025-05-24 18:18:39,919] Trial 426 finished with value: 0.19173649995880054 and parameters: {'n_clusters': 53, 'linkage': 'average'}. Best is trial 401 with value: 0.32745480721431686.\n",
      "[I 2025-05-24 18:18:40,155] Trial 427 finished with value: 0.2092478212327144 and parameters: {'n_clusters': 99, 'linkage': 'complete'}. Best is trial 401 with value: 0.32745480721431686.\n",
      "[I 2025-05-24 18:18:40,387] Trial 428 finished with value: -0.04956810457931768 and parameters: {'n_clusters': 63, 'linkage': 'single'}. Best is trial 401 with value: 0.32745480721431686.\n",
      "[I 2025-05-24 18:18:40,616] Trial 429 finished with value: 0.05436585966019914 and parameters: {'n_clusters': 140, 'linkage': 'single'}. Best is trial 401 with value: 0.32745480721431686.\n",
      "[I 2025-05-24 18:18:40,842] Trial 430 finished with value: 0.240947527209999 and parameters: {'n_clusters': 144, 'linkage': 'average'}. Best is trial 401 with value: 0.32745480721431686.\n",
      "[I 2025-05-24 18:18:41,078] Trial 431 finished with value: 0.14835122918546384 and parameters: {'n_clusters': 22, 'linkage': 'complete'}. Best is trial 401 with value: 0.32745480721431686.\n",
      "[I 2025-05-24 18:18:41,315] Trial 432 finished with value: -0.031080422587074753 and parameters: {'n_clusters': 119, 'linkage': 'single'}. Best is trial 401 with value: 0.32745480721431686.\n",
      "[I 2025-05-24 18:18:41,549] Trial 433 finished with value: 0.1898991708938265 and parameters: {'n_clusters': 51, 'linkage': 'average'}. Best is trial 401 with value: 0.32745480721431686.\n",
      "[I 2025-05-24 18:18:41,780] Trial 434 finished with value: 0.2212420302678087 and parameters: {'n_clusters': 42, 'linkage': 'ward'}. Best is trial 401 with value: 0.32745480721431686.\n",
      "[I 2025-05-24 18:18:42,014] Trial 435 finished with value: 0.2517482372292342 and parameters: {'n_clusters': 90, 'linkage': 'ward'}. Best is trial 401 with value: 0.32745480721431686.\n",
      "[I 2025-05-24 18:18:42,249] Trial 436 finished with value: 0.15856059367953348 and parameters: {'n_clusters': 35, 'linkage': 'complete'}. Best is trial 401 with value: 0.32745480721431686.\n",
      "[I 2025-05-24 18:18:42,487] Trial 437 finished with value: 0.23451613748801164 and parameters: {'n_clusters': 127, 'linkage': 'average'}. Best is trial 401 with value: 0.32745480721431686.\n",
      "[I 2025-05-24 18:18:42,725] Trial 438 finished with value: 0.1860018540443145 and parameters: {'n_clusters': 21, 'linkage': 'ward'}. Best is trial 401 with value: 0.32745480721431686.\n",
      "[I 2025-05-24 18:18:42,961] Trial 439 finished with value: 0.2114980967491886 and parameters: {'n_clusters': 88, 'linkage': 'complete'}. Best is trial 401 with value: 0.32745480721431686.\n",
      "[I 2025-05-24 18:18:43,196] Trial 440 finished with value: -0.029099277066885053 and parameters: {'n_clusters': 54, 'linkage': 'single'}. Best is trial 401 with value: 0.32745480721431686.\n",
      "[I 2025-05-24 18:18:43,439] Trial 441 finished with value: 0.26126600614254436 and parameters: {'n_clusters': 96, 'linkage': 'ward'}. Best is trial 401 with value: 0.32745480721431686.\n",
      "[I 2025-05-24 18:18:43,675] Trial 442 finished with value: 0.23964384450953755 and parameters: {'n_clusters': 135, 'linkage': 'average'}. Best is trial 401 with value: 0.32745480721431686.\n",
      "[I 2025-05-24 18:18:43,925] Trial 443 finished with value: 0.22969857420862358 and parameters: {'n_clusters': 46, 'linkage': 'ward'}. Best is trial 401 with value: 0.32745480721431686.\n",
      "[I 2025-05-24 18:18:44,163] Trial 444 finished with value: 0.20286714923064503 and parameters: {'n_clusters': 62, 'linkage': 'average'}. Best is trial 401 with value: 0.32745480721431686.\n",
      "[I 2025-05-24 18:18:44,403] Trial 445 finished with value: 0.23625269589857809 and parameters: {'n_clusters': 68, 'linkage': 'ward'}. Best is trial 401 with value: 0.32745480721431686.\n",
      "[I 2025-05-24 18:18:44,644] Trial 446 finished with value: 0.22936815618560366 and parameters: {'n_clusters': 51, 'linkage': 'ward'}. Best is trial 401 with value: 0.32745480721431686.\n",
      "[I 2025-05-24 18:18:44,879] Trial 447 finished with value: 0.2383516863963981 and parameters: {'n_clusters': 139, 'linkage': 'average'}. Best is trial 401 with value: 0.32745480721431686.\n",
      "[I 2025-05-24 18:18:45,122] Trial 448 finished with value: 0.22776753334741912 and parameters: {'n_clusters': 139, 'linkage': 'complete'}. Best is trial 401 with value: 0.32745480721431686.\n",
      "[I 2025-05-24 18:18:45,368] Trial 449 finished with value: 0.23407030327917897 and parameters: {'n_clusters': 60, 'linkage': 'ward'}. Best is trial 401 with value: 0.32745480721431686.\n",
      "[I 2025-05-24 18:18:45,605] Trial 450 finished with value: 0.20625754024994433 and parameters: {'n_clusters': 78, 'linkage': 'average'}. Best is trial 401 with value: 0.32745480721431686.\n",
      "[I 2025-05-24 18:18:45,844] Trial 451 finished with value: -0.052314376516392126 and parameters: {'n_clusters': 89, 'linkage': 'single'}. Best is trial 401 with value: 0.32745480721431686.\n",
      "[I 2025-05-24 18:18:46,085] Trial 452 finished with value: -0.05135152870340016 and parameters: {'n_clusters': 88, 'linkage': 'single'}. Best is trial 401 with value: 0.32745480721431686.\n",
      "[I 2025-05-24 18:18:46,323] Trial 453 finished with value: -0.00915919301471713 and parameters: {'n_clusters': 106, 'linkage': 'single'}. Best is trial 401 with value: 0.32745480721431686.\n",
      "[I 2025-05-24 18:18:46,608] Trial 454 finished with value: -0.011023372350648684 and parameters: {'n_clusters': 105, 'linkage': 'single'}. Best is trial 401 with value: 0.32745480721431686.\n",
      "[I 2025-05-24 18:18:46,862] Trial 455 finished with value: -0.01793912162338041 and parameters: {'n_clusters': 38, 'linkage': 'single'}. Best is trial 401 with value: 0.32745480721431686.\n",
      "[I 2025-05-24 18:18:47,108] Trial 456 finished with value: 0.30442194047389254 and parameters: {'n_clusters': 133, 'linkage': 'ward'}. Best is trial 401 with value: 0.32745480721431686.\n",
      "[I 2025-05-24 18:18:47,356] Trial 457 finished with value: 0.2142385421611545 and parameters: {'n_clusters': 91, 'linkage': 'average'}. Best is trial 401 with value: 0.32745480721431686.\n",
      "[I 2025-05-24 18:18:47,606] Trial 458 finished with value: 0.2303639069077111 and parameters: {'n_clusters': 147, 'linkage': 'complete'}. Best is trial 401 with value: 0.32745480721431686.\n",
      "[I 2025-05-24 18:18:47,850] Trial 459 finished with value: 0.2379601682964414 and parameters: {'n_clusters': 72, 'linkage': 'ward'}. Best is trial 401 with value: 0.32745480721431686.\n",
      "[I 2025-05-24 18:18:48,092] Trial 460 finished with value: -0.05300215835511741 and parameters: {'n_clusters': 64, 'linkage': 'single'}. Best is trial 401 with value: 0.32745480721431686.\n",
      "[I 2025-05-24 18:18:48,345] Trial 461 finished with value: 0.20819440215575902 and parameters: {'n_clusters': 105, 'linkage': 'complete'}. Best is trial 401 with value: 0.32745480721431686.\n",
      "[I 2025-05-24 18:18:48,584] Trial 462 finished with value: 0.31792560911284873 and parameters: {'n_clusters': 140, 'linkage': 'ward'}. Best is trial 401 with value: 0.32745480721431686.\n",
      "[I 2025-05-24 18:18:48,828] Trial 463 finished with value: 0.1898778738544965 and parameters: {'n_clusters': 56, 'linkage': 'average'}. Best is trial 401 with value: 0.32745480721431686.\n",
      "[I 2025-05-24 18:18:49,072] Trial 464 finished with value: 0.1969249538839011 and parameters: {'n_clusters': 33, 'linkage': 'ward'}. Best is trial 401 with value: 0.32745480721431686.\n",
      "[I 2025-05-24 18:18:49,319] Trial 465 finished with value: -0.07796209866847381 and parameters: {'n_clusters': 58, 'linkage': 'single'}. Best is trial 401 with value: 0.32745480721431686.\n",
      "[I 2025-05-24 18:18:49,565] Trial 466 finished with value: 0.05579315211291585 and parameters: {'n_clusters': 137, 'linkage': 'single'}. Best is trial 401 with value: 0.32745480721431686.\n",
      "[I 2025-05-24 18:18:49,808] Trial 467 finished with value: 0.22819257932648418 and parameters: {'n_clusters': 53, 'linkage': 'ward'}. Best is trial 401 with value: 0.32745480721431686.\n",
      "[I 2025-05-24 18:18:50,054] Trial 468 finished with value: 0.20869905176945017 and parameters: {'n_clusters': 98, 'linkage': 'complete'}. Best is trial 401 with value: 0.32745480721431686.\n",
      "[I 2025-05-24 18:18:50,300] Trial 469 finished with value: 0.21465578928808468 and parameters: {'n_clusters': 122, 'linkage': 'complete'}. Best is trial 401 with value: 0.32745480721431686.\n",
      "[I 2025-05-24 18:18:50,543] Trial 470 finished with value: 0.17062847079327287 and parameters: {'n_clusters': 10, 'linkage': 'ward'}. Best is trial 401 with value: 0.32745480721431686.\n",
      "[I 2025-05-24 18:18:50,786] Trial 471 finished with value: 0.21543326441922986 and parameters: {'n_clusters': 111, 'linkage': 'complete'}. Best is trial 401 with value: 0.32745480721431686.\n",
      "[I 2025-05-24 18:18:51,030] Trial 472 finished with value: 0.1966138651934005 and parameters: {'n_clusters': 70, 'linkage': 'average'}. Best is trial 401 with value: 0.32745480721431686.\n",
      "[I 2025-05-24 18:18:51,273] Trial 473 finished with value: 0.21826098503493074 and parameters: {'n_clusters': 133, 'linkage': 'complete'}. Best is trial 401 with value: 0.32745480721431686.\n",
      "[I 2025-05-24 18:18:51,517] Trial 474 finished with value: 0.20924644807610013 and parameters: {'n_clusters': 96, 'linkage': 'complete'}. Best is trial 401 with value: 0.32745480721431686.\n",
      "[I 2025-05-24 18:18:51,757] Trial 475 finished with value: -0.028325991953246792 and parameters: {'n_clusters': 48, 'linkage': 'single'}. Best is trial 401 with value: 0.32745480721431686.\n",
      "[I 2025-05-24 18:18:52,005] Trial 476 finished with value: -0.02564590937948818 and parameters: {'n_clusters': 113, 'linkage': 'single'}. Best is trial 401 with value: 0.32745480721431686.\n",
      "[I 2025-05-24 18:18:52,256] Trial 477 finished with value: 0.27596859824296904 and parameters: {'n_clusters': 108, 'linkage': 'ward'}. Best is trial 401 with value: 0.32745480721431686.\n",
      "[I 2025-05-24 18:18:52,505] Trial 478 finished with value: 0.2176344903266656 and parameters: {'n_clusters': 115, 'linkage': 'complete'}. Best is trial 401 with value: 0.32745480721431686.\n",
      "[I 2025-05-24 18:18:52,753] Trial 479 finished with value: 0.2029305188757098 and parameters: {'n_clusters': 77, 'linkage': 'complete'}. Best is trial 401 with value: 0.32745480721431686.\n",
      "[I 2025-05-24 18:18:53,005] Trial 480 finished with value: 0.15945262065529955 and parameters: {'n_clusters': 32, 'linkage': 'complete'}. Best is trial 401 with value: 0.32745480721431686.\n",
      "[I 2025-05-24 18:18:53,259] Trial 481 finished with value: 0.23172676949173845 and parameters: {'n_clusters': 146, 'linkage': 'complete'}. Best is trial 401 with value: 0.32745480721431686.\n",
      "[I 2025-05-24 18:18:53,517] Trial 482 finished with value: 0.17100480884070085 and parameters: {'n_clusters': 20, 'linkage': 'complete'}. Best is trial 401 with value: 0.32745480721431686.\n",
      "[I 2025-05-24 18:18:53,765] Trial 483 finished with value: 0.17392803188504757 and parameters: {'n_clusters': 47, 'linkage': 'average'}. Best is trial 401 with value: 0.32745480721431686.\n",
      "[I 2025-05-24 18:18:54,014] Trial 484 finished with value: 0.20961496496305732 and parameters: {'n_clusters': 97, 'linkage': 'complete'}. Best is trial 401 with value: 0.32745480721431686.\n",
      "[I 2025-05-24 18:18:54,264] Trial 485 finished with value: 0.23578222555426126 and parameters: {'n_clusters': 125, 'linkage': 'average'}. Best is trial 401 with value: 0.32745480721431686.\n",
      "[I 2025-05-24 18:18:54,519] Trial 486 finished with value: 0.27211241621957377 and parameters: {'n_clusters': 104, 'linkage': 'ward'}. Best is trial 401 with value: 0.32745480721431686.\n",
      "[I 2025-05-24 18:18:54,768] Trial 487 finished with value: 0.19909488308169482 and parameters: {'n_clusters': 66, 'linkage': 'average'}. Best is trial 401 with value: 0.32745480721431686.\n",
      "[I 2025-05-24 18:18:55,023] Trial 488 finished with value: 0.2732319034268592 and parameters: {'n_clusters': 105, 'linkage': 'ward'}. Best is trial 401 with value: 0.32745480721431686.\n",
      "[I 2025-05-24 18:18:55,279] Trial 489 finished with value: 0.08482735984351049 and parameters: {'n_clusters': 133, 'linkage': 'single'}. Best is trial 401 with value: 0.32745480721431686.\n",
      "[I 2025-05-24 18:18:55,527] Trial 490 finished with value: 0.1691178088545011 and parameters: {'n_clusters': 32, 'linkage': 'average'}. Best is trial 401 with value: 0.32745480721431686.\n",
      "[I 2025-05-24 18:18:55,781] Trial 491 finished with value: 0.16166166475402693 and parameters: {'n_clusters': 38, 'linkage': 'average'}. Best is trial 401 with value: 0.32745480721431686.\n",
      "[I 2025-05-24 18:18:56,038] Trial 492 finished with value: 0.2452069856918441 and parameters: {'n_clusters': 79, 'linkage': 'ward'}. Best is trial 401 with value: 0.32745480721431686.\n",
      "[I 2025-05-24 18:18:56,300] Trial 493 finished with value: 0.15837835265277778 and parameters: {'n_clusters': 33, 'linkage': 'complete'}. Best is trial 401 with value: 0.32745480721431686.\n",
      "[I 2025-05-24 18:18:56,555] Trial 494 finished with value: 0.2327679263808043 and parameters: {'n_clusters': 58, 'linkage': 'ward'}. Best is trial 401 with value: 0.32745480721431686.\n",
      "[I 2025-05-24 18:18:56,807] Trial 495 finished with value: 0.19696221034056152 and parameters: {'n_clusters': 69, 'linkage': 'complete'}. Best is trial 401 with value: 0.32745480721431686.\n",
      "[I 2025-05-24 18:18:57,060] Trial 496 finished with value: 0.21046785689319697 and parameters: {'n_clusters': 101, 'linkage': 'complete'}. Best is trial 401 with value: 0.32745480721431686.\n",
      "[I 2025-05-24 18:18:57,316] Trial 497 finished with value: 0.2205641363735282 and parameters: {'n_clusters': 125, 'linkage': 'complete'}. Best is trial 401 with value: 0.32745480721431686.\n",
      "[I 2025-05-24 18:18:57,573] Trial 498 finished with value: 0.20779382085131243 and parameters: {'n_clusters': 76, 'linkage': 'average'}. Best is trial 401 with value: 0.32745480721431686.\n",
      "[I 2025-05-24 18:18:57,834] Trial 499 finished with value: 0.23729386413578146 and parameters: {'n_clusters': 148, 'linkage': 'average'}. Best is trial 401 with value: 0.32745480721431686.\n",
      "[I 2025-05-24 18:18:58,093] Trial 500 finished with value: -0.025769392486356013 and parameters: {'n_clusters': 112, 'linkage': 'single'}. Best is trial 401 with value: 0.32745480721431686.\n",
      "[I 2025-05-24 18:18:58,360] Trial 501 finished with value: 0.22024033598063295 and parameters: {'n_clusters': 96, 'linkage': 'average'}. Best is trial 401 with value: 0.32745480721431686.\n",
      "[I 2025-05-24 18:18:58,626] Trial 502 finished with value: 0.21200676205266103 and parameters: {'n_clusters': 17, 'linkage': 'average'}. Best is trial 401 with value: 0.32745480721431686.\n",
      "[I 2025-05-24 18:18:58,907] Trial 503 finished with value: 0.28109755907148515 and parameters: {'n_clusters': 12, 'linkage': 'average'}. Best is trial 401 with value: 0.32745480721431686.\n",
      "[I 2025-05-24 18:18:59,181] Trial 504 finished with value: 0.19744219178304742 and parameters: {'n_clusters': 62, 'linkage': 'complete'}. Best is trial 401 with value: 0.32745480721431686.\n",
      "[I 2025-05-24 18:18:59,443] Trial 505 finished with value: -0.03412415043821868 and parameters: {'n_clusters': 117, 'linkage': 'single'}. Best is trial 401 with value: 0.32745480721431686.\n",
      "[I 2025-05-24 18:18:59,699] Trial 506 finished with value: 0.191386662096416 and parameters: {'n_clusters': 49, 'linkage': 'average'}. Best is trial 401 with value: 0.32745480721431686.\n",
      "[I 2025-05-24 18:18:59,977] Trial 507 finished with value: 0.21160672791670568 and parameters: {'n_clusters': 84, 'linkage': 'complete'}. Best is trial 401 with value: 0.32745480721431686.\n",
      "[I 2025-05-24 18:19:00,243] Trial 508 finished with value: -0.028065810336298885 and parameters: {'n_clusters': 47, 'linkage': 'single'}. Best is trial 401 with value: 0.32745480721431686.\n",
      "[I 2025-05-24 18:19:00,519] Trial 509 finished with value: 0.31859227356939185 and parameters: {'n_clusters': 141, 'linkage': 'ward'}. Best is trial 401 with value: 0.32745480721431686.\n",
      "[I 2025-05-24 18:19:00,791] Trial 510 finished with value: -0.03760639474543915 and parameters: {'n_clusters': 87, 'linkage': 'single'}. Best is trial 401 with value: 0.32745480721431686.\n",
      "[I 2025-05-24 18:19:01,064] Trial 511 finished with value: 0.3135194413313813 and parameters: {'n_clusters': 137, 'linkage': 'ward'}. Best is trial 401 with value: 0.32745480721431686.\n",
      "[I 2025-05-24 18:19:01,332] Trial 512 finished with value: 0.23213341699096415 and parameters: {'n_clusters': 57, 'linkage': 'ward'}. Best is trial 401 with value: 0.32745480721431686.\n",
      "[I 2025-05-24 18:19:01,609] Trial 513 finished with value: 0.18073596425093819 and parameters: {'n_clusters': 52, 'linkage': 'complete'}. Best is trial 401 with value: 0.32745480721431686.\n",
      "[I 2025-05-24 18:19:01,875] Trial 514 finished with value: 0.19863394357192318 and parameters: {'n_clusters': 72, 'linkage': 'average'}. Best is trial 401 with value: 0.32745480721431686.\n",
      "[I 2025-05-24 18:19:02,138] Trial 515 finished with value: 0.258592594456579 and parameters: {'n_clusters': 94, 'linkage': 'ward'}. Best is trial 401 with value: 0.32745480721431686.\n",
      "[I 2025-05-24 18:19:02,404] Trial 516 finished with value: 0.2210258612737301 and parameters: {'n_clusters': 126, 'linkage': 'complete'}. Best is trial 401 with value: 0.32745480721431686.\n",
      "[I 2025-05-24 18:19:02,668] Trial 517 finished with value: 0.26386925251910803 and parameters: {'n_clusters': 101, 'linkage': 'ward'}. Best is trial 401 with value: 0.32745480721431686.\n",
      "[I 2025-05-24 18:19:02,924] Trial 518 finished with value: 0.25683700647652125 and parameters: {'n_clusters': 92, 'linkage': 'ward'}. Best is trial 401 with value: 0.32745480721431686.\n",
      "[I 2025-05-24 18:19:03,199] Trial 519 finished with value: 0.12714130828539671 and parameters: {'n_clusters': 17, 'linkage': 'single'}. Best is trial 401 with value: 0.32745480721431686.\n",
      "[I 2025-05-24 18:19:03,462] Trial 520 finished with value: 0.2978180411944391 and parameters: {'n_clusters': 129, 'linkage': 'ward'}. Best is trial 401 with value: 0.32745480721431686.\n",
      "[I 2025-05-24 18:19:03,728] Trial 521 finished with value: 0.17034797456196832 and parameters: {'n_clusters': 19, 'linkage': 'complete'}. Best is trial 401 with value: 0.32745480721431686.\n",
      "[I 2025-05-24 18:19:03,995] Trial 522 finished with value: 0.2345102135850503 and parameters: {'n_clusters': 67, 'linkage': 'ward'}. Best is trial 401 with value: 0.32745480721431686.\n",
      "[I 2025-05-24 18:19:04,265] Trial 523 finished with value: 0.17488887130319178 and parameters: {'n_clusters': 49, 'linkage': 'complete'}. Best is trial 401 with value: 0.32745480721431686.\n",
      "[I 2025-05-24 18:19:04,530] Trial 524 finished with value: 0.23476283928635183 and parameters: {'n_clusters': 126, 'linkage': 'average'}. Best is trial 401 with value: 0.32745480721431686.\n",
      "[I 2025-05-24 18:19:04,797] Trial 525 finished with value: 0.09940559526410245 and parameters: {'n_clusters': 29, 'linkage': 'single'}. Best is trial 401 with value: 0.32745480721431686.\n",
      "[I 2025-05-24 18:19:05,067] Trial 526 finished with value: 0.23205902148315236 and parameters: {'n_clusters': 52, 'linkage': 'ward'}. Best is trial 401 with value: 0.32745480721431686.\n",
      "[I 2025-05-24 18:19:05,329] Trial 527 finished with value: 0.21713878058513403 and parameters: {'n_clusters': 116, 'linkage': 'complete'}. Best is trial 401 with value: 0.32745480721431686.\n",
      "[I 2025-05-24 18:19:05,596] Trial 528 finished with value: 0.1995954512403341 and parameters: {'n_clusters': 63, 'linkage': 'complete'}. Best is trial 401 with value: 0.32745480721431686.\n",
      "[I 2025-05-24 18:19:05,864] Trial 529 finished with value: 0.2418420948008218 and parameters: {'n_clusters': 142, 'linkage': 'average'}. Best is trial 401 with value: 0.32745480721431686.\n",
      "[I 2025-05-24 18:19:06,133] Trial 530 finished with value: -0.03819171837578918 and parameters: {'n_clusters': 75, 'linkage': 'single'}. Best is trial 401 with value: 0.32745480721431686.\n",
      "[I 2025-05-24 18:19:06,402] Trial 531 finished with value: 0.23295247413137013 and parameters: {'n_clusters': 63, 'linkage': 'ward'}. Best is trial 401 with value: 0.32745480721431686.\n",
      "[I 2025-05-24 18:19:06,669] Trial 532 finished with value: -0.03152241181855998 and parameters: {'n_clusters': 120, 'linkage': 'single'}. Best is trial 401 with value: 0.32745480721431686.\n",
      "[I 2025-05-24 18:19:06,942] Trial 533 finished with value: 0.31473768706155225 and parameters: {'n_clusters': 138, 'linkage': 'ward'}. Best is trial 401 with value: 0.32745480721431686.\n",
      "[I 2025-05-24 18:19:07,216] Trial 534 finished with value: 0.21077929865830944 and parameters: {'n_clusters': 38, 'linkage': 'ward'}. Best is trial 401 with value: 0.32745480721431686.\n",
      "[I 2025-05-24 18:19:07,485] Trial 535 finished with value: 0.19075359213176088 and parameters: {'n_clusters': 52, 'linkage': 'average'}. Best is trial 401 with value: 0.32745480721431686.\n",
      "[I 2025-05-24 18:19:07,764] Trial 536 finished with value: -0.025480137594859974 and parameters: {'n_clusters': 46, 'linkage': 'single'}. Best is trial 401 with value: 0.32745480721431686.\n",
      "[I 2025-05-24 18:19:08,038] Trial 537 finished with value: -0.012675648012059292 and parameters: {'n_clusters': 97, 'linkage': 'single'}. Best is trial 401 with value: 0.32745480721431686.\n",
      "[I 2025-05-24 18:19:08,317] Trial 538 finished with value: 0.17287549734951102 and parameters: {'n_clusters': 20, 'linkage': 'average'}. Best is trial 401 with value: 0.32745480721431686.\n",
      "[I 2025-05-24 18:19:08,589] Trial 539 finished with value: 0.22507005420329737 and parameters: {'n_clusters': 113, 'linkage': 'average'}. Best is trial 401 with value: 0.32745480721431686.\n",
      "[I 2025-05-24 18:19:08,863] Trial 540 finished with value: 0.2397153642983391 and parameters: {'n_clusters': 134, 'linkage': 'average'}. Best is trial 401 with value: 0.32745480721431686.\n",
      "[I 2025-05-24 18:19:09,133] Trial 541 finished with value: 0.1745139349778808 and parameters: {'n_clusters': 16, 'linkage': 'complete'}. Best is trial 401 with value: 0.32745480721431686.\n",
      "[I 2025-05-24 18:19:09,409] Trial 542 finished with value: 0.3200005720218765 and parameters: {'n_clusters': 10, 'linkage': 'single'}. Best is trial 401 with value: 0.32745480721431686.\n",
      "[I 2025-05-24 18:19:09,684] Trial 543 finished with value: 0.27767761146435527 and parameters: {'n_clusters': 16, 'linkage': 'average'}. Best is trial 401 with value: 0.32745480721431686.\n",
      "[I 2025-05-24 18:19:09,958] Trial 544 finished with value: 0.17534479171586276 and parameters: {'n_clusters': 46, 'linkage': 'average'}. Best is trial 401 with value: 0.32745480721431686.\n",
      "[I 2025-05-24 18:19:10,236] Trial 545 finished with value: 0.2759988314658426 and parameters: {'n_clusters': 109, 'linkage': 'ward'}. Best is trial 401 with value: 0.32745480721431686.\n",
      "[I 2025-05-24 18:19:10,512] Trial 546 finished with value: -0.015198055476582163 and parameters: {'n_clusters': 35, 'linkage': 'single'}. Best is trial 401 with value: 0.32745480721431686.\n",
      "[I 2025-05-24 18:19:10,787] Trial 547 finished with value: 0.1337580321102011 and parameters: {'n_clusters': 18, 'linkage': 'single'}. Best is trial 401 with value: 0.32745480721431686.\n",
      "[I 2025-05-24 18:19:11,060] Trial 548 finished with value: 0.294730731253256 and parameters: {'n_clusters': 125, 'linkage': 'ward'}. Best is trial 401 with value: 0.32745480721431686.\n",
      "[I 2025-05-24 18:19:11,343] Trial 549 finished with value: 0.24322579763260066 and parameters: {'n_clusters': 82, 'linkage': 'ward'}. Best is trial 401 with value: 0.32745480721431686.\n",
      "[I 2025-05-24 18:19:11,622] Trial 550 finished with value: 0.0333915149261613 and parameters: {'n_clusters': 124, 'linkage': 'single'}. Best is trial 401 with value: 0.32745480721431686.\n",
      "[I 2025-05-24 18:19:11,902] Trial 551 finished with value: 0.14710804368225142 and parameters: {'n_clusters': 43, 'linkage': 'average'}. Best is trial 401 with value: 0.32745480721431686.\n",
      "[I 2025-05-24 18:19:12,185] Trial 552 finished with value: 0.26287598243004195 and parameters: {'n_clusters': 97, 'linkage': 'ward'}. Best is trial 401 with value: 0.32745480721431686.\n",
      "[I 2025-05-24 18:19:12,470] Trial 553 finished with value: 0.056957675538714767 and parameters: {'n_clusters': 138, 'linkage': 'single'}. Best is trial 401 with value: 0.32745480721431686.\n",
      "[I 2025-05-24 18:19:12,748] Trial 554 finished with value: -0.040794489492446885 and parameters: {'n_clusters': 73, 'linkage': 'single'}. Best is trial 401 with value: 0.32745480721431686.\n",
      "[I 2025-05-24 18:19:13,024] Trial 555 finished with value: 0.17517881267913998 and parameters: {'n_clusters': 42, 'linkage': 'complete'}. Best is trial 401 with value: 0.32745480721431686.\n",
      "[I 2025-05-24 18:19:13,324] Trial 556 finished with value: 0.21451426194275774 and parameters: {'n_clusters': 124, 'linkage': 'complete'}. Best is trial 401 with value: 0.32745480721431686.\n",
      "[I 2025-05-24 18:19:13,601] Trial 557 finished with value: -0.023953948706483316 and parameters: {'n_clusters': 59, 'linkage': 'single'}. Best is trial 401 with value: 0.32745480721431686.\n",
      "[I 2025-05-24 18:19:13,877] Trial 558 finished with value: 0.24696326549421785 and parameters: {'n_clusters': 80, 'linkage': 'ward'}. Best is trial 401 with value: 0.32745480721431686.\n",
      "[I 2025-05-24 18:19:14,156] Trial 559 finished with value: 0.2378273457559655 and parameters: {'n_clusters': 146, 'linkage': 'average'}. Best is trial 401 with value: 0.32745480721431686.\n",
      "[I 2025-05-24 18:19:14,436] Trial 560 finished with value: 0.18203263689703747 and parameters: {'n_clusters': 19, 'linkage': 'ward'}. Best is trial 401 with value: 0.32745480721431686.\n",
      "[I 2025-05-24 18:19:14,717] Trial 561 finished with value: 0.21041782467273695 and parameters: {'n_clusters': 87, 'linkage': 'complete'}. Best is trial 401 with value: 0.32745480721431686.\n",
      "[I 2025-05-24 18:19:14,992] Trial 562 finished with value: 0.20416843219378486 and parameters: {'n_clusters': 61, 'linkage': 'average'}. Best is trial 401 with value: 0.32745480721431686.\n",
      "[I 2025-05-24 18:19:15,275] Trial 563 finished with value: 0.058874925545870545 and parameters: {'n_clusters': 146, 'linkage': 'single'}. Best is trial 401 with value: 0.32745480721431686.\n"
     ]
    }
   ],
   "source": [
    "# Executar estudo do Optuna para aglomerative clustering\n",
    "estudo_ag.optimize(hierarchical_aglomerative_objective, n_trials=600)"
   ]
  },
  {
   "cell_type": "code",
   "execution_count": 31,
   "id": "322a8d0e",
   "metadata": {},
   "outputs": [
    {
     "name": "stdout",
     "output_type": "stream",
     "text": [
      "Clusters = 149\n",
      "Linkage = ward\n"
     ]
    }
   ],
   "source": [
    "# Visualizar melhor configuração do Optuna (Aglomerative Clustering)\n",
    "best_params_ag = estudo_ag.best_params\n",
    "\n",
    "print(f'Clusters = {best_params_ag[\"n_clusters\"]}')\n",
    "print(f'Linkage = {best_params_ag[\"linkage\"]}')"
   ]
  },
  {
   "cell_type": "code",
   "execution_count": 32,
   "id": "31ea0a57",
   "metadata": {},
   "outputs": [],
   "source": [
    "def hierarchical_divisive_objective(trial):\n",
    "    # Definindo os hiperparâmetros a serem otimizados\n",
    "    n_clusters = trial.suggest_int('n_clusters', 10, 150)\n",
    "    \n",
    "    # Instanciar o modelo\n",
    "    hierarchical_model = BisectingKMeans(n_clusters=n_clusters)\n",
    "    \n",
    "    # Treinar o modelo e executar a clusterização\n",
    "    y = hierarchical_model.fit_predict(X_transformed.toarray())\n",
    "    \n",
    "    # Calcular a pontuação de silhueta (silhouette score)\n",
    "    sillhouette_avg = silhouette_score(X_transformed, y)\n",
    "    \n",
    "    return sillhouette_avg"
   ]
  },
  {
   "cell_type": "code",
   "execution_count": 33,
   "id": "f43d617a",
   "metadata": {},
   "outputs": [
    {
     "name": "stderr",
     "output_type": "stream",
     "text": [
      "[I 2025-05-25 20:28:26,474] A new study created in memory with name: no-name-80e1b9da-c8f6-4bd3-bea0-f612dceb678d\n"
     ]
    }
   ],
   "source": [
    "# Criar estudo no Optuna\n",
    "search_space_di = {'n_clusters': range(10, 151)}\n",
    "sampler_di = optuna.samplers.GridSampler(search_space=search_space_di)\n",
    "estudo_di = optuna.create_study(direction='maximize', sampler=sampler_di)"
   ]
  },
  {
   "cell_type": "code",
   "execution_count": null,
   "id": "95f17899",
   "metadata": {},
   "outputs": [
    {
     "name": "stderr",
     "output_type": "stream",
     "text": [
      "[I 2025-05-25 20:29:45,053] Trial 0 finished with value: 0.16734111405927146 and parameters: {'n_clusters': 55}. Best is trial 0 with value: 0.16734111405927146.\n",
      "[I 2025-05-25 20:29:45,244] Trial 1 finished with value: 0.16224473426118668 and parameters: {'n_clusters': 70}. Best is trial 0 with value: 0.16734111405927146.\n",
      "[I 2025-05-25 20:29:45,334] Trial 2 finished with value: 0.1466051755466298 and parameters: {'n_clusters': 17}. Best is trial 0 with value: 0.16734111405927146.\n",
      "[I 2025-05-25 20:29:45,498] Trial 3 finished with value: 0.14876045265694218 and parameters: {'n_clusters': 61}. Best is trial 0 with value: 0.16734111405927146.\n",
      "[I 2025-05-25 20:29:45,696] Trial 4 finished with value: 0.1734130321853226 and parameters: {'n_clusters': 76}. Best is trial 4 with value: 0.1734130321853226.\n",
      "[I 2025-05-25 20:29:45,840] Trial 5 finished with value: 0.16301027173893276 and parameters: {'n_clusters': 37}. Best is trial 4 with value: 0.1734130321853226.\n",
      "[I 2025-05-25 20:29:46,106] Trial 6 finished with value: 0.1767284398857549 and parameters: {'n_clusters': 81}. Best is trial 6 with value: 0.1767284398857549.\n",
      "[I 2025-05-25 20:29:46,319] Trial 7 finished with value: 0.1636443148437778 and parameters: {'n_clusters': 64}. Best is trial 6 with value: 0.1767284398857549.\n",
      "[I 2025-05-25 20:29:46,630] Trial 8 finished with value: 0.20576314565273482 and parameters: {'n_clusters': 133}. Best is trial 8 with value: 0.20576314565273482.\n",
      "[I 2025-05-25 20:29:46,735] Trial 9 finished with value: 0.13058374972390577 and parameters: {'n_clusters': 18}. Best is trial 8 with value: 0.20576314565273482.\n",
      "[I 2025-05-25 20:29:46,945] Trial 10 finished with value: 0.17320779474437464 and parameters: {'n_clusters': 86}. Best is trial 8 with value: 0.20576314565273482.\n",
      "[I 2025-05-25 20:29:47,054] Trial 11 finished with value: 0.1365746235999198 and parameters: {'n_clusters': 26}. Best is trial 8 with value: 0.20576314565273482.\n",
      "[I 2025-05-25 20:29:47,378] Trial 12 finished with value: 0.20400314978796524 and parameters: {'n_clusters': 135}. Best is trial 8 with value: 0.20576314565273482.\n",
      "[I 2025-05-25 20:29:47,687] Trial 13 finished with value: 0.18932829864426876 and parameters: {'n_clusters': 132}. Best is trial 8 with value: 0.20576314565273482.\n",
      "[I 2025-05-25 20:29:47,995] Trial 14 finished with value: 0.19139023604563818 and parameters: {'n_clusters': 134}. Best is trial 8 with value: 0.20576314565273482.\n",
      "[I 2025-05-25 20:29:48,276] Trial 15 finished with value: 0.17571156358321946 and parameters: {'n_clusters': 108}. Best is trial 8 with value: 0.20576314565273482.\n",
      "[I 2025-05-25 20:29:48,559] Trial 16 finished with value: 0.18894335194572873 and parameters: {'n_clusters': 115}. Best is trial 8 with value: 0.20576314565273482.\n",
      "[I 2025-05-25 20:29:48,799] Trial 17 finished with value: 0.1914053582525943 and parameters: {'n_clusters': 93}. Best is trial 8 with value: 0.20576314565273482.\n",
      "[I 2025-05-25 20:29:48,965] Trial 18 finished with value: 0.14578015559541113 and parameters: {'n_clusters': 43}. Best is trial 8 with value: 0.20576314565273482.\n",
      "[I 2025-05-25 20:29:49,158] Trial 19 finished with value: 0.1588832004529681 and parameters: {'n_clusters': 66}. Best is trial 8 with value: 0.20576314565273482.\n",
      "[I 2025-05-25 20:29:49,407] Trial 20 finished with value: 0.1689613267979611 and parameters: {'n_clusters': 101}. Best is trial 8 with value: 0.20576314565273482.\n",
      "[I 2025-05-25 20:29:49,530] Trial 21 finished with value: 0.13341419058102538 and parameters: {'n_clusters': 32}. Best is trial 8 with value: 0.20576314565273482.\n",
      "[I 2025-05-25 20:29:49,872] Trial 22 finished with value: 0.20187958189385624 and parameters: {'n_clusters': 147}. Best is trial 8 with value: 0.20576314565273482.\n",
      "[I 2025-05-25 20:29:50,003] Trial 23 finished with value: 0.1369675697843532 and parameters: {'n_clusters': 34}. Best is trial 8 with value: 0.20576314565273482.\n",
      "[I 2025-05-25 20:29:50,105] Trial 24 finished with value: 0.1437498521251337 and parameters: {'n_clusters': 12}. Best is trial 8 with value: 0.20576314565273482.\n",
      "[I 2025-05-25 20:29:50,391] Trial 25 finished with value: 0.19335100571638403 and parameters: {'n_clusters': 121}. Best is trial 8 with value: 0.20576314565273482.\n",
      "[I 2025-05-25 20:29:50,534] Trial 26 finished with value: 0.14751537526477324 and parameters: {'n_clusters': 36}. Best is trial 8 with value: 0.20576314565273482.\n",
      "[I 2025-05-25 20:29:50,856] Trial 27 finished with value: 0.21313979113415682 and parameters: {'n_clusters': 131}. Best is trial 27 with value: 0.21313979113415682.\n",
      "[I 2025-05-25 20:29:50,981] Trial 28 finished with value: 0.14404743552057572 and parameters: {'n_clusters': 28}. Best is trial 27 with value: 0.21313979113415682.\n",
      "[I 2025-05-25 20:29:51,080] Trial 29 finished with value: 0.15404983132784564 and parameters: {'n_clusters': 20}. Best is trial 27 with value: 0.21313979113415682.\n",
      "[I 2025-05-25 20:29:51,349] Trial 30 finished with value: 0.1626086719750427 and parameters: {'n_clusters': 106}. Best is trial 27 with value: 0.21313979113415682.\n",
      "[I 2025-05-25 20:29:51,522] Trial 31 finished with value: 0.15675969676948684 and parameters: {'n_clusters': 53}. Best is trial 27 with value: 0.21313979113415682.\n",
      "[I 2025-05-25 20:29:51,817] Trial 32 finished with value: 0.18202043370788584 and parameters: {'n_clusters': 110}. Best is trial 27 with value: 0.21313979113415682.\n",
      "[I 2025-05-25 20:29:52,116] Trial 33 finished with value: 0.1714564855303537 and parameters: {'n_clusters': 118}. Best is trial 27 with value: 0.21313979113415682.\n",
      "[I 2025-05-25 20:29:52,309] Trial 34 finished with value: 0.16183959519953445 and parameters: {'n_clusters': 60}. Best is trial 27 with value: 0.21313979113415682.\n",
      "[I 2025-05-25 20:29:52,571] Trial 35 finished with value: 0.1811845444160698 and parameters: {'n_clusters': 94}. Best is trial 27 with value: 0.21313979113415682.\n",
      "[I 2025-05-25 20:29:52,792] Trial 36 finished with value: 0.16471765611211803 and parameters: {'n_clusters': 71}. Best is trial 27 with value: 0.21313979113415682.\n",
      "[I 2025-05-25 20:29:53,093] Trial 37 finished with value: 0.1866073654867616 and parameters: {'n_clusters': 117}. Best is trial 27 with value: 0.21313979113415682.\n",
      "[I 2025-05-25 20:29:53,488] Trial 38 finished with value: 0.17858229314998195 and parameters: {'n_clusters': 100}. Best is trial 27 with value: 0.21313979113415682.\n",
      "[I 2025-05-25 20:29:53,689] Trial 39 finished with value: 0.15857529735930187 and parameters: {'n_clusters': 69}. Best is trial 27 with value: 0.21313979113415682.\n",
      "[I 2025-05-25 20:29:53,858] Trial 40 finished with value: 0.17270325487412463 and parameters: {'n_clusters': 54}. Best is trial 27 with value: 0.21313979113415682.\n",
      "[I 2025-05-25 20:29:54,008] Trial 41 finished with value: 0.15972731064489254 and parameters: {'n_clusters': 40}. Best is trial 27 with value: 0.21313979113415682.\n",
      "[I 2025-05-25 20:29:54,306] Trial 42 finished with value: 0.19212708241605003 and parameters: {'n_clusters': 122}. Best is trial 27 with value: 0.21313979113415682.\n",
      "[I 2025-05-25 20:29:54,585] Trial 43 finished with value: 0.17256300098239308 and parameters: {'n_clusters': 88}. Best is trial 27 with value: 0.21313979113415682.\n",
      "[I 2025-05-25 20:29:54,902] Trial 44 finished with value: 0.17990135229232143 and parameters: {'n_clusters': 142}. Best is trial 27 with value: 0.21313979113415682.\n",
      "[I 2025-05-25 20:29:55,121] Trial 45 finished with value: 0.1566738896432364 and parameters: {'n_clusters': 78}. Best is trial 27 with value: 0.21313979113415682.\n",
      "[I 2025-05-25 20:29:55,397] Trial 46 finished with value: 0.17693125662785888 and parameters: {'n_clusters': 103}. Best is trial 27 with value: 0.21313979113415682.\n",
      "[I 2025-05-25 20:29:55,639] Trial 47 finished with value: 0.15742811847622554 and parameters: {'n_clusters': 95}. Best is trial 27 with value: 0.21313979113415682.\n",
      "[I 2025-05-25 20:29:55,810] Trial 48 finished with value: 0.14736255661820785 and parameters: {'n_clusters': 58}. Best is trial 27 with value: 0.21313979113415682.\n",
      "[I 2025-05-25 20:29:56,156] Trial 49 finished with value: 0.19918829369045035 and parameters: {'n_clusters': 145}. Best is trial 27 with value: 0.21313979113415682.\n",
      "[I 2025-05-25 20:29:56,274] Trial 50 finished with value: 0.15119905034507464 and parameters: {'n_clusters': 23}. Best is trial 27 with value: 0.21313979113415682.\n",
      "[I 2025-05-25 20:29:56,550] Trial 51 finished with value: 0.17287813789426076 and parameters: {'n_clusters': 102}. Best is trial 27 with value: 0.21313979113415682.\n",
      "[I 2025-05-25 20:29:56,808] Trial 52 finished with value: 0.17217745545977617 and parameters: {'n_clusters': 105}. Best is trial 27 with value: 0.21313979113415682.\n",
      "[I 2025-05-25 20:29:57,045] Trial 53 finished with value: 0.16799486817803558 and parameters: {'n_clusters': 83}. Best is trial 27 with value: 0.21313979113415682.\n",
      "[I 2025-05-25 20:29:57,365] Trial 54 finished with value: 0.2030182261797621 and parameters: {'n_clusters': 129}. Best is trial 27 with value: 0.21313979113415682.\n",
      "[I 2025-05-25 20:29:57,481] Trial 55 finished with value: 0.12935460529022044 and parameters: {'n_clusters': 25}. Best is trial 27 with value: 0.21313979113415682.\n",
      "[I 2025-05-25 20:29:57,782] Trial 56 finished with value: 0.19383823385762156 and parameters: {'n_clusters': 126}. Best is trial 27 with value: 0.21313979113415682.\n",
      "[I 2025-05-25 20:29:57,946] Trial 57 finished with value: 0.16710415844535378 and parameters: {'n_clusters': 50}. Best is trial 27 with value: 0.21313979113415682.\n",
      "[I 2025-05-25 20:29:58,153] Trial 58 finished with value: 0.1367493601995797 and parameters: {'n_clusters': 72}. Best is trial 27 with value: 0.21313979113415682.\n",
      "[I 2025-05-25 20:29:58,482] Trial 59 finished with value: 0.19769659040438597 and parameters: {'n_clusters': 138}. Best is trial 27 with value: 0.21313979113415682.\n",
      "[I 2025-05-25 20:29:58,836] Trial 60 finished with value: 0.19299053615489226 and parameters: {'n_clusters': 148}. Best is trial 27 with value: 0.21313979113415682.\n",
      "[I 2025-05-25 20:29:58,932] Trial 61 finished with value: 0.13637007312759283 and parameters: {'n_clusters': 13}. Best is trial 27 with value: 0.21313979113415682.\n",
      "[I 2025-05-25 20:29:59,118] Trial 62 finished with value: 0.16241501408755143 and parameters: {'n_clusters': 62}. Best is trial 27 with value: 0.21313979113415682.\n",
      "[I 2025-05-25 20:29:59,324] Trial 63 finished with value: 0.156572913007992 and parameters: {'n_clusters': 73}. Best is trial 27 with value: 0.21313979113415682.\n",
      "[I 2025-05-25 20:29:59,650] Trial 64 finished with value: 0.18823373436246524 and parameters: {'n_clusters': 123}. Best is trial 27 with value: 0.21313979113415682.\n",
      "[I 2025-05-25 20:29:59,778] Trial 65 finished with value: 0.14168567404672128 and parameters: {'n_clusters': 16}. Best is trial 27 with value: 0.21313979113415682.\n",
      "[I 2025-05-25 20:30:00,158] Trial 66 finished with value: 0.2130050779708791 and parameters: {'n_clusters': 149}. Best is trial 27 with value: 0.21313979113415682.\n",
      "[I 2025-05-25 20:30:00,278] Trial 67 finished with value: 0.12169638739184731 and parameters: {'n_clusters': 22}. Best is trial 27 with value: 0.21313979113415682.\n",
      "[I 2025-05-25 20:30:00,571] Trial 68 finished with value: 0.18652530891447044 and parameters: {'n_clusters': 96}. Best is trial 27 with value: 0.21313979113415682.\n",
      "[I 2025-05-25 20:30:00,913] Trial 69 finished with value: 0.17786892633119172 and parameters: {'n_clusters': 114}. Best is trial 27 with value: 0.21313979113415682.\n",
      "[I 2025-05-25 20:30:01,210] Trial 70 finished with value: 0.17846806913835592 and parameters: {'n_clusters': 119}. Best is trial 27 with value: 0.21313979113415682.\n",
      "[I 2025-05-25 20:30:01,577] Trial 71 finished with value: 0.19731505796082713 and parameters: {'n_clusters': 137}. Best is trial 27 with value: 0.21313979113415682.\n",
      "[I 2025-05-25 20:30:01,707] Trial 72 finished with value: 0.1436922069540516 and parameters: {'n_clusters': 21}. Best is trial 27 with value: 0.21313979113415682.\n",
      "[I 2025-05-25 20:30:01,996] Trial 73 finished with value: 0.16720346323196822 and parameters: {'n_clusters': 104}. Best is trial 27 with value: 0.21313979113415682.\n",
      "[I 2025-05-25 20:30:02,346] Trial 74 finished with value: 0.1651748150891281 and parameters: {'n_clusters': 120}. Best is trial 27 with value: 0.21313979113415682.\n",
      "[I 2025-05-25 20:30:02,519] Trial 75 finished with value: 0.14036876603162746 and parameters: {'n_clusters': 51}. Best is trial 27 with value: 0.21313979113415682.\n",
      "[I 2025-05-25 20:30:02,922] Trial 76 finished with value: 0.17519625958843715 and parameters: {'n_clusters': 111}. Best is trial 27 with value: 0.21313979113415682.\n",
      "[I 2025-05-25 20:30:03,032] Trial 77 finished with value: 0.15631041506270904 and parameters: {'n_clusters': 11}. Best is trial 27 with value: 0.21313979113415682.\n",
      "[I 2025-05-25 20:30:03,343] Trial 78 finished with value: 0.1724832439057731 and parameters: {'n_clusters': 107}. Best is trial 27 with value: 0.21313979113415682.\n",
      "[I 2025-05-25 20:30:03,701] Trial 79 finished with value: 0.18344308138947596 and parameters: {'n_clusters': 140}. Best is trial 27 with value: 0.21313979113415682.\n",
      "[I 2025-05-25 20:30:03,874] Trial 80 finished with value: 0.1580719959663019 and parameters: {'n_clusters': 52}. Best is trial 27 with value: 0.21313979113415682.\n",
      "[I 2025-05-25 20:30:03,991] Trial 81 finished with value: 0.14224884647164712 and parameters: {'n_clusters': 14}. Best is trial 27 with value: 0.21313979113415682.\n",
      "[I 2025-05-25 20:30:04,300] Trial 82 finished with value: 0.19346779667057976 and parameters: {'n_clusters': 124}. Best is trial 27 with value: 0.21313979113415682.\n",
      "[I 2025-05-25 20:30:04,432] Trial 83 finished with value: 0.1204146055830076 and parameters: {'n_clusters': 27}. Best is trial 27 with value: 0.21313979113415682.\n",
      "[I 2025-05-25 20:30:04,600] Trial 84 finished with value: 0.16385397691764936 and parameters: {'n_clusters': 48}. Best is trial 27 with value: 0.21313979113415682.\n",
      "[I 2025-05-25 20:30:04,713] Trial 85 finished with value: 0.13568026790107243 and parameters: {'n_clusters': 15}. Best is trial 27 with value: 0.21313979113415682.\n",
      "[I 2025-05-25 20:30:04,919] Trial 86 finished with value: 0.16678179209290364 and parameters: {'n_clusters': 63}. Best is trial 27 with value: 0.21313979113415682.\n",
      "[I 2025-05-25 20:30:05,263] Trial 87 finished with value: 0.20548714491832273 and parameters: {'n_clusters': 144}. Best is trial 27 with value: 0.21313979113415682.\n",
      "[I 2025-05-25 20:30:05,530] Trial 88 finished with value: 0.1611707972346111 and parameters: {'n_clusters': 99}. Best is trial 27 with value: 0.21313979113415682.\n",
      "[I 2025-05-25 20:30:05,741] Trial 89 finished with value: 0.13912040121175448 and parameters: {'n_clusters': 10}. Best is trial 27 with value: 0.21313979113415682.\n",
      "[I 2025-05-25 20:30:05,906] Trial 90 finished with value: 0.12957090991467887 and parameters: {'n_clusters': 44}. Best is trial 27 with value: 0.21313979113415682.\n",
      "[I 2025-05-25 20:30:06,085] Trial 91 finished with value: 0.14471876015171975 and parameters: {'n_clusters': 38}. Best is trial 27 with value: 0.21313979113415682.\n",
      "[I 2025-05-25 20:30:06,300] Trial 92 finished with value: 0.16553011516794205 and parameters: {'n_clusters': 65}. Best is trial 27 with value: 0.21313979113415682.\n",
      "[I 2025-05-25 20:30:06,544] Trial 93 finished with value: 0.17195234668005668 and parameters: {'n_clusters': 85}. Best is trial 27 with value: 0.21313979113415682.\n",
      "[I 2025-05-25 20:30:06,743] Trial 94 finished with value: 0.1558660656956758 and parameters: {'n_clusters': 45}. Best is trial 27 with value: 0.21313979113415682.\n",
      "[I 2025-05-25 20:30:06,904] Trial 95 finished with value: 0.15386487486261774 and parameters: {'n_clusters': 33}. Best is trial 27 with value: 0.21313979113415682.\n",
      "[I 2025-05-25 20:30:07,186] Trial 96 finished with value: 0.1594627725887997 and parameters: {'n_clusters': 84}. Best is trial 27 with value: 0.21313979113415682.\n",
      "[I 2025-05-25 20:30:07,366] Trial 97 finished with value: 0.1538296717251366 and parameters: {'n_clusters': 41}. Best is trial 27 with value: 0.21313979113415682.\n",
      "[I 2025-05-25 20:30:07,631] Trial 98 finished with value: 0.16793452858986974 and parameters: {'n_clusters': 112}. Best is trial 27 with value: 0.21313979113415682.\n",
      "[I 2025-05-25 20:30:07,841] Trial 99 finished with value: 0.15307794509922001 and parameters: {'n_clusters': 67}. Best is trial 27 with value: 0.21313979113415682.\n",
      "[I 2025-05-25 20:30:08,133] Trial 100 finished with value: 0.197784137648701 and parameters: {'n_clusters': 130}. Best is trial 27 with value: 0.21313979113415682.\n",
      "[I 2025-05-25 20:30:08,341] Trial 101 finished with value: 0.15602849584880701 and parameters: {'n_clusters': 75}. Best is trial 27 with value: 0.21313979113415682.\n",
      "[I 2025-05-25 20:30:08,505] Trial 102 finished with value: 0.1478886884969448 and parameters: {'n_clusters': 42}. Best is trial 27 with value: 0.21313979113415682.\n",
      "[I 2025-05-25 20:30:08,831] Trial 103 finished with value: 0.21331319390796835 and parameters: {'n_clusters': 139}. Best is trial 103 with value: 0.21331319390796835.\n",
      "[I 2025-05-25 20:30:08,990] Trial 104 finished with value: 0.1502735515533064 and parameters: {'n_clusters': 24}. Best is trial 103 with value: 0.21331319390796835.\n",
      "[I 2025-05-25 20:30:09,386] Trial 105 finished with value: 0.1727959206653045 and parameters: {'n_clusters': 116}. Best is trial 103 with value: 0.21331319390796835.\n",
      "[I 2025-05-25 20:30:09,518] Trial 106 finished with value: 0.12883462920458472 and parameters: {'n_clusters': 29}. Best is trial 103 with value: 0.21331319390796835.\n",
      "[I 2025-05-25 20:30:09,665] Trial 107 finished with value: 0.1372943041318649 and parameters: {'n_clusters': 39}. Best is trial 103 with value: 0.21331319390796835.\n",
      "[I 2025-05-25 20:30:09,846] Trial 108 finished with value: 0.15931861454073368 and parameters: {'n_clusters': 59}. Best is trial 103 with value: 0.21331319390796835.\n",
      "[I 2025-05-25 20:30:10,182] Trial 109 finished with value: 0.1855469455482681 and parameters: {'n_clusters': 136}. Best is trial 103 with value: 0.21331319390796835.\n",
      "[I 2025-05-25 20:30:10,443] Trial 110 finished with value: 0.18922544340255307 and parameters: {'n_clusters': 109}. Best is trial 103 with value: 0.21331319390796835.\n",
      "[I 2025-05-25 20:30:10,675] Trial 111 finished with value: 0.17539333853699046 and parameters: {'n_clusters': 92}. Best is trial 103 with value: 0.21331319390796835.\n",
      "[I 2025-05-25 20:30:10,930] Trial 112 finished with value: 0.1562827937783972 and parameters: {'n_clusters': 74}. Best is trial 103 with value: 0.21331319390796835.\n",
      "[I 2025-05-25 20:30:11,359] Trial 113 finished with value: 0.2037433694400049 and parameters: {'n_clusters': 150}. Best is trial 103 with value: 0.21331319390796835.\n",
      "[I 2025-05-25 20:30:11,677] Trial 114 finished with value: 0.16784885162574845 and parameters: {'n_clusters': 89}. Best is trial 103 with value: 0.21331319390796835.\n",
      "[I 2025-05-25 20:30:11,905] Trial 115 finished with value: 0.17716872949686113 and parameters: {'n_clusters': 79}. Best is trial 103 with value: 0.21331319390796835.\n",
      "[I 2025-05-25 20:30:12,212] Trial 116 finished with value: 0.18918093187909255 and parameters: {'n_clusters': 128}. Best is trial 103 with value: 0.21331319390796835.\n",
      "[I 2025-05-25 20:30:12,453] Trial 117 finished with value: 0.16247233486894383 and parameters: {'n_clusters': 90}. Best is trial 103 with value: 0.21331319390796835.\n",
      "[I 2025-05-25 20:30:12,745] Trial 118 finished with value: 0.1654768514047354 and parameters: {'n_clusters': 125}. Best is trial 103 with value: 0.21331319390796835.\n",
      "[I 2025-05-25 20:30:12,903] Trial 119 finished with value: 0.14658451448149154 and parameters: {'n_clusters': 30}. Best is trial 103 with value: 0.21331319390796835.\n",
      "[I 2025-05-25 20:30:13,317] Trial 120 finished with value: 0.19172007086321954 and parameters: {'n_clusters': 146}. Best is trial 103 with value: 0.21331319390796835.\n",
      "[I 2025-05-25 20:30:13,551] Trial 121 finished with value: 0.16141787465923008 and parameters: {'n_clusters': 82}. Best is trial 103 with value: 0.21331319390796835.\n",
      "[I 2025-05-25 20:30:13,794] Trial 122 finished with value: 0.17113218220284065 and parameters: {'n_clusters': 87}. Best is trial 103 with value: 0.21331319390796835.\n",
      "[I 2025-05-25 20:30:13,950] Trial 123 finished with value: 0.14126743376961717 and parameters: {'n_clusters': 35}. Best is trial 103 with value: 0.21331319390796835.\n",
      "[I 2025-05-25 20:30:14,115] Trial 124 finished with value: 0.16335523617206382 and parameters: {'n_clusters': 47}. Best is trial 103 with value: 0.21331319390796835.\n",
      "[I 2025-05-25 20:30:14,365] Trial 125 finished with value: 0.17279339640578564 and parameters: {'n_clusters': 91}. Best is trial 103 with value: 0.21331319390796835.\n",
      "[I 2025-05-25 20:30:14,783] Trial 126 finished with value: 0.20006090124158518 and parameters: {'n_clusters': 141}. Best is trial 103 with value: 0.21331319390796835.\n",
      "[I 2025-05-25 20:30:14,978] Trial 127 finished with value: 0.16304127002993518 and parameters: {'n_clusters': 56}. Best is trial 103 with value: 0.21331319390796835.\n",
      "[I 2025-05-25 20:30:15,300] Trial 128 finished with value: 0.19308443795090124 and parameters: {'n_clusters': 143}. Best is trial 103 with value: 0.21331319390796835.\n",
      "[I 2025-05-25 20:30:15,471] Trial 129 finished with value: 0.13801227241503547 and parameters: {'n_clusters': 49}. Best is trial 103 with value: 0.21331319390796835.\n",
      "[I 2025-05-25 20:30:15,676] Trial 130 finished with value: 0.15333116828640514 and parameters: {'n_clusters': 68}. Best is trial 103 with value: 0.21331319390796835.\n",
      "[I 2025-05-25 20:30:15,948] Trial 131 finished with value: 0.1856759896751667 and parameters: {'n_clusters': 98}. Best is trial 103 with value: 0.21331319390796835.\n",
      "[I 2025-05-25 20:30:16,192] Trial 132 finished with value: 0.16607672252553618 and parameters: {'n_clusters': 80}. Best is trial 103 with value: 0.21331319390796835.\n",
      "[I 2025-05-25 20:30:16,442] Trial 133 finished with value: 0.17089384622592105 and parameters: {'n_clusters': 97}. Best is trial 103 with value: 0.21331319390796835.\n",
      "[I 2025-05-25 20:30:16,628] Trial 134 finished with value: 0.16005917238135867 and parameters: {'n_clusters': 46}. Best is trial 103 with value: 0.21331319390796835.\n",
      "[I 2025-05-25 20:30:16,781] Trial 135 finished with value: 0.1401219303196823 and parameters: {'n_clusters': 31}. Best is trial 103 with value: 0.21331319390796835.\n",
      "[I 2025-05-25 20:30:16,945] Trial 136 finished with value: 0.1456691569655117 and parameters: {'n_clusters': 19}. Best is trial 103 with value: 0.21331319390796835.\n",
      "[I 2025-05-25 20:30:17,270] Trial 137 finished with value: 0.19702174125684596 and parameters: {'n_clusters': 113}. Best is trial 103 with value: 0.21331319390796835.\n",
      "[I 2025-05-25 20:30:17,504] Trial 138 finished with value: 0.1490681916642296 and parameters: {'n_clusters': 77}. Best is trial 103 with value: 0.21331319390796835.\n",
      "[I 2025-05-25 20:30:17,822] Trial 139 finished with value: 0.19745711873421382 and parameters: {'n_clusters': 127}. Best is trial 103 with value: 0.21331319390796835.\n",
      "[I 2025-05-25 20:30:18,015] Trial 140 finished with value: 0.15798184692025824 and parameters: {'n_clusters': 57}. Best is trial 103 with value: 0.21331319390796835.\n"
     ]
    }
   ],
   "source": [
    "# Executar estudo do Optuna para divisive clustering\n",
    "estudo_di.optimize(hierarchical_divisive_objective, n_trials=200)"
   ]
  },
  {
   "cell_type": "code",
   "execution_count": 35,
   "id": "79fda50e",
   "metadata": {},
   "outputs": [
    {
     "name": "stdout",
     "output_type": "stream",
     "text": [
      "Clusters = 139\n"
     ]
    }
   ],
   "source": [
    "# Visualizar melhor configuração do Optuna (Divisive Clustering)\n",
    "best_params_di = estudo_di.best_params\n",
    "\n",
    "print(f'Clusters = {best_params_di[\"n_clusters\"]}')"
   ]
  },
  {
   "cell_type": "code",
   "execution_count": 36,
   "id": "376ce60e",
   "metadata": {},
   "outputs": [],
   "source": [
    "# Criar modelo com melhor configuração (agglomerative clustering)\n",
    "best_model = AgglomerativeClustering(\n",
    "    n_clusters=best_params_ag['n_clusters'],\n",
    "    linkage=best_params_ag['linkage']\n",
    ")"
   ]
  },
  {
   "cell_type": "code",
   "execution_count": 37,
   "id": "6ff40be4",
   "metadata": {},
   "outputs": [
    {
     "data": {
      "text/html": [
       "<style>#sk-container-id-1 {\n",
       "  /* Definition of color scheme common for light and dark mode */\n",
       "  --sklearn-color-text: #000;\n",
       "  --sklearn-color-text-muted: #666;\n",
       "  --sklearn-color-line: gray;\n",
       "  /* Definition of color scheme for unfitted estimators */\n",
       "  --sklearn-color-unfitted-level-0: #fff5e6;\n",
       "  --sklearn-color-unfitted-level-1: #f6e4d2;\n",
       "  --sklearn-color-unfitted-level-2: #ffe0b3;\n",
       "  --sklearn-color-unfitted-level-3: chocolate;\n",
       "  /* Definition of color scheme for fitted estimators */\n",
       "  --sklearn-color-fitted-level-0: #f0f8ff;\n",
       "  --sklearn-color-fitted-level-1: #d4ebff;\n",
       "  --sklearn-color-fitted-level-2: #b3dbfd;\n",
       "  --sklearn-color-fitted-level-3: cornflowerblue;\n",
       "\n",
       "  /* Specific color for light theme */\n",
       "  --sklearn-color-text-on-default-background: var(--sg-text-color, var(--theme-code-foreground, var(--jp-content-font-color1, black)));\n",
       "  --sklearn-color-background: var(--sg-background-color, var(--theme-background, var(--jp-layout-color0, white)));\n",
       "  --sklearn-color-border-box: var(--sg-text-color, var(--theme-code-foreground, var(--jp-content-font-color1, black)));\n",
       "  --sklearn-color-icon: #696969;\n",
       "\n",
       "  @media (prefers-color-scheme: dark) {\n",
       "    /* Redefinition of color scheme for dark theme */\n",
       "    --sklearn-color-text-on-default-background: var(--sg-text-color, var(--theme-code-foreground, var(--jp-content-font-color1, white)));\n",
       "    --sklearn-color-background: var(--sg-background-color, var(--theme-background, var(--jp-layout-color0, #111)));\n",
       "    --sklearn-color-border-box: var(--sg-text-color, var(--theme-code-foreground, var(--jp-content-font-color1, white)));\n",
       "    --sklearn-color-icon: #878787;\n",
       "  }\n",
       "}\n",
       "\n",
       "#sk-container-id-1 {\n",
       "  color: var(--sklearn-color-text);\n",
       "}\n",
       "\n",
       "#sk-container-id-1 pre {\n",
       "  padding: 0;\n",
       "}\n",
       "\n",
       "#sk-container-id-1 input.sk-hidden--visually {\n",
       "  border: 0;\n",
       "  clip: rect(1px 1px 1px 1px);\n",
       "  clip: rect(1px, 1px, 1px, 1px);\n",
       "  height: 1px;\n",
       "  margin: -1px;\n",
       "  overflow: hidden;\n",
       "  padding: 0;\n",
       "  position: absolute;\n",
       "  width: 1px;\n",
       "}\n",
       "\n",
       "#sk-container-id-1 div.sk-dashed-wrapped {\n",
       "  border: 1px dashed var(--sklearn-color-line);\n",
       "  margin: 0 0.4em 0.5em 0.4em;\n",
       "  box-sizing: border-box;\n",
       "  padding-bottom: 0.4em;\n",
       "  background-color: var(--sklearn-color-background);\n",
       "}\n",
       "\n",
       "#sk-container-id-1 div.sk-container {\n",
       "  /* jupyter's `normalize.less` sets `[hidden] { display: none; }`\n",
       "     but bootstrap.min.css set `[hidden] { display: none !important; }`\n",
       "     so we also need the `!important` here to be able to override the\n",
       "     default hidden behavior on the sphinx rendered scikit-learn.org.\n",
       "     See: https://github.com/scikit-learn/scikit-learn/issues/21755 */\n",
       "  display: inline-block !important;\n",
       "  position: relative;\n",
       "}\n",
       "\n",
       "#sk-container-id-1 div.sk-text-repr-fallback {\n",
       "  display: none;\n",
       "}\n",
       "\n",
       "div.sk-parallel-item,\n",
       "div.sk-serial,\n",
       "div.sk-item {\n",
       "  /* draw centered vertical line to link estimators */\n",
       "  background-image: linear-gradient(var(--sklearn-color-text-on-default-background), var(--sklearn-color-text-on-default-background));\n",
       "  background-size: 2px 100%;\n",
       "  background-repeat: no-repeat;\n",
       "  background-position: center center;\n",
       "}\n",
       "\n",
       "/* Parallel-specific style estimator block */\n",
       "\n",
       "#sk-container-id-1 div.sk-parallel-item::after {\n",
       "  content: \"\";\n",
       "  width: 100%;\n",
       "  border-bottom: 2px solid var(--sklearn-color-text-on-default-background);\n",
       "  flex-grow: 1;\n",
       "}\n",
       "\n",
       "#sk-container-id-1 div.sk-parallel {\n",
       "  display: flex;\n",
       "  align-items: stretch;\n",
       "  justify-content: center;\n",
       "  background-color: var(--sklearn-color-background);\n",
       "  position: relative;\n",
       "}\n",
       "\n",
       "#sk-container-id-1 div.sk-parallel-item {\n",
       "  display: flex;\n",
       "  flex-direction: column;\n",
       "}\n",
       "\n",
       "#sk-container-id-1 div.sk-parallel-item:first-child::after {\n",
       "  align-self: flex-end;\n",
       "  width: 50%;\n",
       "}\n",
       "\n",
       "#sk-container-id-1 div.sk-parallel-item:last-child::after {\n",
       "  align-self: flex-start;\n",
       "  width: 50%;\n",
       "}\n",
       "\n",
       "#sk-container-id-1 div.sk-parallel-item:only-child::after {\n",
       "  width: 0;\n",
       "}\n",
       "\n",
       "/* Serial-specific style estimator block */\n",
       "\n",
       "#sk-container-id-1 div.sk-serial {\n",
       "  display: flex;\n",
       "  flex-direction: column;\n",
       "  align-items: center;\n",
       "  background-color: var(--sklearn-color-background);\n",
       "  padding-right: 1em;\n",
       "  padding-left: 1em;\n",
       "}\n",
       "\n",
       "\n",
       "/* Toggleable style: style used for estimator/Pipeline/ColumnTransformer box that is\n",
       "clickable and can be expanded/collapsed.\n",
       "- Pipeline and ColumnTransformer use this feature and define the default style\n",
       "- Estimators will overwrite some part of the style using the `sk-estimator` class\n",
       "*/\n",
       "\n",
       "/* Pipeline and ColumnTransformer style (default) */\n",
       "\n",
       "#sk-container-id-1 div.sk-toggleable {\n",
       "  /* Default theme specific background. It is overwritten whether we have a\n",
       "  specific estimator or a Pipeline/ColumnTransformer */\n",
       "  background-color: var(--sklearn-color-background);\n",
       "}\n",
       "\n",
       "/* Toggleable label */\n",
       "#sk-container-id-1 label.sk-toggleable__label {\n",
       "  cursor: pointer;\n",
       "  display: flex;\n",
       "  width: 100%;\n",
       "  margin-bottom: 0;\n",
       "  padding: 0.5em;\n",
       "  box-sizing: border-box;\n",
       "  text-align: center;\n",
       "  align-items: start;\n",
       "  justify-content: space-between;\n",
       "  gap: 0.5em;\n",
       "}\n",
       "\n",
       "#sk-container-id-1 label.sk-toggleable__label .caption {\n",
       "  font-size: 0.6rem;\n",
       "  font-weight: lighter;\n",
       "  color: var(--sklearn-color-text-muted);\n",
       "}\n",
       "\n",
       "#sk-container-id-1 label.sk-toggleable__label-arrow:before {\n",
       "  /* Arrow on the left of the label */\n",
       "  content: \"▸\";\n",
       "  float: left;\n",
       "  margin-right: 0.25em;\n",
       "  color: var(--sklearn-color-icon);\n",
       "}\n",
       "\n",
       "#sk-container-id-1 label.sk-toggleable__label-arrow:hover:before {\n",
       "  color: var(--sklearn-color-text);\n",
       "}\n",
       "\n",
       "/* Toggleable content - dropdown */\n",
       "\n",
       "#sk-container-id-1 div.sk-toggleable__content {\n",
       "  max-height: 0;\n",
       "  max-width: 0;\n",
       "  overflow: hidden;\n",
       "  text-align: left;\n",
       "  /* unfitted */\n",
       "  background-color: var(--sklearn-color-unfitted-level-0);\n",
       "}\n",
       "\n",
       "#sk-container-id-1 div.sk-toggleable__content.fitted {\n",
       "  /* fitted */\n",
       "  background-color: var(--sklearn-color-fitted-level-0);\n",
       "}\n",
       "\n",
       "#sk-container-id-1 div.sk-toggleable__content pre {\n",
       "  margin: 0.2em;\n",
       "  border-radius: 0.25em;\n",
       "  color: var(--sklearn-color-text);\n",
       "  /* unfitted */\n",
       "  background-color: var(--sklearn-color-unfitted-level-0);\n",
       "}\n",
       "\n",
       "#sk-container-id-1 div.sk-toggleable__content.fitted pre {\n",
       "  /* unfitted */\n",
       "  background-color: var(--sklearn-color-fitted-level-0);\n",
       "}\n",
       "\n",
       "#sk-container-id-1 input.sk-toggleable__control:checked~div.sk-toggleable__content {\n",
       "  /* Expand drop-down */\n",
       "  max-height: 200px;\n",
       "  max-width: 100%;\n",
       "  overflow: auto;\n",
       "}\n",
       "\n",
       "#sk-container-id-1 input.sk-toggleable__control:checked~label.sk-toggleable__label-arrow:before {\n",
       "  content: \"▾\";\n",
       "}\n",
       "\n",
       "/* Pipeline/ColumnTransformer-specific style */\n",
       "\n",
       "#sk-container-id-1 div.sk-label input.sk-toggleable__control:checked~label.sk-toggleable__label {\n",
       "  color: var(--sklearn-color-text);\n",
       "  background-color: var(--sklearn-color-unfitted-level-2);\n",
       "}\n",
       "\n",
       "#sk-container-id-1 div.sk-label.fitted input.sk-toggleable__control:checked~label.sk-toggleable__label {\n",
       "  background-color: var(--sklearn-color-fitted-level-2);\n",
       "}\n",
       "\n",
       "/* Estimator-specific style */\n",
       "\n",
       "/* Colorize estimator box */\n",
       "#sk-container-id-1 div.sk-estimator input.sk-toggleable__control:checked~label.sk-toggleable__label {\n",
       "  /* unfitted */\n",
       "  background-color: var(--sklearn-color-unfitted-level-2);\n",
       "}\n",
       "\n",
       "#sk-container-id-1 div.sk-estimator.fitted input.sk-toggleable__control:checked~label.sk-toggleable__label {\n",
       "  /* fitted */\n",
       "  background-color: var(--sklearn-color-fitted-level-2);\n",
       "}\n",
       "\n",
       "#sk-container-id-1 div.sk-label label.sk-toggleable__label,\n",
       "#sk-container-id-1 div.sk-label label {\n",
       "  /* The background is the default theme color */\n",
       "  color: var(--sklearn-color-text-on-default-background);\n",
       "}\n",
       "\n",
       "/* On hover, darken the color of the background */\n",
       "#sk-container-id-1 div.sk-label:hover label.sk-toggleable__label {\n",
       "  color: var(--sklearn-color-text);\n",
       "  background-color: var(--sklearn-color-unfitted-level-2);\n",
       "}\n",
       "\n",
       "/* Label box, darken color on hover, fitted */\n",
       "#sk-container-id-1 div.sk-label.fitted:hover label.sk-toggleable__label.fitted {\n",
       "  color: var(--sklearn-color-text);\n",
       "  background-color: var(--sklearn-color-fitted-level-2);\n",
       "}\n",
       "\n",
       "/* Estimator label */\n",
       "\n",
       "#sk-container-id-1 div.sk-label label {\n",
       "  font-family: monospace;\n",
       "  font-weight: bold;\n",
       "  display: inline-block;\n",
       "  line-height: 1.2em;\n",
       "}\n",
       "\n",
       "#sk-container-id-1 div.sk-label-container {\n",
       "  text-align: center;\n",
       "}\n",
       "\n",
       "/* Estimator-specific */\n",
       "#sk-container-id-1 div.sk-estimator {\n",
       "  font-family: monospace;\n",
       "  border: 1px dotted var(--sklearn-color-border-box);\n",
       "  border-radius: 0.25em;\n",
       "  box-sizing: border-box;\n",
       "  margin-bottom: 0.5em;\n",
       "  /* unfitted */\n",
       "  background-color: var(--sklearn-color-unfitted-level-0);\n",
       "}\n",
       "\n",
       "#sk-container-id-1 div.sk-estimator.fitted {\n",
       "  /* fitted */\n",
       "  background-color: var(--sklearn-color-fitted-level-0);\n",
       "}\n",
       "\n",
       "/* on hover */\n",
       "#sk-container-id-1 div.sk-estimator:hover {\n",
       "  /* unfitted */\n",
       "  background-color: var(--sklearn-color-unfitted-level-2);\n",
       "}\n",
       "\n",
       "#sk-container-id-1 div.sk-estimator.fitted:hover {\n",
       "  /* fitted */\n",
       "  background-color: var(--sklearn-color-fitted-level-2);\n",
       "}\n",
       "\n",
       "/* Specification for estimator info (e.g. \"i\" and \"?\") */\n",
       "\n",
       "/* Common style for \"i\" and \"?\" */\n",
       "\n",
       ".sk-estimator-doc-link,\n",
       "a:link.sk-estimator-doc-link,\n",
       "a:visited.sk-estimator-doc-link {\n",
       "  float: right;\n",
       "  font-size: smaller;\n",
       "  line-height: 1em;\n",
       "  font-family: monospace;\n",
       "  background-color: var(--sklearn-color-background);\n",
       "  border-radius: 1em;\n",
       "  height: 1em;\n",
       "  width: 1em;\n",
       "  text-decoration: none !important;\n",
       "  margin-left: 0.5em;\n",
       "  text-align: center;\n",
       "  /* unfitted */\n",
       "  border: var(--sklearn-color-unfitted-level-1) 1pt solid;\n",
       "  color: var(--sklearn-color-unfitted-level-1);\n",
       "}\n",
       "\n",
       ".sk-estimator-doc-link.fitted,\n",
       "a:link.sk-estimator-doc-link.fitted,\n",
       "a:visited.sk-estimator-doc-link.fitted {\n",
       "  /* fitted */\n",
       "  border: var(--sklearn-color-fitted-level-1) 1pt solid;\n",
       "  color: var(--sklearn-color-fitted-level-1);\n",
       "}\n",
       "\n",
       "/* On hover */\n",
       "div.sk-estimator:hover .sk-estimator-doc-link:hover,\n",
       ".sk-estimator-doc-link:hover,\n",
       "div.sk-label-container:hover .sk-estimator-doc-link:hover,\n",
       ".sk-estimator-doc-link:hover {\n",
       "  /* unfitted */\n",
       "  background-color: var(--sklearn-color-unfitted-level-3);\n",
       "  color: var(--sklearn-color-background);\n",
       "  text-decoration: none;\n",
       "}\n",
       "\n",
       "div.sk-estimator.fitted:hover .sk-estimator-doc-link.fitted:hover,\n",
       ".sk-estimator-doc-link.fitted:hover,\n",
       "div.sk-label-container:hover .sk-estimator-doc-link.fitted:hover,\n",
       ".sk-estimator-doc-link.fitted:hover {\n",
       "  /* fitted */\n",
       "  background-color: var(--sklearn-color-fitted-level-3);\n",
       "  color: var(--sklearn-color-background);\n",
       "  text-decoration: none;\n",
       "}\n",
       "\n",
       "/* Span, style for the box shown on hovering the info icon */\n",
       ".sk-estimator-doc-link span {\n",
       "  display: none;\n",
       "  z-index: 9999;\n",
       "  position: relative;\n",
       "  font-weight: normal;\n",
       "  right: .2ex;\n",
       "  padding: .5ex;\n",
       "  margin: .5ex;\n",
       "  width: min-content;\n",
       "  min-width: 20ex;\n",
       "  max-width: 50ex;\n",
       "  color: var(--sklearn-color-text);\n",
       "  box-shadow: 2pt 2pt 4pt #999;\n",
       "  /* unfitted */\n",
       "  background: var(--sklearn-color-unfitted-level-0);\n",
       "  border: .5pt solid var(--sklearn-color-unfitted-level-3);\n",
       "}\n",
       "\n",
       ".sk-estimator-doc-link.fitted span {\n",
       "  /* fitted */\n",
       "  background: var(--sklearn-color-fitted-level-0);\n",
       "  border: var(--sklearn-color-fitted-level-3);\n",
       "}\n",
       "\n",
       ".sk-estimator-doc-link:hover span {\n",
       "  display: block;\n",
       "}\n",
       "\n",
       "/* \"?\"-specific style due to the `<a>` HTML tag */\n",
       "\n",
       "#sk-container-id-1 a.estimator_doc_link {\n",
       "  float: right;\n",
       "  font-size: 1rem;\n",
       "  line-height: 1em;\n",
       "  font-family: monospace;\n",
       "  background-color: var(--sklearn-color-background);\n",
       "  border-radius: 1rem;\n",
       "  height: 1rem;\n",
       "  width: 1rem;\n",
       "  text-decoration: none;\n",
       "  /* unfitted */\n",
       "  color: var(--sklearn-color-unfitted-level-1);\n",
       "  border: var(--sklearn-color-unfitted-level-1) 1pt solid;\n",
       "}\n",
       "\n",
       "#sk-container-id-1 a.estimator_doc_link.fitted {\n",
       "  /* fitted */\n",
       "  border: var(--sklearn-color-fitted-level-1) 1pt solid;\n",
       "  color: var(--sklearn-color-fitted-level-1);\n",
       "}\n",
       "\n",
       "/* On hover */\n",
       "#sk-container-id-1 a.estimator_doc_link:hover {\n",
       "  /* unfitted */\n",
       "  background-color: var(--sklearn-color-unfitted-level-3);\n",
       "  color: var(--sklearn-color-background);\n",
       "  text-decoration: none;\n",
       "}\n",
       "\n",
       "#sk-container-id-1 a.estimator_doc_link.fitted:hover {\n",
       "  /* fitted */\n",
       "  background-color: var(--sklearn-color-fitted-level-3);\n",
       "}\n",
       "</style><div id=\"sk-container-id-1\" class=\"sk-top-container\"><div class=\"sk-text-repr-fallback\"><pre>AgglomerativeClustering(n_clusters=149)</pre><b>In a Jupyter environment, please rerun this cell to show the HTML representation or trust the notebook. <br />On GitHub, the HTML representation is unable to render, please try loading this page with nbviewer.org.</b></div><div class=\"sk-container\" hidden><div class=\"sk-item\"><div class=\"sk-estimator fitted sk-toggleable\"><input class=\"sk-toggleable__control sk-hidden--visually\" id=\"sk-estimator-id-1\" type=\"checkbox\" checked><label for=\"sk-estimator-id-1\" class=\"sk-toggleable__label fitted sk-toggleable__label-arrow\"><div><div>AgglomerativeClustering</div></div><div><a class=\"sk-estimator-doc-link fitted\" rel=\"noreferrer\" target=\"_blank\" href=\"https://scikit-learn.org/1.6/modules/generated/sklearn.cluster.AgglomerativeClustering.html\">?<span>Documentation for AgglomerativeClustering</span></a><span class=\"sk-estimator-doc-link fitted\">i<span>Fitted</span></span></div></label><div class=\"sk-toggleable__content fitted\"><pre>AgglomerativeClustering(n_clusters=149)</pre></div> </div></div></div></div>"
      ],
      "text/plain": [
       "AgglomerativeClustering(n_clusters=149)"
      ]
     },
     "execution_count": 37,
     "metadata": {},
     "output_type": "execute_result"
    }
   ],
   "source": [
    "# Treinar modelo\n",
    "best_model.fit(X_transformed.toarray())"
   ]
  },
  {
   "cell_type": "code",
   "execution_count": 39,
   "id": "e95118b2",
   "metadata": {},
   "outputs": [
    {
     "data": {
      "text/plain": [
       "np.float64(0.32745480721431686)"
      ]
     },
     "execution_count": 39,
     "metadata": {},
     "output_type": "execute_result"
    }
   ],
   "source": [
    "# Verificar Silhouette Score\n",
    "best_score = silhouette_score(X_transformed, best_model.labels_)\n",
    "best_score"
   ]
  },
  {
   "cell_type": "code",
   "execution_count": 40,
   "id": "7ec21b52",
   "metadata": {},
   "outputs": [],
   "source": [
    "# Criar coluna com cluster escolhido no dataframe original\n",
    "df_laptops['cluster'] = best_model.labels_"
   ]
  },
  {
   "cell_type": "markdown",
   "id": "8bf064a3",
   "metadata": {},
   "source": [
    "### Visualização de Resultados"
   ]
  },
  {
   "cell_type": "code",
   "execution_count": 45,
   "id": "e01f3c3f",
   "metadata": {},
   "outputs": [
    {
     "data": {
      "application/vnd.plotly.v1+json": {
       "config": {
        "plotlyServerURL": "https://plot.ly"
       },
       "data": [
        {
         "mode": "markers",
         "name": "Objective Value",
         "type": "scatter",
         "x": [
          0,
          1,
          2,
          3,
          4,
          5,
          6,
          7,
          8,
          9,
          10,
          11,
          12,
          13,
          14,
          15,
          16,
          17,
          18,
          19,
          20,
          21,
          22,
          23,
          24,
          25,
          26,
          27,
          28,
          29,
          30,
          31,
          32,
          33,
          34,
          35,
          36,
          37,
          38,
          39,
          40,
          41,
          42,
          43,
          44,
          45,
          46,
          47,
          48,
          49,
          50,
          51,
          52,
          53,
          54,
          55,
          56,
          57,
          58,
          59,
          60,
          61,
          62,
          63,
          64,
          65,
          66,
          67,
          68,
          69,
          70,
          71,
          72,
          73,
          74,
          75,
          76,
          77,
          78,
          79,
          80,
          81,
          82,
          83,
          84,
          85,
          86,
          87,
          88,
          89,
          90,
          91,
          92,
          93,
          94,
          95,
          96,
          97,
          98,
          99,
          100,
          101,
          102,
          103,
          104,
          105,
          106,
          107,
          108,
          109,
          110,
          111,
          112,
          113,
          114,
          115,
          116,
          117,
          118,
          119,
          120,
          121,
          122,
          123,
          124,
          125,
          126,
          127,
          128,
          129,
          130,
          131,
          132,
          133,
          134,
          135,
          136,
          137,
          138,
          139,
          140,
          141,
          142,
          143,
          144,
          145,
          146,
          147,
          148,
          149,
          150,
          151,
          152,
          153,
          154,
          155,
          156,
          157,
          158,
          159,
          160,
          161,
          162,
          163,
          164,
          165,
          166,
          167,
          168,
          169,
          170,
          171,
          172,
          173,
          174,
          175,
          176,
          177,
          178,
          179,
          180,
          181,
          182,
          183,
          184,
          185,
          186,
          187,
          188,
          189,
          190,
          191,
          192,
          193,
          194,
          195,
          196,
          197,
          198,
          199,
          200,
          201,
          202,
          203,
          204,
          205,
          206,
          207,
          208,
          209,
          210,
          211,
          212,
          213,
          214,
          215,
          216,
          217,
          218,
          219,
          220,
          221,
          222,
          223,
          224,
          225,
          226,
          227,
          228,
          229,
          230,
          231,
          232,
          233,
          234,
          235,
          236,
          237,
          238,
          239,
          240,
          241,
          242,
          243,
          244,
          245,
          246,
          247,
          248,
          249,
          250,
          251,
          252,
          253,
          254,
          255,
          256,
          257,
          258,
          259,
          260,
          261,
          262,
          263,
          264,
          265,
          266,
          267,
          268,
          269,
          270,
          271,
          272,
          273,
          274,
          275,
          276,
          277,
          278,
          279,
          280,
          281,
          282,
          283,
          284,
          285,
          286,
          287,
          288,
          289,
          290,
          291,
          292,
          293,
          294,
          295,
          296,
          297,
          298,
          299,
          300,
          301,
          302,
          303,
          304,
          305,
          306,
          307,
          308,
          309,
          310,
          311,
          312,
          313,
          314,
          315,
          316,
          317,
          318,
          319,
          320,
          321,
          322,
          323,
          324,
          325,
          326,
          327,
          328,
          329,
          330,
          331,
          332,
          333,
          334,
          335,
          336,
          337,
          338,
          339,
          340,
          341,
          342,
          343,
          344,
          345,
          346,
          347,
          348,
          349,
          350,
          351,
          352,
          353,
          354,
          355,
          356,
          357,
          358,
          359,
          360,
          361,
          362,
          363,
          364,
          365,
          366,
          367,
          368,
          369,
          370,
          371,
          372,
          373,
          374,
          375,
          376,
          377,
          378,
          379,
          380,
          381,
          382,
          383,
          384,
          385,
          386,
          387,
          388,
          389,
          390,
          391,
          392,
          393,
          394,
          395,
          396,
          397,
          398,
          399,
          400,
          401,
          402,
          403,
          404,
          405,
          406,
          407,
          408,
          409,
          410,
          411,
          412,
          413,
          414,
          415,
          416,
          417,
          418,
          419,
          420,
          421,
          422,
          423,
          424,
          425,
          426,
          427,
          428,
          429,
          430,
          431,
          432,
          433,
          434,
          435,
          436,
          437,
          438,
          439,
          440,
          441,
          442,
          443,
          444,
          445,
          446,
          447,
          448,
          449,
          450,
          451,
          452,
          453,
          454,
          455,
          456,
          457,
          458,
          459,
          460,
          461,
          462,
          463,
          464,
          465,
          466,
          467,
          468,
          469,
          470,
          471,
          472,
          473,
          474,
          475,
          476,
          477,
          478,
          479,
          480,
          481,
          482,
          483,
          484,
          485,
          486,
          487,
          488,
          489,
          490,
          491,
          492,
          493,
          494,
          495,
          496,
          497,
          498,
          499,
          500,
          501,
          502,
          503,
          504,
          505,
          506,
          507,
          508,
          509,
          510,
          511,
          512,
          513,
          514,
          515,
          516,
          517,
          518,
          519,
          520,
          521,
          522,
          523,
          524,
          525,
          526,
          527,
          528,
          529,
          530,
          531,
          532,
          533,
          534,
          535,
          536,
          537,
          538,
          539,
          540,
          541,
          542,
          543,
          544,
          545,
          546,
          547,
          548,
          549,
          550,
          551,
          552,
          553,
          554,
          555,
          556,
          557,
          558,
          559,
          560,
          561,
          562,
          563
         ],
         "y": [
          0.2234907963314824,
          0.17524794730527618,
          0.18192511775951023,
          0.17426651499876017,
          0.22831449937222206,
          0.2354443546476447,
          0.2318880104031542,
          0.21637852586425793,
          -0.012385366737670744,
          0.22484977768132305,
          0.20088251312402894,
          0.22380660507267972,
          -0.006948212977119697,
          0.2185755902202045,
          0.20476442037998793,
          0.20209964266736868,
          0.2216944255575408,
          0.21575502601728042,
          0.21982110245597525,
          0.15047744246806405,
          -0.020967760020367987,
          0.21856440845928937,
          0.2466785062862802,
          0.29008750095185715,
          0.21574459736792392,
          0.22590420165997852,
          0.2917053297000771,
          -0.011608217066892664,
          0.16949061368130935,
          0.24805437685908638,
          0.20182401762192184,
          0.20313139238453612,
          0.18291403053577054,
          0.08417562018430953,
          0.2307623209852819,
          0.28125304508033033,
          0.28249440216065275,
          0.21707723787640335,
          0.21934455555096624,
          -0.018912069436392277,
          0.2641823440567754,
          0.21857661382519195,
          -0.04585227746082969,
          0.1751502223367616,
          0.2079170511581469,
          -0.0294564689590111,
          0.14347402459378997,
          0.17941347658410037,
          0.20808350822768346,
          0.16825399221343482,
          0.030679830280590577,
          -0.026775748007803264,
          0.2900833667519171,
          0.19512325137619457,
          0.22566063117452445,
          0.13407197799483717,
          0.1479242001156871,
          0.32729777740951294,
          0.19411235017994075,
          0.21803623538816608,
          0.20978890262923017,
          0.23985293218676346,
          0.2250607404717766,
          0.21675325979778237,
          0.2321388764783042,
          -0.015784956227349198,
          -0.010897187582202247,
          0.23863587248186907,
          0.22522817587557464,
          0.06738110016804925,
          0.142549778957606,
          0.17559516911786277,
          -0.03894495250452619,
          -0.01769488740174539,
          0.23215144302942087,
          0.2964811611514021,
          0.14735821059107657,
          0.19340598769463999,
          0.21793808860346364,
          0.04258202307108817,
          -0.025911536548773543,
          0.22227577387921685,
          0.31952336136695375,
          0.24361876308154698,
          0.21609792581497622,
          0.259008820188013,
          0.1973127735574832,
          0.26361667359163016,
          -0.01221085869683866,
          0.05468754282834488,
          -0.030690762504648906,
          0.21099706125190115,
          0.21661623689564757,
          0.1582975350840369,
          0.19552405814399773,
          0.2071459872852789,
          0.2743065021683862,
          0.21694284352360366,
          0.14936102331486922,
          0.21655041719908974,
          0.21814530040547253,
          0.22325685723376285,
          0.2085074141371235,
          -0.049381453674799805,
          0.2946698679679079,
          -0.030786914785083004,
          0.08492238352974084,
          0.08715589325953373,
          0.1910297870259329,
          -0.03810384204063109,
          0.17839405284953613,
          0.16758133639394757,
          0.21177416239142763,
          0.1783225739202815,
          0.19065488150261267,
          -0.028936379279647064,
          0.19366691591765245,
          -0.050084114836550724,
          -0.006074726212901375,
          0.20412988721406675,
          -0.0058448696331559104,
          0.21522242809937703,
          0.2937783766463805,
          0.19630927012822172,
          0.24772433335480548,
          -0.04665126023634104,
          0.19607730872407883,
          0.17197885718042494,
          0.3187099175280095,
          0.05705526277686684,
          -0.027474646795153136,
          0.2377044534491781,
          0.1706689810230835,
          0.20848797637787528,
          0.2924979182842741,
          0.05384456515506289,
          0.17207909205329164,
          0.1523833634375463,
          0.23995021578588382,
          0.21929060617600846,
          0.31060760634148205,
          0.23057486969816468,
          0.16645591861907544,
          0.2188450843073677,
          0.2197277071269907,
          0.13809124747252385,
          0.3224483612527445,
          0.2428461618165716,
          0.17190663432093317,
          0.21753784060941067,
          -0.010255366309576543,
          0.20334097905045553,
          0.0665196394921217,
          -0.027814167353891407,
          -0.04168772477017869,
          0.2780371003873098,
          0.275107290298072,
          0.2205740945846991,
          0.14967658445863533,
          0.232067711035336,
          0.21696980940624,
          0.16620039233422498,
          0.23342747758705054,
          0.2771162338290132,
          0.21087738945323636,
          -0.008060025912672256,
          0.19707899251221453,
          0.19512227500396093,
          0.23606603254922776,
          0.28143962903438463,
          0.237422908102927,
          0.17548060771779475,
          0.17461123005140128,
          0.2110599949670471,
          0.21857403123522168,
          0.22164695368688064,
          0.2011810684247101,
          0.2079962768526376,
          0.19534136261412813,
          0.22532081418842428,
          0.23828051215019258,
          0.21973193981664024,
          0.22276180456553146,
          0.18227341524631058,
          0.23801067555877786,
          0.21872172065777487,
          0.1981129477494152,
          -0.04034503810837412,
          0.3063543786848593,
          0.1512347618495628,
          0.15837508669646316,
          0.2364079449466678,
          -0.02808309037036316,
          -0.044769524799501186,
          -0.03295456997308392,
          0.05877099144512262,
          0.10122400803621198,
          0.23043322818745202,
          0.2094359654236086,
          0.20797041195681465,
          0.23355261425585144,
          0.1466384109543751,
          -0.026424248793092815,
          0.050172707544777866,
          0.14380182349257942,
          0.218438378476893,
          0.22629517301916616,
          -0.026931829799925307,
          0.19365889500071226,
          0.23862257607943446,
          0.23490918815355466,
          0.084955176975362,
          0.2364066408074086,
          0.24353809578904564,
          0.20728220223778873,
          0.14670480341016384,
          0.2667444430375785,
          0.17569156757450227,
          0.18107402893566493,
          0.21704101468750023,
          0.19126593087822008,
          -0.021987146288277425,
          0.22254867296699526,
          0.2396814593198889,
          -0.07753448991406098,
          0.18546643939299237,
          0.29770322107144354,
          -0.012572321264651489,
          0.19986047010366845,
          0.31929554358940726,
          0.040970981688963806,
          0.3027020527964483,
          -0.01863791720728406,
          0.19299700592044122,
          0.2422542903620175,
          0.20747010581787484,
          0.19747723662392355,
          0.12746853108008654,
          -0.0468805711401071,
          0.19441956623313553,
          0.16404085729227844,
          0.20440126686475438,
          0.13406234041820514,
          -0.07701134141319302,
          0.21657261440320918,
          -0.011994014626722558,
          0.23896763872392793,
          -0.035435497766806,
          0.23928187369321935,
          0.2992267527701573,
          0.25379924928737624,
          0.06211022065895335,
          0.20763286128479477,
          0.19625549740769382,
          0.17899463078516822,
          0.0667161546711643,
          0.0848492119532411,
          0.13771321527911337,
          0.055762663031431674,
          0.22434354853874838,
          0.2405995960771114,
          0.19656170308254153,
          0.2006565712312287,
          0.2036349425890777,
          0.29563867594644433,
          0.2097154072231901,
          -0.02566085267241982,
          0.17770823214498485,
          0.2886854383454542,
          0.21464282161237228,
          0.23812647915950066,
          0.28771093850711843,
          -0.0515757293326145,
          -0.032994422108979835,
          0.057930653157175965,
          0.20050043297346282,
          0.26987093777448085,
          -0.05556656269236453,
          0.22067051401784102,
          -0.03942822953607895,
          0.19974693370091323,
          0.2784438926733835,
          0.1925607593171684,
          0.2273522361563746,
          -0.010997424377944652,
          0.19889951184034566,
          0.224811438268322,
          0.17556818511761565,
          -0.04661846843884509,
          0.18287417537978612,
          0.21398164022541366,
          -0.03350219766005386,
          0.27789886320676294,
          0.17602041417909112,
          0.22310120709854364,
          -0.061041615175430775,
          0.2968413542701591,
          0.29426485670852903,
          0.15942775655922228,
          0.21735236668219218,
          0.1470761979006531,
          -0.037525222396808895,
          0.1695687166982716,
          0.20980959295277052,
          -0.017860900502353786,
          0.20772633614940483,
          0.20978572346447005,
          0.32043327823014345,
          0.15835929015129013,
          0.2313302071387184,
          0.21050138323315704,
          0.17466049688869262,
          -0.039532919279455514,
          0.09841825566449644,
          0.2315208890931619,
          0.21763138450620376,
          0.3185445128986242,
          0.22327361792243564,
          0.26190027728624615,
          0.17709862503461418,
          0.2300115897189158,
          0.23777033103131473,
          0.19965022171261804,
          -0.043039199841860214,
          0.0811475233552725,
          0.21701634759264843,
          0.21811303345371058,
          0.21742433299416358,
          0.1598661682801904,
          0.1275663264838102,
          0.24209625997965917,
          0.13826163193289398,
          0.22921777942654054,
          0.20899510686338463,
          0.21334115506165935,
          -0.0241670363509758,
          0.17683213552998414,
          0.15830804059525252,
          0.16950777389951255,
          0.05612018500406778,
          0.21761579399372447,
          0.2089756362131686,
          0.23025112960570635,
          0.23039723803054932,
          0.15065460744693257,
          0.23233867421306736,
          0.1367988848991185,
          0.32487339992902015,
          0.21821868643207368,
          0.2857669264096271,
          0.12710406656875103,
          0.16011282752800948,
          0.11004670176078468,
          0.2104267644104242,
          -0.03867495615215134,
          0.18123086299169006,
          0.21095133165102783,
          -0.010835928868282507,
          0.19890053387823364,
          0.21968558402008237,
          0.23545274163784505,
          0.2405955833588235,
          0.1993309596014807,
          0.21095040426466707,
          0.1341021376087075,
          0.21220177114584043,
          0.315594714097842,
          -0.04852295644330355,
          0.2919699728486305,
          0.17673537708817277,
          0.23853076523814187,
          -0.027445195588072496,
          0.22843230086935587,
          0.2419591310996437,
          0.04538065334524472,
          0.2503636469950694,
          -0.07744379671214284,
          0.049074551079755516,
          0.18309893746741152,
          0.1954580408099718,
          0.1744905384837568,
          0.18004032453377464,
          0.30172233572304596,
          0.2231187433709101,
          0.2206249869557132,
          0.12668977290326564,
          0.13245953277476302,
          0.2576836085863808,
          0.2957516719663861,
          0.2100402481387842,
          0.21732771311478008,
          0.20228157903755048,
          0.2923911720018562,
          0.21123125207408924,
          0.15019463148388285,
          0.19640231259677227,
          0.2923372647462709,
          0.19781389307263358,
          0.29217657249856227,
          -0.04855905789796936,
          0.09729502744855044,
          0.32745480721431686,
          0.21658887884601227,
          0.24025057171969064,
          0.20569809787015683,
          -0.003628250499849949,
          0.17527818052814975,
          0.17960211035422183,
          -0.05966834145631194,
          0.22333931204345855,
          0.22844218551884143,
          -0.05960595120726148,
          0.19540436364531646,
          0.19240884762415547,
          0.13729388289389444,
          -0.02763246981327393,
          0.23763470760149702,
          0.2102942008068066,
          0.2217789479573064,
          0.053492426697512786,
          0.17321889728896364,
          0.15710043691356465,
          0.30733651320656874,
          0.23590347853781163,
          0.1735660966429939,
          0.24700514261089737,
          0.19173649995880054,
          0.2092478212327144,
          -0.04956810457931768,
          0.05436585966019914,
          0.240947527209999,
          0.14835122918546384,
          -0.031080422587074753,
          0.1898991708938265,
          0.2212420302678087,
          0.2517482372292342,
          0.15856059367953348,
          0.23451613748801164,
          0.1860018540443145,
          0.2114980967491886,
          -0.029099277066885053,
          0.26126600614254436,
          0.23964384450953755,
          0.22969857420862358,
          0.20286714923064503,
          0.23625269589857809,
          0.22936815618560366,
          0.2383516863963981,
          0.22776753334741912,
          0.23407030327917897,
          0.20625754024994433,
          -0.052314376516392126,
          -0.05135152870340016,
          -0.00915919301471713,
          -0.011023372350648684,
          -0.01793912162338041,
          0.30442194047389254,
          0.2142385421611545,
          0.2303639069077111,
          0.2379601682964414,
          -0.05300215835511741,
          0.20819440215575902,
          0.31792560911284873,
          0.1898778738544965,
          0.1969249538839011,
          -0.07796209866847381,
          0.05579315211291585,
          0.22819257932648418,
          0.20869905176945017,
          0.21465578928808468,
          0.17062847079327287,
          0.21543326441922986,
          0.1966138651934005,
          0.21826098503493074,
          0.20924644807610013,
          -0.028325991953246792,
          -0.02564590937948818,
          0.27596859824296904,
          0.2176344903266656,
          0.2029305188757098,
          0.15945262065529955,
          0.23172676949173845,
          0.17100480884070085,
          0.17392803188504757,
          0.20961496496305732,
          0.23578222555426126,
          0.27211241621957377,
          0.19909488308169482,
          0.2732319034268592,
          0.08482735984351049,
          0.1691178088545011,
          0.16166166475402693,
          0.2452069856918441,
          0.15837835265277778,
          0.2327679263808043,
          0.19696221034056152,
          0.21046785689319697,
          0.2205641363735282,
          0.20779382085131243,
          0.23729386413578146,
          -0.025769392486356013,
          0.22024033598063295,
          0.21200676205266103,
          0.28109755907148515,
          0.19744219178304742,
          -0.03412415043821868,
          0.191386662096416,
          0.21160672791670568,
          -0.028065810336298885,
          0.31859227356939185,
          -0.03760639474543915,
          0.3135194413313813,
          0.23213341699096415,
          0.18073596425093819,
          0.19863394357192318,
          0.258592594456579,
          0.2210258612737301,
          0.26386925251910803,
          0.25683700647652125,
          0.12714130828539671,
          0.2978180411944391,
          0.17034797456196832,
          0.2345102135850503,
          0.17488887130319178,
          0.23476283928635183,
          0.09940559526410245,
          0.23205902148315236,
          0.21713878058513403,
          0.1995954512403341,
          0.2418420948008218,
          -0.03819171837578918,
          0.23295247413137013,
          -0.03152241181855998,
          0.31473768706155225,
          0.21077929865830944,
          0.19075359213176088,
          -0.025480137594859974,
          -0.012675648012059292,
          0.17287549734951102,
          0.22507005420329737,
          0.2397153642983391,
          0.1745139349778808,
          0.3200005720218765,
          0.27767761146435527,
          0.17534479171586276,
          0.2759988314658426,
          -0.015198055476582163,
          0.1337580321102011,
          0.294730731253256,
          0.24322579763260066,
          0.0333915149261613,
          0.14710804368225142,
          0.26287598243004195,
          0.056957675538714767,
          -0.040794489492446885,
          0.17517881267913998,
          0.21451426194275774,
          -0.023953948706483316,
          0.24696326549421785,
          0.2378273457559655,
          0.18203263689703747,
          0.21041782467273695,
          0.20416843219378486,
          0.058874925545870545
         ]
        },
        {
         "mode": "lines",
         "name": "Best Value",
         "type": "scatter",
         "x": [
          0,
          1,
          2,
          3,
          4,
          5,
          6,
          7,
          8,
          9,
          10,
          11,
          12,
          13,
          14,
          15,
          16,
          17,
          18,
          19,
          20,
          21,
          22,
          23,
          24,
          25,
          26,
          27,
          28,
          29,
          30,
          31,
          32,
          33,
          34,
          35,
          36,
          37,
          38,
          39,
          40,
          41,
          42,
          43,
          44,
          45,
          46,
          47,
          48,
          49,
          50,
          51,
          52,
          53,
          54,
          55,
          56,
          57,
          58,
          59,
          60,
          61,
          62,
          63,
          64,
          65,
          66,
          67,
          68,
          69,
          70,
          71,
          72,
          73,
          74,
          75,
          76,
          77,
          78,
          79,
          80,
          81,
          82,
          83,
          84,
          85,
          86,
          87,
          88,
          89,
          90,
          91,
          92,
          93,
          94,
          95,
          96,
          97,
          98,
          99,
          100,
          101,
          102,
          103,
          104,
          105,
          106,
          107,
          108,
          109,
          110,
          111,
          112,
          113,
          114,
          115,
          116,
          117,
          118,
          119,
          120,
          121,
          122,
          123,
          124,
          125,
          126,
          127,
          128,
          129,
          130,
          131,
          132,
          133,
          134,
          135,
          136,
          137,
          138,
          139,
          140,
          141,
          142,
          143,
          144,
          145,
          146,
          147,
          148,
          149,
          150,
          151,
          152,
          153,
          154,
          155,
          156,
          157,
          158,
          159,
          160,
          161,
          162,
          163,
          164,
          165,
          166,
          167,
          168,
          169,
          170,
          171,
          172,
          173,
          174,
          175,
          176,
          177,
          178,
          179,
          180,
          181,
          182,
          183,
          184,
          185,
          186,
          187,
          188,
          189,
          190,
          191,
          192,
          193,
          194,
          195,
          196,
          197,
          198,
          199,
          200,
          201,
          202,
          203,
          204,
          205,
          206,
          207,
          208,
          209,
          210,
          211,
          212,
          213,
          214,
          215,
          216,
          217,
          218,
          219,
          220,
          221,
          222,
          223,
          224,
          225,
          226,
          227,
          228,
          229,
          230,
          231,
          232,
          233,
          234,
          235,
          236,
          237,
          238,
          239,
          240,
          241,
          242,
          243,
          244,
          245,
          246,
          247,
          248,
          249,
          250,
          251,
          252,
          253,
          254,
          255,
          256,
          257,
          258,
          259,
          260,
          261,
          262,
          263,
          264,
          265,
          266,
          267,
          268,
          269,
          270,
          271,
          272,
          273,
          274,
          275,
          276,
          277,
          278,
          279,
          280,
          281,
          282,
          283,
          284,
          285,
          286,
          287,
          288,
          289,
          290,
          291,
          292,
          293,
          294,
          295,
          296,
          297,
          298,
          299,
          300,
          301,
          302,
          303,
          304,
          305,
          306,
          307,
          308,
          309,
          310,
          311,
          312,
          313,
          314,
          315,
          316,
          317,
          318,
          319,
          320,
          321,
          322,
          323,
          324,
          325,
          326,
          327,
          328,
          329,
          330,
          331,
          332,
          333,
          334,
          335,
          336,
          337,
          338,
          339,
          340,
          341,
          342,
          343,
          344,
          345,
          346,
          347,
          348,
          349,
          350,
          351,
          352,
          353,
          354,
          355,
          356,
          357,
          358,
          359,
          360,
          361,
          362,
          363,
          364,
          365,
          366,
          367,
          368,
          369,
          370,
          371,
          372,
          373,
          374,
          375,
          376,
          377,
          378,
          379,
          380,
          381,
          382,
          383,
          384,
          385,
          386,
          387,
          388,
          389,
          390,
          391,
          392,
          393,
          394,
          395,
          396,
          397,
          398,
          399,
          400,
          401,
          402,
          403,
          404,
          405,
          406,
          407,
          408,
          409,
          410,
          411,
          412,
          413,
          414,
          415,
          416,
          417,
          418,
          419,
          420,
          421,
          422,
          423,
          424,
          425,
          426,
          427,
          428,
          429,
          430,
          431,
          432,
          433,
          434,
          435,
          436,
          437,
          438,
          439,
          440,
          441,
          442,
          443,
          444,
          445,
          446,
          447,
          448,
          449,
          450,
          451,
          452,
          453,
          454,
          455,
          456,
          457,
          458,
          459,
          460,
          461,
          462,
          463,
          464,
          465,
          466,
          467,
          468,
          469,
          470,
          471,
          472,
          473,
          474,
          475,
          476,
          477,
          478,
          479,
          480,
          481,
          482,
          483,
          484,
          485,
          486,
          487,
          488,
          489,
          490,
          491,
          492,
          493,
          494,
          495,
          496,
          497,
          498,
          499,
          500,
          501,
          502,
          503,
          504,
          505,
          506,
          507,
          508,
          509,
          510,
          511,
          512,
          513,
          514,
          515,
          516,
          517,
          518,
          519,
          520,
          521,
          522,
          523,
          524,
          525,
          526,
          527,
          528,
          529,
          530,
          531,
          532,
          533,
          534,
          535,
          536,
          537,
          538,
          539,
          540,
          541,
          542,
          543,
          544,
          545,
          546,
          547,
          548,
          549,
          550,
          551,
          552,
          553,
          554,
          555,
          556,
          557,
          558,
          559,
          560,
          561,
          562,
          563
         ],
         "y": [
          0.2234907963314824,
          0.2234907963314824,
          0.2234907963314824,
          0.2234907963314824,
          0.22831449937222206,
          0.2354443546476447,
          0.2354443546476447,
          0.2354443546476447,
          0.2354443546476447,
          0.2354443546476447,
          0.2354443546476447,
          0.2354443546476447,
          0.2354443546476447,
          0.2354443546476447,
          0.2354443546476447,
          0.2354443546476447,
          0.2354443546476447,
          0.2354443546476447,
          0.2354443546476447,
          0.2354443546476447,
          0.2354443546476447,
          0.2354443546476447,
          0.2466785062862802,
          0.29008750095185715,
          0.29008750095185715,
          0.29008750095185715,
          0.2917053297000771,
          0.2917053297000771,
          0.2917053297000771,
          0.2917053297000771,
          0.2917053297000771,
          0.2917053297000771,
          0.2917053297000771,
          0.2917053297000771,
          0.2917053297000771,
          0.2917053297000771,
          0.2917053297000771,
          0.2917053297000771,
          0.2917053297000771,
          0.2917053297000771,
          0.2917053297000771,
          0.2917053297000771,
          0.2917053297000771,
          0.2917053297000771,
          0.2917053297000771,
          0.2917053297000771,
          0.2917053297000771,
          0.2917053297000771,
          0.2917053297000771,
          0.2917053297000771,
          0.2917053297000771,
          0.2917053297000771,
          0.2917053297000771,
          0.2917053297000771,
          0.2917053297000771,
          0.2917053297000771,
          0.2917053297000771,
          0.32729777740951294,
          0.32729777740951294,
          0.32729777740951294,
          0.32729777740951294,
          0.32729777740951294,
          0.32729777740951294,
          0.32729777740951294,
          0.32729777740951294,
          0.32729777740951294,
          0.32729777740951294,
          0.32729777740951294,
          0.32729777740951294,
          0.32729777740951294,
          0.32729777740951294,
          0.32729777740951294,
          0.32729777740951294,
          0.32729777740951294,
          0.32729777740951294,
          0.32729777740951294,
          0.32729777740951294,
          0.32729777740951294,
          0.32729777740951294,
          0.32729777740951294,
          0.32729777740951294,
          0.32729777740951294,
          0.32729777740951294,
          0.32729777740951294,
          0.32729777740951294,
          0.32729777740951294,
          0.32729777740951294,
          0.32729777740951294,
          0.32729777740951294,
          0.32729777740951294,
          0.32729777740951294,
          0.32729777740951294,
          0.32729777740951294,
          0.32729777740951294,
          0.32729777740951294,
          0.32729777740951294,
          0.32729777740951294,
          0.32729777740951294,
          0.32729777740951294,
          0.32729777740951294,
          0.32729777740951294,
          0.32729777740951294,
          0.32729777740951294,
          0.32729777740951294,
          0.32729777740951294,
          0.32729777740951294,
          0.32729777740951294,
          0.32729777740951294,
          0.32729777740951294,
          0.32729777740951294,
          0.32729777740951294,
          0.32729777740951294,
          0.32729777740951294,
          0.32729777740951294,
          0.32729777740951294,
          0.32729777740951294,
          0.32729777740951294,
          0.32729777740951294,
          0.32729777740951294,
          0.32729777740951294,
          0.32729777740951294,
          0.32729777740951294,
          0.32729777740951294,
          0.32729777740951294,
          0.32729777740951294,
          0.32729777740951294,
          0.32729777740951294,
          0.32729777740951294,
          0.32729777740951294,
          0.32729777740951294,
          0.32729777740951294,
          0.32729777740951294,
          0.32729777740951294,
          0.32729777740951294,
          0.32729777740951294,
          0.32729777740951294,
          0.32729777740951294,
          0.32729777740951294,
          0.32729777740951294,
          0.32729777740951294,
          0.32729777740951294,
          0.32729777740951294,
          0.32729777740951294,
          0.32729777740951294,
          0.32729777740951294,
          0.32729777740951294,
          0.32729777740951294,
          0.32729777740951294,
          0.32729777740951294,
          0.32729777740951294,
          0.32729777740951294,
          0.32729777740951294,
          0.32729777740951294,
          0.32729777740951294,
          0.32729777740951294,
          0.32729777740951294,
          0.32729777740951294,
          0.32729777740951294,
          0.32729777740951294,
          0.32729777740951294,
          0.32729777740951294,
          0.32729777740951294,
          0.32729777740951294,
          0.32729777740951294,
          0.32729777740951294,
          0.32729777740951294,
          0.32729777740951294,
          0.32729777740951294,
          0.32729777740951294,
          0.32729777740951294,
          0.32729777740951294,
          0.32729777740951294,
          0.32729777740951294,
          0.32729777740951294,
          0.32729777740951294,
          0.32729777740951294,
          0.32729777740951294,
          0.32729777740951294,
          0.32729777740951294,
          0.32729777740951294,
          0.32729777740951294,
          0.32729777740951294,
          0.32729777740951294,
          0.32729777740951294,
          0.32729777740951294,
          0.32729777740951294,
          0.32729777740951294,
          0.32729777740951294,
          0.32729777740951294,
          0.32729777740951294,
          0.32729777740951294,
          0.32729777740951294,
          0.32729777740951294,
          0.32729777740951294,
          0.32729777740951294,
          0.32729777740951294,
          0.32729777740951294,
          0.32729777740951294,
          0.32729777740951294,
          0.32729777740951294,
          0.32729777740951294,
          0.32729777740951294,
          0.32729777740951294,
          0.32729777740951294,
          0.32729777740951294,
          0.32729777740951294,
          0.32729777740951294,
          0.32729777740951294,
          0.32729777740951294,
          0.32729777740951294,
          0.32729777740951294,
          0.32729777740951294,
          0.32729777740951294,
          0.32729777740951294,
          0.32729777740951294,
          0.32729777740951294,
          0.32729777740951294,
          0.32729777740951294,
          0.32729777740951294,
          0.32729777740951294,
          0.32729777740951294,
          0.32729777740951294,
          0.32729777740951294,
          0.32729777740951294,
          0.32729777740951294,
          0.32729777740951294,
          0.32729777740951294,
          0.32729777740951294,
          0.32729777740951294,
          0.32729777740951294,
          0.32729777740951294,
          0.32729777740951294,
          0.32729777740951294,
          0.32729777740951294,
          0.32729777740951294,
          0.32729777740951294,
          0.32729777740951294,
          0.32729777740951294,
          0.32729777740951294,
          0.32729777740951294,
          0.32729777740951294,
          0.32729777740951294,
          0.32729777740951294,
          0.32729777740951294,
          0.32729777740951294,
          0.32729777740951294,
          0.32729777740951294,
          0.32729777740951294,
          0.32729777740951294,
          0.32729777740951294,
          0.32729777740951294,
          0.32729777740951294,
          0.32729777740951294,
          0.32729777740951294,
          0.32729777740951294,
          0.32729777740951294,
          0.32729777740951294,
          0.32729777740951294,
          0.32729777740951294,
          0.32729777740951294,
          0.32729777740951294,
          0.32729777740951294,
          0.32729777740951294,
          0.32729777740951294,
          0.32729777740951294,
          0.32729777740951294,
          0.32729777740951294,
          0.32729777740951294,
          0.32729777740951294,
          0.32729777740951294,
          0.32729777740951294,
          0.32729777740951294,
          0.32729777740951294,
          0.32729777740951294,
          0.32729777740951294,
          0.32729777740951294,
          0.32729777740951294,
          0.32729777740951294,
          0.32729777740951294,
          0.32729777740951294,
          0.32729777740951294,
          0.32729777740951294,
          0.32729777740951294,
          0.32729777740951294,
          0.32729777740951294,
          0.32729777740951294,
          0.32729777740951294,
          0.32729777740951294,
          0.32729777740951294,
          0.32729777740951294,
          0.32729777740951294,
          0.32729777740951294,
          0.32729777740951294,
          0.32729777740951294,
          0.32729777740951294,
          0.32729777740951294,
          0.32729777740951294,
          0.32729777740951294,
          0.32729777740951294,
          0.32729777740951294,
          0.32729777740951294,
          0.32729777740951294,
          0.32729777740951294,
          0.32729777740951294,
          0.32729777740951294,
          0.32729777740951294,
          0.32729777740951294,
          0.32729777740951294,
          0.32729777740951294,
          0.32729777740951294,
          0.32729777740951294,
          0.32729777740951294,
          0.32729777740951294,
          0.32729777740951294,
          0.32729777740951294,
          0.32729777740951294,
          0.32729777740951294,
          0.32729777740951294,
          0.32729777740951294,
          0.32729777740951294,
          0.32729777740951294,
          0.32729777740951294,
          0.32729777740951294,
          0.32729777740951294,
          0.32729777740951294,
          0.32729777740951294,
          0.32729777740951294,
          0.32729777740951294,
          0.32729777740951294,
          0.32729777740951294,
          0.32729777740951294,
          0.32729777740951294,
          0.32729777740951294,
          0.32729777740951294,
          0.32729777740951294,
          0.32729777740951294,
          0.32729777740951294,
          0.32729777740951294,
          0.32729777740951294,
          0.32729777740951294,
          0.32729777740951294,
          0.32729777740951294,
          0.32729777740951294,
          0.32729777740951294,
          0.32729777740951294,
          0.32729777740951294,
          0.32729777740951294,
          0.32729777740951294,
          0.32729777740951294,
          0.32729777740951294,
          0.32729777740951294,
          0.32729777740951294,
          0.32729777740951294,
          0.32729777740951294,
          0.32729777740951294,
          0.32729777740951294,
          0.32729777740951294,
          0.32729777740951294,
          0.32729777740951294,
          0.32729777740951294,
          0.32729777740951294,
          0.32729777740951294,
          0.32729777740951294,
          0.32729777740951294,
          0.32729777740951294,
          0.32729777740951294,
          0.32729777740951294,
          0.32729777740951294,
          0.32729777740951294,
          0.32729777740951294,
          0.32729777740951294,
          0.32729777740951294,
          0.32729777740951294,
          0.32729777740951294,
          0.32729777740951294,
          0.32729777740951294,
          0.32729777740951294,
          0.32729777740951294,
          0.32729777740951294,
          0.32729777740951294,
          0.32729777740951294,
          0.32729777740951294,
          0.32729777740951294,
          0.32729777740951294,
          0.32729777740951294,
          0.32729777740951294,
          0.32729777740951294,
          0.32729777740951294,
          0.32729777740951294,
          0.32729777740951294,
          0.32729777740951294,
          0.32729777740951294,
          0.32729777740951294,
          0.32729777740951294,
          0.32729777740951294,
          0.32729777740951294,
          0.32729777740951294,
          0.32729777740951294,
          0.32729777740951294,
          0.32729777740951294,
          0.32729777740951294,
          0.32745480721431686,
          0.32745480721431686,
          0.32745480721431686,
          0.32745480721431686,
          0.32745480721431686,
          0.32745480721431686,
          0.32745480721431686,
          0.32745480721431686,
          0.32745480721431686,
          0.32745480721431686,
          0.32745480721431686,
          0.32745480721431686,
          0.32745480721431686,
          0.32745480721431686,
          0.32745480721431686,
          0.32745480721431686,
          0.32745480721431686,
          0.32745480721431686,
          0.32745480721431686,
          0.32745480721431686,
          0.32745480721431686,
          0.32745480721431686,
          0.32745480721431686,
          0.32745480721431686,
          0.32745480721431686,
          0.32745480721431686,
          0.32745480721431686,
          0.32745480721431686,
          0.32745480721431686,
          0.32745480721431686,
          0.32745480721431686,
          0.32745480721431686,
          0.32745480721431686,
          0.32745480721431686,
          0.32745480721431686,
          0.32745480721431686,
          0.32745480721431686,
          0.32745480721431686,
          0.32745480721431686,
          0.32745480721431686,
          0.32745480721431686,
          0.32745480721431686,
          0.32745480721431686,
          0.32745480721431686,
          0.32745480721431686,
          0.32745480721431686,
          0.32745480721431686,
          0.32745480721431686,
          0.32745480721431686,
          0.32745480721431686,
          0.32745480721431686,
          0.32745480721431686,
          0.32745480721431686,
          0.32745480721431686,
          0.32745480721431686,
          0.32745480721431686,
          0.32745480721431686,
          0.32745480721431686,
          0.32745480721431686,
          0.32745480721431686,
          0.32745480721431686,
          0.32745480721431686,
          0.32745480721431686,
          0.32745480721431686,
          0.32745480721431686,
          0.32745480721431686,
          0.32745480721431686,
          0.32745480721431686,
          0.32745480721431686,
          0.32745480721431686,
          0.32745480721431686,
          0.32745480721431686,
          0.32745480721431686,
          0.32745480721431686,
          0.32745480721431686,
          0.32745480721431686,
          0.32745480721431686,
          0.32745480721431686,
          0.32745480721431686,
          0.32745480721431686,
          0.32745480721431686,
          0.32745480721431686,
          0.32745480721431686,
          0.32745480721431686,
          0.32745480721431686,
          0.32745480721431686,
          0.32745480721431686,
          0.32745480721431686,
          0.32745480721431686,
          0.32745480721431686,
          0.32745480721431686,
          0.32745480721431686,
          0.32745480721431686,
          0.32745480721431686,
          0.32745480721431686,
          0.32745480721431686,
          0.32745480721431686,
          0.32745480721431686,
          0.32745480721431686,
          0.32745480721431686,
          0.32745480721431686,
          0.32745480721431686,
          0.32745480721431686,
          0.32745480721431686,
          0.32745480721431686,
          0.32745480721431686,
          0.32745480721431686,
          0.32745480721431686,
          0.32745480721431686,
          0.32745480721431686,
          0.32745480721431686,
          0.32745480721431686,
          0.32745480721431686,
          0.32745480721431686,
          0.32745480721431686,
          0.32745480721431686,
          0.32745480721431686,
          0.32745480721431686,
          0.32745480721431686,
          0.32745480721431686,
          0.32745480721431686,
          0.32745480721431686,
          0.32745480721431686,
          0.32745480721431686,
          0.32745480721431686,
          0.32745480721431686,
          0.32745480721431686,
          0.32745480721431686,
          0.32745480721431686,
          0.32745480721431686,
          0.32745480721431686,
          0.32745480721431686,
          0.32745480721431686,
          0.32745480721431686,
          0.32745480721431686,
          0.32745480721431686,
          0.32745480721431686,
          0.32745480721431686,
          0.32745480721431686,
          0.32745480721431686,
          0.32745480721431686,
          0.32745480721431686,
          0.32745480721431686,
          0.32745480721431686,
          0.32745480721431686,
          0.32745480721431686,
          0.32745480721431686,
          0.32745480721431686,
          0.32745480721431686,
          0.32745480721431686,
          0.32745480721431686,
          0.32745480721431686,
          0.32745480721431686,
          0.32745480721431686,
          0.32745480721431686,
          0.32745480721431686,
          0.32745480721431686,
          0.32745480721431686,
          0.32745480721431686,
          0.32745480721431686,
          0.32745480721431686,
          0.32745480721431686,
          0.32745480721431686
         ]
        },
        {
         "marker": {
          "color": "#cccccc"
         },
         "mode": "markers",
         "name": "Infeasible Trial",
         "showlegend": false,
         "type": "scatter",
         "x": [],
         "y": []
        }
       ],
       "layout": {
        "template": {
         "data": {
          "bar": [
           {
            "error_x": {
             "color": "#2a3f5f"
            },
            "error_y": {
             "color": "#2a3f5f"
            },
            "marker": {
             "line": {
              "color": "#E5ECF6",
              "width": 0.5
             },
             "pattern": {
              "fillmode": "overlay",
              "size": 10,
              "solidity": 0.2
             }
            },
            "type": "bar"
           }
          ],
          "barpolar": [
           {
            "marker": {
             "line": {
              "color": "#E5ECF6",
              "width": 0.5
             },
             "pattern": {
              "fillmode": "overlay",
              "size": 10,
              "solidity": 0.2
             }
            },
            "type": "barpolar"
           }
          ],
          "carpet": [
           {
            "aaxis": {
             "endlinecolor": "#2a3f5f",
             "gridcolor": "white",
             "linecolor": "white",
             "minorgridcolor": "white",
             "startlinecolor": "#2a3f5f"
            },
            "baxis": {
             "endlinecolor": "#2a3f5f",
             "gridcolor": "white",
             "linecolor": "white",
             "minorgridcolor": "white",
             "startlinecolor": "#2a3f5f"
            },
            "type": "carpet"
           }
          ],
          "choropleth": [
           {
            "colorbar": {
             "outlinewidth": 0,
             "ticks": ""
            },
            "type": "choropleth"
           }
          ],
          "contour": [
           {
            "colorbar": {
             "outlinewidth": 0,
             "ticks": ""
            },
            "colorscale": [
             [
              0,
              "#0d0887"
             ],
             [
              0.1111111111111111,
              "#46039f"
             ],
             [
              0.2222222222222222,
              "#7201a8"
             ],
             [
              0.3333333333333333,
              "#9c179e"
             ],
             [
              0.4444444444444444,
              "#bd3786"
             ],
             [
              0.5555555555555556,
              "#d8576b"
             ],
             [
              0.6666666666666666,
              "#ed7953"
             ],
             [
              0.7777777777777778,
              "#fb9f3a"
             ],
             [
              0.8888888888888888,
              "#fdca26"
             ],
             [
              1,
              "#f0f921"
             ]
            ],
            "type": "contour"
           }
          ],
          "contourcarpet": [
           {
            "colorbar": {
             "outlinewidth": 0,
             "ticks": ""
            },
            "type": "contourcarpet"
           }
          ],
          "heatmap": [
           {
            "colorbar": {
             "outlinewidth": 0,
             "ticks": ""
            },
            "colorscale": [
             [
              0,
              "#0d0887"
             ],
             [
              0.1111111111111111,
              "#46039f"
             ],
             [
              0.2222222222222222,
              "#7201a8"
             ],
             [
              0.3333333333333333,
              "#9c179e"
             ],
             [
              0.4444444444444444,
              "#bd3786"
             ],
             [
              0.5555555555555556,
              "#d8576b"
             ],
             [
              0.6666666666666666,
              "#ed7953"
             ],
             [
              0.7777777777777778,
              "#fb9f3a"
             ],
             [
              0.8888888888888888,
              "#fdca26"
             ],
             [
              1,
              "#f0f921"
             ]
            ],
            "type": "heatmap"
           }
          ],
          "histogram": [
           {
            "marker": {
             "pattern": {
              "fillmode": "overlay",
              "size": 10,
              "solidity": 0.2
             }
            },
            "type": "histogram"
           }
          ],
          "histogram2d": [
           {
            "colorbar": {
             "outlinewidth": 0,
             "ticks": ""
            },
            "colorscale": [
             [
              0,
              "#0d0887"
             ],
             [
              0.1111111111111111,
              "#46039f"
             ],
             [
              0.2222222222222222,
              "#7201a8"
             ],
             [
              0.3333333333333333,
              "#9c179e"
             ],
             [
              0.4444444444444444,
              "#bd3786"
             ],
             [
              0.5555555555555556,
              "#d8576b"
             ],
             [
              0.6666666666666666,
              "#ed7953"
             ],
             [
              0.7777777777777778,
              "#fb9f3a"
             ],
             [
              0.8888888888888888,
              "#fdca26"
             ],
             [
              1,
              "#f0f921"
             ]
            ],
            "type": "histogram2d"
           }
          ],
          "histogram2dcontour": [
           {
            "colorbar": {
             "outlinewidth": 0,
             "ticks": ""
            },
            "colorscale": [
             [
              0,
              "#0d0887"
             ],
             [
              0.1111111111111111,
              "#46039f"
             ],
             [
              0.2222222222222222,
              "#7201a8"
             ],
             [
              0.3333333333333333,
              "#9c179e"
             ],
             [
              0.4444444444444444,
              "#bd3786"
             ],
             [
              0.5555555555555556,
              "#d8576b"
             ],
             [
              0.6666666666666666,
              "#ed7953"
             ],
             [
              0.7777777777777778,
              "#fb9f3a"
             ],
             [
              0.8888888888888888,
              "#fdca26"
             ],
             [
              1,
              "#f0f921"
             ]
            ],
            "type": "histogram2dcontour"
           }
          ],
          "mesh3d": [
           {
            "colorbar": {
             "outlinewidth": 0,
             "ticks": ""
            },
            "type": "mesh3d"
           }
          ],
          "parcoords": [
           {
            "line": {
             "colorbar": {
              "outlinewidth": 0,
              "ticks": ""
             }
            },
            "type": "parcoords"
           }
          ],
          "pie": [
           {
            "automargin": true,
            "type": "pie"
           }
          ],
          "scatter": [
           {
            "fillpattern": {
             "fillmode": "overlay",
             "size": 10,
             "solidity": 0.2
            },
            "type": "scatter"
           }
          ],
          "scatter3d": [
           {
            "line": {
             "colorbar": {
              "outlinewidth": 0,
              "ticks": ""
             }
            },
            "marker": {
             "colorbar": {
              "outlinewidth": 0,
              "ticks": ""
             }
            },
            "type": "scatter3d"
           }
          ],
          "scattercarpet": [
           {
            "marker": {
             "colorbar": {
              "outlinewidth": 0,
              "ticks": ""
             }
            },
            "type": "scattercarpet"
           }
          ],
          "scattergeo": [
           {
            "marker": {
             "colorbar": {
              "outlinewidth": 0,
              "ticks": ""
             }
            },
            "type": "scattergeo"
           }
          ],
          "scattergl": [
           {
            "marker": {
             "colorbar": {
              "outlinewidth": 0,
              "ticks": ""
             }
            },
            "type": "scattergl"
           }
          ],
          "scattermap": [
           {
            "marker": {
             "colorbar": {
              "outlinewidth": 0,
              "ticks": ""
             }
            },
            "type": "scattermap"
           }
          ],
          "scattermapbox": [
           {
            "marker": {
             "colorbar": {
              "outlinewidth": 0,
              "ticks": ""
             }
            },
            "type": "scattermapbox"
           }
          ],
          "scatterpolar": [
           {
            "marker": {
             "colorbar": {
              "outlinewidth": 0,
              "ticks": ""
             }
            },
            "type": "scatterpolar"
           }
          ],
          "scatterpolargl": [
           {
            "marker": {
             "colorbar": {
              "outlinewidth": 0,
              "ticks": ""
             }
            },
            "type": "scatterpolargl"
           }
          ],
          "scatterternary": [
           {
            "marker": {
             "colorbar": {
              "outlinewidth": 0,
              "ticks": ""
             }
            },
            "type": "scatterternary"
           }
          ],
          "surface": [
           {
            "colorbar": {
             "outlinewidth": 0,
             "ticks": ""
            },
            "colorscale": [
             [
              0,
              "#0d0887"
             ],
             [
              0.1111111111111111,
              "#46039f"
             ],
             [
              0.2222222222222222,
              "#7201a8"
             ],
             [
              0.3333333333333333,
              "#9c179e"
             ],
             [
              0.4444444444444444,
              "#bd3786"
             ],
             [
              0.5555555555555556,
              "#d8576b"
             ],
             [
              0.6666666666666666,
              "#ed7953"
             ],
             [
              0.7777777777777778,
              "#fb9f3a"
             ],
             [
              0.8888888888888888,
              "#fdca26"
             ],
             [
              1,
              "#f0f921"
             ]
            ],
            "type": "surface"
           }
          ],
          "table": [
           {
            "cells": {
             "fill": {
              "color": "#EBF0F8"
             },
             "line": {
              "color": "white"
             }
            },
            "header": {
             "fill": {
              "color": "#C8D4E3"
             },
             "line": {
              "color": "white"
             }
            },
            "type": "table"
           }
          ]
         },
         "layout": {
          "annotationdefaults": {
           "arrowcolor": "#2a3f5f",
           "arrowhead": 0,
           "arrowwidth": 1
          },
          "autotypenumbers": "strict",
          "coloraxis": {
           "colorbar": {
            "outlinewidth": 0,
            "ticks": ""
           }
          },
          "colorscale": {
           "diverging": [
            [
             0,
             "#8e0152"
            ],
            [
             0.1,
             "#c51b7d"
            ],
            [
             0.2,
             "#de77ae"
            ],
            [
             0.3,
             "#f1b6da"
            ],
            [
             0.4,
             "#fde0ef"
            ],
            [
             0.5,
             "#f7f7f7"
            ],
            [
             0.6,
             "#e6f5d0"
            ],
            [
             0.7,
             "#b8e186"
            ],
            [
             0.8,
             "#7fbc41"
            ],
            [
             0.9,
             "#4d9221"
            ],
            [
             1,
             "#276419"
            ]
           ],
           "sequential": [
            [
             0,
             "#0d0887"
            ],
            [
             0.1111111111111111,
             "#46039f"
            ],
            [
             0.2222222222222222,
             "#7201a8"
            ],
            [
             0.3333333333333333,
             "#9c179e"
            ],
            [
             0.4444444444444444,
             "#bd3786"
            ],
            [
             0.5555555555555556,
             "#d8576b"
            ],
            [
             0.6666666666666666,
             "#ed7953"
            ],
            [
             0.7777777777777778,
             "#fb9f3a"
            ],
            [
             0.8888888888888888,
             "#fdca26"
            ],
            [
             1,
             "#f0f921"
            ]
           ],
           "sequentialminus": [
            [
             0,
             "#0d0887"
            ],
            [
             0.1111111111111111,
             "#46039f"
            ],
            [
             0.2222222222222222,
             "#7201a8"
            ],
            [
             0.3333333333333333,
             "#9c179e"
            ],
            [
             0.4444444444444444,
             "#bd3786"
            ],
            [
             0.5555555555555556,
             "#d8576b"
            ],
            [
             0.6666666666666666,
             "#ed7953"
            ],
            [
             0.7777777777777778,
             "#fb9f3a"
            ],
            [
             0.8888888888888888,
             "#fdca26"
            ],
            [
             1,
             "#f0f921"
            ]
           ]
          },
          "colorway": [
           "#636efa",
           "#EF553B",
           "#00cc96",
           "#ab63fa",
           "#FFA15A",
           "#19d3f3",
           "#FF6692",
           "#B6E880",
           "#FF97FF",
           "#FECB52"
          ],
          "font": {
           "color": "#2a3f5f"
          },
          "geo": {
           "bgcolor": "white",
           "lakecolor": "white",
           "landcolor": "#E5ECF6",
           "showlakes": true,
           "showland": true,
           "subunitcolor": "white"
          },
          "hoverlabel": {
           "align": "left"
          },
          "hovermode": "closest",
          "mapbox": {
           "style": "light"
          },
          "paper_bgcolor": "white",
          "plot_bgcolor": "#E5ECF6",
          "polar": {
           "angularaxis": {
            "gridcolor": "white",
            "linecolor": "white",
            "ticks": ""
           },
           "bgcolor": "#E5ECF6",
           "radialaxis": {
            "gridcolor": "white",
            "linecolor": "white",
            "ticks": ""
           }
          },
          "scene": {
           "xaxis": {
            "backgroundcolor": "#E5ECF6",
            "gridcolor": "white",
            "gridwidth": 2,
            "linecolor": "white",
            "showbackground": true,
            "ticks": "",
            "zerolinecolor": "white"
           },
           "yaxis": {
            "backgroundcolor": "#E5ECF6",
            "gridcolor": "white",
            "gridwidth": 2,
            "linecolor": "white",
            "showbackground": true,
            "ticks": "",
            "zerolinecolor": "white"
           },
           "zaxis": {
            "backgroundcolor": "#E5ECF6",
            "gridcolor": "white",
            "gridwidth": 2,
            "linecolor": "white",
            "showbackground": true,
            "ticks": "",
            "zerolinecolor": "white"
           }
          },
          "shapedefaults": {
           "line": {
            "color": "#2a3f5f"
           }
          },
          "ternary": {
           "aaxis": {
            "gridcolor": "white",
            "linecolor": "white",
            "ticks": ""
           },
           "baxis": {
            "gridcolor": "white",
            "linecolor": "white",
            "ticks": ""
           },
           "bgcolor": "#E5ECF6",
           "caxis": {
            "gridcolor": "white",
            "linecolor": "white",
            "ticks": ""
           }
          },
          "title": {
           "x": 0.05
          },
          "xaxis": {
           "automargin": true,
           "gridcolor": "white",
           "linecolor": "white",
           "ticks": "",
           "title": {
            "standoff": 15
           },
           "zerolinecolor": "white",
           "zerolinewidth": 2
          },
          "yaxis": {
           "automargin": true,
           "gridcolor": "white",
           "linecolor": "white",
           "ticks": "",
           "title": {
            "standoff": 15
           },
           "zerolinecolor": "white",
           "zerolinewidth": 2
          }
         }
        },
        "title": {
         "text": "Optimization History Plot"
        },
        "xaxis": {
         "title": {
          "text": "Trial"
         }
        },
        "yaxis": {
         "title": {
          "text": "Objective Value"
         }
        }
       }
      }
     },
     "metadata": {},
     "output_type": "display_data"
    }
   ],
   "source": [
    "# Mostrar chart com trials do Optuna\n",
    "fig = optuna.visualization.plot_optimization_history(estudo_ag)\n",
    "fig.show()"
   ]
  },
  {
   "cell_type": "code",
   "execution_count": 46,
   "id": "e4051f76",
   "metadata": {},
   "outputs": [],
   "source": [
    "# Treinar modelo com Scipy\n",
    "modelo_de = linkage(X_transformed.toarray(), method=best_params_ag['linkage'], optimal_ordering=True)"
   ]
  },
  {
   "cell_type": "code",
   "execution_count": 53,
   "id": "1c673484",
   "metadata": {},
   "outputs": [
    {
     "data": {
      "image/png": "[encoded data removed]",
      "text/plain": [
       "<Figure size 2000x1200 with 1 Axes>"
      ]
     },
     "metadata": {},
     "output_type": "display_data"
    }
   ],
   "source": [
    "# Mostrar dendrograma\n",
    "plt.figure(figsize=(20, 12))\n",
    "dendrogram(modelo_de, truncate_mode='lastp', p=50, leaf_rotation=90, leaf_font_size=10, labels=df_laptops['cluster'].values)\n",
    "plt.title('Dendrograma - Hierarchical Agglomerative Clustering')\n",
    "plt.xlabel('Tamanho do cluster ou objeto do dado')\n",
    "plt.ylabel('Distância')\n",
    "plt.show()"
   ]
  },
  {
   "cell_type": "code",
   "execution_count": 56,
   "id": "2070bd0a",
   "metadata": {},
   "outputs": [
    {
     "data": {
      "text/plain": [
       "5"
      ]
     },
     "execution_count": 56,
     "metadata": {},
     "output_type": "execute_result"
    }
   ],
   "source": [
    "# Cortar o dendograma para obter os clusters\n",
    "clusters_de_scipy = cut_tree(modelo_de, height=32)\n",
    "len(np.unique(clusters_de_scipy))"
   ]
  },
  {
   "cell_type": "code",
   "execution_count": 59,
   "id": "b8a87e55",
   "metadata": {},
   "outputs": [
    {
     "data": {
      "application/vnd.plotly.v1+json": {
       "config": {
        "plotlyServerURL": "https://plot.ly"
       },
       "data": [
        {
         "hovertemplate": "brand=tecno<br>cluster=%{x}<br>price=%{y}<extra></extra>",
         "legendgroup": "tecno",
         "marker": {
          "color": "#636efa",
          "symbol": "circle"
         },
         "mode": "markers",
         "name": "tecno",
         "orientation": "v",
         "showlegend": true,
         "type": "scatter",
         "x": {
          "bdata": "SSw=",
          "dtype": "i1"
         },
         "xaxis": "x",
         "y": {
          "bdata": "7FG4HoX7cUAK16NwPfp6QA==",
          "dtype": "f8"
         },
         "yaxis": "y"
        },
        {
         "hovertemplate": "brand=hp<br>cluster=%{x}<br>price=%{y}<extra></extra>",
         "legendgroup": "hp",
         "marker": {
          "color": "#EF553B",
          "symbol": "circle"
         },
         "mode": "markers",
         "name": "hp",
         "orientation": "v",
         "showlegend": true,
         "type": "scatter",
         "x": {
          "bdata": "HABfABgAIAAjAEgAVABUACYAHABIACYAIAALAHkAGwAmACYABQATAAsAhwAUAAsACwCHABwAQAAQAIsAiwBJAEAAAQAGABMAeQAGAF8ABQATACMAQAAUABkASAB/ACYAGACFAHkAVAAcAAQAXwBUABkAiwAcADkAIAAcACYAXwAJAAkAfgALAFQASQCHAC0AOQA4AEAASwBwAHkASwANAEgAcABfACYASAAmACkAHQCHAFYAGAABAB4AOwBfAH8ALgBwABkAHAAJAIsAGQAQACkAKQCQAAsAiwAeACAAHgAmAB0AHgAcAA0AJgAcAAkASQAKACAAHgB+ACoABAAkABQAJgAQACYACgAkACMAhQBUAFQAeQB5AHkAVAAwABIADQAJAEgAVAAwADgAEgAZADAAOAApAEgAeQATACMAfwAgADkAVAAcADgAIAAQAAsAVAAJACYAhwBUAIsAhwAJAFQAhwBfAJMAXwBfAIcACwAqAH8AHgBfACYACwAQABEABgApACgAOgBAACkALQB2ACQAiwAtADoAJAA=",
          "dtype": "i2"
         },
         "xaxis": "x",
         "y": {
          "bdata": "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",
          "dtype": "f8"
         },
         "yaxis": "y"
        },
        {
         "hovertemplate": "brand=acer<br>cluster=%{x}<br>price=%{y}<extra></extra>",
         "legendgroup": "acer",
         "marker": {
          "color": "#00cc96",
          "symbol": "circle"
         },
         "mode": "markers",
         "name": "acer",
         "orientation": "v",
         "showlegend": true,
         "type": "scatter",
         "x": {
          "bdata": "NQAvABkABAAxAC8AkwAxAC8AggAeAB4AiQAuAIgADQBoADEAWQAvAGEACgCJACEAiQAsAC4AIQAhACEALAA1AHQAeAAvAIIALAAvACQABAAEAIkALwCCAGoAagA4AE4AggCIACAAggAEAC8AMQCJAIgAiQAuAC8AagBqAIkALgA1AGsAIQA7ABIAGwBZAGkAOwA7AIIAEQAgADcAIACCAIkAOABOAB0AiAAvAIgACwALAA==",
          "dtype": "i2"
         },
         "xaxis": "x",
         "y": {
          "bdata": "Urgehev5fUB7FK5H4TqNQMP1KFyPnIFAZmZmZmY6ekDD9Shcj7p4QAAAAAAAXIVArkfhehR6fEBI4XoUrpt9QAAAAAAAzZFAFK5H4Xr8gUCPwvUoXHyWQPYoXI/CrJNAexSuR+E6d0BSuB6F6zl9QMP1KFyPunhAMzMzMzNbi0B7FK5HYd2gQB+F61G4+ndAexSuR+F6dkCkcD0K19uGQAAAAAAAXIVAj8L1KFx8lkAzMzMzM/t0QMP1KFyPnIFAexSuR+F6dkDsUbgehW2BQGZmZmZmvIJA7FG4HoXdgECamZmZmR2AQMP1KFyPnIFAw/UoXI9sgUAAAAAAAFyFQD0K16Nw1X1A7FG4HoX7cUDD9Shcj/yHQOxRuB6Fu4hAZmZmZma8gkBSuB6F6x+HQI/C9ShcG3NAUrgehev5fUBmZmZmZjp6QM3MzMzMHIBAAAAAAABchUAK16NwPdyDQArXo3A9untAmpmZmZl5f0D2KFyPwhl/QOF6FK5H+51AuB6F61FMiUAK16NwPfp6QK5H4XoUXJhAUrgehetLjECamZmZmXl/QDMzMzMz+4pAFK5H4XoUd0ApXI/C9Xh2QNejcD0KG3ZAzczMzMwcgED2KFyPwrl+QFyPwvUonIRAj8L1KFyneEDNzMzMzLx1QFK4HoXr+X1AZmZmZma8gkAfhetRuNaFQK5H4XoULIVAPQrXo3DzhEBmZmZmZt+aQFK4HoXrG4ZAXI/C9SjMmkBSuB6F6/l9QPYoXI/ClXtAXI/C9Sitk0AUrkfheoyVQNejcD0K3YBAXI/C9SitkECPwvUoXNuJQOxRuB6Fv6JAj8L1KFwxjUBxPQrXozyBQMP1KFyPunhAUrgehesNeEDXo3A9ilWhQClcj8J1bKdAMzMzMzP7dECkcD0K16uMQHsUrkfhenZACtejcD3ciUAAAAAAAEyMQA==",
          "dtype": "f8"
         },
         "yaxis": "y"
        },
        {
         "hovertemplate": "brand=lenovo<br>cluster=%{x}<br>price=%{y}<extra></extra>",
         "legendgroup": "lenovo",
         "marker": {
          "color": "#ab63fa",
          "symbol": "circle"
         },
         "mode": "markers",
         "name": "lenovo",
         "orientation": "v",
         "showlegend": true,
         "type": "scatter",
         "x": {
          "bdata": "DgAEAGsADgCUAHIAUgAOAA4AhAByAFIAVgBvAJIAhACUAA4AUgAbABEAMgAnAIQAgABvAG8AbwBLADAAUgARAHIAaQAWAGsAAABaAA4ARwAAAGsABQAFAFoAQgAWAD0AMgByADIAWgAdAEYAPgBDAA4AUgAOAJQAMgA9ADIABQAzABsAMgCUADMADgAzABEAHQARADMAXAAOADMAUgAOAJQADgAyADIAUgAjADAAkgBrAFIAPgBJAAQAlABEAD4AYwBcAHIAlABvAAAAPQBcAIQASQAzAAQAPgAZAGsAUgBrAAAAMwA+AA4AkwBLAFIAlAAFAIAASQAzAAQAgAAzADMASQA+AJMAMwBvAG8AcgByAHIAOgCAAD4APgAOAD4AaQAAADIADgAnAEYAOQBSAHIAPgCSAJIAMgCEADIASQBvAEMAAABaAA4AWgAJAAUADgAAAA4ADgAuAFIAAACSAA4AAAAEAEYAQwAEAJIAMgByAGEAQgBCAEMARwAOAA4ASQBSAEsAjQAKAEMAQwBLABkA",
          "dtype": "i2"
         },
         "xaxis": "x",
         "y": {
          "bdata": "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",
          "dtype": "f8"
         },
         "yaxis": "y"
        },
        {
         "hovertemplate": "brand=apple<br>cluster=%{x}<br>price=%{y}<extra></extra>",
         "legendgroup": "apple",
         "marker": {
          "color": "#FFA15A",
          "symbol": "circle"
         },
         "mode": "markers",
         "name": "apple",
         "orientation": "v",
         "showlegend": true,
         "type": "scatter",
         "x": {
          "bdata": "cQCOAHEAWABxAGUAZQBnAFgAWABxAHEAdwB3AFgA",
          "dtype": "i2"
         },
         "xaxis": "x",
         "y": {
          "bdata": "4XoUrkebikBcj8L1KLyyQM3MzMzMTJNAj8L1KFx8lkCamZmZmZyUQPYoXI/CKatACtejcH1ksEDNzMzMTGqnQClcj8L1uqJASOF6FK4rm0AAAAAAAOyYQHsUrkfhq5lArkfhehTLoUBSuB6Fa3qmQB+F61G41p9A",
          "dtype": "f8"
         },
         "yaxis": "y"
        },
        {
         "hovertemplate": "brand=infinix<br>cluster=%{x}<br>price=%{y}<extra></extra>",
         "legendgroup": "infinix",
         "marker": {
          "color": "#19d3f3",
          "symbol": "circle"
         },
         "mode": "markers",
         "name": "infinix",
         "orientation": "v",
         "showlegend": true,
         "type": "scatter",
         "x": {
          "bdata": "BFNKWUosUzVrWUo1Lg==",
          "dtype": "i1"
         },
         "xaxis": "x",
         "y": {
          "bdata": "ZmZmZmY6ekCkcD0K13uGQHsUrkfhenZAMzMzMzP7dEAzMzMzMzt0QArXo3A9+npAAAAAAAC8hUBSuB6F6zl9QBSuR+F6XIJAj8L1KFx7c0CPwvUoXLtyQHE9Ctej3IBAUrgehes5fUA=",
          "dtype": "f8"
         },
         "yaxis": "y"
        },
        {
         "hovertemplate": "brand=asus<br>cluster=%{x}<br>price=%{y}<extra></extra>",
         "legendgroup": "asus",
         "marker": {
          "color": "#FF6692",
          "symbol": "circle"
         },
         "mode": "markers",
         "name": "asus",
         "orientation": "v",
         "showlegend": true,
         "type": "scatter",
         "x": {
          "bdata": "EwAlABQADwBKAEAAAwCDAB0AKwAfAC4AHgADAA0AHwAuAB8AHwADAFUAEwCBAIEAegBzAGMAgwBdACUASgAfAAQAYABkAAIAAwANAAMAAwADABMAHwALAFkAHwAlABcATgBOAAoADwADACsAPgA0ACgAXQAlAJMAJQBKAAkAEQACAAIAYAAwAHQAAwB8AFUAKwBpACsADwACABkARABEABQAKwAQAHQABAAfAGAAYAAUAAoAAwACAAIAAgBdAAIAAwADAAMAAwBdAFUAMAADAFUACgA4AF0AAwBVAFUASgAfAEIAXQADAAMAVQAbAFUATwAfAB8AAwAfAA8AAwBPABUADwBhAFUAKABKAEIABABAAFYAXQARAB4AIgAXAAoAEQAUAFUAIgBPABcAJQB7AAoAHwADAIwANAAKAGEAgQAbAHsABAAQAF0AjACTAFkADQANAIEADQAfAAkAXQA4AA8AGQAfAB8AHwA4ADgADQAfAA0ADQAfAB8AXQAJAF0APQA5AGAAkwBzADcAMAASADAAVQAdADkAVgB0ACUAVQBAAHMA",
          "dtype": "i2"
         },
         "xaxis": "x",
         "y": {
          "bdata": "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",
          "dtype": "f8"
         },
         "yaxis": "y"
        },
        {
         "hovertemplate": "brand=dell<br>cluster=%{x}<br>price=%{y}<extra></extra>",
         "legendgroup": "dell",
         "marker": {
          "color": "#B6E880",
          "symbol": "circle"
         },
         "mode": "markers",
         "name": "dell",
         "orientation": "v",
         "showlegend": true,
         "type": "scatter",
         "x": {
          "bdata": "WwBQAFAAOQAFADQADwAUAHoAaABbACoAFABmAGsAEgBeAD8AigBOAGYAQQBbAF4AQQAUAFsAQQBBAFsAWwBrAA8ADwBmACoABQAqAFsABQAaAD8AWwBMAGYATAA/AIYAQQAFAEEAWwBMAGMATABGAI8AEgAdABcAfQBsAIYABQA/AIYAZgBeAF4AWwBmAGYARwBQAAwAdQBmAHsANAAPABsANwBeAF4AWwBeAF4AQQBBAFAAiQBOAFAAUAB6ACIAGwAMAAwAWwAuADkAZgAPAF4AUAA=",
          "dtype": "i2"
         },
         "xaxis": "x",
         "y": {
          "bdata": "ZmZmZmY6ekCPwvUoXJOJQOxRuB6Fd45AFK5H4Xq4fUAK16NwPTWQQDMzMzMzK4tAj8L1KFy9gkDD9Shcj3qPQI/C9Shc24lAmpmZmZnTm0CuR+F6FHp8QOxRuB6Fu4hAKVyPwvUKjUBSuB6F62l9QPYoXI/CeYVAuB6F61Ecg0AK16NwPTyKQLgehetRkINAMzMzMzN9kEAAAAAAAImjQBSuR+F6iHtACtejcD1yhkBmZmZmZjp6QAAAAAAAfJxAXI/C9SitkEAfhetRuMSTQAAAAAAATINAAAAAAABchUD2KFyPwjuHQIXrUbgef4lASOF6FK4dhUA9CtejcFGFQAAAAAAAXIVAuB6F61Ecg0BSuB6F6zl9QOxRuB6Fu4hAZmZmZmakkkCkcD0K13uGQK5H4XoUGnxACtejcD0dkEBxPQrXo+ukQIXrUbgeMYFAexSuR+G+fEBSuB6F64ySQMP1KFyPunhAMzMzMzNlkEAUrkfhevyBQClcj8L1Co1AH4XrUbgOf0CamZmZmVuQQKRwPQrXq4ZArkfhehTye0DD9Shcj6qPQI/C9ShcIKhAAAAAAAD9kUAzMzMzM9OGQHsUrkfhSrVApHA9CtdxiUAUrkfheluuQPYoXI9CtaFAZmZmZuYgtUDNzMzMzBusQMP1KFyPjIhAhetRuB67i0DsUbgehXN9QKRwPQrXe4ZAH4XrUbhWf0AzMzMzM32QQIXrUbge9ZBA9ihcj8K5fkBSuB6F61+AQK5H4XoU/IRAFK5H4Xr8gUAAAAAAAN6NQMP1KFwPMKpAmpmZmRntokDD9Shcj6Z+QNejcD0KQaNASOF6FK7IkUD2KFyPwjuHQI/C9Shcm51AhetRuB4zn0B7FK5H4aSSQEjhehSu/Y1AzczMzMwcgEBI4XoUrqyQQDMzMzMz+4pAhetRuB67i0D2KFyPwjuHQClcj8L1+ZtA9ihcj8IdgEDhehSuR52hQJqZmZmZnJRArkfhehRcmEC4HoXrUYKOQOF6FK7HIKVApHA9Cte0pEDD9ShcTzOyQD0K16NwQ7FAFK5H4Xr8gUC4HoXrUXyDQK5H4XoU2nxAcT0K16PcgEA9CtejcPOEQHE9CtejaZZAMzMzMzN9kEA=",
          "dtype": "f8"
         },
         "yaxis": "y"
        },
        {
         "hovertemplate": "brand=samsung<br>cluster=%{x}<br>price=%{y}<extra></extra>",
         "legendgroup": "samsung",
         "marker": {
          "color": "#FF97FF",
          "symbol": "circle"
         },
         "mode": "markers",
         "name": "samsung",
         "orientation": "v",
         "showlegend": true,
         "type": "scatter",
         "x": {
          "bdata": "Ng9rD2sPNg==",
          "dtype": "i1"
         },
         "xaxis": "x",
         "y": {
          "bdata": "mpmZmZlbiEBxPQrXo9yAQBSuR+F6/IFAj8L1KFw7ikDXo3A9CnuMQFyPwvUonIRAPQrXo3DslUA=",
          "dtype": "f8"
         },
         "yaxis": "y"
        },
        {
         "hovertemplate": "brand=msi<br>cluster=%{x}<br>price=%{y}<extra></extra>",
         "legendgroup": "msi",
         "marker": {
          "color": "#FECB52",
          "symbol": "circle"
         },
         "mode": "markers",
         "name": "msi",
         "orientation": "v",
         "showlegend": true,
         "type": "scatter",
         "x": {
          "bdata": "BwAVAFkABwAHABoACwAEADUAFQATABUALgA1AAcALgAHAAcAEgAVADsAFQAbAFEARQAaAAcABwAVAAcAVwAbAFcAEwAHAAcAVwAbAB0ANQAxAAoAYQAHABMABwBFAAsAFwBFABcAEwAXAEUAAAATABIAegAVAGIAFQATABUANwAVABUALgAuAAEABwAVADcAAQAbABUARQCTAJMAOQAAADUAbgAVAG4AawA1ADUAAAAVAAcA",
          "dtype": "i2"
         },
         "xaxis": "x",
         "y": {
          "bdata": "CtejcD3cg0CPwvUoXAeJQMP1KFyP8npAj8L1KFw7ikBcj8L1KJyEQNejcD0KG4xAZmZmZma8gkCamZmZmXl/QFyPwvUonIRA9ihcj8I7h0AK16NwPdyDQEjhehSum4dAUrgehev5fUBcj8L1KDyEQAAAAAAAXIVACtejcD26e0A9CtejcHuJQJqZmZmZi4hAH4XrUbh8gEAfhetRuNyTQMP1KFyPeo9ArkfhehTeiECF61G4Hr2iQFyPwvXoFLVAzczMzMz6jUC4HoXrUWuiQEjhehSum4dAAAAAAADNkUApXI/C9SySQPYoXI/CrJNAw/UoXI8bnEDD9ShcjxucQBSuR+F6jJVArkfhehT8hEBSuB6F6xuGQK5H4XoU/IRAhetRuB69okCPwvUoXHyWQM3MzMzMG6xAH4XrUbi6jkAK16NwPbp7QOF6FK5H4J1AXI/C9SjdkECF61G4HruLQBSuR+F6/IFAw/UoXI/8lEAAAAAAALyFQFyPwvUonIRA9ihcj8Ksk0DXo3A9ChuMQAAAAAAAzZFAuB6F61Ecg0AAAAAAAM2RQMP1KFyP2o9ApHA9CtfbhkC4HoXrUXyDQArXo3A93INArkfhehQ9kUAzMzMzM32QQMP1KFwPPKpAKVyPwvXajEAzMzMzM1uLQArXo3A9TZBAKVyPwnVsp0BI4XoUrvuHQClcj8L1LJJAH4XrUbi6jkCPwvUoXDuKQLgehetRdKhAzczMzMxuiEAzMzMzM1uLQI/C9SjcnKRAZmZmZuY8pEAUrkfheh2gQI/C9ShcO4pA9ihcj8I7h0AfhetRuHyAQBSuR+F6XIJAmpmZmZl5f0CuR+F6FHp8QMP1KFyPzIFArkfhehRtkUBxPQrXoxqPQD0K16NwYJBArkfhehT2gkCkcD0K19uGQFyPwvUoPIRA9ihcj8K5fkCPwvUoXHyWQK5H4XoUPZFA",
          "dtype": "f8"
         },
         "yaxis": "y"
        },
        {
         "hovertemplate": "brand=wings<br>cluster=%{x}<br>price=%{y}<extra></extra>",
         "legendgroup": "wings",
         "marker": {
          "color": "#636efa",
          "symbol": "circle"
         },
         "mode": "markers",
         "name": "wings",
         "orientation": "v",
         "showlegend": true,
         "type": "scatter",
         "x": {
          "bdata": "CAgICA==",
          "dtype": "i1"
         },
         "xaxis": "x",
         "y": {
          "bdata": "MzMzMzP7dEBSuB6F6/l9QI/C9Shcu3JAMzMzMzM7dEA=",
          "dtype": "f8"
         },
         "yaxis": "y"
        },
        {
         "hovertemplate": "brand=ultimus<br>cluster=%{x}<br>price=%{y}<extra></extra>",
         "legendgroup": "ultimus",
         "marker": {
          "color": "#EF553B",
          "symbol": "circle"
         },
         "mode": "markers",
         "name": "ultimus",
         "orientation": "v",
         "showlegend": true,
         "type": "scatter",
         "x": {
          "bdata": "WScnJydZ",
          "dtype": "i1"
         },
         "xaxis": "x",
         "y": {
          "bdata": "AAAAAAD4bUBxPQrXo/hnQJqZmZmZ+WFAKVyPwvV4ZkBxPQrXo7hoQM3MzMzMLHFA",
          "dtype": "f8"
         },
         "yaxis": "y"
        },
        {
         "hovertemplate": "brand=primebook<br>cluster=%{x}<br>price=%{y}<extra></extra>",
         "legendgroup": "primebook",
         "marker": {
          "color": "#00cc96",
          "symbol": "circle"
         },
         "mode": "markers",
         "name": "primebook",
         "orientation": "v",
         "showlegend": true,
         "type": "scatter",
         "x": {
          "bdata": "PDw=",
          "dtype": "i1"
         },
         "xaxis": "x",
         "y": {
          "bdata": "KVyPwvV4ZkDhehSuR3ljQA==",
          "dtype": "f8"
         },
         "yaxis": "y"
        },
        {
         "hovertemplate": "brand=iball<br>cluster=%{x}<br>price=%{y}<extra></extra>",
         "legendgroup": "iball",
         "marker": {
          "color": "#ab63fa",
          "symbol": "circle"
         },
         "mode": "markers",
         "name": "iball",
         "orientation": "v",
         "showlegend": true,
         "type": "scatter",
         "x": {
          "bdata": "aQ==",
          "dtype": "i1"
         },
         "xaxis": "x",
         "y": {
          "bdata": "w/UoXI9iXUA=",
          "dtype": "f8"
         },
         "yaxis": "y"
        },
        {
         "hovertemplate": "brand=zebronics<br>cluster=%{x}<br>price=%{y}<extra></extra>",
         "legendgroup": "zebronics",
         "marker": {
          "color": "#FFA15A",
          "symbol": "circle"
         },
         "mode": "markers",
         "name": "zebronics",
         "orientation": "v",
         "showlegend": true,
         "type": "scatter",
         "x": {
          "bdata": "MQQZMSExIQ==",
          "dtype": "i1"
         },
         "xaxis": "x",
         "y": {
          "bdata": "w/UoXI96eUDD9Shcj7p4QArXo3A93INAexSuR+F6dkBSuB6F6/l9QMP1KFyPunhAuB6F61Ecg0A=",
          "dtype": "f8"
         },
         "yaxis": "y"
        },
        {
         "hovertemplate": "brand=chuwi<br>cluster=%{x}<br>price=%{y}<extra></extra>",
         "legendgroup": "chuwi",
         "marker": {
          "color": "#19d3f3",
          "symbol": "circle"
         },
         "mode": "markers",
         "name": "chuwi",
         "orientation": "v",
         "showlegend": true,
         "type": "scatter",
         "x": {
          "bdata": "bVlZbQ==",
          "dtype": "i1"
         },
         "xaxis": "x",
         "y": {
          "bdata": "w/UoXI+6eECPwvUoXLtyQEjhehSue3BAZmZmZmY6ekA=",
          "dtype": "f8"
         },
         "yaxis": "y"
        },
        {
         "hovertemplate": "brand=gigabyte<br>cluster=%{x}<br>price=%{y}<extra></extra>",
         "legendgroup": "gigabyte",
         "marker": {
          "color": "#FF6692",
          "symbol": "circle"
         },
         "mode": "markers",
         "name": "gigabyte",
         "orientation": "v",
         "showlegend": true,
         "type": "scatter",
         "x": {
          "bdata": "L3o=",
          "dtype": "i1"
         },
         "xaxis": "x",
         "y": {
          "bdata": "MzMzMzP7ikBcj8L1KN2QQA==",
          "dtype": "f8"
         },
         "yaxis": "y"
        },
        {
         "hovertemplate": "brand=jio<br>cluster=%{x}<br>price=%{y}<extra></extra>",
         "legendgroup": "jio",
         "marker": {
          "color": "#B6E880",
          "symbol": "circle"
         },
         "mode": "markers",
         "name": "jio",
         "orientation": "v",
         "showlegend": true,
         "type": "scatter",
         "x": {
          "bdata": "PA==",
          "dtype": "i1"
         },
         "xaxis": "x",
         "y": {
          "bdata": "UrgehesJZkA=",
          "dtype": "f8"
         },
         "yaxis": "y"
        },
        {
         "hovertemplate": "brand=honor<br>cluster=%{x}<br>price=%{y}<extra></extra>",
         "legendgroup": "honor",
         "marker": {
          "color": "#FF97FF",
          "symbol": "circle"
         },
         "mode": "markers",
         "name": "honor",
         "orientation": "v",
         "showlegend": true,
         "type": "scatter",
         "x": {
          "bdata": "CQCTAA==",
          "dtype": "i2"
         },
         "xaxis": "x",
         "y": {
          "bdata": "XI/C9SichEAfhetRuHyAQA==",
          "dtype": "f8"
         },
         "yaxis": "y"
        },
        {
         "hovertemplate": "brand=realme<br>cluster=%{x}<br>price=%{y}<extra></extra>",
         "legendgroup": "realme",
         "marker": {
          "color": "#FECB52",
          "symbol": "circle"
         },
         "mode": "markers",
         "name": "realme",
         "orientation": "v",
         "showlegend": true,
         "type": "scatter",
         "x": {
          "bdata": "CG0=",
          "dtype": "i1"
         },
         "xaxis": "x",
         "y": {
          "bdata": "CtejcD26e0DNzMzMzByAQA==",
          "dtype": "f8"
         },
         "yaxis": "y"
        },
        {
         "hovertemplate": "brand=avita<br>cluster=%{x}<br>price=%{y}<extra></extra>",
         "legendgroup": "avita",
         "marker": {
          "color": "#636efa",
          "symbol": "circle"
         },
         "mode": "markers",
         "name": "avita",
         "orientation": "v",
         "showlegend": true,
         "type": "scatter",
         "x": {
          "bdata": "MDAxfEI=",
          "dtype": "i1"
         },
         "xaxis": "x",
         "y": {
          "bdata": "cT0K16MIcEAfhetRuLJ4QK5H4XoUZnhAPQrXo3AdbUAzMzMzM3tvQA==",
          "dtype": "f8"
         },
         "yaxis": "y"
        },
        {
         "hovertemplate": "brand=microsoft<br>cluster=%{x}<br>price=%{y}<extra></extra>",
         "legendgroup": "microsoft",
         "marker": {
          "color": "#EF553B",
          "symbol": "circle"
         },
         "mode": "markers",
         "name": "microsoft",
         "orientation": "v",
         "showlegend": true,
         "type": "scatter",
         "x": {
          "bdata": "TU0=",
          "dtype": "i1"
         },
         "xaxis": "x",
         "y": {
          "bdata": "zczMzMz6jUApXI/C9USSQA==",
          "dtype": "f8"
         },
         "yaxis": "y"
        },
        {
         "hovertemplate": "brand=fujitsu<br>cluster=%{x}<br>price=%{y}<extra></extra>",
         "legendgroup": "fujitsu",
         "marker": {
          "color": "#00cc96",
          "symbol": "circle"
         },
         "mode": "markers",
         "name": "fujitsu",
         "orientation": "v",
         "showlegend": true,
         "type": "scatter",
         "x": {
          "bdata": "CQAJAG4ACQCEAA==",
          "dtype": "i2"
         },
         "xaxis": "x",
         "y": {
          "bdata": "hetRuB67i0CF61G4HruLQJqZmZmZnJRAexSuR+G8kkBmZmZmZiyFQA==",
          "dtype": "f8"
         },
         "yaxis": "y"
        },
        {
         "hovertemplate": "brand=lg<br>cluster=%{x}<br>price=%{y}<extra></extra>",
         "legendgroup": "lg",
         "marker": {
          "color": "#ab63fa",
          "symbol": "circle"
         },
         "mode": "markers",
         "name": "lg",
         "orientation": "v",
         "showlegend": true,
         "type": "scatter",
         "x": {
          "bdata": "NgAlAJEANgAlAA0ANAA=",
          "dtype": "i2"
         },
         "xaxis": "x",
         "y": {
          "bdata": "uB6F61GNkkDD9Shcj1iNQFK4HoXrk5xA16NwPQoYlkApXI/C9dOQQClcj8L1S5xAzczMzMw0lkA=",
          "dtype": "f8"
         },
         "yaxis": "y"
        },
        {
         "hovertemplate": "brand=walker<br>cluster=%{x}<br>price=%{y}<extra></extra>",
         "legendgroup": "walker",
         "marker": {
          "color": "#FFA15A",
          "symbol": "circle"
         },
         "mode": "markers",
         "name": "walker",
         "orientation": "v",
         "showlegend": true,
         "type": "scatter",
         "x": {
          "bdata": "fA==",
          "dtype": "i1"
         },
         "xaxis": "x",
         "y": {
          "bdata": "cT0K16P4Z0A=",
          "dtype": "f8"
         },
         "yaxis": "y"
        },
        {
         "hovertemplate": "brand=axl<br>cluster=%{x}<br>price=%{y}<extra></extra>",
         "legendgroup": "axl",
         "marker": {
          "color": "#19d3f3",
          "symbol": "circle"
         },
         "mode": "markers",
         "name": "axl",
         "orientation": "v",
         "showlegend": true,
         "type": "scatter",
         "x": {
          "bdata": "Qnw=",
          "dtype": "i1"
         },
         "xaxis": "x",
         "y": {
          "bdata": "uB6F61H4akApXI/C9XhmQA==",
          "dtype": "f8"
         },
         "yaxis": "y"
        }
       ],
       "layout": {
        "legend": {
         "title": {
          "text": "brand"
         },
         "tracegroupgap": 0
        },
        "margin": {
         "t": 60
        },
        "template": {
         "data": {
          "bar": [
           {
            "error_x": {
             "color": "#2a3f5f"
            },
            "error_y": {
             "color": "#2a3f5f"
            },
            "marker": {
             "line": {
              "color": "#E5ECF6",
              "width": 0.5
             },
             "pattern": {
              "fillmode": "overlay",
              "size": 10,
              "solidity": 0.2
             }
            },
            "type": "bar"
           }
          ],
          "barpolar": [
           {
            "marker": {
             "line": {
              "color": "#E5ECF6",
              "width": 0.5
             },
             "pattern": {
              "fillmode": "overlay",
              "size": 10,
              "solidity": 0.2
             }
            },
            "type": "barpolar"
           }
          ],
          "carpet": [
           {
            "aaxis": {
             "endlinecolor": "#2a3f5f",
             "gridcolor": "white",
             "linecolor": "white",
             "minorgridcolor": "white",
             "startlinecolor": "#2a3f5f"
            },
            "baxis": {
             "endlinecolor": "#2a3f5f",
             "gridcolor": "white",
             "linecolor": "white",
             "minorgridcolor": "white",
             "startlinecolor": "#2a3f5f"
            },
            "type": "carpet"
           }
          ],
          "choropleth": [
           {
            "colorbar": {
             "outlinewidth": 0,
             "ticks": ""
            },
            "type": "choropleth"
           }
          ],
          "contour": [
           {
            "colorbar": {
             "outlinewidth": 0,
             "ticks": ""
            },
            "colorscale": [
             [
              0,
              "#0d0887"
             ],
             [
              0.1111111111111111,
              "#46039f"
             ],
             [
              0.2222222222222222,
              "#7201a8"
             ],
             [
              0.3333333333333333,
              "#9c179e"
             ],
             [
              0.4444444444444444,
              "#bd3786"
             ],
             [
              0.5555555555555556,
              "#d8576b"
             ],
             [
              0.6666666666666666,
              "#ed7953"
             ],
             [
              0.7777777777777778,
              "#fb9f3a"
             ],
             [
              0.8888888888888888,
              "#fdca26"
             ],
             [
              1,
              "#f0f921"
             ]
            ],
            "type": "contour"
           }
          ],
          "contourcarpet": [
           {
            "colorbar": {
             "outlinewidth": 0,
             "ticks": ""
            },
            "type": "contourcarpet"
           }
          ],
          "heatmap": [
           {
            "colorbar": {
             "outlinewidth": 0,
             "ticks": ""
            },
            "colorscale": [
             [
              0,
              "#0d0887"
             ],
             [
              0.1111111111111111,
              "#46039f"
             ],
             [
              0.2222222222222222,
              "#7201a8"
             ],
             [
              0.3333333333333333,
              "#9c179e"
             ],
             [
              0.4444444444444444,
              "#bd3786"
             ],
             [
              0.5555555555555556,
              "#d8576b"
             ],
             [
              0.6666666666666666,
              "#ed7953"
             ],
             [
              0.7777777777777778,
              "#fb9f3a"
             ],
             [
              0.8888888888888888,
              "#fdca26"
             ],
             [
              1,
              "#f0f921"
             ]
            ],
            "type": "heatmap"
           }
          ],
          "histogram": [
           {
            "marker": {
             "pattern": {
              "fillmode": "overlay",
              "size": 10,
              "solidity": 0.2
             }
            },
            "type": "histogram"
           }
          ],
          "histogram2d": [
           {
            "colorbar": {
             "outlinewidth": 0,
             "ticks": ""
            },
            "colorscale": [
             [
              0,
              "#0d0887"
             ],
             [
              0.1111111111111111,
              "#46039f"
             ],
             [
              0.2222222222222222,
              "#7201a8"
             ],
             [
              0.3333333333333333,
              "#9c179e"
             ],
             [
              0.4444444444444444,
              "#bd3786"
             ],
             [
              0.5555555555555556,
              "#d8576b"
             ],
             [
              0.6666666666666666,
              "#ed7953"
             ],
             [
              0.7777777777777778,
              "#fb9f3a"
             ],
             [
              0.8888888888888888,
              "#fdca26"
             ],
             [
              1,
              "#f0f921"
             ]
            ],
            "type": "histogram2d"
           }
          ],
          "histogram2dcontour": [
           {
            "colorbar": {
             "outlinewidth": 0,
             "ticks": ""
            },
            "colorscale": [
             [
              0,
              "#0d0887"
             ],
             [
              0.1111111111111111,
              "#46039f"
             ],
             [
              0.2222222222222222,
              "#7201a8"
             ],
             [
              0.3333333333333333,
              "#9c179e"
             ],
             [
              0.4444444444444444,
              "#bd3786"
             ],
             [
              0.5555555555555556,
              "#d8576b"
             ],
             [
              0.6666666666666666,
              "#ed7953"
             ],
             [
              0.7777777777777778,
              "#fb9f3a"
             ],
             [
              0.8888888888888888,
              "#fdca26"
             ],
             [
              1,
              "#f0f921"
             ]
            ],
            "type": "histogram2dcontour"
           }
          ],
          "mesh3d": [
           {
            "colorbar": {
             "outlinewidth": 0,
             "ticks": ""
            },
            "type": "mesh3d"
           }
          ],
          "parcoords": [
           {
            "line": {
             "colorbar": {
              "outlinewidth": 0,
              "ticks": ""
             }
            },
            "type": "parcoords"
           }
          ],
          "pie": [
           {
            "automargin": true,
            "type": "pie"
           }
          ],
          "scatter": [
           {
            "fillpattern": {
             "fillmode": "overlay",
             "size": 10,
             "solidity": 0.2
            },
            "type": "scatter"
           }
          ],
          "scatter3d": [
           {
            "line": {
             "colorbar": {
              "outlinewidth": 0,
              "ticks": ""
             }
            },
            "marker": {
             "colorbar": {
              "outlinewidth": 0,
              "ticks": ""
             }
            },
            "type": "scatter3d"
           }
          ],
          "scattercarpet": [
           {
            "marker": {
             "colorbar": {
              "outlinewidth": 0,
              "ticks": ""
             }
            },
            "type": "scattercarpet"
           }
          ],
          "scattergeo": [
           {
            "marker": {
             "colorbar": {
              "outlinewidth": 0,
              "ticks": ""
             }
            },
            "type": "scattergeo"
           }
          ],
          "scattergl": [
           {
            "marker": {
             "colorbar": {
              "outlinewidth": 0,
              "ticks": ""
             }
            },
            "type": "scattergl"
           }
          ],
          "scattermap": [
           {
            "marker": {
             "colorbar": {
              "outlinewidth": 0,
              "ticks": ""
             }
            },
            "type": "scattermap"
           }
          ],
          "scattermapbox": [
           {
            "marker": {
             "colorbar": {
              "outlinewidth": 0,
              "ticks": ""
             }
            },
            "type": "scattermapbox"
           }
          ],
          "scatterpolar": [
           {
            "marker": {
             "colorbar": {
              "outlinewidth": 0,
              "ticks": ""
             }
            },
            "type": "scatterpolar"
           }
          ],
          "scatterpolargl": [
           {
            "marker": {
             "colorbar": {
              "outlinewidth": 0,
              "ticks": ""
             }
            },
            "type": "scatterpolargl"
           }
          ],
          "scatterternary": [
           {
            "marker": {
             "colorbar": {
              "outlinewidth": 0,
              "ticks": ""
             }
            },
            "type": "scatterternary"
           }
          ],
          "surface": [
           {
            "colorbar": {
             "outlinewidth": 0,
             "ticks": ""
            },
            "colorscale": [
             [
              0,
              "#0d0887"
             ],
             [
              0.1111111111111111,
              "#46039f"
             ],
             [
              0.2222222222222222,
              "#7201a8"
             ],
             [
              0.3333333333333333,
              "#9c179e"
             ],
             [
              0.4444444444444444,
              "#bd3786"
             ],
             [
              0.5555555555555556,
              "#d8576b"
             ],
             [
              0.6666666666666666,
              "#ed7953"
             ],
             [
              0.7777777777777778,
              "#fb9f3a"
             ],
             [
              0.8888888888888888,
              "#fdca26"
             ],
             [
              1,
              "#f0f921"
             ]
            ],
            "type": "surface"
           }
          ],
          "table": [
           {
            "cells": {
             "fill": {
              "color": "#EBF0F8"
             },
             "line": {
              "color": "white"
             }
            },
            "header": {
             "fill": {
              "color": "#C8D4E3"
             },
             "line": {
              "color": "white"
             }
            },
            "type": "table"
           }
          ]
         },
         "layout": {
          "annotationdefaults": {
           "arrowcolor": "#2a3f5f",
           "arrowhead": 0,
           "arrowwidth": 1
          },
          "autotypenumbers": "strict",
          "coloraxis": {
           "colorbar": {
            "outlinewidth": 0,
            "ticks": ""
           }
          },
          "colorscale": {
           "diverging": [
            [
             0,
             "#8e0152"
            ],
            [
             0.1,
             "#c51b7d"
            ],
            [
             0.2,
             "#de77ae"
            ],
            [
             0.3,
             "#f1b6da"
            ],
            [
             0.4,
             "#fde0ef"
            ],
            [
             0.5,
             "#f7f7f7"
            ],
            [
             0.6,
             "#e6f5d0"
            ],
            [
             0.7,
             "#b8e186"
            ],
            [
             0.8,
             "#7fbc41"
            ],
            [
             0.9,
             "#4d9221"
            ],
            [
             1,
             "#276419"
            ]
           ],
           "sequential": [
            [
             0,
             "#0d0887"
            ],
            [
             0.1111111111111111,
             "#46039f"
            ],
            [
             0.2222222222222222,
             "#7201a8"
            ],
            [
             0.3333333333333333,
             "#9c179e"
            ],
            [
             0.4444444444444444,
             "#bd3786"
            ],
            [
             0.5555555555555556,
             "#d8576b"
            ],
            [
             0.6666666666666666,
             "#ed7953"
            ],
            [
             0.7777777777777778,
             "#fb9f3a"
            ],
            [
             0.8888888888888888,
             "#fdca26"
            ],
            [
             1,
             "#f0f921"
            ]
           ],
           "sequentialminus": [
            [
             0,
             "#0d0887"
            ],
            [
             0.1111111111111111,
             "#46039f"
            ],
            [
             0.2222222222222222,
             "#7201a8"
            ],
            [
             0.3333333333333333,
             "#9c179e"
            ],
            [
             0.4444444444444444,
             "#bd3786"
            ],
            [
             0.5555555555555556,
             "#d8576b"
            ],
            [
             0.6666666666666666,
             "#ed7953"
            ],
            [
             0.7777777777777778,
             "#fb9f3a"
            ],
            [
             0.8888888888888888,
             "#fdca26"
            ],
            [
             1,
             "#f0f921"
            ]
           ]
          },
          "colorway": [
           "#636efa",
           "#EF553B",
           "#00cc96",
           "#ab63fa",
           "#FFA15A",
           "#19d3f3",
           "#FF6692",
           "#B6E880",
           "#FF97FF",
           "#FECB52"
          ],
          "font": {
           "color": "#2a3f5f"
          },
          "geo": {
           "bgcolor": "white",
           "lakecolor": "white",
           "landcolor": "#E5ECF6",
           "showlakes": true,
           "showland": true,
           "subunitcolor": "white"
          },
          "hoverlabel": {
           "align": "left"
          },
          "hovermode": "closest",
          "mapbox": {
           "style": "light"
          },
          "paper_bgcolor": "white",
          "plot_bgcolor": "#E5ECF6",
          "polar": {
           "angularaxis": {
            "gridcolor": "white",
            "linecolor": "white",
            "ticks": ""
           },
           "bgcolor": "#E5ECF6",
           "radialaxis": {
            "gridcolor": "white",
            "linecolor": "white",
            "ticks": ""
           }
          },
          "scene": {
           "xaxis": {
            "backgroundcolor": "#E5ECF6",
            "gridcolor": "white",
            "gridwidth": 2,
            "linecolor": "white",
            "showbackground": true,
            "ticks": "",
            "zerolinecolor": "white"
           },
           "yaxis": {
            "backgroundcolor": "#E5ECF6",
            "gridcolor": "white",
            "gridwidth": 2,
            "linecolor": "white",
            "showbackground": true,
            "ticks": "",
            "zerolinecolor": "white"
           },
           "zaxis": {
            "backgroundcolor": "#E5ECF6",
            "gridcolor": "white",
            "gridwidth": 2,
            "linecolor": "white",
            "showbackground": true,
            "ticks": "",
            "zerolinecolor": "white"
           }
          },
          "shapedefaults": {
           "line": {
            "color": "#2a3f5f"
           }
          },
          "ternary": {
           "aaxis": {
            "gridcolor": "white",
            "linecolor": "white",
            "ticks": ""
           },
           "baxis": {
            "gridcolor": "white",
            "linecolor": "white",
            "ticks": ""
           },
           "bgcolor": "#E5ECF6",
           "caxis": {
            "gridcolor": "white",
            "linecolor": "white",
            "ticks": ""
           }
          },
          "title": {
           "x": 0.05
          },
          "xaxis": {
           "automargin": true,
           "gridcolor": "white",
           "linecolor": "white",
           "ticks": "",
           "title": {
            "standoff": 15
           },
           "zerolinecolor": "white",
           "zerolinewidth": 2
          },
          "yaxis": {
           "automargin": true,
           "gridcolor": "white",
           "linecolor": "white",
           "ticks": "",
           "title": {
            "standoff": 15
           },
           "zerolinecolor": "white",
           "zerolinewidth": 2
          }
         }
        },
        "xaxis": {
         "anchor": "y",
         "domain": [
          0,
          1
         ],
         "title": {
          "text": "cluster"
         }
        },
        "yaxis": {
         "anchor": "x",
         "domain": [
          0,
          1
         ],
         "title": {
          "text": "price"
         }
        }
       }
      }
     },
     "metadata": {},
     "output_type": "display_data"
    }
   ],
   "source": [
    "# Cruzamento entre brand e price, apresentando os clusters\n",
    "px.scatter(df_laptops, x='cluster', y='price', color='brand')"
   ]
  },
  {
   "cell_type": "code",
   "execution_count": 60,
   "id": "0a14a101",
   "metadata": {},
   "outputs": [
    {
     "data": {
      "application/vnd.plotly.v1+json": {
       "config": {
        "plotlyServerURL": "https://plot.ly"
       },
       "data": [
        {
         "hovertemplate": "brand=%{x}<br>price=%{y}<br>cluster=%{marker.color}<extra></extra>",
         "legendgroup": "",
         "marker": {
          "color": {
           "bdata": "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",
           "dtype": "i2"
          },
          "coloraxis": "coloraxis",
          "symbol": "circle"
         },
         "mode": "markers",
         "name": "",
         "orientation": "v",
         "showlegend": false,
         "type": "scatter",
         "x": [
          "tecno",
          "tecno",
          "hp",
          "acer",
          "lenovo",
          "apple",
          "infinix",
          "asus",
          "hp",
          "infinix",
          "dell",
          "samsung",
          "msi",
          "asus",
          "lenovo",
          "hp",
          "lenovo",
          "asus",
          "hp",
          "wings",
          "hp",
          "lenovo",
          "apple",
          "asus",
          "asus",
          "acer",
          "hp",
          "ultimus",
          "hp",
          "msi",
          "samsung",
          "samsung",
          "lenovo",
          "asus",
          "apple",
          "dell",
          "acer",
          "acer",
          "hp",
          "asus",
          "asus",
          "hp",
          "hp",
          "hp",
          "hp",
          "dell",
          "msi",
          "asus",
          "msi",
          "dell",
          "infinix",
          "acer",
          "hp",
          "hp",
          "hp",
          "infinix",
          "hp",
          "asus",
          "dell",
          "asus",
          "lenovo",
          "dell",
          "asus",
          "asus",
          "asus",
          "hp",
          "hp",
          "apple",
          "infinix",
          "hp",
          "primebook",
          "dell",
          "acer",
          "hp",
          "hp",
          "asus",
          "asus",
          "iball",
          "ultimus",
          "dell",
          "asus",
          "hp",
          "lenovo",
          "lenovo",
          "hp",
          "lenovo",
          "hp",
          "msi",
          "ultimus",
          "lenovo",
          "msi",
          "msi",
          "asus",
          "asus",
          "lenovo",
          "lenovo",
          "asus",
          "infinix",
          "asus",
          "hp",
          "lenovo",
          "hp",
          "hp",
          "asus",
          "lenovo",
          "msi",
          "acer",
          "asus",
          "acer",
          "infinix",
          "asus",
          "acer",
          "asus",
          "acer",
          "asus",
          "hp",
          "asus",
          "acer",
          "acer",
          "hp",
          "hp",
          "hp",
          "lenovo",
          "acer",
          "lenovo",
          "hp",
          "dell",
          "asus",
          "asus",
          "lenovo",
          "asus",
          "acer",
          "asus",
          "apple",
          "asus",
          "hp",
          "hp",
          "lenovo",
          "lenovo",
          "dell",
          "hp",
          "apple",
          "apple",
          "apple",
          "apple",
          "lenovo",
          "dell",
          "hp",
          "hp",
          "dell",
          "acer",
          "asus",
          "lenovo",
          "ultimus",
          "zebronics",
          "hp",
          "hp",
          "zebronics",
          "zebronics",
          "zebronics",
          "hp",
          "lenovo",
          "asus",
          "hp",
          "chuwi",
          "acer",
          "hp",
          "gigabyte",
          "asus",
          "asus",
          "lenovo",
          "hp",
          "acer",
          "asus",
          "hp",
          "lenovo",
          "msi",
          "wings",
          "wings",
          "msi",
          "infinix",
          "hp",
          "msi",
          "msi",
          "hp",
          "lenovo",
          "lenovo",
          "lenovo",
          "lenovo",
          "hp",
          "hp",
          "hp",
          "jio",
          "asus",
          "asus",
          "hp",
          "dell",
          "chuwi",
          "msi",
          "hp",
          "infinix",
          "dell",
          "asus",
          "asus",
          "asus",
          "asus",
          "hp",
          "msi",
          "msi",
          "lenovo",
          "msi",
          "asus",
          "asus",
          "apple",
          "infinix",
          "acer",
          "dell",
          "acer",
          "hp",
          "asus",
          "asus",
          "acer",
          "acer",
          "asus",
          "asus",
          "asus",
          "asus",
          "asus",
          "hp",
          "msi",
          "hp",
          "hp",
          "asus",
          "asus",
          "hp",
          "acer",
          "msi",
          "hp",
          "asus",
          "asus",
          "asus",
          "asus",
          "honor",
          "lenovo",
          "lenovo",
          "hp",
          "dell",
          "msi",
          "acer",
          "msi",
          "hp",
          "acer",
          "asus",
          "asus",
          "asus",
          "samsung",
          "samsung",
          "infinix",
          "hp",
          "asus",
          "hp",
          "hp",
          "hp",
          "hp",
          "hp",
          "hp",
          "dell",
          "asus",
          "lenovo",
          "msi",
          "hp",
          "hp",
          "asus",
          "hp",
          "lenovo",
          "apple",
          "apple",
          "samsung",
          "lenovo",
          "hp",
          "hp",
          "samsung",
          "hp",
          "realme",
          "dell",
          "avita",
          "hp",
          "dell",
          "chuwi",
          "chuwi",
          "avita",
          "lenovo",
          "dell",
          "hp",
          "lenovo",
          "lenovo",
          "hp",
          "hp",
          "lenovo",
          "lenovo",
          "lenovo",
          "lenovo",
          "msi",
          "lenovo",
          "dell",
          "hp",
          "dell",
          "lenovo",
          "lenovo",
          "hp",
          "dell",
          "lenovo",
          "dell",
          "lenovo",
          "acer",
          "acer",
          "lenovo",
          "avita",
          "acer",
          "acer",
          "acer",
          "avita",
          "apple",
          "apple",
          "lenovo",
          "asus",
          "lenovo",
          "acer",
          "lenovo",
          "lenovo",
          "asus",
          "avita",
          "apple",
          "hp",
          "hp",
          "hp",
          "hp",
          "acer",
          "lenovo",
          "hp",
          "lenovo",
          "microsoft",
          "acer",
          "acer",
          "dell",
          "lenovo",
          "hp",
          "asus",
          "msi",
          "dell",
          "lenovo",
          "asus",
          "asus",
          "lenovo",
          "lenovo",
          "hp",
          "lenovo",
          "lenovo",
          "asus",
          "lenovo",
          "hp",
          "lenovo",
          "lenovo",
          "asus",
          "asus",
          "acer",
          "dell",
          "lenovo",
          "dell",
          "hp",
          "zebronics",
          "zebronics",
          "primebook",
          "acer",
          "acer",
          "ultimus",
          "hp",
          "zebronics",
          "hp",
          "hp",
          "hp",
          "hp",
          "hp",
          "asus",
          "lenovo",
          "lenovo",
          "lenovo",
          "lenovo",
          "lenovo",
          "asus",
          "asus",
          "asus",
          "asus",
          "lenovo",
          "lenovo",
          "dell",
          "hp",
          "lenovo",
          "lenovo",
          "lenovo",
          "lenovo",
          "lenovo",
          "lenovo",
          "lenovo",
          "msi",
          "lenovo",
          "lenovo",
          "msi",
          "hp",
          "acer",
          "acer",
          "lenovo",
          "lenovo",
          "asus",
          "acer",
          "dell",
          "hp",
          "asus",
          "asus",
          "lenovo",
          "lenovo",
          "lenovo",
          "lenovo",
          "dell",
          "lenovo",
          "dell",
          "dell",
          "acer",
          "lenovo",
          "lenovo",
          "dell",
          "lenovo",
          "dell",
          "msi",
          "asus",
          "hp",
          "lenovo",
          "lenovo",
          "asus",
          "lenovo",
          "hp",
          "dell",
          "lenovo",
          "lenovo",
          "acer",
          "lenovo",
          "lenovo",
          "microsoft",
          "ultimus",
          "lenovo",
          "dell",
          "lenovo",
          "lenovo",
          "hp",
          "lenovo",
          "hp",
          "lenovo",
          "lenovo",
          "lenovo",
          "hp",
          "lenovo",
          "lenovo",
          "acer",
          "asus",
          "fujitsu",
          "asus",
          "asus",
          "asus",
          "hp",
          "hp",
          "lenovo",
          "lenovo",
          "lenovo",
          "asus",
          "asus",
          "lenovo",
          "hp",
          "lenovo",
          "lenovo",
          "asus",
          "lenovo",
          "dell",
          "acer",
          "acer",
          "asus",
          "asus",
          "asus",
          "asus",
          "asus",
          "asus",
          "hp",
          "asus",
          "gigabyte",
          "lenovo",
          "asus",
          "lenovo",
          "lenovo",
          "fujitsu",
          "lenovo",
          "lenovo",
          "lenovo",
          "lenovo",
          "asus",
          "asus",
          "asus",
          "msi",
          "lenovo",
          "msi",
          "acer",
          "acer",
          "asus",
          "asus",
          "asus",
          "hp",
          "dell",
          "dell",
          "asus",
          "hp",
          "fujitsu",
          "hp",
          "hp",
          "lenovo",
          "dell",
          "asus",
          "lenovo",
          "wings",
          "acer",
          "lenovo",
          "lenovo",
          "lenovo",
          "infinix",
          "lenovo",
          "dell",
          "dell",
          "lenovo",
          "lenovo",
          "dell",
          "dell",
          "dell",
          "dell",
          "dell",
          "dell",
          "hp",
          "dell",
          "dell",
          "lenovo",
          "asus",
          "msi",
          "msi",
          "msi",
          "msi",
          "msi",
          "msi",
          "msi",
          "msi",
          "msi",
          "hp",
          "hp",
          "lenovo",
          "hp",
          "hp",
          "hp",
          "asus",
          "asus",
          "lenovo",
          "hp",
          "lenovo",
          "hp",
          "asus",
          "asus",
          "acer",
          "asus",
          "msi",
          "hp",
          "dell",
          "lenovo",
          "asus",
          "lenovo",
          "hp",
          "lenovo",
          "hp",
          "lenovo",
          "asus",
          "msi",
          "lenovo",
          "hp",
          "lenovo",
          "hp",
          "asus",
          "hp",
          "acer",
          "acer",
          "lenovo",
          "hp",
          "dell",
          "dell",
          "dell",
          "asus",
          "dell",
          "msi",
          "lenovo",
          "dell",
          "dell",
          "dell",
          "dell",
          "msi",
          "msi",
          "msi",
          "dell",
          "hp",
          "lenovo",
          "asus",
          "asus",
          "lenovo",
          "hp",
          "lenovo",
          "asus",
          "asus",
          "lg",
          "dell",
          "acer",
          "lenovo",
          "acer",
          "hp",
          "asus",
          "hp",
          "fujitsu",
          "hp",
          "acer",
          "hp",
          "hp",
          "asus",
          "lg",
          "hp",
          "lenovo",
          "lg",
          "hp",
          "lg",
          "acer",
          "asus",
          "walker",
          "hp",
          "dell",
          "dell",
          "hp",
          "lenovo",
          "lenovo",
          "msi",
          "lenovo",
          "lenovo",
          "msi",
          "asus",
          "asus",
          "lenovo",
          "asus",
          "lenovo",
          "lenovo",
          "hp",
          "hp",
          "hp",
          "hp",
          "hp",
          "hp",
          "hp",
          "hp",
          "asus",
          "dell",
          "hp",
          "dell",
          "lenovo",
          "lenovo",
          "lenovo",
          "lenovo",
          "hp",
          "acer",
          "lenovo",
          "hp",
          "dell",
          "hp",
          "hp",
          "hp",
          "hp",
          "hp",
          "asus",
          "asus",
          "dell",
          "asus",
          "lenovo",
          "lenovo",
          "lenovo",
          "lenovo",
          "dell",
          "hp",
          "msi",
          "lenovo",
          "dell",
          "dell",
          "lenovo",
          "lenovo",
          "acer",
          "dell",
          "acer",
          "lenovo",
          "hp",
          "acer",
          "msi",
          "msi",
          "dell",
          "msi",
          "msi",
          "msi",
          "acer",
          "msi",
          "asus",
          "msi",
          "msi",
          "hp",
          "dell",
          "msi",
          "msi",
          "dell",
          "dell",
          "lenovo",
          "lenovo",
          "lg",
          "lg",
          "hp",
          "lenovo",
          "axl",
          "msi",
          "axl",
          "dell",
          "lenovo",
          "asus",
          "lenovo",
          "hp",
          "lenovo",
          "asus",
          "dell",
          "asus",
          "asus",
          "acer",
          "lenovo",
          "lenovo",
          "lenovo",
          "lenovo",
          "lenovo",
          "lenovo",
          "lenovo",
          "dell",
          "lenovo",
          "hp",
          "lenovo",
          "dell",
          "hp",
          "dell",
          "dell",
          "dell",
          "dell",
          "hp",
          "dell",
          "infinix",
          "dell",
          "dell",
          "dell",
          "asus",
          "hp",
          "asus",
          "dell",
          "hp",
          "hp",
          "hp",
          "asus",
          "lenovo",
          "hp",
          "hp",
          "acer",
          "msi",
          "msi",
          "acer",
          "hp",
          "hp",
          "asus",
          "dell",
          "acer",
          "hp",
          "dell",
          "dell",
          "dell",
          "dell",
          "dell",
          "acer",
          "acer",
          "acer",
          "acer",
          "hp",
          "asus",
          "msi",
          "asus",
          "asus",
          "asus",
          "asus",
          "asus",
          "asus",
          "lenovo",
          "asus",
          "asus",
          "asus",
          "asus",
          "asus",
          "asus",
          "lenovo",
          "asus",
          "asus",
          "asus",
          "asus",
          "hp",
          "acer",
          "asus",
          "dell",
          "dell",
          "hp",
          "hp",
          "msi",
          "msi",
          "acer",
          "hp",
          "hp",
          "asus",
          "msi",
          "asus",
          "msi",
          "asus",
          "acer",
          "asus",
          "asus",
          "asus",
          "hp",
          "hp",
          "msi",
          "asus",
          "hp",
          "lenovo",
          "lenovo",
          "acer",
          "dell",
          "hp",
          "dell",
          "acer",
          "hp",
          "acer",
          "hp",
          "acer",
          "hp",
          "hp",
          "hp",
          "hp",
          "realme",
          "hp",
          "asus",
          "dell",
          "asus",
          "asus",
          "dell",
          "asus",
          "dell",
          "acer",
          "acer",
          "msi",
          "asus",
          "asus",
          "asus",
          "asus",
          "hp",
          "msi",
          "hp",
          "asus",
          "asus",
          "msi",
          "hp",
          "asus",
          "hp",
          "hp",
          "asus",
          "hp",
          "msi",
          "asus",
          "asus",
          "msi",
          "msi",
          "acer",
          "acer",
          "acer",
          "msi",
          "lenovo",
          "asus",
          "msi",
          "msi",
          "msi",
          "asus",
          "asus",
          "hp",
          "asus",
          "asus",
          "asus",
          "asus",
          "asus",
          "asus",
          "asus",
          "asus",
          "asus",
          "asus",
          "dell",
          "asus",
          "asus",
          "asus",
          "asus",
          "lenovo",
          "hp",
          "dell",
          "msi",
          "hp",
          "hp",
          "lenovo",
          "honor",
          "acer",
          "acer",
          "acer",
          "acer",
          "acer",
          "lenovo",
          "lenovo",
          "lenovo",
          "lenovo",
          "asus",
          "fujitsu",
          "hp",
          "msi",
          "dell",
          "acer",
          "lenovo",
          "msi",
          "lenovo",
          "lenovo",
          "dell",
          "lenovo",
          "asus",
          "hp",
          "lenovo",
          "hp",
          "lenovo",
          "asus",
          "hp",
          "hp",
          "lenovo",
          "hp",
          "lenovo",
          "asus",
          "asus",
          "asus",
          "lenovo",
          "msi",
          "hp",
          "acer",
          "msi",
          "msi",
          "msi",
          "msi",
          "acer",
          "asus",
          "asus",
          "lg",
          "msi",
          "acer",
          "msi",
          "msi",
          "asus",
          "msi",
          "msi",
          "hp",
          "asus",
          "msi",
          "asus",
          "asus",
          "asus",
          "acer",
          "asus",
          "msi",
          "asus",
          "asus",
          "hp"
         ],
         "xaxis": "x",
         "y": {
          "bdata": "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",
          "dtype": "f8"
         },
         "yaxis": "y"
        }
       ],
       "layout": {
        "coloraxis": {
         "colorbar": {
          "title": {
           "text": "cluster"
          }
         },
         "colorscale": [
          [
           0,
           "#0d0887"
          ],
          [
           0.1111111111111111,
           "#46039f"
          ],
          [
           0.2222222222222222,
           "#7201a8"
          ],
          [
           0.3333333333333333,
           "#9c179e"
          ],
          [
           0.4444444444444444,
           "#bd3786"
          ],
          [
           0.5555555555555556,
           "#d8576b"
          ],
          [
           0.6666666666666666,
           "#ed7953"
          ],
          [
           0.7777777777777778,
           "#fb9f3a"
          ],
          [
           0.8888888888888888,
           "#fdca26"
          ],
          [
           1,
           "#f0f921"
          ]
         ]
        },
        "legend": {
         "tracegroupgap": 0
        },
        "margin": {
         "t": 60
        },
        "template": {
         "data": {
          "bar": [
           {
            "error_x": {
             "color": "#2a3f5f"
            },
            "error_y": {
             "color": "#2a3f5f"
            },
            "marker": {
             "line": {
              "color": "#E5ECF6",
              "width": 0.5
             },
             "pattern": {
              "fillmode": "overlay",
              "size": 10,
              "solidity": 0.2
             }
            },
            "type": "bar"
           }
          ],
          "barpolar": [
           {
            "marker": {
             "line": {
              "color": "#E5ECF6",
              "width": 0.5
             },
             "pattern": {
              "fillmode": "overlay",
              "size": 10,
              "solidity": 0.2
             }
            },
            "type": "barpolar"
           }
          ],
          "carpet": [
           {
            "aaxis": {
             "endlinecolor": "#2a3f5f",
             "gridcolor": "white",
             "linecolor": "white",
             "minorgridcolor": "white",
             "startlinecolor": "#2a3f5f"
            },
            "baxis": {
             "endlinecolor": "#2a3f5f",
             "gridcolor": "white",
             "linecolor": "white",
             "minorgridcolor": "white",
             "startlinecolor": "#2a3f5f"
            },
            "type": "carpet"
           }
          ],
          "choropleth": [
           {
            "colorbar": {
             "outlinewidth": 0,
             "ticks": ""
            },
            "type": "choropleth"
           }
          ],
          "contour": [
           {
            "colorbar": {
             "outlinewidth": 0,
             "ticks": ""
            },
            "colorscale": [
             [
              0,
              "#0d0887"
             ],
             [
              0.1111111111111111,
              "#46039f"
             ],
             [
              0.2222222222222222,
              "#7201a8"
             ],
             [
              0.3333333333333333,
              "#9c179e"
             ],
             [
              0.4444444444444444,
              "#bd3786"
             ],
             [
              0.5555555555555556,
              "#d8576b"
             ],
             [
              0.6666666666666666,
              "#ed7953"
             ],
             [
              0.7777777777777778,
              "#fb9f3a"
             ],
             [
              0.8888888888888888,
              "#fdca26"
             ],
             [
              1,
              "#f0f921"
             ]
            ],
            "type": "contour"
           }
          ],
          "contourcarpet": [
           {
            "colorbar": {
             "outlinewidth": 0,
             "ticks": ""
            },
            "type": "contourcarpet"
           }
          ],
          "heatmap": [
           {
            "colorbar": {
             "outlinewidth": 0,
             "ticks": ""
            },
            "colorscale": [
             [
              0,
              "#0d0887"
             ],
             [
              0.1111111111111111,
              "#46039f"
             ],
             [
              0.2222222222222222,
              "#7201a8"
             ],
             [
              0.3333333333333333,
              "#9c179e"
             ],
             [
              0.4444444444444444,
              "#bd3786"
             ],
             [
              0.5555555555555556,
              "#d8576b"
             ],
             [
              0.6666666666666666,
              "#ed7953"
             ],
             [
              0.7777777777777778,
              "#fb9f3a"
             ],
             [
              0.8888888888888888,
              "#fdca26"
             ],
             [
              1,
              "#f0f921"
             ]
            ],
            "type": "heatmap"
           }
          ],
          "histogram": [
           {
            "marker": {
             "pattern": {
              "fillmode": "overlay",
              "size": 10,
              "solidity": 0.2
             }
            },
            "type": "histogram"
           }
          ],
          "histogram2d": [
           {
            "colorbar": {
             "outlinewidth": 0,
             "ticks": ""
            },
            "colorscale": [
             [
              0,
              "#0d0887"
             ],
             [
              0.1111111111111111,
              "#46039f"
             ],
             [
              0.2222222222222222,
              "#7201a8"
             ],
             [
              0.3333333333333333,
              "#9c179e"
             ],
             [
              0.4444444444444444,
              "#bd3786"
             ],
             [
              0.5555555555555556,
              "#d8576b"
             ],
             [
              0.6666666666666666,
              "#ed7953"
             ],
             [
              0.7777777777777778,
              "#fb9f3a"
             ],
             [
              0.8888888888888888,
              "#fdca26"
             ],
             [
              1,
              "#f0f921"
             ]
            ],
            "type": "histogram2d"
           }
          ],
          "histogram2dcontour": [
           {
            "colorbar": {
             "outlinewidth": 0,
             "ticks": ""
            },
            "colorscale": [
             [
              0,
              "#0d0887"
             ],
             [
              0.1111111111111111,
              "#46039f"
             ],
             [
              0.2222222222222222,
              "#7201a8"
             ],
             [
              0.3333333333333333,
              "#9c179e"
             ],
             [
              0.4444444444444444,
              "#bd3786"
             ],
             [
              0.5555555555555556,
              "#d8576b"
             ],
             [
              0.6666666666666666,
              "#ed7953"
             ],
             [
              0.7777777777777778,
              "#fb9f3a"
             ],
             [
              0.8888888888888888,
              "#fdca26"
             ],
             [
              1,
              "#f0f921"
             ]
            ],
            "type": "histogram2dcontour"
           }
          ],
          "mesh3d": [
           {
            "colorbar": {
             "outlinewidth": 0,
             "ticks": ""
            },
            "type": "mesh3d"
           }
          ],
          "parcoords": [
           {
            "line": {
             "colorbar": {
              "outlinewidth": 0,
              "ticks": ""
             }
            },
            "type": "parcoords"
           }
          ],
          "pie": [
           {
            "automargin": true,
            "type": "pie"
           }
          ],
          "scatter": [
           {
            "fillpattern": {
             "fillmode": "overlay",
             "size": 10,
             "solidity": 0.2
            },
            "type": "scatter"
           }
          ],
          "scatter3d": [
           {
            "line": {
             "colorbar": {
              "outlinewidth": 0,
              "ticks": ""
             }
            },
            "marker": {
             "colorbar": {
              "outlinewidth": 0,
              "ticks": ""
             }
            },
            "type": "scatter3d"
           }
          ],
          "scattercarpet": [
           {
            "marker": {
             "colorbar": {
              "outlinewidth": 0,
              "ticks": ""
             }
            },
            "type": "scattercarpet"
           }
          ],
          "scattergeo": [
           {
            "marker": {
             "colorbar": {
              "outlinewidth": 0,
              "ticks": ""
             }
            },
            "type": "scattergeo"
           }
          ],
          "scattergl": [
           {
            "marker": {
             "colorbar": {
              "outlinewidth": 0,
              "ticks": ""
             }
            },
            "type": "scattergl"
           }
          ],
          "scattermap": [
           {
            "marker": {
             "colorbar": {
              "outlinewidth": 0,
              "ticks": ""
             }
            },
            "type": "scattermap"
           }
          ],
          "scattermapbox": [
           {
            "marker": {
             "colorbar": {
              "outlinewidth": 0,
              "ticks": ""
             }
            },
            "type": "scattermapbox"
           }
          ],
          "scatterpolar": [
           {
            "marker": {
             "colorbar": {
              "outlinewidth": 0,
              "ticks": ""
             }
            },
            "type": "scatterpolar"
           }
          ],
          "scatterpolargl": [
           {
            "marker": {
             "colorbar": {
              "outlinewidth": 0,
              "ticks": ""
             }
            },
            "type": "scatterpolargl"
           }
          ],
          "scatterternary": [
           {
            "marker": {
             "colorbar": {
              "outlinewidth": 0,
              "ticks": ""
             }
            },
            "type": "scatterternary"
           }
          ],
          "surface": [
           {
            "colorbar": {
             "outlinewidth": 0,
             "ticks": ""
            },
            "colorscale": [
             [
              0,
              "#0d0887"
             ],
             [
              0.1111111111111111,
              "#46039f"
             ],
             [
              0.2222222222222222,
              "#7201a8"
             ],
             [
              0.3333333333333333,
              "#9c179e"
             ],
             [
              0.4444444444444444,
              "#bd3786"
             ],
             [
              0.5555555555555556,
              "#d8576b"
             ],
             [
              0.6666666666666666,
              "#ed7953"
             ],
             [
              0.7777777777777778,
              "#fb9f3a"
             ],
             [
              0.8888888888888888,
              "#fdca26"
             ],
             [
              1,
              "#f0f921"
             ]
            ],
            "type": "surface"
           }
          ],
          "table": [
           {
            "cells": {
             "fill": {
              "color": "#EBF0F8"
             },
             "line": {
              "color": "white"
             }
            },
            "header": {
             "fill": {
              "color": "#C8D4E3"
             },
             "line": {
              "color": "white"
             }
            },
            "type": "table"
           }
          ]
         },
         "layout": {
          "annotationdefaults": {
           "arrowcolor": "#2a3f5f",
           "arrowhead": 0,
           "arrowwidth": 1
          },
          "autotypenumbers": "strict",
          "coloraxis": {
           "colorbar": {
            "outlinewidth": 0,
            "ticks": ""
           }
          },
          "colorscale": {
           "diverging": [
            [
             0,
             "#8e0152"
            ],
            [
             0.1,
             "#c51b7d"
            ],
            [
             0.2,
             "#de77ae"
            ],
            [
             0.3,
             "#f1b6da"
            ],
            [
             0.4,
             "#fde0ef"
            ],
            [
             0.5,
             "#f7f7f7"
            ],
            [
             0.6,
             "#e6f5d0"
            ],
            [
             0.7,
             "#b8e186"
            ],
            [
             0.8,
             "#7fbc41"
            ],
            [
             0.9,
             "#4d9221"
            ],
            [
             1,
             "#276419"
            ]
           ],
           "sequential": [
            [
             0,
             "#0d0887"
            ],
            [
             0.1111111111111111,
             "#46039f"
            ],
            [
             0.2222222222222222,
             "#7201a8"
            ],
            [
             0.3333333333333333,
             "#9c179e"
            ],
            [
             0.4444444444444444,
             "#bd3786"
            ],
            [
             0.5555555555555556,
             "#d8576b"
            ],
            [
             0.6666666666666666,
             "#ed7953"
            ],
            [
             0.7777777777777778,
             "#fb9f3a"
            ],
            [
             0.8888888888888888,
             "#fdca26"
            ],
            [
             1,
             "#f0f921"
            ]
           ],
           "sequentialminus": [
            [
             0,
             "#0d0887"
            ],
            [
             0.1111111111111111,
             "#46039f"
            ],
            [
             0.2222222222222222,
             "#7201a8"
            ],
            [
             0.3333333333333333,
             "#9c179e"
            ],
            [
             0.4444444444444444,
             "#bd3786"
            ],
            [
             0.5555555555555556,
             "#d8576b"
            ],
            [
             0.6666666666666666,
             "#ed7953"
            ],
            [
             0.7777777777777778,
             "#fb9f3a"
            ],
            [
             0.8888888888888888,
             "#fdca26"
            ],
            [
             1,
             "#f0f921"
            ]
           ]
          },
          "colorway": [
           "#636efa",
           "#EF553B",
           "#00cc96",
           "#ab63fa",
           "#FFA15A",
           "#19d3f3",
           "#FF6692",
           "#B6E880",
           "#FF97FF",
           "#FECB52"
          ],
          "font": {
           "color": "#2a3f5f"
          },
          "geo": {
           "bgcolor": "white",
           "lakecolor": "white",
           "landcolor": "#E5ECF6",
           "showlakes": true,
           "showland": true,
           "subunitcolor": "white"
          },
          "hoverlabel": {
           "align": "left"
          },
          "hovermode": "closest",
          "mapbox": {
           "style": "light"
          },
          "paper_bgcolor": "white",
          "plot_bgcolor": "#E5ECF6",
          "polar": {
           "angularaxis": {
            "gridcolor": "white",
            "linecolor": "white",
            "ticks": ""
           },
           "bgcolor": "#E5ECF6",
           "radialaxis": {
            "gridcolor": "white",
            "linecolor": "white",
            "ticks": ""
           }
          },
          "scene": {
           "xaxis": {
            "backgroundcolor": "#E5ECF6",
            "gridcolor": "white",
            "gridwidth": 2,
            "linecolor": "white",
            "showbackground": true,
            "ticks": "",
            "zerolinecolor": "white"
           },
           "yaxis": {
            "backgroundcolor": "#E5ECF6",
            "gridcolor": "white",
            "gridwidth": 2,
            "linecolor": "white",
            "showbackground": true,
            "ticks": "",
            "zerolinecolor": "white"
           },
           "zaxis": {
            "backgroundcolor": "#E5ECF6",
            "gridcolor": "white",
            "gridwidth": 2,
            "linecolor": "white",
            "showbackground": true,
            "ticks": "",
            "zerolinecolor": "white"
           }
          },
          "shapedefaults": {
           "line": {
            "color": "#2a3f5f"
           }
          },
          "ternary": {
           "aaxis": {
            "gridcolor": "white",
            "linecolor": "white",
            "ticks": ""
           },
           "baxis": {
            "gridcolor": "white",
            "linecolor": "white",
            "ticks": ""
           },
           "bgcolor": "#E5ECF6",
           "caxis": {
            "gridcolor": "white",
            "linecolor": "white",
            "ticks": ""
           }
          },
          "title": {
           "x": 0.05
          },
          "xaxis": {
           "automargin": true,
           "gridcolor": "white",
           "linecolor": "white",
           "ticks": "",
           "title": {
            "standoff": 15
           },
           "zerolinecolor": "white",
           "zerolinewidth": 2
          },
          "yaxis": {
           "automargin": true,
           "gridcolor": "white",
           "linecolor": "white",
           "ticks": "",
           "title": {
            "standoff": 15
           },
           "zerolinecolor": "white",
           "zerolinewidth": 2
          }
         }
        },
        "xaxis": {
         "anchor": "y",
         "domain": [
          0,
          1
         ],
         "title": {
          "text": "brand"
         }
        },
        "yaxis": {
         "anchor": "x",
         "domain": [
          0,
          1
         ],
         "title": {
          "text": "price"
         }
        }
       }
      }
     },
     "metadata": {},
     "output_type": "display_data"
    }
   ],
   "source": [
    "# Cruzamento entre brand e price, apresentando os clusters\n",
    "px.scatter(df_laptops, x='brand', y='price', color='cluster')"
   ]
  },
  {
   "cell_type": "code",
   "execution_count": 61,
   "id": "a81f3b5c",
   "metadata": {},
   "outputs": [
    {
     "data": {
      "application/vnd.plotly.v1+json": {
       "config": {
        "plotlyServerURL": "https://plot.ly"
       },
       "data": [
        {
         "hovertemplate": "brand=%{x}<br>rating=%{y}<br>cluster=%{marker.color}<extra></extra>",
         "legendgroup": "",
         "marker": {
          "color": {
           "bdata": "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",
           "dtype": "i2"
          },
          "coloraxis": "coloraxis",
          "symbol": "circle"
         },
         "mode": "markers",
         "name": "",
         "orientation": "v",
         "showlegend": false,
         "type": "scatter",
         "x": [
          "tecno",
          "tecno",
          "hp",
          "acer",
          "lenovo",
          "apple",
          "infinix",
          "asus",
          "hp",
          "infinix",
          "dell",
          "samsung",
          "msi",
          "asus",
          "lenovo",
          "hp",
          "lenovo",
          "asus",
          "hp",
          "wings",
          "hp",
          "lenovo",
          "apple",
          "asus",
          "asus",
          "acer",
          "hp",
          "ultimus",
          "hp",
          "msi",
          "samsung",
          "samsung",
          "lenovo",
          "asus",
          "apple",
          "dell",
          "acer",
          "acer",
          "hp",
          "asus",
          "asus",
          "hp",
          "hp",
          "hp",
          "hp",
          "dell",
          "msi",
          "asus",
          "msi",
          "dell",
          "infinix",
          "acer",
          "hp",
          "hp",
          "hp",
          "infinix",
          "hp",
          "asus",
          "dell",
          "asus",
          "lenovo",
          "dell",
          "asus",
          "asus",
          "asus",
          "hp",
          "hp",
          "apple",
          "infinix",
          "hp",
          "primebook",
          "dell",
          "acer",
          "hp",
          "hp",
          "asus",
          "asus",
          "iball",
          "ultimus",
          "dell",
          "asus",
          "hp",
          "lenovo",
          "lenovo",
          "hp",
          "lenovo",
          "hp",
          "msi",
          "ultimus",
          "lenovo",
          "msi",
          "msi",
          "asus",
          "asus",
          "lenovo",
          "lenovo",
          "asus",
          "infinix",
          "asus",
          "hp",
          "lenovo",
          "hp",
          "hp",
          "asus",
          "lenovo",
          "msi",
          "acer",
          "asus",
          "acer",
          "infinix",
          "asus",
          "acer",
          "asus",
          "acer",
          "asus",
          "hp",
          "asus",
          "acer",
          "acer",
          "hp",
          "hp",
          "hp",
          "lenovo",
          "acer",
          "lenovo",
          "hp",
          "dell",
          "asus",
          "asus",
          "lenovo",
          "asus",
          "acer",
          "asus",
          "apple",
          "asus",
          "hp",
          "hp",
          "lenovo",
          "lenovo",
          "dell",
          "hp",
          "apple",
          "apple",
          "apple",
          "apple",
          "lenovo",
          "dell",
          "hp",
          "hp",
          "dell",
          "acer",
          "asus",
          "lenovo",
          "ultimus",
          "zebronics",
          "hp",
          "hp",
          "zebronics",
          "zebronics",
          "zebronics",
          "hp",
          "lenovo",
          "asus",
          "hp",
          "chuwi",
          "acer",
          "hp",
          "gigabyte",
          "asus",
          "asus",
          "lenovo",
          "hp",
          "acer",
          "asus",
          "hp",
          "lenovo",
          "msi",
          "wings",
          "wings",
          "msi",
          "infinix",
          "hp",
          "msi",
          "msi",
          "hp",
          "lenovo",
          "lenovo",
          "lenovo",
          "lenovo",
          "hp",
          "hp",
          "hp",
          "jio",
          "asus",
          "asus",
          "hp",
          "dell",
          "chuwi",
          "msi",
          "hp",
          "infinix",
          "dell",
          "asus",
          "asus",
          "asus",
          "asus",
          "hp",
          "msi",
          "msi",
          "lenovo",
          "msi",
          "asus",
          "asus",
          "apple",
          "infinix",
          "acer",
          "dell",
          "acer",
          "hp",
          "asus",
          "asus",
          "acer",
          "acer",
          "asus",
          "asus",
          "asus",
          "asus",
          "asus",
          "hp",
          "msi",
          "hp",
          "hp",
          "asus",
          "asus",
          "hp",
          "acer",
          "msi",
          "hp",
          "asus",
          "asus",
          "asus",
          "asus",
          "honor",
          "lenovo",
          "lenovo",
          "hp",
          "dell",
          "msi",
          "acer",
          "msi",
          "hp",
          "acer",
          "asus",
          "asus",
          "asus",
          "samsung",
          "samsung",
          "infinix",
          "hp",
          "asus",
          "hp",
          "hp",
          "hp",
          "hp",
          "hp",
          "hp",
          "dell",
          "asus",
          "lenovo",
          "msi",
          "hp",
          "hp",
          "asus",
          "hp",
          "lenovo",
          "apple",
          "apple",
          "samsung",
          "lenovo",
          "hp",
          "hp",
          "samsung",
          "hp",
          "realme",
          "dell",
          "avita",
          "hp",
          "dell",
          "chuwi",
          "chuwi",
          "avita",
          "lenovo",
          "dell",
          "hp",
          "lenovo",
          "lenovo",
          "hp",
          "hp",
          "lenovo",
          "lenovo",
          "lenovo",
          "lenovo",
          "msi",
          "lenovo",
          "dell",
          "hp",
          "dell",
          "lenovo",
          "lenovo",
          "hp",
          "dell",
          "lenovo",
          "dell",
          "lenovo",
          "acer",
          "acer",
          "lenovo",
          "avita",
          "acer",
          "acer",
          "acer",
          "avita",
          "apple",
          "apple",
          "lenovo",
          "asus",
          "lenovo",
          "acer",
          "lenovo",
          "lenovo",
          "asus",
          "avita",
          "apple",
          "hp",
          "hp",
          "hp",
          "hp",
          "acer",
          "lenovo",
          "hp",
          "lenovo",
          "microsoft",
          "acer",
          "acer",
          "dell",
          "lenovo",
          "hp",
          "asus",
          "msi",
          "dell",
          "lenovo",
          "asus",
          "asus",
          "lenovo",
          "lenovo",
          "hp",
          "lenovo",
          "lenovo",
          "asus",
          "lenovo",
          "hp",
          "lenovo",
          "lenovo",
          "asus",
          "asus",
          "acer",
          "dell",
          "lenovo",
          "dell",
          "hp",
          "zebronics",
          "zebronics",
          "primebook",
          "acer",
          "acer",
          "ultimus",
          "hp",
          "zebronics",
          "hp",
          "hp",
          "hp",
          "hp",
          "hp",
          "asus",
          "lenovo",
          "lenovo",
          "lenovo",
          "lenovo",
          "lenovo",
          "asus",
          "asus",
          "asus",
          "asus",
          "lenovo",
          "lenovo",
          "dell",
          "hp",
          "lenovo",
          "lenovo",
          "lenovo",
          "lenovo",
          "lenovo",
          "lenovo",
          "lenovo",
          "msi",
          "lenovo",
          "lenovo",
          "msi",
          "hp",
          "acer",
          "acer",
          "lenovo",
          "lenovo",
          "asus",
          "acer",
          "dell",
          "hp",
          "asus",
          "asus",
          "lenovo",
          "lenovo",
          "lenovo",
          "lenovo",
          "dell",
          "lenovo",
          "dell",
          "dell",
          "acer",
          "lenovo",
          "lenovo",
          "dell",
          "lenovo",
          "dell",
          "msi",
          "asus",
          "hp",
          "lenovo",
          "lenovo",
          "asus",
          "lenovo",
          "hp",
          "dell",
          "lenovo",
          "lenovo",
          "acer",
          "lenovo",
          "lenovo",
          "microsoft",
          "ultimus",
          "lenovo",
          "dell",
          "lenovo",
          "lenovo",
          "hp",
          "lenovo",
          "hp",
          "lenovo",
          "lenovo",
          "lenovo",
          "hp",
          "lenovo",
          "lenovo",
          "acer",
          "asus",
          "fujitsu",
          "asus",
          "asus",
          "asus",
          "hp",
          "hp",
          "lenovo",
          "lenovo",
          "lenovo",
          "asus",
          "asus",
          "lenovo",
          "hp",
          "lenovo",
          "lenovo",
          "asus",
          "lenovo",
          "dell",
          "acer",
          "acer",
          "asus",
          "asus",
          "asus",
          "asus",
          "asus",
          "asus",
          "hp",
          "asus",
          "gigabyte",
          "lenovo",
          "asus",
          "lenovo",
          "lenovo",
          "fujitsu",
          "lenovo",
          "lenovo",
          "lenovo",
          "lenovo",
          "asus",
          "asus",
          "asus",
          "msi",
          "lenovo",
          "msi",
          "acer",
          "acer",
          "asus",
          "asus",
          "asus",
          "hp",
          "dell",
          "dell",
          "asus",
          "hp",
          "fujitsu",
          "hp",
          "hp",
          "lenovo",
          "dell",
          "asus",
          "lenovo",
          "wings",
          "acer",
          "lenovo",
          "lenovo",
          "lenovo",
          "infinix",
          "lenovo",
          "dell",
          "dell",
          "lenovo",
          "lenovo",
          "dell",
          "dell",
          "dell",
          "dell",
          "dell",
          "dell",
          "hp",
          "dell",
          "dell",
          "lenovo",
          "asus",
          "msi",
          "msi",
          "msi",
          "msi",
          "msi",
          "msi",
          "msi",
          "msi",
          "msi",
          "hp",
          "hp",
          "lenovo",
          "hp",
          "hp",
          "hp",
          "asus",
          "asus",
          "lenovo",
          "hp",
          "lenovo",
          "hp",
          "asus",
          "asus",
          "acer",
          "asus",
          "msi",
          "hp",
          "dell",
          "lenovo",
          "asus",
          "lenovo",
          "hp",
          "lenovo",
          "hp",
          "lenovo",
          "asus",
          "msi",
          "lenovo",
          "hp",
          "lenovo",
          "hp",
          "asus",
          "hp",
          "acer",
          "acer",
          "lenovo",
          "hp",
          "dell",
          "dell",
          "dell",
          "asus",
          "dell",
          "msi",
          "lenovo",
          "dell",
          "dell",
          "dell",
          "dell",
          "msi",
          "msi",
          "msi",
          "dell",
          "hp",
          "lenovo",
          "asus",
          "asus",
          "lenovo",
          "hp",
          "lenovo",
          "asus",
          "asus",
          "lg",
          "dell",
          "acer",
          "lenovo",
          "acer",
          "hp",
          "asus",
          "hp",
          "fujitsu",
          "hp",
          "acer",
          "hp",
          "hp",
          "asus",
          "lg",
          "hp",
          "lenovo",
          "lg",
          "hp",
          "lg",
          "acer",
          "asus",
          "walker",
          "hp",
          "dell",
          "dell",
          "hp",
          "lenovo",
          "lenovo",
          "msi",
          "lenovo",
          "lenovo",
          "msi",
          "asus",
          "asus",
          "lenovo",
          "asus",
          "lenovo",
          "lenovo",
          "hp",
          "hp",
          "hp",
          "hp",
          "hp",
          "hp",
          "hp",
          "hp",
          "asus",
          "dell",
          "hp",
          "dell",
          "lenovo",
          "lenovo",
          "lenovo",
          "lenovo",
          "hp",
          "acer",
          "lenovo",
          "hp",
          "dell",
          "hp",
          "hp",
          "hp",
          "hp",
          "hp",
          "asus",
          "asus",
          "dell",
          "asus",
          "lenovo",
          "lenovo",
          "lenovo",
          "lenovo",
          "dell",
          "hp",
          "msi",
          "lenovo",
          "dell",
          "dell",
          "lenovo",
          "lenovo",
          "acer",
          "dell",
          "acer",
          "lenovo",
          "hp",
          "acer",
          "msi",
          "msi",
          "dell",
          "msi",
          "msi",
          "msi",
          "acer",
          "msi",
          "asus",
          "msi",
          "msi",
          "hp",
          "dell",
          "msi",
          "msi",
          "dell",
          "dell",
          "lenovo",
          "lenovo",
          "lg",
          "lg",
          "hp",
          "lenovo",
          "axl",
          "msi",
          "axl",
          "dell",
          "lenovo",
          "asus",
          "lenovo",
          "hp",
          "lenovo",
          "asus",
          "dell",
          "asus",
          "asus",
          "acer",
          "lenovo",
          "lenovo",
          "lenovo",
          "lenovo",
          "lenovo",
          "lenovo",
          "lenovo",
          "dell",
          "lenovo",
          "hp",
          "lenovo",
          "dell",
          "hp",
          "dell",
          "dell",
          "dell",
          "dell",
          "hp",
          "dell",
          "infinix",
          "dell",
          "dell",
          "dell",
          "asus",
          "hp",
          "asus",
          "dell",
          "hp",
          "hp",
          "hp",
          "asus",
          "lenovo",
          "hp",
          "hp",
          "acer",
          "msi",
          "msi",
          "acer",
          "hp",
          "hp",
          "asus",
          "dell",
          "acer",
          "hp",
          "dell",
          "dell",
          "dell",
          "dell",
          "dell",
          "acer",
          "acer",
          "acer",
          "acer",
          "hp",
          "asus",
          "msi",
          "asus",
          "asus",
          "asus",
          "asus",
          "asus",
          "asus",
          "lenovo",
          "asus",
          "asus",
          "asus",
          "asus",
          "asus",
          "asus",
          "lenovo",
          "asus",
          "asus",
          "asus",
          "asus",
          "hp",
          "acer",
          "asus",
          "dell",
          "dell",
          "hp",
          "hp",
          "msi",
          "msi",
          "acer",
          "hp",
          "hp",
          "asus",
          "msi",
          "asus",
          "msi",
          "asus",
          "acer",
          "asus",
          "asus",
          "asus",
          "hp",
          "hp",
          "msi",
          "asus",
          "hp",
          "lenovo",
          "lenovo",
          "acer",
          "dell",
          "hp",
          "dell",
          "acer",
          "hp",
          "acer",
          "hp",
          "acer",
          "hp",
          "hp",
          "hp",
          "hp",
          "realme",
          "hp",
          "asus",
          "dell",
          "asus",
          "asus",
          "dell",
          "asus",
          "dell",
          "acer",
          "acer",
          "msi",
          "asus",
          "asus",
          "asus",
          "asus",
          "hp",
          "msi",
          "hp",
          "asus",
          "asus",
          "msi",
          "hp",
          "asus",
          "hp",
          "hp",
          "asus",
          "hp",
          "msi",
          "asus",
          "asus",
          "msi",
          "msi",
          "acer",
          "acer",
          "acer",
          "msi",
          "lenovo",
          "asus",
          "msi",
          "msi",
          "msi",
          "asus",
          "asus",
          "hp",
          "asus",
          "asus",
          "asus",
          "asus",
          "asus",
          "asus",
          "asus",
          "asus",
          "asus",
          "asus",
          "dell",
          "asus",
          "asus",
          "asus",
          "asus",
          "lenovo",
          "hp",
          "dell",
          "msi",
          "hp",
          "hp",
          "lenovo",
          "honor",
          "acer",
          "acer",
          "acer",
          "acer",
          "acer",
          "lenovo",
          "lenovo",
          "lenovo",
          "lenovo",
          "asus",
          "fujitsu",
          "hp",
          "msi",
          "dell",
          "acer",
          "lenovo",
          "msi",
          "lenovo",
          "lenovo",
          "dell",
          "lenovo",
          "asus",
          "hp",
          "lenovo",
          "hp",
          "lenovo",
          "asus",
          "hp",
          "hp",
          "lenovo",
          "hp",
          "lenovo",
          "asus",
          "asus",
          "asus",
          "lenovo",
          "msi",
          "hp",
          "acer",
          "msi",
          "msi",
          "msi",
          "msi",
          "acer",
          "asus",
          "asus",
          "lg",
          "msi",
          "acer",
          "msi",
          "msi",
          "asus",
          "msi",
          "msi",
          "hp",
          "asus",
          "msi",
          "asus",
          "asus",
          "asus",
          "acer",
          "asus",
          "msi",
          "asus",
          "asus",
          "hp"
         ],
         "xaxis": "x",
         "y": {
          "bdata": "P0NJPj4tOEY8RzxER0dCVTtMRzgxO0E5OT9NNkJMOz5HQTBCQDw+SE1HR1BHRzpTRkI2OkxGPzJQS0JDRUZATkhIQTU1Rho8R0ZGPkApLkg5NjNCSC9GQSlGS0E/Rz87RjxGQ1A5PkJGPzxLPj9ISEhDQD5YS0Y6NjRCMUA8Sk88Q0FAOCtGPFI8QE5MP0A6OE07QDo1Nj5TLUFMOz9IOEM8R0IyQDFDRSMyOE5HTEA8OjFJOD9BSUw+RT9DP0tVGEFMRkkyPj85P01MRkJCQUg1Pjw7ODk5PjtBQDpGQ1BNT05AQUk7OUNARUtFNkZBRztCNTVDRD4xT0RDQTxBODw0RTJDST5HQCc+SU5ORzZVOkotLTsxPjREQDQ4ODhDMjYyQFBAOTozOj4yOj5FQjU+Ojk8NDE/OzMvQEAzQEA+KTU6QyVCP0tBLCszRk5FOT85TVY6OD5ARkxDUEtFOkE2NUg5OEVFPENLLT8mOj85WEI8H0E+Lz5IRlVYT05GOjk/QUUmQjMmQDg1OTpUVU46TTlZQTlGL0NBOUNJJjVGOj46PD4zOS45ODozPzlAOFNGQCtFRzpLOTtBPkc/PDRZPlNPQ0NGQjhBOVNFMitDQzs8OzM0OjxAPz46OjpJNTVIRkBIJSklOT4lST9IOjtBRTo8OEFCRkdBTD88OT44Tjo5RT9MM0ZATj88My08PD45QTg6QD4/Oj42OzlHPD88TExNT0xNRUdGU0hHO1ZLQzs5QEM6SEhCT0hJRjo8NkhDRzxJQFlJTUtJLU1BOkksPFU/OUE/P1NBVVA6TUdTOEVIS0g5OUZSQ1lQRTssSEVJRUAuQ0dIUCZOJkVGQSU0PD9JPkFBOzJDPEtGQD46QkJCRkJIOTw8PEc4RUBDQkU7Q0c1RTo1PEZIUzhHQEM7RkM6Tjk6ND4+Mjw5OT4yQ0E8TkVNPEI7TUs/Rj9GWFI/S0tISD4mQSU2OUU5QjtASEI1RTZANTY4OzlHQkdAODFOUjs6Mjk6ODQ5LUM6OD9BQz8yL0I4S0s1MkBATDNCNE9JS0UyOzQyRzZVR0lZVEtTQ0lNWUxQQzpJUkJIQUZLTlM5O0VHPjo5QklMVkJORlRHS0JHODlDRzpSNlMvNkEzQjM2Qzg+Qy0/OE4/PDtAQU07SUlGR0E8SztGS0BDODRNWTA7QUdJSkhUTj9XUEY4Pks8OThHQEBGPjw1PjozSj4vQDtIT0grOzsyLEdNLTo4OENGOjVENDw2QjdINDs7SzQ2QyslMjswWTo7QDwvRzo7SEo2NUhIQ0c7PVM6OElETERBQENESTtEJQ==",
          "dtype": "i1"
         },
         "yaxis": "y"
        }
       ],
       "layout": {
        "coloraxis": {
         "colorbar": {
          "title": {
           "text": "cluster"
          }
         },
         "colorscale": [
          [
           0,
           "#0d0887"
          ],
          [
           0.1111111111111111,
           "#46039f"
          ],
          [
           0.2222222222222222,
           "#7201a8"
          ],
          [
           0.3333333333333333,
           "#9c179e"
          ],
          [
           0.4444444444444444,
           "#bd3786"
          ],
          [
           0.5555555555555556,
           "#d8576b"
          ],
          [
           0.6666666666666666,
           "#ed7953"
          ],
          [
           0.7777777777777778,
           "#fb9f3a"
          ],
          [
           0.8888888888888888,
           "#fdca26"
          ],
          [
           1,
           "#f0f921"
          ]
         ]
        },
        "legend": {
         "tracegroupgap": 0
        },
        "margin": {
         "t": 60
        },
        "template": {
         "data": {
          "bar": [
           {
            "error_x": {
             "color": "#2a3f5f"
            },
            "error_y": {
             "color": "#2a3f5f"
            },
            "marker": {
             "line": {
              "color": "#E5ECF6",
              "width": 0.5
             },
             "pattern": {
              "fillmode": "overlay",
              "size": 10,
              "solidity": 0.2
             }
            },
            "type": "bar"
           }
          ],
          "barpolar": [
           {
            "marker": {
             "line": {
              "color": "#E5ECF6",
              "width": 0.5
             },
             "pattern": {
              "fillmode": "overlay",
              "size": 10,
              "solidity": 0.2
             }
            },
            "type": "barpolar"
           }
          ],
          "carpet": [
           {
            "aaxis": {
             "endlinecolor": "#2a3f5f",
             "gridcolor": "white",
             "linecolor": "white",
             "minorgridcolor": "white",
             "startlinecolor": "#2a3f5f"
            },
            "baxis": {
             "endlinecolor": "#2a3f5f",
             "gridcolor": "white",
             "linecolor": "white",
             "minorgridcolor": "white",
             "startlinecolor": "#2a3f5f"
            },
            "type": "carpet"
           }
          ],
          "choropleth": [
           {
            "colorbar": {
             "outlinewidth": 0,
             "ticks": ""
            },
            "type": "choropleth"
           }
          ],
          "contour": [
           {
            "colorbar": {
             "outlinewidth": 0,
             "ticks": ""
            },
            "colorscale": [
             [
              0,
              "#0d0887"
             ],
             [
              0.1111111111111111,
              "#46039f"
             ],
             [
              0.2222222222222222,
              "#7201a8"
             ],
             [
              0.3333333333333333,
              "#9c179e"
             ],
             [
              0.4444444444444444,
              "#bd3786"
             ],
             [
              0.5555555555555556,
              "#d8576b"
             ],
             [
              0.6666666666666666,
              "#ed7953"
             ],
             [
              0.7777777777777778,
              "#fb9f3a"
             ],
             [
              0.8888888888888888,
              "#fdca26"
             ],
             [
              1,
              "#f0f921"
             ]
            ],
            "type": "contour"
           }
          ],
          "contourcarpet": [
           {
            "colorbar": {
             "outlinewidth": 0,
             "ticks": ""
            },
            "type": "contourcarpet"
           }
          ],
          "heatmap": [
           {
            "colorbar": {
             "outlinewidth": 0,
             "ticks": ""
            },
            "colorscale": [
             [
              0,
              "#0d0887"
             ],
             [
              0.1111111111111111,
              "#46039f"
             ],
             [
              0.2222222222222222,
              "#7201a8"
             ],
             [
              0.3333333333333333,
              "#9c179e"
             ],
             [
              0.4444444444444444,
              "#bd3786"
             ],
             [
              0.5555555555555556,
              "#d8576b"
             ],
             [
              0.6666666666666666,
              "#ed7953"
             ],
             [
              0.7777777777777778,
              "#fb9f3a"
             ],
             [
              0.8888888888888888,
              "#fdca26"
             ],
             [
              1,
              "#f0f921"
             ]
            ],
            "type": "heatmap"
           }
          ],
          "histogram": [
           {
            "marker": {
             "pattern": {
              "fillmode": "overlay",
              "size": 10,
              "solidity": 0.2
             }
            },
            "type": "histogram"
           }
          ],
          "histogram2d": [
           {
            "colorbar": {
             "outlinewidth": 0,
             "ticks": ""
            },
            "colorscale": [
             [
              0,
              "#0d0887"
             ],
             [
              0.1111111111111111,
              "#46039f"
             ],
             [
              0.2222222222222222,
              "#7201a8"
             ],
             [
              0.3333333333333333,
              "#9c179e"
             ],
             [
              0.4444444444444444,
              "#bd3786"
             ],
             [
              0.5555555555555556,
              "#d8576b"
             ],
             [
              0.6666666666666666,
              "#ed7953"
             ],
             [
              0.7777777777777778,
              "#fb9f3a"
             ],
             [
              0.8888888888888888,
              "#fdca26"
             ],
             [
              1,
              "#f0f921"
             ]
            ],
            "type": "histogram2d"
           }
          ],
          "histogram2dcontour": [
           {
            "colorbar": {
             "outlinewidth": 0,
             "ticks": ""
            },
            "colorscale": [
             [
              0,
              "#0d0887"
             ],
             [
              0.1111111111111111,
              "#46039f"
             ],
             [
              0.2222222222222222,
              "#7201a8"
             ],
             [
              0.3333333333333333,
              "#9c179e"
             ],
             [
              0.4444444444444444,
              "#bd3786"
             ],
             [
              0.5555555555555556,
              "#d8576b"
             ],
             [
              0.6666666666666666,
              "#ed7953"
             ],
             [
              0.7777777777777778,
              "#fb9f3a"
             ],
             [
              0.8888888888888888,
              "#fdca26"
             ],
             [
              1,
              "#f0f921"
             ]
            ],
            "type": "histogram2dcontour"
           }
          ],
          "mesh3d": [
           {
            "colorbar": {
             "outlinewidth": 0,
             "ticks": ""
            },
            "type": "mesh3d"
           }
          ],
          "parcoords": [
           {
            "line": {
             "colorbar": {
              "outlinewidth": 0,
              "ticks": ""
             }
            },
            "type": "parcoords"
           }
          ],
          "pie": [
           {
            "automargin": true,
            "type": "pie"
           }
          ],
          "scatter": [
           {
            "fillpattern": {
             "fillmode": "overlay",
             "size": 10,
             "solidity": 0.2
            },
            "type": "scatter"
           }
          ],
          "scatter3d": [
           {
            "line": {
             "colorbar": {
              "outlinewidth": 0,
              "ticks": ""
             }
            },
            "marker": {
             "colorbar": {
              "outlinewidth": 0,
              "ticks": ""
             }
            },
            "type": "scatter3d"
           }
          ],
          "scattercarpet": [
           {
            "marker": {
             "colorbar": {
              "outlinewidth": 0,
              "ticks": ""
             }
            },
            "type": "scattercarpet"
           }
          ],
          "scattergeo": [
           {
            "marker": {
             "colorbar": {
              "outlinewidth": 0,
              "ticks": ""
             }
            },
            "type": "scattergeo"
           }
          ],
          "scattergl": [
           {
            "marker": {
             "colorbar": {
              "outlinewidth": 0,
              "ticks": ""
             }
            },
            "type": "scattergl"
           }
          ],
          "scattermap": [
           {
            "marker": {
             "colorbar": {
              "outlinewidth": 0,
              "ticks": ""
             }
            },
            "type": "scattermap"
           }
          ],
          "scattermapbox": [
           {
            "marker": {
             "colorbar": {
              "outlinewidth": 0,
              "ticks": ""
             }
            },
            "type": "scattermapbox"
           }
          ],
          "scatterpolar": [
           {
            "marker": {
             "colorbar": {
              "outlinewidth": 0,
              "ticks": ""
             }
            },
            "type": "scatterpolar"
           }
          ],
          "scatterpolargl": [
           {
            "marker": {
             "colorbar": {
              "outlinewidth": 0,
              "ticks": ""
             }
            },
            "type": "scatterpolargl"
           }
          ],
          "scatterternary": [
           {
            "marker": {
             "colorbar": {
              "outlinewidth": 0,
              "ticks": ""
             }
            },
            "type": "scatterternary"
           }
          ],
          "surface": [
           {
            "colorbar": {
             "outlinewidth": 0,
             "ticks": ""
            },
            "colorscale": [
             [
              0,
              "#0d0887"
             ],
             [
              0.1111111111111111,
              "#46039f"
             ],
             [
              0.2222222222222222,
              "#7201a8"
             ],
             [
              0.3333333333333333,
              "#9c179e"
             ],
             [
              0.4444444444444444,
              "#bd3786"
             ],
             [
              0.5555555555555556,
              "#d8576b"
             ],
             [
              0.6666666666666666,
              "#ed7953"
             ],
             [
              0.7777777777777778,
              "#fb9f3a"
             ],
             [
              0.8888888888888888,
              "#fdca26"
             ],
             [
              1,
              "#f0f921"
             ]
            ],
            "type": "surface"
           }
          ],
          "table": [
           {
            "cells": {
             "fill": {
              "color": "#EBF0F8"
             },
             "line": {
              "color": "white"
             }
            },
            "header": {
             "fill": {
              "color": "#C8D4E3"
             },
             "line": {
              "color": "white"
             }
            },
            "type": "table"
           }
          ]
         },
         "layout": {
          "annotationdefaults": {
           "arrowcolor": "#2a3f5f",
           "arrowhead": 0,
           "arrowwidth": 1
          },
          "autotypenumbers": "strict",
          "coloraxis": {
           "colorbar": {
            "outlinewidth": 0,
            "ticks": ""
           }
          },
          "colorscale": {
           "diverging": [
            [
             0,
             "#8e0152"
            ],
            [
             0.1,
             "#c51b7d"
            ],
            [
             0.2,
             "#de77ae"
            ],
            [
             0.3,
             "#f1b6da"
            ],
            [
             0.4,
             "#fde0ef"
            ],
            [
             0.5,
             "#f7f7f7"
            ],
            [
             0.6,
             "#e6f5d0"
            ],
            [
             0.7,
             "#b8e186"
            ],
            [
             0.8,
             "#7fbc41"
            ],
            [
             0.9,
             "#4d9221"
            ],
            [
             1,
             "#276419"
            ]
           ],
           "sequential": [
            [
             0,
             "#0d0887"
            ],
            [
             0.1111111111111111,
             "#46039f"
            ],
            [
             0.2222222222222222,
             "#7201a8"
            ],
            [
             0.3333333333333333,
             "#9c179e"
            ],
            [
             0.4444444444444444,
             "#bd3786"
            ],
            [
             0.5555555555555556,
             "#d8576b"
            ],
            [
             0.6666666666666666,
             "#ed7953"
            ],
            [
             0.7777777777777778,
             "#fb9f3a"
            ],
            [
             0.8888888888888888,
             "#fdca26"
            ],
            [
             1,
             "#f0f921"
            ]
           ],
           "sequentialminus": [
            [
             0,
             "#0d0887"
            ],
            [
             0.1111111111111111,
             "#46039f"
            ],
            [
             0.2222222222222222,
             "#7201a8"
            ],
            [
             0.3333333333333333,
             "#9c179e"
            ],
            [
             0.4444444444444444,
             "#bd3786"
            ],
            [
             0.5555555555555556,
             "#d8576b"
            ],
            [
             0.6666666666666666,
             "#ed7953"
            ],
            [
             0.7777777777777778,
             "#fb9f3a"
            ],
            [
             0.8888888888888888,
             "#fdca26"
            ],
            [
             1,
             "#f0f921"
            ]
           ]
          },
          "colorway": [
           "#636efa",
           "#EF553B",
           "#00cc96",
           "#ab63fa",
           "#FFA15A",
           "#19d3f3",
           "#FF6692",
           "#B6E880",
           "#FF97FF",
           "#FECB52"
          ],
          "font": {
           "color": "#2a3f5f"
          },
          "geo": {
           "bgcolor": "white",
           "lakecolor": "white",
           "landcolor": "#E5ECF6",
           "showlakes": true,
           "showland": true,
           "subunitcolor": "white"
          },
          "hoverlabel": {
           "align": "left"
          },
          "hovermode": "closest",
          "mapbox": {
           "style": "light"
          },
          "paper_bgcolor": "white",
          "plot_bgcolor": "#E5ECF6",
          "polar": {
           "angularaxis": {
            "gridcolor": "white",
            "linecolor": "white",
            "ticks": ""
           },
           "bgcolor": "#E5ECF6",
           "radialaxis": {
            "gridcolor": "white",
            "linecolor": "white",
            "ticks": ""
           }
          },
          "scene": {
           "xaxis": {
            "backgroundcolor": "#E5ECF6",
            "gridcolor": "white",
            "gridwidth": 2,
            "linecolor": "white",
            "showbackground": true,
            "ticks": "",
            "zerolinecolor": "white"
           },
           "yaxis": {
            "backgroundcolor": "#E5ECF6",
            "gridcolor": "white",
            "gridwidth": 2,
            "linecolor": "white",
            "showbackground": true,
            "ticks": "",
            "zerolinecolor": "white"
           },
           "zaxis": {
            "backgroundcolor": "#E5ECF6",
            "gridcolor": "white",
            "gridwidth": 2,
            "linecolor": "white",
            "showbackground": true,
            "ticks": "",
            "zerolinecolor": "white"
           }
          },
          "shapedefaults": {
           "line": {
            "color": "#2a3f5f"
           }
          },
          "ternary": {
           "aaxis": {
            "gridcolor": "white",
            "linecolor": "white",
            "ticks": ""
           },
           "baxis": {
            "gridcolor": "white",
            "linecolor": "white",
            "ticks": ""
           },
           "bgcolor": "#E5ECF6",
           "caxis": {
            "gridcolor": "white",
            "linecolor": "white",
            "ticks": ""
           }
          },
          "title": {
           "x": 0.05
          },
          "xaxis": {
           "automargin": true,
           "gridcolor": "white",
           "linecolor": "white",
           "ticks": "",
           "title": {
            "standoff": 15
           },
           "zerolinecolor": "white",
           "zerolinewidth": 2
          },
          "yaxis": {
           "automargin": true,
           "gridcolor": "white",
           "linecolor": "white",
           "ticks": "",
           "title": {
            "standoff": 15
           },
           "zerolinecolor": "white",
           "zerolinewidth": 2
          }
         }
        },
        "xaxis": {
         "anchor": "y",
         "domain": [
          0,
          1
         ],
         "title": {
          "text": "brand"
         }
        },
        "yaxis": {
         "anchor": "x",
         "domain": [
          0,
          1
         ],
         "title": {
          "text": "rating"
         }
        }
       }
      }
     },
     "metadata": {},
     "output_type": "display_data"
    }
   ],
   "source": [
    "# Cruzamento entre brand e rating, apresentando os clusters\n",
    "px.scatter(df_laptops, x='brand', y='rating', color='cluster')"
   ]
  },
  {
   "cell_type": "code",
   "execution_count": 62,
   "id": "9e583689",
   "metadata": {},
   "outputs": [
    {
     "data": {
      "application/vnd.plotly.v1+json": {
       "config": {
        "plotlyServerURL": "https://plot.ly"
       },
       "data": [
        {
         "hovertemplate": "brand=tecno<br>cluster=%{x}<br>rating=%{y}<extra></extra>",
         "legendgroup": "tecno",
         "marker": {
          "color": "#636efa",
          "symbol": "circle"
         },
         "mode": "markers",
         "name": "tecno",
         "orientation": "v",
         "showlegend": true,
         "type": "scatter",
         "x": {
          "bdata": "SSw=",
          "dtype": "i1"
         },
         "xaxis": "x",
         "y": {
          "bdata": "P0M=",
          "dtype": "i1"
         },
         "yaxis": "y"
        },
        {
         "hovertemplate": "brand=hp<br>cluster=%{x}<br>rating=%{y}<extra></extra>",
         "legendgroup": "hp",
         "marker": {
          "color": "#EF553B",
          "symbol": "circle"
         },
         "mode": "markers",
         "name": "hp",
         "orientation": "v",
         "showlegend": true,
         "type": "scatter",
         "x": {
          "bdata": "HABfABgAIAAjAEgAVABUACYAHABIACYAIAALAHkAGwAmACYABQATAAsAhwAUAAsACwCHABwAQAAQAIsAiwBJAEAAAQAGABMAeQAGAF8ABQATACMAQAAUABkASAB/ACYAGACFAHkAVAAcAAQAXwBUABkAiwAcADkAIAAcACYAXwAJAAkAfgALAFQASQCHAC0AOQA4AEAASwBwAHkASwANAEgAcABfACYASAAmACkAHQCHAFYAGAABAB4AOwBfAH8ALgBwABkAHAAJAIsAGQAQACkAKQCQAAsAiwAeACAAHgAmAB0AHgAcAA0AJgAcAAkASQAKACAAHgB+ACoABAAkABQAJgAQACYACgAkACMAhQBUAFQAeQB5AHkAVAAwABIADQAJAEgAVAAwADgAEgAZADAAOAApAEgAeQATACMAfwAgADkAVAAcADgAIAAQAAsAVAAJACYAhwBUAIsAhwAJAFQAhwBfAJMAXwBfAIcACwAqAH8AHgBfACYACwAQABEABgApACgAOgBAACkALQB2ACQAiwAtADoAJAA=",
          "dtype": "i2"
         },
         "xaxis": "x",
         "y": {
          "bdata": "STxVRzFNQj5HR1BHTEY/UEhBRkZGNkhGQzk+Pjo2NDw8UkxAOkw7Q0IxOEw/TD9LVUY/QkFBOzlFNkNERUNJPkdAJ0c2Oj40QDhAMzo+NEZORTlNTEg8WD5GVVhPTjkvRkBLQ0Y5OzM6Pk4/M0ZHSEdWS0NDSEZDPE1JTSw4OSxFRS5DUCY0SUJCQkZCSDk8R0VHRTo1PEY6Pj9IQkcxMkM/QUMvQjJAQkdBOTs6OUtCOTY2MzM2QzhDRzxLQzhNS0BPSDo7NCslOy9JJQ==",
          "dtype": "i1"
         },
         "yaxis": "y"
        },
        {
         "hovertemplate": "brand=acer<br>cluster=%{x}<br>rating=%{y}<extra></extra>",
         "legendgroup": "acer",
         "marker": {
          "color": "#00cc96",
          "symbol": "circle"
         },
         "mode": "markers",
         "name": "acer",
         "orientation": "v",
         "showlegend": true,
         "type": "scatter",
         "x": {
          "bdata": "NQAvABkABAAxAC8AkwAxAC8AggAeAB4AiQAuAIgADQBoADEAWQAvAGEACgCJACEAiQAsAC4AIQAhACEALAA1AHQAeAAvAIIALAAvACQABAAEAIkALwCCAGoAagA4AE4AggCIACAAggAEAC8AMQCJAIgAiQAuAC8AagBqAIkALgA1AGsAIQA7ABIAGwBZAGkAOwA7AIIAEQAgADcAIACCAIkAOABOAB0AiAAvAIgACwALAA==",
          "dtype": "i2"
         },
         "xaxis": "x",
         "y": {
          "bdata": "Pj9APDpHPD5IQ0tGMUA2QE45O0ZDSzFDL0BAQD4/Pzg+JkE+Q0EmOj4ySEY/PC1PQTpQO0BGOzI5MjxFODUzMjs0MkY+TjovQUJAQUlKSDsyLEdNNEc2R0M=",
          "dtype": "i1"
         },
         "yaxis": "y"
        },
        {
         "hovertemplate": "brand=lenovo<br>cluster=%{x}<br>rating=%{y}<extra></extra>",
         "legendgroup": "lenovo",
         "marker": {
          "color": "#ab63fa",
          "symbol": "circle"
         },
         "mode": "markers",
         "name": "lenovo",
         "orientation": "v",
         "showlegend": true,
         "type": "scatter",
         "x": {
          "bdata": "DgAEAGsADgCUAHIAUgAOAA4AhAByAFIAVgBvAJIAhACUAA4AUgAbABEAMgAnAIQAgABvAG8AbwBLADAAUgARAHIAaQAWAGsAAABaAA4ARwAAAGsABQAFAFoAQgAWAD0AMgByADIAWgAdAEYAPgBDAA4AUgAOAJQAMgA9ADIABQAzABsAMgCUADMADgAzABEAHQARADMAXAAOADMAUgAOAJQADgAyADIAUgAjADAAkgBrAFIAPgBJAAQAlABEAD4AYwBcAHIAlABvAAAAPQBcAIQASQAzAAQAPgAZAGsAUgBrAAAAMwA+AA4AkwBLAFIAlAAFAIAASQAzAAQAgAAzADMASQA+AJMAMwBvAG8AcgByAHIAOgCAAD4APgAOAD4AaQAAADIADgAnAEYAOQBSAHIAPgCSAJIAMgCEADIASQBvAEMAAABaAA4AWgAJAAUADgAAAA4ADgAuAFIAAACSAA4AAAAEAEYAQwAEAJIAMgByAGEAQgBCAEMARwAOAA4ASQBSAEsAjQAKAEMAQwBLABkA",
          "dtype": "i2"
         },
         "xaxis": "x",
         "y": {
          "bdata": "PkI7O0dFM0IvRj87UEZCQEM8QE1TPDJAPkU/QzU1NU5KMUA5Oj4yOj5COTw/M0BDQktBOVZGRTY1OThFQ0s/Ojk/QUVAODpUVU46TTlBOTlDOjw+My4zP0ArRTo7QUc/WVNPQ0I4QVNFNDo8Pjo6NT86O0U6PDhBQDw8PD5BQD48O0A6PEhHSUlLST9FSDlFJj5BOzJGPjpFQENCQ0BDO0Y5Pj45P0s+OTk7NkA1Njg7OUJAMkM6Q0dOLystOjg4PEI3NEs2MjBA",
          "dtype": "i1"
         },
         "yaxis": "y"
        },
        {
         "hovertemplate": "brand=apple<br>cluster=%{x}<br>rating=%{y}<extra></extra>",
         "legendgroup": "apple",
         "marker": {
          "color": "#FFA15A",
          "symbol": "circle"
         },
         "mode": "markers",
         "name": "apple",
         "orientation": "v",
         "showlegend": true,
         "type": "scatter",
         "x": {
          "bdata": "cQCOAHEAWABxAGUAZQBnAFgAWABxAHEAdwB3AFgA",
          "dtype": "i2"
         },
         "xaxis": "x",
         "y": {
          "bdata": "LUEwNSs/QDo4OC0tNToz",
          "dtype": "i1"
         },
         "yaxis": "y"
        },
        {
         "hovertemplate": "brand=infinix<br>cluster=%{x}<br>rating=%{y}<extra></extra>",
         "legendgroup": "infinix",
         "marker": {
          "color": "#19d3f3",
          "symbol": "circle"
         },
         "mode": "markers",
         "name": "infinix",
         "orientation": "v",
         "showlegend": true,
         "type": "scatter",
         "x": {
          "bdata": "BFNKWUosUzVrWUo1Lg==",
          "dtype": "i1"
         },
         "xaxis": "x",
         "y": {
          "bdata": "OEc2MjU8Pzg5OTQ5Og==",
          "dtype": "i1"
         },
         "yaxis": "y"
        },
        {
         "hovertemplate": "brand=asus<br>cluster=%{x}<br>rating=%{y}<extra></extra>",
         "legendgroup": "asus",
         "marker": {
          "color": "#FF6692",
          "symbol": "circle"
         },
         "mode": "markers",
         "name": "asus",
         "orientation": "v",
         "showlegend": true,
         "type": "scatter",
         "x": {
          "bdata": "EwAlABQADwBKAEAAAwCDAB0AKwAfAC4AHgADAA0AHwAuAB8AHwADAFUAEwCBAIEAegBzAGMAgwBdACUASgAfAAQAYABkAAIAAwANAAMAAwADABMAHwALAFkAHwAlABcATgBOAAoADwADACsAPgA0ACgAXQAlAJMAJQBKAAkAEQACAAIAYAAwAHQAAwB8AFUAKwBpACsADwACABkARABEABQAKwAQAHQABAAfAGAAYAAUAAoAAwACAAIAAgBdAAIAAwADAAMAAwBdAFUAMAADAFUACgA4AF0AAwBVAFUASgAfAEIAXQADAAMAVQAbAFUATwAfAB8AAwAfAA8AAwBPABUADwBhAFUAKABKAEIABABAAFYAXQARAB4AIgAXAAoAEQAUAFUAIgBPABcAJQB7AAoAHwADAIwANAAKAGEAgQAbAHsABAAQAF0AjACTAFkADQANAIEADQAfAAkAXQA4AA8AGQAfAB8AHwA4ADgADQAfAA0ADQAfAB8AXQAJAF0APQA5AGAAkwBzADcAMAASADAAVQAdADkAVgB0ACUAVQBAAHMA",
          "dtype": "i2"
         },
         "xaxis": "x",
         "y": {
          "bdata": "RkdMOTlBSE1TS0NATkg+QDk/R0ZGQktISEBYTzxBOEY+R0UjR0FMTUxGQjw7QDpQTU9OQENARkFHO0E8QTJJVSUsQzpBRS0/RiZCMyZJOj5GRytDOzxAP0lASCUpJTklSEFCRjk+OEU/TDs5SEJINkAtOUhLRlJIR0E8S0A8SFNHO0VAQjUtOj9ANkdJWVRLU0lNWUxQQ0lSQkhLQkxCRlRHOC04Tjw7SUlGSztANDA7Pzg+PDk4R0BARj48NTozSj5DO0NZOjs1SFNEREFARDtE",
          "dtype": "i1"
         },
         "yaxis": "y"
        },
        {
         "hovertemplate": "brand=dell<br>cluster=%{x}<br>rating=%{y}<extra></extra>",
         "legendgroup": "dell",
         "marker": {
          "color": "#B6E880",
          "symbol": "circle"
         },
         "mode": "markers",
         "name": "dell",
         "orientation": "v",
         "showlegend": true,
         "type": "scatter",
         "x": {
          "bdata": "WwBQAFAAOQAFADQADwAUAHoAaABbACoAFABmAGsAEgBeAD8AigBOAGYAQQBbAF4AQQAUAFsAQQBBAFsAWwBrAA8ADwBmACoABQAqAFsABQAaAD8AWwBMAGYATAA/AIYAQQAFAEEAWwBMAGMATABGAI8AEgAdABcAfQBsAIYABQA/AIYAZgBeAF4AWwBmAGYARwBQAAwAdQBmAHsANAAPABsANwBeAF4AWwBeAF4AQQBBAFAAiQBOAFAAUAB6ACIAGwAMAAwAWwAuADkAZgAPAF4AUAA=",
          "dtype": "i2"
         },
         "xaxis": "x",
         "y": {
          "bdata": "PEJHQkJGPEhKTjs1ST8+RD44Q1A1OjE7QEs6OTU1OTk4OTg5PjU6OU44Oj86PjY7OTw/OjxVP0FTQVVQU1k8Pzw4NThDOjQ8PEZYUjZIRzhOUjs6OTg0OThMNE9JS0VOU1JTPz87PjtESA==",
          "dtype": "i1"
         },
         "yaxis": "y"
        },
        {
         "hovertemplate": "brand=samsung<br>cluster=%{x}<br>rating=%{y}<extra></extra>",
         "legendgroup": "samsung",
         "marker": {
          "color": "#FF97FF",
          "symbol": "circle"
         },
         "mode": "markers",
         "name": "samsung",
         "orientation": "v",
         "showlegend": true,
         "type": "scatter",
         "x": {
          "bdata": "Ng9rD2sPNg==",
          "dtype": "i1"
         },
         "xaxis": "x",
         "y": {
          "bdata": "RDs+ODw7RA==",
          "dtype": "i1"
         },
         "yaxis": "y"
        },
        {
         "hovertemplate": "brand=msi<br>cluster=%{x}<br>rating=%{y}<extra></extra>",
         "legendgroup": "msi",
         "marker": {
          "color": "#FECB52",
          "symbol": "circle"
         },
         "mode": "markers",
         "name": "msi",
         "orientation": "v",
         "showlegend": true,
         "type": "scatter",
         "x": {
          "bdata": "BwAVAFkABwAHABoACwAEADUAFQATABUALgA1AAcALgAHAAcAEgAVADsAFQAbAFEARQAaAAcABwAVAAcAVwAbAFcAEwAHAAcAVwAbAB0ANQAxAAoAYQAHABMABwBFAAsAFwBFABcAEwAXAEUAAAATABIAegAVAGIAFQATABUANwAVABUALgAuAAEABwAVADcAAQAbABUARQCTAJMAOQAAADUAbgAVAG4AawA1ADUAAAAVAAcA",
          "dtype": "i2"
         },
         "xaxis": "x",
         "y": {
          "bdata": "R0w6RkFLQT88SUFJPkFIPklFPk9ORVBZRlNHTExNT0xNRUdGU0lZPzpNR0FDTkNBTkVNQk1LP0ZBS0tVRUdJVkdNQUZZQUdUV1BGSDU2PDo7SEpDOz06OExJ",
          "dtype": "i1"
         },
         "yaxis": "y"
        },
        {
         "hovertemplate": "brand=wings<br>cluster=%{x}<br>rating=%{y}<extra></extra>",
         "legendgroup": "wings",
         "marker": {
          "color": "#636efa",
          "symbol": "circle"
         },
         "mode": "markers",
         "name": "wings",
         "orientation": "v",
         "showlegend": true,
         "type": "scatter",
         "x": {
          "bdata": "CAgICA==",
          "dtype": "i1"
         },
         "xaxis": "x",
         "y": {
          "bdata": "ODoxMw==",
          "dtype": "i1"
         },
         "yaxis": "y"
        },
        {
         "hovertemplate": "brand=ultimus<br>cluster=%{x}<br>rating=%{y}<extra></extra>",
         "legendgroup": "ultimus",
         "marker": {
          "color": "#EF553B",
          "symbol": "circle"
         },
         "mode": "markers",
         "name": "ultimus",
         "orientation": "v",
         "showlegend": true,
         "type": "scatter",
         "x": {
          "bdata": "WScnJydZ",
          "dtype": "i1"
         },
         "xaxis": "x",
         "y": {
          "bdata": "Ni4pLS80",
          "dtype": "i1"
         },
         "yaxis": "y"
        },
        {
         "hovertemplate": "brand=primebook<br>cluster=%{x}<br>rating=%{y}<extra></extra>",
         "legendgroup": "primebook",
         "marker": {
          "color": "#00cc96",
          "symbol": "circle"
         },
         "mode": "markers",
         "name": "primebook",
         "orientation": "v",
         "showlegend": true,
         "type": "scatter",
         "x": {
          "bdata": "PDw=",
          "dtype": "i1"
         },
         "xaxis": "x",
         "y": {
          "bdata": "Gh8=",
          "dtype": "i1"
         },
         "yaxis": "y"
        },
        {
         "hovertemplate": "brand=iball<br>cluster=%{x}<br>rating=%{y}<extra></extra>",
         "legendgroup": "iball",
         "marker": {
          "color": "#ab63fa",
          "symbol": "circle"
         },
         "mode": "markers",
         "name": "iball",
         "orientation": "v",
         "showlegend": true,
         "type": "scatter",
         "x": {
          "bdata": "aQ==",
          "dtype": "i1"
         },
         "xaxis": "x",
         "y": {
          "bdata": "KQ==",
          "dtype": "i1"
         },
         "yaxis": "y"
        },
        {
         "hovertemplate": "brand=zebronics<br>cluster=%{x}<br>rating=%{y}<extra></extra>",
         "legendgroup": "zebronics",
         "marker": {
          "color": "#FFA15A",
          "symbol": "circle"
         },
         "mode": "markers",
         "name": "zebronics",
         "orientation": "v",
         "showlegend": true,
         "type": "scatter",
         "x": {
          "bdata": "MQQZMSExIQ==",
          "dtype": "i1"
         },
         "xaxis": "x",
         "y": {
          "bdata": "QT9IOEI8SA==",
          "dtype": "i1"
         },
         "yaxis": "y"
        },
        {
         "hovertemplate": "brand=chuwi<br>cluster=%{x}<br>rating=%{y}<extra></extra>",
         "legendgroup": "chuwi",
         "marker": {
          "color": "#19d3f3",
          "symbol": "circle"
         },
         "mode": "markers",
         "name": "chuwi",
         "orientation": "v",
         "showlegend": true,
         "type": "scatter",
         "x": {
          "bdata": "bVlZbQ==",
          "dtype": "i1"
         },
         "xaxis": "x",
         "y": {
          "bdata": "MjIyNg==",
          "dtype": "i1"
         },
         "yaxis": "y"
        },
        {
         "hovertemplate": "brand=gigabyte<br>cluster=%{x}<br>rating=%{y}<extra></extra>",
         "legendgroup": "gigabyte",
         "marker": {
          "color": "#FF6692",
          "symbol": "circle"
         },
         "mode": "markers",
         "name": "gigabyte",
         "orientation": "v",
         "showlegend": true,
         "type": "scatter",
         "x": {
          "bdata": "L3o=",
          "dtype": "i1"
         },
         "xaxis": "x",
         "y": {
          "bdata": "Q0k=",
          "dtype": "i1"
         },
         "yaxis": "y"
        },
        {
         "hovertemplate": "brand=jio<br>cluster=%{x}<br>rating=%{y}<extra></extra>",
         "legendgroup": "jio",
         "marker": {
          "color": "#B6E880",
          "symbol": "circle"
         },
         "mode": "markers",
         "name": "jio",
         "orientation": "v",
         "showlegend": true,
         "type": "scatter",
         "x": {
          "bdata": "PA==",
          "dtype": "i1"
         },
         "xaxis": "x",
         "y": {
          "bdata": "GA==",
          "dtype": "i1"
         },
         "yaxis": "y"
        },
        {
         "hovertemplate": "brand=honor<br>cluster=%{x}<br>rating=%{y}<extra></extra>",
         "legendgroup": "honor",
         "marker": {
          "color": "#FF97FF",
          "symbol": "circle"
         },
         "mode": "markers",
         "name": "honor",
         "orientation": "v",
         "showlegend": true,
         "type": "scatter",
         "x": {
          "bdata": "CQCTAA==",
          "dtype": "i2"
         },
         "xaxis": "x",
         "y": {
          "bdata": "Qjs=",
          "dtype": "i1"
         },
         "yaxis": "y"
        },
        {
         "hovertemplate": "brand=realme<br>cluster=%{x}<br>rating=%{y}<extra></extra>",
         "legendgroup": "realme",
         "marker": {
          "color": "#FECB52",
          "symbol": "circle"
         },
         "mode": "markers",
         "name": "realme",
         "orientation": "v",
         "showlegend": true,
         "type": "scatter",
         "x": {
          "bdata": "CG0=",
          "dtype": "i1"
         },
         "xaxis": "x",
         "y": {
          "bdata": "ND4=",
          "dtype": "i1"
         },
         "yaxis": "y"
        },
        {
         "hovertemplate": "brand=avita<br>cluster=%{x}<br>rating=%{y}<extra></extra>",
         "legendgroup": "avita",
         "marker": {
          "color": "#636efa",
          "symbol": "circle"
         },
         "mode": "markers",
         "name": "avita",
         "orientation": "v",
         "showlegend": true,
         "type": "scatter",
         "x": {
          "bdata": "MDAxfEI=",
          "dtype": "i1"
         },
         "xaxis": "x",
         "y": {
          "bdata": "ODIzKSs=",
          "dtype": "i1"
         },
         "yaxis": "y"
        },
        {
         "hovertemplate": "brand=microsoft<br>cluster=%{x}<br>rating=%{y}<extra></extra>",
         "legendgroup": "microsoft",
         "marker": {
          "color": "#EF553B",
          "symbol": "circle"
         },
         "mode": "markers",
         "name": "microsoft",
         "orientation": "v",
         "showlegend": true,
         "type": "scatter",
         "x": {
          "bdata": "TU0=",
          "dtype": "i1"
         },
         "xaxis": "x",
         "y": {
          "bdata": "Ojw=",
          "dtype": "i1"
         },
         "yaxis": "y"
        },
        {
         "hovertemplate": "brand=fujitsu<br>cluster=%{x}<br>rating=%{y}<extra></extra>",
         "legendgroup": "fujitsu",
         "marker": {
          "color": "#00cc96",
          "symbol": "circle"
         },
         "mode": "markers",
         "name": "fujitsu",
         "orientation": "v",
         "showlegend": true,
         "type": "scatter",
         "x": {
          "bdata": "CQAJAG4ACQCEAA==",
          "dtype": "i2"
         },
         "xaxis": "x",
         "y": {
          "bdata": "Q0FMSUY=",
          "dtype": "i1"
         },
         "yaxis": "y"
        },
        {
         "hovertemplate": "brand=lg<br>cluster=%{x}<br>rating=%{y}<extra></extra>",
         "legendgroup": "lg",
         "marker": {
          "color": "#ab63fa",
          "symbol": "circle"
         },
         "mode": "markers",
         "name": "lg",
         "orientation": "v",
         "showlegend": true,
         "type": "scatter",
         "x": {
          "bdata": "NgAlAJEANgAlAA0ANAA=",
          "dtype": "i2"
         },
         "xaxis": "x",
         "y": {
          "bdata": "Q0hORUtISA==",
          "dtype": "i1"
         },
         "yaxis": "y"
        },
        {
         "hovertemplate": "brand=walker<br>cluster=%{x}<br>rating=%{y}<extra></extra>",
         "legendgroup": "walker",
         "marker": {
          "color": "#FFA15A",
          "symbol": "circle"
         },
         "mode": "markers",
         "name": "walker",
         "orientation": "v",
         "showlegend": true,
         "type": "scatter",
         "x": {
          "bdata": "fA==",
          "dtype": "i1"
         },
         "xaxis": "x",
         "y": {
          "bdata": "JQ==",
          "dtype": "i1"
         },
         "yaxis": "y"
        },
        {
         "hovertemplate": "brand=axl<br>cluster=%{x}<br>rating=%{y}<extra></extra>",
         "legendgroup": "axl",
         "marker": {
          "color": "#19d3f3",
          "symbol": "circle"
         },
         "mode": "markers",
         "name": "axl",
         "orientation": "v",
         "showlegend": true,
         "type": "scatter",
         "x": {
          "bdata": "Qnw=",
          "dtype": "i1"
         },
         "xaxis": "x",
         "y": {
          "bdata": "JiU=",
          "dtype": "i1"
         },
         "yaxis": "y"
        }
       ],
       "layout": {
        "legend": {
         "title": {
          "text": "brand"
         },
         "tracegroupgap": 0
        },
        "margin": {
         "t": 60
        },
        "template": {
         "data": {
          "bar": [
           {
            "error_x": {
             "color": "#2a3f5f"
            },
            "error_y": {
             "color": "#2a3f5f"
            },
            "marker": {
             "line": {
              "color": "#E5ECF6",
              "width": 0.5
             },
             "pattern": {
              "fillmode": "overlay",
              "size": 10,
              "solidity": 0.2
             }
            },
            "type": "bar"
           }
          ],
          "barpolar": [
           {
            "marker": {
             "line": {
              "color": "#E5ECF6",
              "width": 0.5
             },
             "pattern": {
              "fillmode": "overlay",
              "size": 10,
              "solidity": 0.2
             }
            },
            "type": "barpolar"
           }
          ],
          "carpet": [
           {
            "aaxis": {
             "endlinecolor": "#2a3f5f",
             "gridcolor": "white",
             "linecolor": "white",
             "minorgridcolor": "white",
             "startlinecolor": "#2a3f5f"
            },
            "baxis": {
             "endlinecolor": "#2a3f5f",
             "gridcolor": "white",
             "linecolor": "white",
             "minorgridcolor": "white",
             "startlinecolor": "#2a3f5f"
            },
            "type": "carpet"
           }
          ],
          "choropleth": [
           {
            "colorbar": {
             "outlinewidth": 0,
             "ticks": ""
            },
            "type": "choropleth"
           }
          ],
          "contour": [
           {
            "colorbar": {
             "outlinewidth": 0,
             "ticks": ""
            },
            "colorscale": [
             [
              0,
              "#0d0887"
             ],
             [
              0.1111111111111111,
              "#46039f"
             ],
             [
              0.2222222222222222,
              "#7201a8"
             ],
             [
              0.3333333333333333,
              "#9c179e"
             ],
             [
              0.4444444444444444,
              "#bd3786"
             ],
             [
              0.5555555555555556,
              "#d8576b"
             ],
             [
              0.6666666666666666,
              "#ed7953"
             ],
             [
              0.7777777777777778,
              "#fb9f3a"
             ],
             [
              0.8888888888888888,
              "#fdca26"
             ],
             [
              1,
              "#f0f921"
             ]
            ],
            "type": "contour"
           }
          ],
          "contourcarpet": [
           {
            "colorbar": {
             "outlinewidth": 0,
             "ticks": ""
            },
            "type": "contourcarpet"
           }
          ],
          "heatmap": [
           {
            "colorbar": {
             "outlinewidth": 0,
             "ticks": ""
            },
            "colorscale": [
             [
              0,
              "#0d0887"
             ],
             [
              0.1111111111111111,
              "#46039f"
             ],
             [
              0.2222222222222222,
              "#7201a8"
             ],
             [
              0.3333333333333333,
              "#9c179e"
             ],
             [
              0.4444444444444444,
              "#bd3786"
             ],
             [
              0.5555555555555556,
              "#d8576b"
             ],
             [
              0.6666666666666666,
              "#ed7953"
             ],
             [
              0.7777777777777778,
              "#fb9f3a"
             ],
             [
              0.8888888888888888,
              "#fdca26"
             ],
             [
              1,
              "#f0f921"
             ]
            ],
            "type": "heatmap"
           }
          ],
          "histogram": [
           {
            "marker": {
             "pattern": {
              "fillmode": "overlay",
              "size": 10,
              "solidity": 0.2
             }
            },
            "type": "histogram"
           }
          ],
          "histogram2d": [
           {
            "colorbar": {
             "outlinewidth": 0,
             "ticks": ""
            },
            "colorscale": [
             [
              0,
              "#0d0887"
             ],
             [
              0.1111111111111111,
              "#46039f"
             ],
             [
              0.2222222222222222,
              "#7201a8"
             ],
             [
              0.3333333333333333,
              "#9c179e"
             ],
             [
              0.4444444444444444,
              "#bd3786"
             ],
             [
              0.5555555555555556,
              "#d8576b"
             ],
             [
              0.6666666666666666,
              "#ed7953"
             ],
             [
              0.7777777777777778,
              "#fb9f3a"
             ],
             [
              0.8888888888888888,
              "#fdca26"
             ],
             [
              1,
              "#f0f921"
             ]
            ],
            "type": "histogram2d"
           }
          ],
          "histogram2dcontour": [
           {
            "colorbar": {
             "outlinewidth": 0,
             "ticks": ""
            },
            "colorscale": [
             [
              0,
              "#0d0887"
             ],
             [
              0.1111111111111111,
              "#46039f"
             ],
             [
              0.2222222222222222,
              "#7201a8"
             ],
             [
              0.3333333333333333,
              "#9c179e"
             ],
             [
              0.4444444444444444,
              "#bd3786"
             ],
             [
              0.5555555555555556,
              "#d8576b"
             ],
             [
              0.6666666666666666,
              "#ed7953"
             ],
             [
              0.7777777777777778,
              "#fb9f3a"
             ],
             [
              0.8888888888888888,
              "#fdca26"
             ],
             [
              1,
              "#f0f921"
             ]
            ],
            "type": "histogram2dcontour"
           }
          ],
          "mesh3d": [
           {
            "colorbar": {
             "outlinewidth": 0,
             "ticks": ""
            },
            "type": "mesh3d"
           }
          ],
          "parcoords": [
           {
            "line": {
             "colorbar": {
              "outlinewidth": 0,
              "ticks": ""
             }
            },
            "type": "parcoords"
           }
          ],
          "pie": [
           {
            "automargin": true,
            "type": "pie"
           }
          ],
          "scatter": [
           {
            "fillpattern": {
             "fillmode": "overlay",
             "size": 10,
             "solidity": 0.2
            },
            "type": "scatter"
           }
          ],
          "scatter3d": [
           {
            "line": {
             "colorbar": {
              "outlinewidth": 0,
              "ticks": ""
             }
            },
            "marker": {
             "colorbar": {
              "outlinewidth": 0,
              "ticks": ""
             }
            },
            "type": "scatter3d"
           }
          ],
          "scattercarpet": [
           {
            "marker": {
             "colorbar": {
              "outlinewidth": 0,
              "ticks": ""
             }
            },
            "type": "scattercarpet"
           }
          ],
          "scattergeo": [
           {
            "marker": {
             "colorbar": {
              "outlinewidth": 0,
              "ticks": ""
             }
            },
            "type": "scattergeo"
           }
          ],
          "scattergl": [
           {
            "marker": {
             "colorbar": {
              "outlinewidth": 0,
              "ticks": ""
             }
            },
            "type": "scattergl"
           }
          ],
          "scattermap": [
           {
            "marker": {
             "colorbar": {
              "outlinewidth": 0,
              "ticks": ""
             }
            },
            "type": "scattermap"
           }
          ],
          "scattermapbox": [
           {
            "marker": {
             "colorbar": {
              "outlinewidth": 0,
              "ticks": ""
             }
            },
            "type": "scattermapbox"
           }
          ],
          "scatterpolar": [
           {
            "marker": {
             "colorbar": {
              "outlinewidth": 0,
              "ticks": ""
             }
            },
            "type": "scatterpolar"
           }
          ],
          "scatterpolargl": [
           {
            "marker": {
             "colorbar": {
              "outlinewidth": 0,
              "ticks": ""
             }
            },
            "type": "scatterpolargl"
           }
          ],
          "scatterternary": [
           {
            "marker": {
             "colorbar": {
              "outlinewidth": 0,
              "ticks": ""
             }
            },
            "type": "scatterternary"
           }
          ],
          "surface": [
           {
            "colorbar": {
             "outlinewidth": 0,
             "ticks": ""
            },
            "colorscale": [
             [
              0,
              "#0d0887"
             ],
             [
              0.1111111111111111,
              "#46039f"
             ],
             [
              0.2222222222222222,
              "#7201a8"
             ],
             [
              0.3333333333333333,
              "#9c179e"
             ],
             [
              0.4444444444444444,
              "#bd3786"
             ],
             [
              0.5555555555555556,
              "#d8576b"
             ],
             [
              0.6666666666666666,
              "#ed7953"
             ],
             [
              0.7777777777777778,
              "#fb9f3a"
             ],
             [
              0.8888888888888888,
              "#fdca26"
             ],
             [
              1,
              "#f0f921"
             ]
            ],
            "type": "surface"
           }
          ],
          "table": [
           {
            "cells": {
             "fill": {
              "color": "#EBF0F8"
             },
             "line": {
              "color": "white"
             }
            },
            "header": {
             "fill": {
              "color": "#C8D4E3"
             },
             "line": {
              "color": "white"
             }
            },
            "type": "table"
           }
          ]
         },
         "layout": {
          "annotationdefaults": {
           "arrowcolor": "#2a3f5f",
           "arrowhead": 0,
           "arrowwidth": 1
          },
          "autotypenumbers": "strict",
          "coloraxis": {
           "colorbar": {
            "outlinewidth": 0,
            "ticks": ""
           }
          },
          "colorscale": {
           "diverging": [
            [
             0,
             "#8e0152"
            ],
            [
             0.1,
             "#c51b7d"
            ],
            [
             0.2,
             "#de77ae"
            ],
            [
             0.3,
             "#f1b6da"
            ],
            [
             0.4,
             "#fde0ef"
            ],
            [
             0.5,
             "#f7f7f7"
            ],
            [
             0.6,
             "#e6f5d0"
            ],
            [
             0.7,
             "#b8e186"
            ],
            [
             0.8,
             "#7fbc41"
            ],
            [
             0.9,
             "#4d9221"
            ],
            [
             1,
             "#276419"
            ]
           ],
           "sequential": [
            [
             0,
             "#0d0887"
            ],
            [
             0.1111111111111111,
             "#46039f"
            ],
            [
             0.2222222222222222,
             "#7201a8"
            ],
            [
             0.3333333333333333,
             "#9c179e"
            ],
            [
             0.4444444444444444,
             "#bd3786"
            ],
            [
             0.5555555555555556,
             "#d8576b"
            ],
            [
             0.6666666666666666,
             "#ed7953"
            ],
            [
             0.7777777777777778,
             "#fb9f3a"
            ],
            [
             0.8888888888888888,
             "#fdca26"
            ],
            [
             1,
             "#f0f921"
            ]
           ],
           "sequentialminus": [
            [
             0,
             "#0d0887"
            ],
            [
             0.1111111111111111,
             "#46039f"
            ],
            [
             0.2222222222222222,
             "#7201a8"
            ],
            [
             0.3333333333333333,
             "#9c179e"
            ],
            [
             0.4444444444444444,
             "#bd3786"
            ],
            [
             0.5555555555555556,
             "#d8576b"
            ],
            [
             0.6666666666666666,
             "#ed7953"
            ],
            [
             0.7777777777777778,
             "#fb9f3a"
            ],
            [
             0.8888888888888888,
             "#fdca26"
            ],
            [
             1,
             "#f0f921"
            ]
           ]
          },
          "colorway": [
           "#636efa",
           "#EF553B",
           "#00cc96",
           "#ab63fa",
           "#FFA15A",
           "#19d3f3",
           "#FF6692",
           "#B6E880",
           "#FF97FF",
           "#FECB52"
          ],
          "font": {
           "color": "#2a3f5f"
          },
          "geo": {
           "bgcolor": "white",
           "lakecolor": "white",
           "landcolor": "#E5ECF6",
           "showlakes": true,
           "showland": true,
           "subunitcolor": "white"
          },
          "hoverlabel": {
           "align": "left"
          },
          "hovermode": "closest",
          "mapbox": {
           "style": "light"
          },
          "paper_bgcolor": "white",
          "plot_bgcolor": "#E5ECF6",
          "polar": {
           "angularaxis": {
            "gridcolor": "white",
            "linecolor": "white",
            "ticks": ""
           },
           "bgcolor": "#E5ECF6",
           "radialaxis": {
            "gridcolor": "white",
            "linecolor": "white",
            "ticks": ""
           }
          },
          "scene": {
           "xaxis": {
            "backgroundcolor": "#E5ECF6",
            "gridcolor": "white",
            "gridwidth": 2,
            "linecolor": "white",
            "showbackground": true,
            "ticks": "",
            "zerolinecolor": "white"
           },
           "yaxis": {
            "backgroundcolor": "#E5ECF6",
            "gridcolor": "white",
            "gridwidth": 2,
            "linecolor": "white",
            "showbackground": true,
            "ticks": "",
            "zerolinecolor": "white"
           },
           "zaxis": {
            "backgroundcolor": "#E5ECF6",
            "gridcolor": "white",
            "gridwidth": 2,
            "linecolor": "white",
            "showbackground": true,
            "ticks": "",
            "zerolinecolor": "white"
           }
          },
          "shapedefaults": {
           "line": {
            "color": "#2a3f5f"
           }
          },
          "ternary": {
           "aaxis": {
            "gridcolor": "white",
            "linecolor": "white",
            "ticks": ""
           },
           "baxis": {
            "gridcolor": "white",
            "linecolor": "white",
            "ticks": ""
           },
           "bgcolor": "#E5ECF6",
           "caxis": {
            "gridcolor": "white",
            "linecolor": "white",
            "ticks": ""
           }
          },
          "title": {
           "x": 0.05
          },
          "xaxis": {
           "automargin": true,
           "gridcolor": "white",
           "linecolor": "white",
           "ticks": "",
           "title": {
            "standoff": 15
           },
           "zerolinecolor": "white",
           "zerolinewidth": 2
          },
          "yaxis": {
           "automargin": true,
           "gridcolor": "white",
           "linecolor": "white",
           "ticks": "",
           "title": {
            "standoff": 15
           },
           "zerolinecolor": "white",
           "zerolinewidth": 2
          }
         }
        },
        "xaxis": {
         "anchor": "y",
         "domain": [
          0,
          1
         ],
         "title": {
          "text": "cluster"
         }
        },
        "yaxis": {
         "anchor": "x",
         "domain": [
          0,
          1
         ],
         "title": {
          "text": "rating"
         }
        }
       }
      }
     },
     "metadata": {},
     "output_type": "display_data"
    }
   ],
   "source": [
    "# Cruzamento entre brand e rating, apresentando os clusters\n",
    "px.scatter(df_laptops, x='cluster', y='rating', color='brand')"
   ]
  },
  {
   "cell_type": "code",
   "execution_count": 63,
   "id": "7d43a411",
   "metadata": {},
   "outputs": [
    {
     "data": {
      "application/vnd.plotly.v1+json": {
       "config": {
        "plotlyServerURL": "https://plot.ly"
       },
       "data": [
        {
         "hovertemplate": "cluster=%{marker.color}<br>value=%{y}<extra></extra>",
         "legendgroup": "",
         "marker": {
          "color": {
           "bdata": "DgADAB8ABAAVAAcACQAPAAsAJgAuABMADQBUAGsAUgAbAAAABQBbAFUAMgA1AFkAMwA+AC8AMAAZAF0ACgAUAEkAHAA4AB4AIACTAHIAXwA5ACUAMQAdABEAXgCJAGYAQQBvABIAAgCUAEoAhwB5AEAAEACCABcAIQBIAFAAQgCLACcATgBLAEMAhACSACkACABgAFoAiABFACsAKgAkADQALAA3ADsAIwBhAHoAaQBxAEYAPQABADYAgQCAAHQAfAB/AFgAPwBMAGoAVgAGAAwARwA6AIYAVwAoACIAGgAYAC0ARAA8AE8AXAB7AHMAbQBwAGMAbgAWAHcAUwBNAIUAZQBoAH4AjACDAFEAYgBkAGcAbAB1AHYAfQB4AIoAjQCQAI8AjgCRAA==",
           "dtype": "i2"
          },
          "coloraxis": "coloraxis",
          "pattern": {
           "shape": ""
          }
         },
         "name": "",
         "orientation": "v",
         "showlegend": false,
         "textposition": "auto",
         "type": "bar",
         "x": {
          "bdata": "DgADAB8ABAAVAAcACQAPAAsAJgAuABMADQBUAGsAUgAbAAAABQBbAFUAMgA1AFkAMwA+AC8AMAAZAF0ACgAUAEkAHAA4AB4AIACTAHIAXwA5ACUAMQAdABEAXgCJAGYAQQBvABIAAgCUAEoAhwB5AEAAEACCABcAIQBIAFAAQgCLACcATgBLAEMAhACSACkACABgAFoAiABFACsAKgAkADQALAA3ADsAIwBhAHoAaQBxAEYAPQABADYAgQCAAHQAfAB/AFgAPwBMAGoAVgAGAAwARwA6AIYAVwAoACIAGgAYAC0ARAA8AE8AXAB7AHMAbQBwAGMAbgAWAHcAUwBNAIUAZQBoAH4AjACDAFEAYgBkAGcAbAB1AHYAfQB4AIoAjQCQAI8AjgCRAA==",
          "dtype": "i2"
         },
         "xaxis": "x",
         "y": {
          "bdata": "fkVtx4TCAUCDfKLV2/MAQImz1+MyJQBAHtUZ5BOt/j9CH1k5HtX5P06Nw1XMN/g/To3DVcw3+D9a+y1yepr2P1r7LXJ6mvY/Wvstcnqa9j9a+y1yepr2P2VpmI4o/fQ/ZWmYjij99D9laZiOKP30P2VpmI4o/fQ/ZWmYjij99D9x1wKr1l/zP3HXAqvWX/M/cdcCq9Zf8z9x1wKr1l/zP3HXAqvWX/M/cdcCq9Zf8z9+RW3HhMLxP35FbceEwvE/fkVtx4TC8T9+RW3HhMLxP35FbceEwvE/fkVtx4TC8T9+RW3HhMLxP35FbceEwvE/fkVtx4TC8T+Js9fjMiXwP4mz1+MyJfA/ibPX4zIl8D+Js9fjMiXwP4mz1+MyJfA/ibPX4zIl8D+Js9fjMiXwP4mz1+MyJfA/ibPX4zIl8D8qQ4QAwg/tPypDhADCD+0/KkOEAMIP7T8qQ4QAwg/tPypDhADCD+0/KkOEAMIP7T8qQ4QAwg/tPypDhADCD+0/Qh9ZOR7V6T9CH1k5HtXpP0IfWTke1ek/Qh9ZOR7V6T9CH1k5HtXpP0IfWTke1ek/Qh9ZOR7V6T9CH1k5HtXpP0IfWTke1ek/Wvstcnqa5j9a+y1yeprmP1r7LXJ6muY/Wvstcnqa5j9a+y1yeprmP1r7LXJ6muY/Wvstcnqa5j9a+y1yeprmP3HXAqvWX+M/cdcCq9Zf4z9x1wKr1l/jP3HXAqvWX+M/cdcCq9Zf4z9x1wKr1l/jP3HXAqvWX+M/ibPX4zIl4D+Js9fjMiXgP4mz1+MyJeA/ibPX4zIl4D+Js9fjMiXgP4mz1+MyJeA/ibPX4zIl4D+Js9fjMiXgP4mz1+MyJeA/ibPX4zIl4D+Js9fjMiXgP4mz1+MyJeA/ibPX4zIl4D+Js9fjMiXgP4mz1+MyJeA/ibPX4zIl4D+Js9fjMiXgP0IfWTke1dk/Qh9ZOR7V2T9CH1k5HtXZP0IfWTke1dk/Qh9ZOR7V2T9CH1k5HtXZP0IfWTke1dk/Qh9ZOR7V2T9CH1k5HtXZP0IfWTke1dk/Qh9ZOR7V2T9CH1k5HtXZP0IfWTke1dk/Qh9ZOR7V2T9x1wKr1l/TP3HXAqvWX9M/cdcCq9Zf0z9x1wKr1l/TP3HXAqvWX9M/cdcCq9Zf0z9x1wKr1l/TP3HXAqvWX9M/cdcCq9Zf0z9x1wKr1l/TP3HXAqvWX9M/cdcCq9Zf0z9x1wKr1l/TP3HXAqvWX9M/cdcCq9Zf0z9x1wKr1l/TP3HXAqvWX9M/cdcCq9Zf0z9x1wKr1l/TP3HXAqvWX9M/cdcCq9Zf0z9CH1k5HtXJP0IfWTke1ck/Qh9ZOR7VyT9CH1k5HtXJP0IfWTke1ck/Qh9ZOR7VyT9CH1k5HtXJP0IfWTke1ck/Qh9ZOR7VyT9CH1k5HtXJP0IfWTke1bk/Qh9ZOR7VuT9CH1k5HtW5P0IfWTke1bk/Qh9ZOR7VuT9CH1k5HtW5P0IfWTke1bk/Qh9ZOR7VuT9CH1k5HtW5P0IfWTke1bk/Qh9ZOR7VuT9CH1k5HtW5P0IfWTke1bk/Qh9ZOR7VuT9CH1k5HtW5Pw==",
          "dtype": "f8"
         },
         "yaxis": "y"
        }
       ],
       "layout": {
        "barmode": "relative",
        "coloraxis": {
         "colorbar": {
          "title": {
           "text": "cluster"
          }
         },
         "colorscale": [
          [
           0,
           "#0d0887"
          ],
          [
           0.1111111111111111,
           "#46039f"
          ],
          [
           0.2222222222222222,
           "#7201a8"
          ],
          [
           0.3333333333333333,
           "#9c179e"
          ],
          [
           0.4444444444444444,
           "#bd3786"
          ],
          [
           0.5555555555555556,
           "#d8576b"
          ],
          [
           0.6666666666666666,
           "#ed7953"
          ],
          [
           0.7777777777777778,
           "#fb9f3a"
          ],
          [
           0.8888888888888888,
           "#fdca26"
          ],
          [
           1,
           "#f0f921"
          ]
         ]
        },
        "legend": {
         "tracegroupgap": 0
        },
        "margin": {
         "t": 60
        },
        "template": {
         "data": {
          "bar": [
           {
            "error_x": {
             "color": "#2a3f5f"
            },
            "error_y": {
             "color": "#2a3f5f"
            },
            "marker": {
             "line": {
              "color": "#E5ECF6",
              "width": 0.5
             },
             "pattern": {
              "fillmode": "overlay",
              "size": 10,
              "solidity": 0.2
             }
            },
            "type": "bar"
           }
          ],
          "barpolar": [
           {
            "marker": {
             "line": {
              "color": "#E5ECF6",
              "width": 0.5
             },
             "pattern": {
              "fillmode": "overlay",
              "size": 10,
              "solidity": 0.2
             }
            },
            "type": "barpolar"
           }
          ],
          "carpet": [
           {
            "aaxis": {
             "endlinecolor": "#2a3f5f",
             "gridcolor": "white",
             "linecolor": "white",
             "minorgridcolor": "white",
             "startlinecolor": "#2a3f5f"
            },
            "baxis": {
             "endlinecolor": "#2a3f5f",
             "gridcolor": "white",
             "linecolor": "white",
             "minorgridcolor": "white",
             "startlinecolor": "#2a3f5f"
            },
            "type": "carpet"
           }
          ],
          "choropleth": [
           {
            "colorbar": {
             "outlinewidth": 0,
             "ticks": ""
            },
            "type": "choropleth"
           }
          ],
          "contour": [
           {
            "colorbar": {
             "outlinewidth": 0,
             "ticks": ""
            },
            "colorscale": [
             [
              0,
              "#0d0887"
             ],
             [
              0.1111111111111111,
              "#46039f"
             ],
             [
              0.2222222222222222,
              "#7201a8"
             ],
             [
              0.3333333333333333,
              "#9c179e"
             ],
             [
              0.4444444444444444,
              "#bd3786"
             ],
             [
              0.5555555555555556,
              "#d8576b"
             ],
             [
              0.6666666666666666,
              "#ed7953"
             ],
             [
              0.7777777777777778,
              "#fb9f3a"
             ],
             [
              0.8888888888888888,
              "#fdca26"
             ],
             [
              1,
              "#f0f921"
             ]
            ],
            "type": "contour"
           }
          ],
          "contourcarpet": [
           {
            "colorbar": {
             "outlinewidth": 0,
             "ticks": ""
            },
            "type": "contourcarpet"
           }
          ],
          "heatmap": [
           {
            "colorbar": {
             "outlinewidth": 0,
             "ticks": ""
            },
            "colorscale": [
             [
              0,
              "#0d0887"
             ],
             [
              0.1111111111111111,
              "#46039f"
             ],
             [
              0.2222222222222222,
              "#7201a8"
             ],
             [
              0.3333333333333333,
              "#9c179e"
             ],
             [
              0.4444444444444444,
              "#bd3786"
             ],
             [
              0.5555555555555556,
              "#d8576b"
             ],
             [
              0.6666666666666666,
              "#ed7953"
             ],
             [
              0.7777777777777778,
              "#fb9f3a"
             ],
             [
              0.8888888888888888,
              "#fdca26"
             ],
             [
              1,
              "#f0f921"
             ]
            ],
            "type": "heatmap"
           }
          ],
          "histogram": [
           {
            "marker": {
             "pattern": {
              "fillmode": "overlay",
              "size": 10,
              "solidity": 0.2
             }
            },
            "type": "histogram"
           }
          ],
          "histogram2d": [
           {
            "colorbar": {
             "outlinewidth": 0,
             "ticks": ""
            },
            "colorscale": [
             [
              0,
              "#0d0887"
             ],
             [
              0.1111111111111111,
              "#46039f"
             ],
             [
              0.2222222222222222,
              "#7201a8"
             ],
             [
              0.3333333333333333,
              "#9c179e"
             ],
             [
              0.4444444444444444,
              "#bd3786"
             ],
             [
              0.5555555555555556,
              "#d8576b"
             ],
             [
              0.6666666666666666,
              "#ed7953"
             ],
             [
              0.7777777777777778,
              "#fb9f3a"
             ],
             [
              0.8888888888888888,
              "#fdca26"
             ],
             [
              1,
              "#f0f921"
             ]
            ],
            "type": "histogram2d"
           }
          ],
          "histogram2dcontour": [
           {
            "colorbar": {
             "outlinewidth": 0,
             "ticks": ""
            },
            "colorscale": [
             [
              0,
              "#0d0887"
             ],
             [
              0.1111111111111111,
              "#46039f"
             ],
             [
              0.2222222222222222,
              "#7201a8"
             ],
             [
              0.3333333333333333,
              "#9c179e"
             ],
             [
              0.4444444444444444,
              "#bd3786"
             ],
             [
              0.5555555555555556,
              "#d8576b"
             ],
             [
              0.6666666666666666,
              "#ed7953"
             ],
             [
              0.7777777777777778,
              "#fb9f3a"
             ],
             [
              0.8888888888888888,
              "#fdca26"
             ],
             [
              1,
              "#f0f921"
             ]
            ],
            "type": "histogram2dcontour"
           }
          ],
          "mesh3d": [
           {
            "colorbar": {
             "outlinewidth": 0,
             "ticks": ""
            },
            "type": "mesh3d"
           }
          ],
          "parcoords": [
           {
            "line": {
             "colorbar": {
              "outlinewidth": 0,
              "ticks": ""
             }
            },
            "type": "parcoords"
           }
          ],
          "pie": [
           {
            "automargin": true,
            "type": "pie"
           }
          ],
          "scatter": [
           {
            "fillpattern": {
             "fillmode": "overlay",
             "size": 10,
             "solidity": 0.2
            },
            "type": "scatter"
           }
          ],
          "scatter3d": [
           {
            "line": {
             "colorbar": {
              "outlinewidth": 0,
              "ticks": ""
             }
            },
            "marker": {
             "colorbar": {
              "outlinewidth": 0,
              "ticks": ""
             }
            },
            "type": "scatter3d"
           }
          ],
          "scattercarpet": [
           {
            "marker": {
             "colorbar": {
              "outlinewidth": 0,
              "ticks": ""
             }
            },
            "type": "scattercarpet"
           }
          ],
          "scattergeo": [
           {
            "marker": {
             "colorbar": {
              "outlinewidth": 0,
              "ticks": ""
             }
            },
            "type": "scattergeo"
           }
          ],
          "scattergl": [
           {
            "marker": {
             "colorbar": {
              "outlinewidth": 0,
              "ticks": ""
             }
            },
            "type": "scattergl"
           }
          ],
          "scattermap": [
           {
            "marker": {
             "colorbar": {
              "outlinewidth": 0,
              "ticks": ""
             }
            },
            "type": "scattermap"
           }
          ],
          "scattermapbox": [
           {
            "marker": {
             "colorbar": {
              "outlinewidth": 0,
              "ticks": ""
             }
            },
            "type": "scattermapbox"
           }
          ],
          "scatterpolar": [
           {
            "marker": {
             "colorbar": {
              "outlinewidth": 0,
              "ticks": ""
             }
            },
            "type": "scatterpolar"
           }
          ],
          "scatterpolargl": [
           {
            "marker": {
             "colorbar": {
              "outlinewidth": 0,
              "ticks": ""
             }
            },
            "type": "scatterpolargl"
           }
          ],
          "scatterternary": [
           {
            "marker": {
             "colorbar": {
              "outlinewidth": 0,
              "ticks": ""
             }
            },
            "type": "scatterternary"
           }
          ],
          "surface": [
           {
            "colorbar": {
             "outlinewidth": 0,
             "ticks": ""
            },
            "colorscale": [
             [
              0,
              "#0d0887"
             ],
             [
              0.1111111111111111,
              "#46039f"
             ],
             [
              0.2222222222222222,
              "#7201a8"
             ],
             [
              0.3333333333333333,
              "#9c179e"
             ],
             [
              0.4444444444444444,
              "#bd3786"
             ],
             [
              0.5555555555555556,
              "#d8576b"
             ],
             [
              0.6666666666666666,
              "#ed7953"
             ],
             [
              0.7777777777777778,
              "#fb9f3a"
             ],
             [
              0.8888888888888888,
              "#fdca26"
             ],
             [
              1,
              "#f0f921"
             ]
            ],
            "type": "surface"
           }
          ],
          "table": [
           {
            "cells": {
             "fill": {
              "color": "#EBF0F8"
             },
             "line": {
              "color": "white"
             }
            },
            "header": {
             "fill": {
              "color": "#C8D4E3"
             },
             "line": {
              "color": "white"
             }
            },
            "type": "table"
           }
          ]
         },
         "layout": {
          "annotationdefaults": {
           "arrowcolor": "#2a3f5f",
           "arrowhead": 0,
           "arrowwidth": 1
          },
          "autotypenumbers": "strict",
          "coloraxis": {
           "colorbar": {
            "outlinewidth": 0,
            "ticks": ""
           }
          },
          "colorscale": {
           "diverging": [
            [
             0,
             "#8e0152"
            ],
            [
             0.1,
             "#c51b7d"
            ],
            [
             0.2,
             "#de77ae"
            ],
            [
             0.3,
             "#f1b6da"
            ],
            [
             0.4,
             "#fde0ef"
            ],
            [
             0.5,
             "#f7f7f7"
            ],
            [
             0.6,
             "#e6f5d0"
            ],
            [
             0.7,
             "#b8e186"
            ],
            [
             0.8,
             "#7fbc41"
            ],
            [
             0.9,
             "#4d9221"
            ],
            [
             1,
             "#276419"
            ]
           ],
           "sequential": [
            [
             0,
             "#0d0887"
            ],
            [
             0.1111111111111111,
             "#46039f"
            ],
            [
             0.2222222222222222,
             "#7201a8"
            ],
            [
             0.3333333333333333,
             "#9c179e"
            ],
            [
             0.4444444444444444,
             "#bd3786"
            ],
            [
             0.5555555555555556,
             "#d8576b"
            ],
            [
             0.6666666666666666,
             "#ed7953"
            ],
            [
             0.7777777777777778,
             "#fb9f3a"
            ],
            [
             0.8888888888888888,
             "#fdca26"
            ],
            [
             1,
             "#f0f921"
            ]
           ],
           "sequentialminus": [
            [
             0,
             "#0d0887"
            ],
            [
             0.1111111111111111,
             "#46039f"
            ],
            [
             0.2222222222222222,
             "#7201a8"
            ],
            [
             0.3333333333333333,
             "#9c179e"
            ],
            [
             0.4444444444444444,
             "#bd3786"
            ],
            [
             0.5555555555555556,
             "#d8576b"
            ],
            [
             0.6666666666666666,
             "#ed7953"
            ],
            [
             0.7777777777777778,
             "#fb9f3a"
            ],
            [
             0.8888888888888888,
             "#fdca26"
            ],
            [
             1,
             "#f0f921"
            ]
           ]
          },
          "colorway": [
           "#636efa",
           "#EF553B",
           "#00cc96",
           "#ab63fa",
           "#FFA15A",
           "#19d3f3",
           "#FF6692",
           "#B6E880",
           "#FF97FF",
           "#FECB52"
          ],
          "font": {
           "color": "#2a3f5f"
          },
          "geo": {
           "bgcolor": "white",
           "lakecolor": "white",
           "landcolor": "#E5ECF6",
           "showlakes": true,
           "showland": true,
           "subunitcolor": "white"
          },
          "hoverlabel": {
           "align": "left"
          },
          "hovermode": "closest",
          "mapbox": {
           "style": "light"
          },
          "paper_bgcolor": "white",
          "plot_bgcolor": "#E5ECF6",
          "polar": {
           "angularaxis": {
            "gridcolor": "white",
            "linecolor": "white",
            "ticks": ""
           },
           "bgcolor": "#E5ECF6",
           "radialaxis": {
            "gridcolor": "white",
            "linecolor": "white",
            "ticks": ""
           }
          },
          "scene": {
           "xaxis": {
            "backgroundcolor": "#E5ECF6",
            "gridcolor": "white",
            "gridwidth": 2,
            "linecolor": "white",
            "showbackground": true,
            "ticks": "",
            "zerolinecolor": "white"
           },
           "yaxis": {
            "backgroundcolor": "#E5ECF6",
            "gridcolor": "white",
            "gridwidth": 2,
            "linecolor": "white",
            "showbackground": true,
            "ticks": "",
            "zerolinecolor": "white"
           },
           "zaxis": {
            "backgroundcolor": "#E5ECF6",
            "gridcolor": "white",
            "gridwidth": 2,
            "linecolor": "white",
            "showbackground": true,
            "ticks": "",
            "zerolinecolor": "white"
           }
          },
          "shapedefaults": {
           "line": {
            "color": "#2a3f5f"
           }
          },
          "ternary": {
           "aaxis": {
            "gridcolor": "white",
            "linecolor": "white",
            "ticks": ""
           },
           "baxis": {
            "gridcolor": "white",
            "linecolor": "white",
            "ticks": ""
           },
           "bgcolor": "#E5ECF6",
           "caxis": {
            "gridcolor": "white",
            "linecolor": "white",
            "ticks": ""
           }
          },
          "title": {
           "x": 0.05
          },
          "xaxis": {
           "automargin": true,
           "gridcolor": "white",
           "linecolor": "white",
           "ticks": "",
           "title": {
            "standoff": 15
           },
           "zerolinecolor": "white",
           "zerolinewidth": 2
          },
          "yaxis": {
           "automargin": true,
           "gridcolor": "white",
           "linecolor": "white",
           "ticks": "",
           "title": {
            "standoff": 15
           },
           "zerolinecolor": "white",
           "zerolinewidth": 2
          }
         }
        },
        "xaxis": {
         "anchor": "y",
         "domain": [
          0,
          1
         ],
         "title": {
          "text": "cluster"
         }
        },
        "yaxis": {
         "anchor": "x",
         "domain": [
          0,
          1
         ],
         "title": {
          "text": "value"
         }
        }
       }
      }
     },
     "metadata": {},
     "output_type": "display_data"
    }
   ],
   "source": [
    "# Distribuição da variável cluster\n",
    "percentual_cluster = df_laptops.value_counts('cluster') / len(df_laptops) * 100\n",
    "px.bar(percentual_cluster, color=percentual_cluster.index)"
   ]
  },
  {
   "cell_type": "code",
   "execution_count": 64,
   "id": "b9ce2ee3",
   "metadata": {},
   "outputs": [
    {
     "data": {
      "application/vnd.plotly.v1+json": {
       "config": {
        "plotlyServerURL": "https://plot.ly"
       },
       "data": [
        {
         "hovertemplate": "cluster=%{marker.color}<br>value=%{y}<extra></extra>",
         "legendgroup": "",
         "marker": {
          "color": {
           "bdata": "DgADAB8ABAAVAAcACQAPAAsAJgAuABMADQBUAGsAUgAbAAAABQBbAFUAMgA1AFkAMwA+AC8AMAAZAF0ACgAUAEkAHAA4AB4AIACTAHIAXwA5ACUAMQAdABEAXgCJAGYAQQBvABIAAgCUAEoAhwB5AEAAEACCABcAIQBIAFAAQgCLACcATgBLAEMAhACSACkACABgAFoAiABFACsAKgAkADQALAA3ADsAIwBhAHoAaQBxAEYAPQABADYAgQCAAHQAfAB/AFgAPwBMAGoAVgAGAAwARwA6AIYAVwAoACIAGgAYAC0ARAA8AE8AXAB7AHMAbQBwAGMAbgAWAHcAUwBNAIUAZQBoAH4AjACDAFEAYgBkAGcAbAB1AHYAfQB4AIoAjQCQAI8AjgCRAA==",
           "dtype": "i2"
          },
          "coloraxis": "coloraxis",
          "pattern": {
           "shape": ""
          }
         },
         "name": "",
         "orientation": "v",
         "showlegend": false,
         "textposition": "auto",
         "type": "bar",
         "x": {
          "bdata": "DgADAB8ABAAVAAcACQAPAAsAJgAuABMADQBUAGsAUgAbAAAABQBbAFUAMgA1AFkAMwA+AC8AMAAZAF0ACgAUAEkAHAA4AB4AIACTAHIAXwA5ACUAMQAdABEAXgCJAGYAQQBvABIAAgCUAEoAhwB5AEAAEACCABcAIQBIAFAAQgCLACcATgBLAEMAhACSACkACABgAFoAiABFACsAKgAkADQALAA3ADsAIwBhAHoAaQBxAEYAPQABADYAgQCAAHQAfAB/AFgAPwBMAGoAVgAGAAwARwA6AIYAVwAoACIAGgAYAC0ARAA8AE8AXAB7AHMAbQBwAGMAbgAWAHcAUwBNAIUAZQBoAH4AjACDAFEAYgBkAGcAbAB1AHYAfQB4AIoAjQCQAI8AjgCRAA==",
          "dtype": "i2"
         },
         "xaxis": "x",
         "y": {
          "bdata": "FhUUExAPDw4ODg4NDQ0NDQwMDAwMDAsLCwsLCwsLCwoKCgoKCgoKCgkJCQkJCQkJCAgICAgICAgIBwcHBwcHBwcGBgYGBgYGBQUFBQUFBQUFBQUFBQUFBQUEBAQEBAQEBAQEBAQEBAMDAwMDAwMDAwMDAwMDAwMDAwMDAwICAgICAgICAgIBAQEBAQEBAQEBAQEBAQE=",
          "dtype": "i1"
         },
         "yaxis": "y"
        }
       ],
       "layout": {
        "barmode": "relative",
        "coloraxis": {
         "colorbar": {
          "title": {
           "text": "cluster"
          }
         },
         "colorscale": [
          [
           0,
           "#0d0887"
          ],
          [
           0.1111111111111111,
           "#46039f"
          ],
          [
           0.2222222222222222,
           "#7201a8"
          ],
          [
           0.3333333333333333,
           "#9c179e"
          ],
          [
           0.4444444444444444,
           "#bd3786"
          ],
          [
           0.5555555555555556,
           "#d8576b"
          ],
          [
           0.6666666666666666,
           "#ed7953"
          ],
          [
           0.7777777777777778,
           "#fb9f3a"
          ],
          [
           0.8888888888888888,
           "#fdca26"
          ],
          [
           1,
           "#f0f921"
          ]
         ]
        },
        "legend": {
         "tracegroupgap": 0
        },
        "margin": {
         "t": 60
        },
        "template": {
         "data": {
          "bar": [
           {
            "error_x": {
             "color": "#2a3f5f"
            },
            "error_y": {
             "color": "#2a3f5f"
            },
            "marker": {
             "line": {
              "color": "#E5ECF6",
              "width": 0.5
             },
             "pattern": {
              "fillmode": "overlay",
              "size": 10,
              "solidity": 0.2
             }
            },
            "type": "bar"
           }
          ],
          "barpolar": [
           {
            "marker": {
             "line": {
              "color": "#E5ECF6",
              "width": 0.5
             },
             "pattern": {
              "fillmode": "overlay",
              "size": 10,
              "solidity": 0.2
             }
            },
            "type": "barpolar"
           }
          ],
          "carpet": [
           {
            "aaxis": {
             "endlinecolor": "#2a3f5f",
             "gridcolor": "white",
             "linecolor": "white",
             "minorgridcolor": "white",
             "startlinecolor": "#2a3f5f"
            },
            "baxis": {
             "endlinecolor": "#2a3f5f",
             "gridcolor": "white",
             "linecolor": "white",
             "minorgridcolor": "white",
             "startlinecolor": "#2a3f5f"
            },
            "type": "carpet"
           }
          ],
          "choropleth": [
           {
            "colorbar": {
             "outlinewidth": 0,
             "ticks": ""
            },
            "type": "choropleth"
           }
          ],
          "contour": [
           {
            "colorbar": {
             "outlinewidth": 0,
             "ticks": ""
            },
            "colorscale": [
             [
              0,
              "#0d0887"
             ],
             [
              0.1111111111111111,
              "#46039f"
             ],
             [
              0.2222222222222222,
              "#7201a8"
             ],
             [
              0.3333333333333333,
              "#9c179e"
             ],
             [
              0.4444444444444444,
              "#bd3786"
             ],
             [
              0.5555555555555556,
              "#d8576b"
             ],
             [
              0.6666666666666666,
              "#ed7953"
             ],
             [
              0.7777777777777778,
              "#fb9f3a"
             ],
             [
              0.8888888888888888,
              "#fdca26"
             ],
             [
              1,
              "#f0f921"
             ]
            ],
            "type": "contour"
           }
          ],
          "contourcarpet": [
           {
            "colorbar": {
             "outlinewidth": 0,
             "ticks": ""
            },
            "type": "contourcarpet"
           }
          ],
          "heatmap": [
           {
            "colorbar": {
             "outlinewidth": 0,
             "ticks": ""
            },
            "colorscale": [
             [
              0,
              "#0d0887"
             ],
             [
              0.1111111111111111,
              "#46039f"
             ],
             [
              0.2222222222222222,
              "#7201a8"
             ],
             [
              0.3333333333333333,
              "#9c179e"
             ],
             [
              0.4444444444444444,
              "#bd3786"
             ],
             [
              0.5555555555555556,
              "#d8576b"
             ],
             [
              0.6666666666666666,
              "#ed7953"
             ],
             [
              0.7777777777777778,
              "#fb9f3a"
             ],
             [
              0.8888888888888888,
              "#fdca26"
             ],
             [
              1,
              "#f0f921"
             ]
            ],
            "type": "heatmap"
           }
          ],
          "histogram": [
           {
            "marker": {
             "pattern": {
              "fillmode": "overlay",
              "size": 10,
              "solidity": 0.2
             }
            },
            "type": "histogram"
           }
          ],
          "histogram2d": [
           {
            "colorbar": {
             "outlinewidth": 0,
             "ticks": ""
            },
            "colorscale": [
             [
              0,
              "#0d0887"
             ],
             [
              0.1111111111111111,
              "#46039f"
             ],
             [
              0.2222222222222222,
              "#7201a8"
             ],
             [
              0.3333333333333333,
              "#9c179e"
             ],
             [
              0.4444444444444444,
              "#bd3786"
             ],
             [
              0.5555555555555556,
              "#d8576b"
             ],
             [
              0.6666666666666666,
              "#ed7953"
             ],
             [
              0.7777777777777778,
              "#fb9f3a"
             ],
             [
              0.8888888888888888,
              "#fdca26"
             ],
             [
              1,
              "#f0f921"
             ]
            ],
            "type": "histogram2d"
           }
          ],
          "histogram2dcontour": [
           {
            "colorbar": {
             "outlinewidth": 0,
             "ticks": ""
            },
            "colorscale": [
             [
              0,
              "#0d0887"
             ],
             [
              0.1111111111111111,
              "#46039f"
             ],
             [
              0.2222222222222222,
              "#7201a8"
             ],
             [
              0.3333333333333333,
              "#9c179e"
             ],
             [
              0.4444444444444444,
              "#bd3786"
             ],
             [
              0.5555555555555556,
              "#d8576b"
             ],
             [
              0.6666666666666666,
              "#ed7953"
             ],
             [
              0.7777777777777778,
              "#fb9f3a"
             ],
             [
              0.8888888888888888,
              "#fdca26"
             ],
             [
              1,
              "#f0f921"
             ]
            ],
            "type": "histogram2dcontour"
           }
          ],
          "mesh3d": [
           {
            "colorbar": {
             "outlinewidth": 0,
             "ticks": ""
            },
            "type": "mesh3d"
           }
          ],
          "parcoords": [
           {
            "line": {
             "colorbar": {
              "outlinewidth": 0,
              "ticks": ""
             }
            },
            "type": "parcoords"
           }
          ],
          "pie": [
           {
            "automargin": true,
            "type": "pie"
           }
          ],
          "scatter": [
           {
            "fillpattern": {
             "fillmode": "overlay",
             "size": 10,
             "solidity": 0.2
            },
            "type": "scatter"
           }
          ],
          "scatter3d": [
           {
            "line": {
             "colorbar": {
              "outlinewidth": 0,
              "ticks": ""
             }
            },
            "marker": {
             "colorbar": {
              "outlinewidth": 0,
              "ticks": ""
             }
            },
            "type": "scatter3d"
           }
          ],
          "scattercarpet": [
           {
            "marker": {
             "colorbar": {
              "outlinewidth": 0,
              "ticks": ""
             }
            },
            "type": "scattercarpet"
           }
          ],
          "scattergeo": [
           {
            "marker": {
             "colorbar": {
              "outlinewidth": 0,
              "ticks": ""
             }
            },
            "type": "scattergeo"
           }
          ],
          "scattergl": [
           {
            "marker": {
             "colorbar": {
              "outlinewidth": 0,
              "ticks": ""
             }
            },
            "type": "scattergl"
           }
          ],
          "scattermap": [
           {
            "marker": {
             "colorbar": {
              "outlinewidth": 0,
              "ticks": ""
             }
            },
            "type": "scattermap"
           }
          ],
          "scattermapbox": [
           {
            "marker": {
             "colorbar": {
              "outlinewidth": 0,
              "ticks": ""
             }
            },
            "type": "scattermapbox"
           }
          ],
          "scatterpolar": [
           {
            "marker": {
             "colorbar": {
              "outlinewidth": 0,
              "ticks": ""
             }
            },
            "type": "scatterpolar"
           }
          ],
          "scatterpolargl": [
           {
            "marker": {
             "colorbar": {
              "outlinewidth": 0,
              "ticks": ""
             }
            },
            "type": "scatterpolargl"
           }
          ],
          "scatterternary": [
           {
            "marker": {
             "colorbar": {
              "outlinewidth": 0,
              "ticks": ""
             }
            },
            "type": "scatterternary"
           }
          ],
          "surface": [
           {
            "colorbar": {
             "outlinewidth": 0,
             "ticks": ""
            },
            "colorscale": [
             [
              0,
              "#0d0887"
             ],
             [
              0.1111111111111111,
              "#46039f"
             ],
             [
              0.2222222222222222,
              "#7201a8"
             ],
             [
              0.3333333333333333,
              "#9c179e"
             ],
             [
              0.4444444444444444,
              "#bd3786"
             ],
             [
              0.5555555555555556,
              "#d8576b"
             ],
             [
              0.6666666666666666,
              "#ed7953"
             ],
             [
              0.7777777777777778,
              "#fb9f3a"
             ],
             [
              0.8888888888888888,
              "#fdca26"
             ],
             [
              1,
              "#f0f921"
             ]
            ],
            "type": "surface"
           }
          ],
          "table": [
           {
            "cells": {
             "fill": {
              "color": "#EBF0F8"
             },
             "line": {
              "color": "white"
             }
            },
            "header": {
             "fill": {
              "color": "#C8D4E3"
             },
             "line": {
              "color": "white"
             }
            },
            "type": "table"
           }
          ]
         },
         "layout": {
          "annotationdefaults": {
           "arrowcolor": "#2a3f5f",
           "arrowhead": 0,
           "arrowwidth": 1
          },
          "autotypenumbers": "strict",
          "coloraxis": {
           "colorbar": {
            "outlinewidth": 0,
            "ticks": ""
           }
          },
          "colorscale": {
           "diverging": [
            [
             0,
             "#8e0152"
            ],
            [
             0.1,
             "#c51b7d"
            ],
            [
             0.2,
             "#de77ae"
            ],
            [
             0.3,
             "#f1b6da"
            ],
            [
             0.4,
             "#fde0ef"
            ],
            [
             0.5,
             "#f7f7f7"
            ],
            [
             0.6,
             "#e6f5d0"
            ],
            [
             0.7,
             "#b8e186"
            ],
            [
             0.8,
             "#7fbc41"
            ],
            [
             0.9,
             "#4d9221"
            ],
            [
             1,
             "#276419"
            ]
           ],
           "sequential": [
            [
             0,
             "#0d0887"
            ],
            [
             0.1111111111111111,
             "#46039f"
            ],
            [
             0.2222222222222222,
             "#7201a8"
            ],
            [
             0.3333333333333333,
             "#9c179e"
            ],
            [
             0.4444444444444444,
             "#bd3786"
            ],
            [
             0.5555555555555556,
             "#d8576b"
            ],
            [
             0.6666666666666666,
             "#ed7953"
            ],
            [
             0.7777777777777778,
             "#fb9f3a"
            ],
            [
             0.8888888888888888,
             "#fdca26"
            ],
            [
             1,
             "#f0f921"
            ]
           ],
           "sequentialminus": [
            [
             0,
             "#0d0887"
            ],
            [
             0.1111111111111111,
             "#46039f"
            ],
            [
             0.2222222222222222,
             "#7201a8"
            ],
            [
             0.3333333333333333,
             "#9c179e"
            ],
            [
             0.4444444444444444,
             "#bd3786"
            ],
            [
             0.5555555555555556,
             "#d8576b"
            ],
            [
             0.6666666666666666,
             "#ed7953"
            ],
            [
             0.7777777777777778,
             "#fb9f3a"
            ],
            [
             0.8888888888888888,
             "#fdca26"
            ],
            [
             1,
             "#f0f921"
            ]
           ]
          },
          "colorway": [
           "#636efa",
           "#EF553B",
           "#00cc96",
           "#ab63fa",
           "#FFA15A",
           "#19d3f3",
           "#FF6692",
           "#B6E880",
           "#FF97FF",
           "#FECB52"
          ],
          "font": {
           "color": "#2a3f5f"
          },
          "geo": {
           "bgcolor": "white",
           "lakecolor": "white",
           "landcolor": "#E5ECF6",
           "showlakes": true,
           "showland": true,
           "subunitcolor": "white"
          },
          "hoverlabel": {
           "align": "left"
          },
          "hovermode": "closest",
          "mapbox": {
           "style": "light"
          },
          "paper_bgcolor": "white",
          "plot_bgcolor": "#E5ECF6",
          "polar": {
           "angularaxis": {
            "gridcolor": "white",
            "linecolor": "white",
            "ticks": ""
           },
           "bgcolor": "#E5ECF6",
           "radialaxis": {
            "gridcolor": "white",
            "linecolor": "white",
            "ticks": ""
           }
          },
          "scene": {
           "xaxis": {
            "backgroundcolor": "#E5ECF6",
            "gridcolor": "white",
            "gridwidth": 2,
            "linecolor": "white",
            "showbackground": true,
            "ticks": "",
            "zerolinecolor": "white"
           },
           "yaxis": {
            "backgroundcolor": "#E5ECF6",
            "gridcolor": "white",
            "gridwidth": 2,
            "linecolor": "white",
            "showbackground": true,
            "ticks": "",
            "zerolinecolor": "white"
           },
           "zaxis": {
            "backgroundcolor": "#E5ECF6",
            "gridcolor": "white",
            "gridwidth": 2,
            "linecolor": "white",
            "showbackground": true,
            "ticks": "",
            "zerolinecolor": "white"
           }
          },
          "shapedefaults": {
           "line": {
            "color": "#2a3f5f"
           }
          },
          "ternary": {
           "aaxis": {
            "gridcolor": "white",
            "linecolor": "white",
            "ticks": ""
           },
           "baxis": {
            "gridcolor": "white",
            "linecolor": "white",
            "ticks": ""
           },
           "bgcolor": "#E5ECF6",
           "caxis": {
            "gridcolor": "white",
            "linecolor": "white",
            "ticks": ""
           }
          },
          "title": {
           "x": 0.05
          },
          "xaxis": {
           "automargin": true,
           "gridcolor": "white",
           "linecolor": "white",
           "ticks": "",
           "title": {
            "standoff": 15
           },
           "zerolinecolor": "white",
           "zerolinewidth": 2
          },
          "yaxis": {
           "automargin": true,
           "gridcolor": "white",
           "linecolor": "white",
           "ticks": "",
           "title": {
            "standoff": 15
           },
           "zerolinecolor": "white",
           "zerolinewidth": 2
          }
         }
        },
        "xaxis": {
         "anchor": "y",
         "domain": [
          0,
          1
         ],
         "title": {
          "text": "cluster"
         }
        },
        "yaxis": {
         "anchor": "x",
         "domain": [
          0,
          1
         ],
         "title": {
          "text": "value"
         }
        }
       }
      }
     },
     "metadata": {},
     "output_type": "display_data"
    }
   ],
   "source": [
    "# Distribuição da variável cluster\n",
    "quantidade_cluster = df_laptops.value_counts('cluster')\n",
    "px.bar(quantidade_cluster, color=quantidade_cluster.index)"
   ]
  },
  {
   "cell_type": "markdown",
   "id": "85c6298f",
   "metadata": {},
   "source": [
    "### Salvar o modelo, preprocessor e CSV Atualizado"
   ]
  },
  {
   "cell_type": "code",
   "execution_count": 66,
   "id": "0deb2c2c",
   "metadata": {},
   "outputs": [
    {
     "data": {
      "text/plain": [
       "['./preprocessor_clusterizacao_laptops.pkl']"
      ]
     },
     "execution_count": 66,
     "metadata": {},
     "output_type": "execute_result"
    }
   ],
   "source": [
    "# Salvar modelo e pré-processador\n",
    "import joblib\n",
    "\n",
    "# Salvar o modelo de clusterização\n",
    "joblib.dump(best_model, './modelo_clusterizacao_laptops.pkl')\n",
    "\n",
    "# Salvar o pré-processador\n",
    "joblib.dump(preprocessor, './preprocessor_clusterizacao_laptops.pkl')"
   ]
  },
  {
   "cell_type": "code",
   "execution_count": 67,
   "id": "adefc23e",
   "metadata": {},
   "outputs": [],
   "source": [
    "# Salvar CSV atualizado com os clusters\n",
    "df_laptops.to_csv('./dataset/clusterizacao_laptops.csv', index=False)"
   ]
  }
 ],
 "metadata": {
  "kernelspec": {
   "display_name": "clusterizacao_hierarquica-nrZFuAtq",
   "language": "python",
   "name": "python3"
  },
  "language_info": {
   "codemirror_mode": {
    "name": "ipython",
    "version": 3
   },
   "file_extension": ".py",
   "mimetype": "text/x-python",
   "name": "python",
   "nbconvert_exporter": "python",
   "pygments_lexer": "ipython3",
   "version": "3.11.0"
  }
 },
 "nbformat": 4,
 "nbformat_minor": 5
}
