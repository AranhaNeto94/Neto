{
 "cells": [
  {
   "cell_type": "code",
   "execution_count": 1,
   "id": "22bdd875",
   "metadata": {},
   "outputs": [
    {
     "name": "stderr",
     "output_type": "stream",
     "text": [
      "c:\\Users\\User\\.virtualenvs\\modelo_aluguel-JA72ZW9N\\Lib\\site-packages\\tqdm\\auto.py:21: TqdmWarning: IProgress not found. Please update jupyter and ipywidgets. See https://ipywidgets.readthedocs.io/en/stable/user_install.html\n",
      "  from .autonotebook import tqdm as notebook_tqdm\n"
     ]
    }
   ],
   "source": [
    "import gradio as gr\n",
    "import joblib\n",
    "import pandas as pd"
   ]
  },
  {
   "cell_type": "code",
   "execution_count": 2,
   "id": "a2ccce42",
   "metadata": {},
   "outputs": [],
   "source": [
    "modelo = joblib.load('./rentalprice_challenge.pkl')"
   ]
  },
  {
   "cell_type": "code",
   "execution_count": 3,
   "id": "a6157c17",
   "metadata": {},
   "outputs": [],
   "source": [
    "def predict(tamanho_m2, n_quartos, idade_casa, garagem, localizacao_Periferia, localizacao_Suburbio):\n",
    "    # Converte valores booleanos ou string para inteiros, se necessário\n",
    "    _localizacao_Periferia = int(localizacao_Periferia)\n",
    "    _localizacao_Suburbio = int(localizacao_Suburbio)\n",
    "\n",
    "    predicao_individual = {\n",
    "        'tamanho_m2': [tamanho_m2],\n",
    "        'n_quartos': [n_quartos],\n",
    "        'idade_casa': [idade_casa],\n",
    "        'garagem': [garagem],\n",
    "        'localizacao_Periferia': [_localizacao_Periferia],\n",
    "        'localizacao_Subúrbio': [_localizacao_Suburbio]\n",
    "    }\n",
    "\n",
    "    predict_df = pd.DataFrame(predicao_individual, index=[1])\n",
    "\n",
    "    # Realiza a previsão com o modelo treinado\n",
    "    resultado = modelo.predict(predict_df)\n",
    "\n",
    "    return resultado[0]"
   ]
  },
  {
   "cell_type": "code",
   "execution_count": 5,
   "id": "5248ed52",
   "metadata": {},
   "outputs": [
    {
     "name": "stderr",
     "output_type": "stream",
     "text": [
      "c:\\Users\\User\\.virtualenvs\\modelo_aluguel-JA72ZW9N\\Lib\\site-packages\\gradio\\utils.py:1024: UserWarning: Expected 6 arguments for function <function predict at 0x0000017C914C2AC0>, received 5.\n",
      "  warnings.warn(\n",
      "c:\\Users\\User\\.virtualenvs\\modelo_aluguel-JA72ZW9N\\Lib\\site-packages\\gradio\\utils.py:1028: UserWarning: Expected at least 6 arguments for function <function predict at 0x0000017C914C2AC0>, received 5.\n",
      "  warnings.warn(\n"
     ]
    }
   ],
   "source": [
    "demo = gr.Interface(\n",
    "    fn=predict,\n",
    "    inputs=[\n",
    "        gr.Slider(20, 200, step=1, label=\"Tamanho (m²)\"),\n",
    "        gr.Slider(1, 10, step=1, label=\"Número de Quartos\"),\n",
    "        gr.Slider(0, 100, step=1, label=\"Idade da Casa\"),\n",
    "        gr.Checkbox(label=\"Possui Garagem\"),\n",
    "        gr.Radio(['Centro', 'Periferia', 'Subúrbio'], label=\"Localização\")\n",
    "    ],\n",
    "    outputs=gr.Number(label=\"Valor do Aluguel Previsto (R$)\")\n",
    ")\n"
   ]
  },
  {
   "cell_type": "code",
   "execution_count": 7,
   "id": "59e56805",
   "metadata": {},
   "outputs": [
    {
     "name": "stdout",
     "output_type": "stream",
     "text": [
      "Rerunning server... use `close()` to stop if you need to change `launch()` parameters.\n",
      "----\n",
      "\n",
      "To create a public link, set `share=True` in `launch()`.\n"
     ]
    },
    {
     "data": {
      "text/html": [
       "<div><iframe src=\"http://127.0.0.1:7864/\" width=\"100%\" height=\"500\" allow=\"autoplay; camera; microphone; clipboard-read; clipboard-write;\" frameborder=\"0\" allowfullscreen></iframe></div>"
      ],
      "text/plain": [
       "<IPython.core.display.HTML object>"
      ]
     },
     "metadata": {},
     "output_type": "display_data"
    },
    {
     "data": {
      "text/plain": []
     },
     "execution_count": 7,
     "metadata": {},
     "output_type": "execute_result"
    }
   ],
   "source": [
    "\n",
    "demo.launch()"
   ]
  },
  {
   "cell_type": "code",
   "execution_count": null,
   "id": "3c5fff56",
   "metadata": {},
   "outputs": [],
   "source": []
  }
 ],
 "metadata": {
  "kernelspec": {
   "display_name": "modelo_aluguel-JA72ZW9N",
   "language": "python",
   "name": "python3"
  },
  "language_info": {
   "codemirror_mode": {
    "name": "ipython",
    "version": 3
   },
   "file_extension": ".py",
   "mimetype": "text/x-python",
   "name": "python",
   "nbconvert_exporter": "python",
   "pygments_lexer": "ipython3",
   "version": "3.13.2"
  }
 },
 "nbformat": 4,
 "nbformat_minor": 5
}
